{
 "cells": [
  {
   "cell_type": "markdown",
   "metadata": {
    "id": "MRWL5MOlYocc"
   },
   "source": [
    "\n",
    "\n",
    "# Clase 4 Intro a Machine Learning\n",
    "\n",
    "Empezaremos a ver conceptos básicos de ML y sus diferencias con econometría"
   ]
  },
  {
   "cell_type": "markdown",
   "metadata": {
    "id": "HDLwlNMj093R"
   },
   "source": [
    "## ¿Qué es ML?\n",
    "\n",
    "El aprendizaje automático ( ML ) es el estudio científico de algoritmos y modelos estadísticos que los sistemas informáticos utilizan para realizar una tarea específica sin utilizar instrucciones explícitas, basándose en patrones e inferencias. Se considera un subconjunto de la inteligencia artificial. Los algoritmos de aprendizaje automático construyen un modelo matemático basado en datos de muestra, conocidos como datos de entrenamiento, para hacer predicciones o decisiones sin estar programados explícitamente para realizar la tarea.\n",
    "\n",
    "https://towardsdatascience.com/what-is-machine-learning-a-visual-explanation-14642b90429f\n",
    "\n"
   ]
  },
  {
   "cell_type": "code",
   "execution_count": null,
   "metadata": {},
   "outputs": [],
   "source": []
  },
  {
   "cell_type": "markdown",
   "metadata": {},
   "source": [
    "# ¿Para qué utilizar aprendizaje estadístico?\n",
    "\n",
    "Hay dos razones por las que queremos utilizar las técnicas de aprendizaje estadístico:\n",
    "\n",
    "* **Predicción**:  En el caso de aprendizaje estadístico, si tenemos un modelo $\\hat{f}(X)$, podemos estimar $y$:\n",
    "\n",
    "$$\n",
    "E(y) = \\hat{f}(X) + E(\\epsilon) = \\hat{f}(X)\n",
    "$$\n",
    " asumiendo que $E(\\epsilon)=0$.\n",
    "\n",
    "* **Inferencia**: queremos *entender* cuáles variables $X_1, X_2, \\cdots, X_p$ afectan el resultado $y$, y de qué forma lo hacen."
   ]
  },
  {
   "cell_type": "markdown",
   "metadata": {
    "id": "ozdDQZuo1A27"
   },
   "source": [
    "### ¿Explicar o predecir?\n",
    "El punto de partida en un proyecto de análisis de datos es el siguiente:\n",
    "\n",
    "(1) comprender las relaciones o\n",
    "\n",
    "(2) obtener el mejor nivel de precisión posible. \n",
    "\n",
    "Galit Shmueli en su artículo [“Explain or Predict”](https://www.stat.berkeley.edu/~aldous/157/Papers/shmueli.pdf) sugiere la distinción entre modelado explicativo y predictivo. \n",
    "\n",
    "- El \"modelo explicativo\" utiliza métodos estadísticos para probar las relaciones causales. \n",
    "- Por el contrario, el \"modelado predictivo\" es el proceso de aplicar un modelo estadístico o un algoritmo de minería de datos a los datos con el fin de predecir observaciones nuevas o futuras. \n",
    "\n",
    "Como dijo Jerome H. Friedman en su artículo, \"uno de los usos más comunes de los datos es la predicción\". Si el objetivo es probar la hipótesis causal, el propósito \"explicativo\" es más importante que el propósito predictivo, y viceversa. \n",
    "- La econometría, desde su génesis, se ha enfatizado más en la prueba de hipótesis y la identificación de causalidad.\n",
    "- Por el contrario, el aprendizaje automático tiene como objetivo la predicción y tiene un éxito impresionante.\n",
    "\n",
    "\n",
    "Las preguntas causales requieren algunos diseños de generación de datos y no pueden calcularse solo a partir de los datos. Mira las siguientes preguntas:\n",
    "- ¿Cuál es la eficacia de un fármaco determinado en una población determinada?\n",
    "- ¿Qué fracción de delitos se puede evitar si se implementa una nueva política?\n",
    "- ¿Cuál fue la causa de la muerte de un paciente debido a ciertas complicaciones médicas?\n",
    "- ¿Cómo utilizar el análisis de datos para demostrar que un empleador es culpable de discriminación en la contratación?\n",
    "\n",
    "Por el contrario, las preguntas predictivas son más del tipo:\n",
    "- ¿Puedo predecir cuándo una persona podría reincidir en delitos?\n",
    "- ¿Puedo predecir el riesgo de una persona de contraer diabetes?"
   ]
  },
  {
   "cell_type": "markdown",
   "metadata": {
    "id": "xN727WUR4DFe"
   },
   "source": [
    "### ¿Qué pueden aprender uno del otro? \n",
    "\n",
    "Hal Varian, economista jefe de Google Inc., pregunta qué puede aprender un economista del aprendizaje automático y qué puede aprender el aprendizaje automático de la econometría. Existen técnicas de aprendizaje automático [\"new tricks\"](https://www.aeaweb.org/articles?id=10.1257/jep.28.2.3) que deben adoptar los econometristas y las perspectivas econométricas que las técnicas de aprendizaje automático pueden considerar.\n",
    "\n",
    "#### Econometría de ML \n",
    "- Regularización para evitar el sobreajuste: los modelos complejos tienden a ajustarse demasiado bien a los datos de entrenamiento, pero no se ajustan a los datos desconocidos. Las técnicas de regularización incorporan la función de pérdida para penalizar un modelo con demasiados parámetros. La palabra \"regularización\" significa hacer que la predicción sea regular o aceptable, para que pueda predecir datos desconocidos.\n",
    "\n",
    "- Validación cruzada: Técnica utilizada para evaluar los resultados de un análisis estadístico y garantizar que son independientes de la partición entre datos de entrenamiento y prueba. Consiste en repetir y calcular la media aritmética obtenida de las medidas de evaluación sobre diferentes particiones. Se utiliza en entornos donde el objetivo principal es la predicción y se quiere estimar la precisión de un modelo que se llevará a cabo a la práctica\n",
    "\n",
    "- Promedio de modelos: técnica específica para mejorar la capacidad predictiva mediante la combinación de predicciones de un conjunto de modelos. Por ejemplo, se utiliza para promediar coeficientes de regresión en múltiples modelos con el objetivo final de capturar el efecto general de una variable.\n",
    "\n",
    "- Análisis textual: Es un proceso de recopilación de datos para comprender las formas en que se puede interpretar el lenguaje humano\n",
    "\n",
    "\n",
    "#### ML de Econometría\n",
    "\n",
    "- Inferencia causal : El proceso de sacar una conclusión sobre una conexión causal basada en las condiciones de ocurrencia de un efecto. Ver Susan Athey https://www.tandfonline.com/doi/abs/10.1080/01621459.2017.1319839?journalCode=uasa20\n",
    "- Variable de confusión: Una variable de confusión es una influencia externa que cambia el efecto de una variable dependiente e independiente. Por ejemplo, si está investigando si la falta de sueño conduce a la pérdida de peso, la falta de sueño es su variable independiente y la pérdida de peso es su variable dependiente. \n",
    "- Experimentos naturales: Un experimento natural es un estudio empírico en el que los individuos están expuestos a las condiciones experimentales y de control determinadas por la naturaleza u otros factores fuera del control de los investigadores. La forma más simple es similar a la asignación aleatoria.\n",
    "- Diseño de regresión discontinua (DR): popular en econometría, ciencias políticas y epidemiología, un diseño de regresión discontinua identifica los efectos causales de las intervenciones para aquellos que están por encima y por debajo de un umbral. \n",
    "- Diferencia en diferencias (DID): DID es un diseño cuasi-experimental para estimar el efecto causal de una intervención o tratamiento específico (como la aprobación de una ley, la promulgación de una política o la implementación de un programa a gran escala) comparando los cambios en los resultados. a lo largo del tiempo entre una población que está inscrita en un programa (el grupo de intervención) y una población que no lo está (el grupo de control). \n",
    "- Variables instrumentales: una variable instrumental es una tercera variable, Z, que se utiliza en el análisis de regresión cuando tiene variables endógenas, variables que están influenciadas por otras variables en el modelo. La variable instrumental se utiliza para tener en cuenta el comportamiento inesperado entre variables."
   ]
  },
  {
   "cell_type": "markdown",
   "metadata": {
    "id": "_l7F33uj-gsa"
   },
   "source": [
    "Para más info pueden consultar\n",
    "\n",
    "https://towardsdatascience.com/from-econometrics-to-machine-learning-ee182f3a45d7"
   ]
  },
  {
   "cell_type": "markdown",
   "metadata": {},
   "source": [
    "# ¿Cómo aprendemos el proceso de generación de datos? \n",
    "\n",
    "\n",
    "* Si queremos comparar modelos, necesitamos una métrica que nos permita decir si un modelo es mejor que otro.\n",
    "\n",
    "\n",
    "* En modelos de regresión, la métrica estándar es el error cuadrático medio (MSE):\n",
    "$$\n",
    "MSE = \\frac{1}{N}\\sum_i (y_i - \\hat{y}_i)^2\n",
    "$$\n",
    "\n",
    "\n",
    "* Así: un modelo $A$ as mejor que un modelo $B$ si $MSE_A < MSE_B$\n",
    "\n",
    "\n",
    "* Alternativamente, si queremos hacer supuestos sobre la distribución del término de error $\\epsilon$, podemos utilizar (el logaritmo de) la función de verosimilitud, $LL(\\theta)$ en el caso de un modelo paramétrico con parámetros a estimar $\\mathbf \\theta$.\n",
    "\n",
    "    * En este caso el mejor modelo es el que tiene un *mayor loglikelihood LL*.\n",
    "\n",
    "\n",
    "* En el caso paramétrico, lineal en los parámetros $Y = X\\beta + \\epsilon$, ya sabemos que el **estimador de mínimos cuadrados ordinarios** (OLS, por sus siglas en inglés), es la solución al problema de minimizar el MSE."
   ]
  },
  {
   "cell_type": "markdown",
   "metadata": {},
   "source": [
    "# Y en el caso de modelos de clasificación:\n",
    "\n",
    "* En modelos con supuestos sobre la distribución (ejemplo: modelos *Logit* o *Probit*), se puede utilizar la respectiva verosimilitud.\n",
    "\n",
    "\n",
    "* Pero en general podemos usar la **tasa de error**:\n",
    "$$\n",
    "\\frac{1}{N}\\sum_i I(y_i \\neq \\hat{y}_i)\n",
    "$$\n",
    "\n",
    "    * Es decir, para cada observación, sabemos si fue clasificada correcta o incorrectmente.  Si fue incorrecta $y_i \\neq \\hat{y}_i$ la variable indicador toma el valor $1$, si fue correcta toma el valor $0$.\n",
    "\n",
    "\n",
    "* Los modelos de clasificación suelen tener asociada una probabilidad condicional: $Prob(y_i \\in C_k| x_i)$, es decir, la probabilidad de que una obsevación $i$ sea del tipo $k$, condicional en el valor de sus regresores $x_i = x_{1i},x_{2i}, \\cdots, x_{pi},$.\n",
    "\n",
    "\n",
    "* En estos casos, el clasificador que minimiza la tasa de error se conoce como el **clasificador de Bayes** (\"Bayes classifier\"), y asigna cada observación $i$ a la clase que tiene una mayor probabilidad de ocurrir $k^* = argmax_k Prob(y_i \\in C_k| x_i)$"
   ]
  },
  {
   "cell_type": "markdown",
   "metadata": {},
   "source": [
    "# Modelos paramétricos y modelos no paramétricos\n",
    "\n",
    "* **Modelo paramétrico:** si tiene un *número fijo de parámetros* y se hacen supuestos sobre la forma funcional del proceso de generación de datos $f(x)$.\n",
    "\n",
    "    * Ejemplo1: $y = \\beta_0 + \\beta_1 x_1 + \\epsilon$\n",
    "    \n",
    "    * Ejemplo2: $Prob(y=1|x,\\beta) = \\Phi(x'\\beta)$, donde $\\Phi()$ es la función de distribución acumulativa de una variable aleatoria normal estándar.\n",
    "\n",
    "\n",
    "\n",
    "\n",
    "* **Modelo no paramétrico:** si no se hacen supuestos sobre la forma funcional del proceso de generación de datos.\n",
    "\n",
    "    * **K-nearest neighbors**: \n",
    "        \n",
    "        * Queremos clasificar la observación $i$.\n",
    "        * Para hacerlo miramos las categorías de las $K$ observaciones más cercanas de acuerdo con las variables independientes $x$, se obtienen las fracciones empíricas (ej. $1/3$ de los K vecinos son de la categoría $1$ y $2/3$ son de la categoría $0$):\n",
    "        $$\n",
    "        Prob \\left(y_i=c|\\mathbf{x_i},K \\right) = \\frac{1}{K}\\sum_{j \\in N_K(x_i)} I(y_j =c)\n",
    "        $$"
   ]
  },
  {
   "cell_type": "markdown",
   "metadata": {
    "id": "R0KfDO34Yh8S"
   },
   "source": [
    "\n",
    "\n",
    "# Un pipeline simple de ML\n",
    "\n",
    "Los primeros pasos a seguir para ajustar un modelo de predicción usando Python son:\n",
    "\n",
    "1. **Preparar los datos**. Como hemos visto, para llegar a este punto hemos aprendido a cargar los datos de diferentes maneras y de diferentes fuentes, a limpiarlos, a organizarlos, agruparlos, etc, y a hacer un análisis exploratorio de datos con el objetivo de entender mejor los datos y el problema.\n",
    "\n",
    "2. **Identificar la variable objetivo**. Si ya está definida, identificarla y separarla del resto de las variables independientes. Si no está definida, construírla a partir del contexto del problema.\n",
    "\n",
    "3. **División train/test de los datos**. La división puede ser aleatoria o predefinida según el contexto, con muestreo, despendiendo de la naturaleza del problema.\n",
    "\n",
    "4. **Instanciación del modelo para el entrenamiento**. Usaremos una librería para cargar los algoritmos predefinidos llamada sklearn. \n",
    "\n",
    "5. **Ajuste del modelo**. Utilizaremos el método ```fit``` del modelo.\n",
    "\n",
    "6. **Predicción**. Utilización del método ```predict``` del modelo.\n",
    "\n",
    "7. **Elección y implemetación de un métrica**. Para poder estimar el error de prueba."
   ]
  },
  {
   "cell_type": "markdown",
   "metadata": {
    "id": "PyDW9dpbR98R"
   },
   "source": [
    "\n",
    "\n",
    "Primeramente vamos a llamar a la librería ```scikit-learn```, ésta contiene varios módulos en donde están cargadas las diferentes herramientas de ML.\n",
    "Por ejemplo de model_selection obtendremos el método ```train_test_split```, de ```linear_model``` obtendremos el objeto ```LinearRegression``` la cuál contiene el algorítmo de regresión lineal cargado, etc."
   ]
  },
  {
   "cell_type": "code",
   "execution_count": 1,
   "metadata": {
    "id": "Ku2MRUn_ermJ"
   },
   "outputs": [],
   "source": [
    "import pandas as pd\n",
    "import numpy as np\n",
    "\n",
    "%matplotlib inline\n",
    "import matplotlib.pyplot as plt\n",
    "\n",
    "from sklearn.model_selection import train_test_split\n",
    "from sklearn.linear_model import LinearRegression\n",
    "from sklearn.metrics import mean_absolute_error, mean_squared_error\n",
    "from sklearn.preprocessing import StandardScaler"
   ]
  },
  {
   "cell_type": "markdown",
   "metadata": {
    "id": "5HXUKiXzemiP"
   },
   "source": [
    "\n",
    "\n",
    "## Preparar los datos: valores de las casas de los suburbios de Boston\n",
    "\n",
    "* Fuente: https://www.kaggle.com/c/boston-housing \n",
    "\n",
    "Lo podemos leer de la siguiente forma:"
   ]
  },
  {
   "cell_type": "code",
   "execution_count": 3,
   "metadata": {
    "colab": {
     "base_uri": "https://localhost:8080/",
     "height": 371
    },
    "id": "gbGCFNgZWCr6",
    "outputId": "2441d69f-1e78-4675-a2e7-22f8f1cff373"
   },
   "outputs": [],
   "source": [
    "column_names = ['CRIM', 'ZN', 'INDUS', 'CHAS', 'NOX', 'RM', 'AGE', 'DIS', 'RAD', 'TAX', 'PTRATIO', 'B', 'LSTAT', 'MEDV']\n",
    "\n",
    "df = pd.read_csv('files/Boston.csv', header=None, \n",
    "                 delimiter=r\"\\s+\", names=column_names)"
   ]
  },
  {
   "cell_type": "markdown",
   "metadata": {
    "id": "YFPll5aZUDlE"
   },
   "source": [
    "\n",
    "\n",
    "El archivo contiene datos de las casas de los suburbios de Boston, cada registro representa una casa y tiene varios atributos.\n",
    "\n",
    "Tanto caracteristicas físicas de la casa como atributos demográficos de la zona: número de habitaciones, el procentaje de crimen por zona, el ratio de alumno/maestro, etc... \n",
    "\n",
    "Estos datos ya vienen en una estructura que, a parte de estructurada de manera adecuada, no viene con registro repetidos, nulos, o atípicos. Podemos decir que fueron previamente tratados y que están listos para entrenar un modelo."
   ]
  },
  {
   "cell_type": "code",
   "execution_count": 4,
   "metadata": {
    "id": "FEwn_Wx9kLUr"
   },
   "outputs": [
    {
     "data": {
      "text/html": [
       "<div>\n",
       "<style scoped>\n",
       "    .dataframe tbody tr th:only-of-type {\n",
       "        vertical-align: middle;\n",
       "    }\n",
       "\n",
       "    .dataframe tbody tr th {\n",
       "        vertical-align: top;\n",
       "    }\n",
       "\n",
       "    .dataframe thead th {\n",
       "        text-align: right;\n",
       "    }\n",
       "</style>\n",
       "<table border=\"1\" class=\"dataframe\">\n",
       "  <thead>\n",
       "    <tr style=\"text-align: right;\">\n",
       "      <th></th>\n",
       "      <th>CRIM</th>\n",
       "      <th>ZN</th>\n",
       "      <th>INDUS</th>\n",
       "      <th>CHAS</th>\n",
       "      <th>NOX</th>\n",
       "      <th>RM</th>\n",
       "      <th>AGE</th>\n",
       "      <th>DIS</th>\n",
       "      <th>RAD</th>\n",
       "      <th>TAX</th>\n",
       "      <th>PTRATIO</th>\n",
       "      <th>B</th>\n",
       "      <th>LSTAT</th>\n",
       "      <th>MEDV</th>\n",
       "    </tr>\n",
       "  </thead>\n",
       "  <tbody>\n",
       "    <tr>\n",
       "      <th>0</th>\n",
       "      <td>0.00632</td>\n",
       "      <td>18.0</td>\n",
       "      <td>2.31</td>\n",
       "      <td>0</td>\n",
       "      <td>0.538</td>\n",
       "      <td>6.575</td>\n",
       "      <td>65.2</td>\n",
       "      <td>4.0900</td>\n",
       "      <td>1</td>\n",
       "      <td>296.0</td>\n",
       "      <td>15.3</td>\n",
       "      <td>396.90</td>\n",
       "      <td>4.98</td>\n",
       "      <td>24.0</td>\n",
       "    </tr>\n",
       "    <tr>\n",
       "      <th>1</th>\n",
       "      <td>0.02731</td>\n",
       "      <td>0.0</td>\n",
       "      <td>7.07</td>\n",
       "      <td>0</td>\n",
       "      <td>0.469</td>\n",
       "      <td>6.421</td>\n",
       "      <td>78.9</td>\n",
       "      <td>4.9671</td>\n",
       "      <td>2</td>\n",
       "      <td>242.0</td>\n",
       "      <td>17.8</td>\n",
       "      <td>396.90</td>\n",
       "      <td>9.14</td>\n",
       "      <td>21.6</td>\n",
       "    </tr>\n",
       "    <tr>\n",
       "      <th>2</th>\n",
       "      <td>0.02729</td>\n",
       "      <td>0.0</td>\n",
       "      <td>7.07</td>\n",
       "      <td>0</td>\n",
       "      <td>0.469</td>\n",
       "      <td>7.185</td>\n",
       "      <td>61.1</td>\n",
       "      <td>4.9671</td>\n",
       "      <td>2</td>\n",
       "      <td>242.0</td>\n",
       "      <td>17.8</td>\n",
       "      <td>392.83</td>\n",
       "      <td>4.03</td>\n",
       "      <td>34.7</td>\n",
       "    </tr>\n",
       "    <tr>\n",
       "      <th>3</th>\n",
       "      <td>0.03237</td>\n",
       "      <td>0.0</td>\n",
       "      <td>2.18</td>\n",
       "      <td>0</td>\n",
       "      <td>0.458</td>\n",
       "      <td>6.998</td>\n",
       "      <td>45.8</td>\n",
       "      <td>6.0622</td>\n",
       "      <td>3</td>\n",
       "      <td>222.0</td>\n",
       "      <td>18.7</td>\n",
       "      <td>394.63</td>\n",
       "      <td>2.94</td>\n",
       "      <td>33.4</td>\n",
       "    </tr>\n",
       "    <tr>\n",
       "      <th>4</th>\n",
       "      <td>0.06905</td>\n",
       "      <td>0.0</td>\n",
       "      <td>2.18</td>\n",
       "      <td>0</td>\n",
       "      <td>0.458</td>\n",
       "      <td>7.147</td>\n",
       "      <td>54.2</td>\n",
       "      <td>6.0622</td>\n",
       "      <td>3</td>\n",
       "      <td>222.0</td>\n",
       "      <td>18.7</td>\n",
       "      <td>396.90</td>\n",
       "      <td>5.33</td>\n",
       "      <td>36.2</td>\n",
       "    </tr>\n",
       "  </tbody>\n",
       "</table>\n",
       "</div>"
      ],
      "text/plain": [
       "      CRIM    ZN  INDUS  CHAS    NOX     RM   AGE     DIS  RAD    TAX  \\\n",
       "0  0.00632  18.0   2.31     0  0.538  6.575  65.2  4.0900    1  296.0   \n",
       "1  0.02731   0.0   7.07     0  0.469  6.421  78.9  4.9671    2  242.0   \n",
       "2  0.02729   0.0   7.07     0  0.469  7.185  61.1  4.9671    2  242.0   \n",
       "3  0.03237   0.0   2.18     0  0.458  6.998  45.8  6.0622    3  222.0   \n",
       "4  0.06905   0.0   2.18     0  0.458  7.147  54.2  6.0622    3  222.0   \n",
       "\n",
       "   PTRATIO       B  LSTAT  MEDV  \n",
       "0     15.3  396.90   4.98  24.0  \n",
       "1     17.8  396.90   9.14  21.6  \n",
       "2     17.8  392.83   4.03  34.7  \n",
       "3     18.7  394.63   2.94  33.4  \n",
       "4     18.7  396.90   5.33  36.2  "
      ]
     },
     "execution_count": 4,
     "metadata": {},
     "output_type": "execute_result"
    }
   ],
   "source": [
    "df.head()"
   ]
  },
  {
   "cell_type": "markdown",
   "metadata": {
    "id": "0xO3I8xm539D"
   },
   "source": [
    "\n",
    "\n",
    "## Identificar la variable objetivo\n",
    "En este caso la variable objetivo está dada, no tenemos que hacer una transformación para obtenerla, simplemente la obtenemos a partir de la columna del dataframe ```df```. Las demás columnas ya son variables númericas que pueden servir como *input* de un modelo."
   ]
  },
  {
   "cell_type": "code",
   "execution_count": 5,
   "metadata": {
    "id": "W8A0cGTq57LA"
   },
   "outputs": [],
   "source": [
    "features = list(df.columns)[:-1]"
   ]
  },
  {
   "cell_type": "code",
   "execution_count": 6,
   "metadata": {
    "id": "p5xFi_rD6dbf"
   },
   "outputs": [],
   "source": [
    "X = df[features]\n",
    "y = df.MEDV"
   ]
  },
  {
   "cell_type": "markdown",
   "metadata": {
    "id": "Rghisksijg44"
   },
   "source": [
    "\n",
    "\n",
    "## Hacer la separacion train/test\n",
    "El método ```train_test_split``` regresa 4 outputs, las features divididas en entrenamiento y prueba, y la variable objetivo divida en entrenamiento y prueba respectivamente. Por convención (como en muchos casos en Python) en este contexto les llamamos ```X_train```, ```X_test```, ```y_train```, ```y_test```.\n",
    "\n",
    "Por defecto se hace una particion aleatoria del 75% de entrenamiento, 25% de prueba.\n",
    "\n",
    "¿En todos los casos es válido hacer un muestreo aleatorio? ¿En qué casos cambiarías el porcentaje de observaciones en cada muestra?"
   ]
  },
  {
   "cell_type": "code",
   "execution_count": 7,
   "metadata": {
    "id": "0bIoh104j7ex"
   },
   "outputs": [],
   "source": [
    "X_train, X_test, y_train, y_test = train_test_split(X, y)"
   ]
  },
  {
   "cell_type": "markdown",
   "metadata": {
    "id": "HUx-Kgqqkr1G"
   },
   "source": [
    "\n",
    "\n",
    "## Instanciación del modelo para el entrenamiento\n",
    "Se instancia el objeto en donde van a cargar los métodos y atributos que harán el entrenamiento y ajuste para crear un modelo de aprendizaje de máquina.\n",
    "\n",
    "En este caso ```LinearRegression``` es una instancia de la clase ```LinearRegression```, que contiene el algoritmo para obtener los coeficientes de mínimos de cuadrados. "
   ]
  },
  {
   "cell_type": "code",
   "execution_count": 8,
   "metadata": {
    "id": "LY7ATuo9kvDS"
   },
   "outputs": [],
   "source": [
    "lr = LinearRegression()"
   ]
  },
  {
   "cell_type": "markdown",
   "metadata": {
    "id": "pw2GztJ60TTi"
   },
   "source": [
    "\n",
    "\n",
    "## Ajuste del modelo\n",
    "\n",
    "Para ejecutar el algoritmo se hace a través de un método llamado **fit**.\n",
    "\n",
    "Una vez hecha una separación de entrenamiento y de prueba, realizamos el ajuste o entrenamiento, es decir, a partir de una muestra de los datos se van a obtener los coeficientes que minimizan el error.\n",
    "\n",
    "Estos coeficientes define un modelo específico generado por esos datos. Por claridad lo vamos a guardar en una objeto llamado lr_model."
   ]
  },
  {
   "cell_type": "code",
   "execution_count": 9,
   "metadata": {
    "id": "EdttOM8n0TTj"
   },
   "outputs": [
    {
     "name": "stdout",
     "output_type": "stream",
     "text": [
      "Coeficientes:  36.74575250961132 [-1.14488225e-01  6.05915619e-02 -1.94671761e-02  2.91928781e+00\n",
      " -1.56336492e+01  3.49622506e+00 -2.13022155e-03 -1.50743646e+00\n",
      "  3.47733124e-01 -1.44388255e-02 -8.53035850e-01  8.88488127e-03\n",
      " -5.37601418e-01]\n"
     ]
    }
   ],
   "source": [
    "lr_model = lr.fit(X_train, y_train)\n",
    "print ('Coeficientes: ',  lr_model.intercept_, lr_model.coef_)"
   ]
  },
  {
   "cell_type": "markdown",
   "metadata": {
    "id": "HBCaynZH0TTn"
   },
   "source": [
    "\n",
    "\n",
    "## Predicción\n",
    "\n",
    "Una vez que ha sido entrenado el modelo, podemos probar con una observación de una muestra diferente, o sea, con la muestra de prueba. Notese que la muestra de prueba no ha sido usada en el método fit."
   ]
  },
  {
   "cell_type": "code",
   "execution_count": 10,
   "metadata": {
    "id": "rBKMQ6gq0TTn"
   },
   "outputs": [
    {
     "data": {
      "text/plain": [
       "array([14.51043328, 16.75331197, 21.300293  , 13.56956131, 20.06110741,\n",
       "       18.94769554, 22.02680221, 28.58173643, 12.94378239, 32.14467225])"
      ]
     },
     "execution_count": 10,
     "metadata": {},
     "output_type": "execute_result"
    }
   ],
   "source": [
    "predictions_lr = lr_model.predict(X_test)\n",
    "predictions_lr[:10]"
   ]
  },
  {
   "cell_type": "code",
   "execution_count": 11,
   "metadata": {
    "id": "rlOe76Rbp25F"
   },
   "outputs": [
    {
     "data": {
      "text/plain": [
       "array([14.51043328, 16.75331197, 21.300293  , 13.56956131, 20.06110741,\n",
       "       18.94769554, 22.02680221, 28.58173643, 12.94378239, 32.14467225,\n",
       "       32.1772852 , 18.54921943, 32.11733946, 23.81797118, 20.77386396,\n",
       "       27.4817187 , 32.96609935,  1.80801991,  5.69087223, 24.5203777 ,\n",
       "       22.19573118, 17.46092323, 17.3304158 , 18.13579556, 13.306886  ,\n",
       "       26.08335487, 16.04024319, 18.91269726, 17.15482141, 23.01423199,\n",
       "        8.27809576, 30.96085702, 18.4179915 , 16.64369325, 28.60185419,\n",
       "       25.21376303, 19.80570619, 24.92497473, 24.69059962, 20.36079546,\n",
       "        8.49448205, 20.7909945 , 21.34802167, 32.38924369, 27.72448775,\n",
       "       29.60879297, 35.96596931, 20.65558972, 17.09600349, 18.70829041,\n",
       "       14.52426123, 32.43519526, 20.08555104, 25.38180224, 12.93634693,\n",
       "       20.61262369, 35.5343963 , 33.77073728, 18.26786495, 30.79805923,\n",
       "       17.08603417, 21.19090367, 24.91737375, 28.16623443, 20.37219775,\n",
       "       23.81403716, 17.02955216, 12.85968341, 36.71861321, 19.40312904,\n",
       "       27.30602573, 15.82580305, 21.14696046, 26.31279753, 22.29782609,\n",
       "       27.79657914, 14.47577414, 32.80710355, 34.26774456,  6.88629903,\n",
       "       19.92135022, 23.13753813, 21.72442034, 18.9548764 , 18.57392764,\n",
       "       22.07919255, 20.54782699, 20.97721201, 25.33832606, 14.11593359,\n",
       "       40.52007208, 22.56855533, 19.42170906, 19.50376461, 20.10650019,\n",
       "       37.78124652, 17.6969578 , 27.11080669, 22.99022775, 31.17769474,\n",
       "       17.20642929, 17.32010033, 20.24846647,  8.77527227, 19.45035061,\n",
       "       28.99493484, 34.07586085, 39.41734049, 18.53455202, 13.13787336,\n",
       "       17.64082681, 17.44581527, 10.57377092, 14.75745739, 23.49169896,\n",
       "       12.89950618, 35.72065255, 36.58896158, 29.01313167, 27.57373657,\n",
       "       32.78798292, 22.46627815, 24.501857  , 12.72056429,  4.89835054,\n",
       "       27.4768563 , 22.32539494])"
      ]
     },
     "execution_count": 11,
     "metadata": {},
     "output_type": "execute_result"
    }
   ],
   "source": [
    "predictions_lr"
   ]
  },
  {
   "cell_type": "markdown",
   "metadata": {
    "id": "oOKrOIfpfeDS"
   },
   "source": [
    "\n",
    "\n",
    "Observamos que el output del método **predict** es un array en donde están las predicciones de los valores de las casas.\n",
    "\n",
    "El output dependerá del problema, si es supervisado de regresión o de clasificación.\n",
    "\n",
    "¿Cómo sería el output en un contexto de apredizaje supervisado de clasificación? ¿Y de regresión? ¿Y de aprendizaje no supervisado?"
   ]
  },
  {
   "cell_type": "markdown",
   "metadata": {
    "id": "bxB7UzJx0TTs"
   },
   "source": [
    "\n",
    "\n",
    "## Elección de un métrica\n",
    "La métrica que se elige es para medir qué tan bien tu modelo va a predecir cuando se tengan datos no observados previamente. Más adelante veremos los detalles de las distintas métricas que existen."
   ]
  },
  {
   "cell_type": "code",
   "execution_count": 12,
   "metadata": {
    "id": "ydmu6NeeKeds"
   },
   "outputs": [
    {
     "data": {
      "text/plain": [
       "22.303149606299215"
      ]
     },
     "execution_count": 12,
     "metadata": {},
     "output_type": "execute_result"
    }
   ],
   "source": [
    "y_test.mean()"
   ]
  },
  {
   "cell_type": "code",
   "execution_count": 13,
   "metadata": {
    "id": "7R2Cwpq30TTs"
   },
   "outputs": [
    {
     "name": "stdout",
     "output_type": "stream",
     "text": [
      "Error medio absoluto:  3.053493567771237\n",
      "Error cuadrático medio:  17.40137258938334\n"
     ]
    }
   ],
   "source": [
    "print ('Error medio absoluto: ', mean_absolute_error(y_test,predictions_lr))\n",
    "print ('Error cuadrático medio: ', mean_squared_error(y_test,predictions_lr))"
   ]
  },
  {
   "cell_type": "markdown",
   "metadata": {
    "id": "KyVmCPvuhR3o"
   },
   "source": [
    "\n",
    "\n",
    "## Conclusión\n",
    "\n",
    "Como se ha mencionado este es un ejemplo introductorio del marco de trabajo básico del que partiremos.\n",
    "A partir de aquí vamos a profundizar en cada uno de los pasos que hemos mencionado, a responder varias preguntas que han quedado inconclusas y estudiar problemas de naturaleza distinta como aprendizaje supervisado de clasificación, de regresión y apredizaje no supervisado."
   ]
  },
  {
   "cell_type": "markdown",
   "metadata": {
    "id": "49_Efm5qUoWc"
   },
   "source": [
    "\n",
    "\n",
    "# Equilibrio entre Sesgo y Varianza\n",
    "\n",
    "* El MSE se puede descomponer en la varianza y el sesgo.\n",
    "\n",
    "\n",
    "* Denotemos los datos por $\\mathcal{D} = \\{x_1, x_2, \\cdots, x_N\\}$\n",
    "\n",
    "\n",
    "* Sean \n",
    "    * $\\hat{\\theta} = \\hat{\\theta}(\\mathcal{D})$ nuestra estimación, \n",
    "    \n",
    "    * $\\bar{\\theta} = E(\\hat{\\theta})$ el valor esperado de la estimación cuando variamos los datos.\n",
    "    \n",
    "    * $\\theta^*$ el parametro verdadero.\n",
    "\n",
    "\n",
    "* El MSE se puede escribir como:\n",
    "$$\n",
    "\\begin{eqnarray*}\n",
    "E\\left[(\\hat{\\theta} - \\theta^*)^2 \\right] &=& E\\left[\\left[(\\hat{\\theta} - \\bar{\\theta}) + (\\bar{\\theta} - \\theta^*) \\right]^2\\right]\\\\\n",
    "&=& E(\\hat{\\theta} - \\bar{\\theta})^2 + 2(\\bar{\\theta} - \\theta^*)E(\\hat{\\theta} - \\bar{\\theta}) + E(\\bar{\\theta} - \\theta^*)^2\\\\\n",
    "&=& Var(\\hat{\\theta}) + Bias^2\n",
    "\\end{eqnarray*}\n",
    "$$\n",
    "\n",
    "\n",
    "* La *varianza* se refiere a cuánto cambia la estimación si utilizamos otros datos de entrenamiento.\n",
    "\n",
    "\n",
    "* El *sesgo* se refiere al error sistemático que se obtiene al aproximar el proceso de generación de datos verdadero por medio de un modelo simple.\n",
    "\n",
    "\n",
    "* Por ejemplo, de nuestras clases de econometría sabemos que las *omitir variables* sesga la estimación.\n",
    "\n",
    "\n",
    "* El tradeoff sugiere que a veces queremos **sacrificar un poco de *sesgo* si reducimos la *varianza* de la estimación**.\n",
    "\n",
    "La derivación sale de lo siguiente:"
   ]
  },
  {
   "cell_type": "markdown",
   "metadata": {},
   "source": [
    "\\begin{align}\n",
    "\tE_{\\mathbf{x},y,D}\\left[\\left[h_{D}(\\mathbf{x}) - y\\right]^{2}\\right] &= E_{\\mathbf{x},y,D}\\left[\\left[\\left(h_{D}(\\mathbf{x}) - \\bar{h}(\\mathbf{x})\\right) + \\left(\\bar{h}(\\mathbf{x}) - y\\right)\\right]^{2}\\right] \\nonumber \\\\\n",
    "    &= E_{\\mathbf{x}, D}\\left[(\\bar{h}_{D}(\\mathbf{x}) - \\bar{h}(\\mathbf{x}))^{2}\\right] + 2 \\mathrm{\\;} E_{\\mathbf{x}, y, D} \\left[\\left(h_{D}(\\mathbf{x}) - \\bar{h}(\\mathbf{x})\\right)\\left(\\bar{h}(\\mathbf{x}) - y\\right)\\right] + E_{\\mathbf{x}, y} \\left[\\left(\\bar{h}(\\mathbf{x}) - y\\right)^{2}\\right] \\label{eq:eq1}\n",
    "\\end{align}\n",
    "\n",
    "El término de en medio se evalua a 0 \n",
    "\n",
    "\\begin{align*}\n",
    "\tE_{\\mathbf{x}, y, D} \\left[\\left(h_{D}(\\mathbf{x}) - \\bar{h}(\\mathbf{x})\\right) \\left(\\bar{h}(\\mathbf{x}) - y\\right)\\right] &= E_{\\mathbf{x}, y} \\left[E_{D} \\left[ h_{D}(\\mathbf{x}) - \\bar{h}(\\mathbf{x})\\right] \\left(\\bar{h}(\\mathbf{x}) - y\\right) \\right] \\\\\n",
    "    &= E_{\\mathbf{x}, y} \\left[ \\left( E_{D} \\left[ h_{D}(\\mathbf{x}) \\right] - \\bar{h}(\\mathbf{x}) \\right) \\left(\\bar{h}(\\mathbf{x}) - y \\right)\\right] \\\\\n",
    "    &= E_{\\mathbf{x}, y} \\left[ \\left(\\bar{h}(\\mathbf{x}) - \\bar{h}(\\mathbf{x}) \\right) \\left(\\bar{h}(\\mathbf{x}) - y \\right)\\right] \\\\\n",
    "    &= E_{\\mathbf{x}, y} \\left[ 0 \\right] \\\\\n",
    "    &= 0\n",
    "\\end{align*}\n",
    "\n",
    "De la ecuación original, nos quedamos con lo siguiente\n",
    "\n",
    "\\begin{equation}\n",
    "\tE_{\\mathbf{x}, y, D} \\left[ \\left( h_{D}(\\mathbf{x}) - y \\right)^{2} \\right] = \\underbrace{E_{\\mathbf{x}, D} \\left[ \\left(h_{D}(\\mathbf{x}) - \\bar{h}(\\mathbf{x}) \\right)^{2} \\right]}_\\mathrm{Variance} + E_{\\mathbf{x}, y}\\left[ \\left( \\bar{h}(\\mathbf{x}) - y \\right)^{2} \\right] \\label{eq:eq2}\n",
    "\\end{equation}\n",
    "\n",
    "Rompemos el segundo término del siguiente modo\n",
    "\n",
    "\\begin{align}\n",
    "\tE_{\\mathbf{x}, y} \\left[ \\left(\\bar{h}(\\mathbf{x}) - y \\right)^{2}\\right] &= E_{\\mathbf{x}, y} \\left[ \\left(\\bar{h}(\\mathbf{x}) -\\bar y(\\mathbf{x}) )+(\\bar y(\\mathbf{x}) - y \\right)^{2}\\right]  \\\\\n",
    "  &=\\underbrace{E_{\\mathbf{x}, y} \\left[\\left(\\bar{y}(\\mathbf{x}) - y\\right)^{2}\\right]}_\\mathrm{Noise} + \\underbrace{E_{\\mathbf{x}} \\left[\\left(\\bar{h}(\\mathbf{x}) - \\bar{y}(\\mathbf{x})\\right)^{2}\\right]}_\\mathrm{Bias^2} + 2 \\mathrm{\\;} E_{\\mathbf{x}, y} \\left[ \\left(\\bar{h}(\\mathbf{x}) - \\bar{y}(\\mathbf{x})\\right)\\left(\\bar{y}(\\mathbf{x}) - y\\right)\\right] \\label{eq:eq3}\n",
    "\\end{align}\n",
    "\n",
    "El tercer término se evalua a 0 \n",
    "\n",
    "\\begin{align*}\n",
    "\tE_{\\mathbf{x}, y} \\left[\\left(\\bar{h}(\\mathbf{x}) - \\bar{y}(\\mathbf{x})\\right)\\left(\\bar{y}(\\mathbf{x}) - y\\right)\\right] &= E_{\\mathbf{x}}\\left[E_{y \\mid \\mathbf{x}} \\left[\\bar{y}(\\mathbf{x}) - y \\right] \\left(\\bar{h}(\\mathbf{x}) - \\bar{y}(\\mathbf{x}) \\right) \\right] \\\\\n",
    "    &= E_{\\mathbf{x}} \\left[ E_{y \\mid \\mathbf{x}} \\left[ \\bar{y}(\\mathbf{x}) - y\\right] \\left(\\bar{h}(\\mathbf{x}) - \\bar{y}(\\mathbf{x})\\right)\\right] \\\\\n",
    "    &= E_{\\mathbf{x}} \\left[ \\left( \\bar{y}(\\mathbf{x}) - E_{y \\mid \\mathbf{x}} \\left [ y \\right]\\right) \\left(\\bar{h}(\\mathbf{x}) - \\bar{y}(\\mathbf{x})\\right)\\right] \\\\\n",
    "    &= E_{\\mathbf{x}} \\left[ \\left( \\bar{y}(\\mathbf{x}) - \\bar{y}(\\mathbf{x}) \\right) \\left(\\bar{h}(\\mathbf{x}) - \\bar{y}(\\mathbf{x})\\right)\\right] \\\\\n",
    "    &= E_{\\mathbf{x}} \\left[ 0 \\right] \\\\\n",
    "    &= 0\n",
    "\\end{align*}\n",
    "\n",
    "Esto nos da la siguiente:\n",
    "\n",
    "\\begin{equation*}\n",
    "\t\\underbrace{E_{\\mathbf{x}, y, D} \\left[\\left(h_{D}(\\mathbf{x}) - y\\right)^{2}\\right]}_\\mathrm{Expected\\;Test\\;Error} = \\underbrace{E_{\\mathbf{x}, D}\\left[\\left(h_{D}(\\mathbf{x}) - \\bar{h}(\\mathbf{x})\\right)^{2}\\right]}_\\mathrm{Variance} + \\underbrace{E_{\\mathbf{x}, y}\\left[\\left(\\bar{y}(\\mathbf{x}) - y\\right)^{2}\\right]}_\\mathrm{Noise} + \\underbrace{E_{\\mathbf{x}}\\left[\\left(\\bar{h}(\\mathbf{x}) - \\bar{y}(\\mathbf{x})\\right)^{2}\\right]}_\\mathrm{Bias^2}\n",
    "\\end{equation*}"
   ]
  },
  {
   "cell_type": "code",
   "execution_count": null,
   "metadata": {},
   "outputs": [],
   "source": []
  },
  {
   "cell_type": "markdown",
   "metadata": {
    "id": "KJZhI1BRUoWd"
   },
   "source": [
    "\n",
    "\n",
    "Todos los modelos tienen un error asociado a sus predicciones. Al entrenar modelos con **muestras de una población más grande**, estos siempre reflejarán error debido al muestreo realizado.\n",
    "\n",
    "- Los modelos **demasiado sencillos**, sufren de error de tipo **sesgo**, en el que NO son sensibles a las variabilidades de la muestra con que se entrenan. Generalizan mejor, memorizan peor, más orientados a predicción.\n",
    "- Los modelos **demasiado complejos**, sufren de error de tipo **varianza**, en el que son hipersensibles a las variabilidades de la muestra con que se entrenan. Generalizan peor, memorizan mejor, más orientados a análisis.\n",
    "- Los modelos **equilibrados entre sencillez y complejidad**, tienden a minimizar el error total del modelo. Sin embargo, siempre hay un error irreducible.\n",
    "\n",
    "<img src=\"https://www.researchgate.net/publication/335604816/figure/fig2/AS:799391489220609@1567601191401/Bias-variance-trade-off-in-machine-learning-This-figure-illustrates-the-trade-off.png\">"
   ]
  },
  {
   "cell_type": "code",
   "execution_count": 14,
   "metadata": {
    "id": "NjK4Vsx8UoWd"
   },
   "outputs": [],
   "source": [
    "import numpy as np\n",
    "from matplotlib import pyplot as plt\n",
    "%matplotlib inline"
   ]
  },
  {
   "cell_type": "markdown",
   "metadata": {
    "id": "ylC8VCuyUoWd"
   },
   "source": [
    "\n",
    "\n",
    "## Creacion de la poblacion"
   ]
  },
  {
   "cell_type": "code",
   "execution_count": 15,
   "metadata": {
    "id": "1cyQxZEPUoWd"
   },
   "outputs": [],
   "source": [
    "X = np.arange(-3,3,.01)\n",
    "noise = [np.random.normal(0,.3) for _ in X]\n",
    "#noise = 0\n",
    "system1 = np.poly1d([.03,.02,.01])\n",
    "system2 = np.sin\n",
    "population = system2(X) + noise"
   ]
  },
  {
   "cell_type": "markdown",
   "metadata": {
    "id": "G48DJIWMUoWe"
   },
   "source": [
    "\n",
    "\n",
    "## Muestreo inicial"
   ]
  },
  {
   "cell_type": "code",
   "execution_count": 16,
   "metadata": {
    "id": "hHE9Z-7PUoWe"
   },
   "outputs": [],
   "source": [
    "sample_i = np.random.choice(list(range(len(population))),20)\n",
    "sample_i = np.sort(sample_i)\n"
   ]
  },
  {
   "cell_type": "code",
   "execution_count": 17,
   "metadata": {
    "id": "dfaNq11rUoWe"
   },
   "outputs": [
    {
     "data": {
      "image/png": "[encoded data removed]",
      "text/plain": [
       "<Figure size 432x288 with 1 Axes>"
      ]
     },
     "metadata": {
      "needs_background": "light"
     },
     "output_type": "display_data"
    }
   ],
   "source": [
    "plt.scatter(X[sample_i],population[sample_i],c=\"k\")\n",
    "plt.ylim(-2,2)\n",
    "plt.show()"
   ]
  },
  {
   "cell_type": "markdown",
   "metadata": {
    "id": "QdmcIMbqUoWe"
   },
   "source": [
    "\n",
    "\n",
    "## Entrenamiento de modelos y representar predicción"
   ]
  },
  {
   "cell_type": "markdown",
   "metadata": {
    "id": "ur6pQnd4UoWf"
   },
   "source": [
    "\n",
    "\n",
    "Entrenamos modelos que se ajusten a las muestras extraidas de la población"
   ]
  },
  {
   "cell_type": "markdown",
   "metadata": {
    "id": "n3ArPCMYUoWf"
   },
   "source": [
    "\n",
    "\n",
    "Un modelo sencillo"
   ]
  },
  {
   "cell_type": "code",
   "execution_count": 18,
   "metadata": {
    "id": "rnECCAwBUoWf"
   },
   "outputs": [
    {
     "name": "stdout",
     "output_type": "stream",
     "text": [
      " \n",
      "0.3657 x - 0.146\n"
     ]
    }
   ],
   "source": [
    "Z_simple = np.polyfit(X[sample_i], population[sample_i],1)\n",
    "Z_simple = np.poly1d(Z_simple)\n",
    "print(Z_simple)\n"
   ]
  },
  {
   "cell_type": "code",
   "execution_count": 19,
   "metadata": {
    "id": "Nw6BMaUeBuh3"
   },
   "outputs": [
    {
     "name": "stdout",
     "output_type": "stream",
     "text": [
      "         3            2\n",
      "-0.1018 x + 0.001984 x + 0.9456 x - 0.01429\n"
     ]
    }
   ],
   "source": [
    "\n",
    "# A balanced model\n",
    "Z_balanced = np.polyfit(X[sample_i], population[sample_i],3)\n",
    "Z_balanced = np.poly1d(Z_balanced)\n",
    "print(Z_balanced)\n",
    "\n"
   ]
  },
  {
   "cell_type": "code",
   "execution_count": 20,
   "metadata": {
    "id": "cr18AZ8bBxGZ"
   },
   "outputs": [
    {
     "name": "stdout",
     "output_type": "stream",
     "text": [
      "           50             49            48             47\n",
      "2.243e-17 x  - 8.354e-17 x  + 1.26e-16 x  - 5.247e-16 x \n",
      "              46             45             44             43\n",
      " + 4.644e-16 x  - 2.722e-15 x  - 1.562e-15 x  - 7.516e-15 x \n",
      "              42             41             40            39\n",
      " - 6.065e-14 x  + 6.688e-14 x  - 8.851e-13 x  + 1.53e-12 x \n",
      "              38             37             36            35\n",
      " - 9.884e-12 x  + 1.823e-11 x  - 9.172e-11 x  + 1.57e-10 x \n",
      "             34             33             32             31\n",
      " - 6.87e-10 x  + 8.603e-10 x  - 3.424e-09 x  - 1.046e-09 x \n",
      "              30             29             28             27\n",
      " + 3.191e-09 x  - 9.925e-08 x  + 3.144e-07 x  - 1.396e-06 x \n",
      "              26             25             24             23\n",
      " + 3.834e-06 x  - 1.021e-05 x  + 1.998e-05 x  + 2.067e-07 x \n",
      "              22             21            20            19\n",
      " - 9.754e-05 x  + 0.0009241 x  - 0.002083 x  + 0.008178 x \n",
      "             18           17          16          15          14\n",
      " + 0.004107 x  - 0.01379 x  + 0.2946 x  - 0.1806 x  + 0.3871 x \n",
      "          13         12         11         10         9         8\n",
      " + 7.142 x  - 10.65 x  - 69.87 x  - 46.03 x  + 100.8 x + 135.5 x\n",
      "         7         6         5         4         3         2\n",
      " + 4.65 x - 66.26 x - 36.94 x - 2.216 x + 11.25 x + 5.556 x + 0.01591 x - 0.5541\n"
     ]
    },
    {
     "name": "stderr",
     "output_type": "stream",
     "text": [
      "/opt/anaconda3/lib/python3.8/site-packages/IPython/core/interactiveshell.py:3331: RankWarning: Polyfit may be poorly conditioned\n",
      "  exec(code_obj, self.user_global_ns, self.user_ns)\n"
     ]
    }
   ],
   "source": [
    "# A complex model\n",
    "Z_complex = np.polyfit(X[sample_i], population[sample_i],50)\n",
    "Z_complex = np.poly1d(Z_complex)\n",
    "print(Z_complex)"
   ]
  },
  {
   "cell_type": "code",
   "execution_count": 21,
   "metadata": {
    "id": "1RphmCQ5UoWf"
   },
   "outputs": [],
   "source": [
    "Y_simple = Z_simple(X[sample_i])\n",
    "Y_balanced = Z_balanced(X[sample_i])\n",
    "Y_complex = Z_complex(X[sample_i])"
   ]
  },
  {
   "cell_type": "code",
   "execution_count": 22,
   "metadata": {
    "id": "MsUAz_B3UoWf"
   },
   "outputs": [
    {
     "data": {
      "image/png": "[encoded data removed]",
      "text/plain": [
       "<Figure size 432x288 with 1 Axes>"
      ]
     },
     "metadata": {
      "needs_background": "light"
     },
     "output_type": "display_data"
    }
   ],
   "source": [
    "plt.scatter(X[sample_i], population[sample_i], c=\"k\")\n",
    "plt.plot(X[sample_i], Y_simple, c=\"g\")\n",
    "plt.plot(X[sample_i], Y_balanced, c=\"y\")\n",
    "plt.plot(X[sample_i], Y_complex, c=\"r\")\n",
    "plt.ylim(-2,2)\n",
    "plt.show()\n"
   ]
  },
  {
   "cell_type": "markdown",
   "metadata": {
    "id": "ZfCSjka4UoWf"
   },
   "source": [
    "\n",
    "\n",
    "- Primera aproximación, modelo más simple asume que los datos son incrementales, mínima precisión en esta muestra.\n",
    "\n",
    "- Segunda aproximación, modelo intermedio, sensible a la **forma** de los datos.  \n",
    "\n",
    "- Tercera aproximación, modelo más complejo, hipersensible a la forma de los datos, máxima precisión en esta muestra."
   ]
  },
  {
   "cell_type": "markdown",
   "metadata": {
    "id": "fro_rzjYUoWg"
   },
   "source": [
    "\n",
    "\n",
    "## Estudio de los modelos"
   ]
  },
  {
   "cell_type": "markdown",
   "metadata": {
    "id": "xPAdJa-WUoWg"
   },
   "source": [
    "\n",
    "\n",
    "Para ver como responderían estos modelos ante todas las entradas de X (NO de la poblacion), dibujamos los modelos completamente."
   ]
  },
  {
   "cell_type": "code",
   "execution_count": 23,
   "metadata": {
    "id": "b3uL85ffUoWg"
   },
   "outputs": [],
   "source": [
    "Y_simple_ = Z_simple(X)\n",
    "Y_balanced_ = Z_balanced(X)\n",
    "Y_complex_ = Z_complex(X)"
   ]
  },
  {
   "cell_type": "code",
   "execution_count": 24,
   "metadata": {
    "id": "-HIq1mXbUoWg"
   },
   "outputs": [
    {
     "data": {
      "image/png": "[encoded data removed]",
      "text/plain": [
       "<Figure size 432x288 with 1 Axes>"
      ]
     },
     "metadata": {
      "needs_background": "light"
     },
     "output_type": "display_data"
    }
   ],
   "source": [
    "plt.scatter(X[sample_i], population[sample_i], c=\"k\")\n",
    "plt.plot(X, Y_simple_, c=\"g\")\n",
    "plt.plot(X, Y_balanced_,c =\"y\")\n",
    "plt.plot(X, Y_complex_, c=\"r\")\n",
    "plt.ylim(-2,2)\n",
    "plt.show()\n"
   ]
  },
  {
   "cell_type": "markdown",
   "metadata": {
    "id": "nv9cSKs3UoWg"
   },
   "source": [
    "\n",
    "\n",
    "## Errores"
   ]
  },
  {
   "cell_type": "code",
   "execution_count": 25,
   "metadata": {
    "id": "MNew7vmbUoWg"
   },
   "outputs": [],
   "source": [
    "error_simple = abs(Y_simple-population[sample_i])\n",
    "error_balanced = abs(Y_balanced-population[sample_i])\n",
    "error_complex = abs(Y_complex-population[sample_i])"
   ]
  },
  {
   "cell_type": "code",
   "execution_count": 26,
   "metadata": {
    "id": "7pyK2TR5UoWg"
   },
   "outputs": [
    {
     "data": {
      "image/png": "[encoded data removed]",
      "text/plain": [
       "<Figure size 432x288 with 1 Axes>"
      ]
     },
     "metadata": {
      "needs_background": "light"
     },
     "output_type": "display_data"
    }
   ],
   "source": [
    "plt.plot(X[sample_i], error_simple,c=\"g\")\n",
    "plt.plot(X[sample_i], error_balanced,c=\"y\")\n",
    "plt.plot(X[sample_i], error_complex,c=\"r\")\n",
    "plt.show()"
   ]
  },
  {
   "cell_type": "code",
   "execution_count": 27,
   "metadata": {
    "id": "WGgAtxfhUoWh"
   },
   "outputs": [
    {
     "name": "stdout",
     "output_type": "stream",
     "text": [
      "0.43077591444486407\n",
      "0.16328296488066182\n",
      "1.001329220622923e-09\n"
     ]
    }
   ],
   "source": [
    "from sklearn.metrics import mean_squared_error \n",
    "from math import sqrt \n",
    "\n",
    "rms_simple = sqrt(mean_squared_error(population[sample_i], Y_simple)) \n",
    "print(rms_simple)\n",
    "rms_balanced = sqrt(mean_squared_error(population[sample_i], Y_balanced)) \n",
    "print(rms_balanced)\n",
    "rms_complex = sqrt(mean_squared_error(population[sample_i], Y_complex)) \n",
    "print(rms_complex)"
   ]
  },
  {
   "cell_type": "markdown",
   "metadata": {
    "id": "CW1ezCZwUoWh"
   },
   "source": [
    "\n",
    "\n",
    "El modelo que menor error comete en la muestra usada (conjunto de entreamiento) es el más complejo. Podemos utilizar los coeficientes para analizar esta muestra."
   ]
  },
  {
   "cell_type": "markdown",
   "metadata": {
    "id": "eAavYopWUoWh"
   },
   "source": [
    "\n",
    "\n",
    "## Nuevos datos"
   ]
  },
  {
   "cell_type": "markdown",
   "metadata": {
    "id": "JYh4XrZ2UoWh"
   },
   "source": [
    "\n",
    "\n",
    "Con una nueva muestra de la población, evaluamos los modelos generados.  \n",
    "Para ello tomamos 20 nuevos indices de la poblacion, y realizamos predicciones con los modelos creados."
   ]
  },
  {
   "cell_type": "code",
   "execution_count": 28,
   "metadata": {
    "id": "CcCNMW6JUoWh"
   },
   "outputs": [],
   "source": [
    "sample_new = np.random.choice(list(range(len(population))),20)\n",
    "sample_new = np.sort(sample_new)"
   ]
  },
  {
   "cell_type": "code",
   "execution_count": 29,
   "metadata": {
    "id": "_OGRY1nsUoWh"
   },
   "outputs": [],
   "source": [
    "Y_simple_new = Z_simple(X[sample_new])\n",
    "Y_balanced_new = Z_balanced(X[sample_new])\n",
    "Y_complex_new = Z_complex(X[sample_new])"
   ]
  },
  {
   "cell_type": "markdown",
   "metadata": {
    "id": "bcHv9HIXUoWh"
   },
   "source": [
    "\n",
    "\n",
    "Representamos las predicciones de los modelos para la nueva muestra."
   ]
  },
  {
   "cell_type": "code",
   "execution_count": 30,
   "metadata": {
    "id": "RaLboWKUUoWi"
   },
   "outputs": [
    {
     "data": {
      "image/png": "[encoded data removed]",
      "text/plain": [
       "<Figure size 432x288 with 1 Axes>"
      ]
     },
     "metadata": {
      "needs_background": "light"
     },
     "output_type": "display_data"
    }
   ],
   "source": [
    "plt.scatter(X[sample_new], population[sample_new] ,c=\"b\")\n",
    "plt.plot(X[sample_new], Y_simple_new ,c=\"g\")\n",
    "plt.plot(X[sample_new], Y_balanced_new ,c=\"y\")\n",
    "plt.plot(X[sample_new], Y_complex_new ,c=\"r\")\n",
    "plt.ylim(-2,2)\n",
    "plt.show()"
   ]
  },
  {
   "cell_type": "code",
   "execution_count": 31,
   "metadata": {
    "id": "eFCvxLlkUoWi"
   },
   "outputs": [],
   "source": [
    "from sklearn.metrics import mean_squared_error"
   ]
  },
  {
   "cell_type": "code",
   "execution_count": 32,
   "metadata": {
    "id": "DqebPPR2UoWi"
   },
   "outputs": [
    {
     "name": "stdout",
     "output_type": "stream",
     "text": [
      "277.5815155694307\n",
      "277.4791755772888\n",
      "41030.81627253964\n"
     ]
    }
   ],
   "source": [
    "rms_simple = sqrt(mean_squared_error(sample_new, Y_simple_new)) \n",
    "print(rms_simple)\n",
    "rms_balanced = sqrt(mean_squared_error(sample_new, Y_balanced_new)) \n",
    "print(rms_balanced)\n",
    "rms_complex = sqrt(mean_squared_error(sample_new, Y_complex_new)) \n",
    "print(rms_complex)"
   ]
  },
  {
   "cell_type": "markdown",
   "metadata": {
    "id": "-o2gUIzBUoWj"
   },
   "source": [
    "\n",
    "\n",
    "El modelo más complejo es el que comete más error al recibir nuevos datos. Los modelos más sencillos son también más robustos. \n",
    "> Por tanto para predicción es mejor **modelos que generalicen bien, sin perder la sensibilidad a la forma**."
   ]
  },
  {
   "cell_type": "markdown",
   "metadata": {
    "id": "0rYQt7ucIPzK"
   },
   "source": [
    "<img src=\"https://miro.medium.com/max/936/1*xwtSpR_zg7j7zusa4IDHNQ.png\">"
   ]
  },
  {
   "cell_type": "code",
   "execution_count": null,
   "metadata": {
    "id": "b85BRZRqh1GS"
   },
   "outputs": [],
   "source": []
  },
  {
   "cell_type": "markdown",
   "metadata": {
    "id": "9wFRyN3QUsk2"
   },
   "source": [
    "\n",
    "\n",
    "# Cross-Validation"
   ]
  },
  {
   "cell_type": "markdown",
   "metadata": {
    "id": "e3HobpK6Usk3"
   },
   "source": [
    "\n",
    "\n",
    "Hasta ahora hemos visto que separábamos nuestro dataset en dos partes: los conjuntos de *training* y de *test*.\n",
    "En el conjunto de training ajustábamos nuestro modelo y en el conjunto de test evaluábamos su capacida de generalizar, es decir evaluamos la capacidad predictiva del modelo en datos nuevos, nunca visto antes."
   ]
  },
  {
   "cell_type": "markdown",
   "metadata": {
    "id": "IKX3vxKYUsk3"
   },
   "source": [
    "\n",
    "\n",
    "Hasta ahora hemos visto que separábamos nuestro dataset en dos partes: los conjuntos de *training* y de *test*.\n",
    "En el conjunto de training ajustábamos nuestro modelo y en el conjunto de test evaluábamos su capacida de generalizar, es decir evaluamos la capacidad predictiva del modelo en datos nuevos, nunca visto antes.\n",
    "\n",
    "Sin embargo, esta no es siempre la mejor práctica ya que a veces es difícil obtener datos etiquetados: \"*perder*\" un 20, 25 o un 30 por ciento de los datos para el conjunto de test no siempre no es viable.\n",
    "\n",
    "Una solución muy común para conseguir más datos de entrenamiento a la vez que evaluamos la capacidad de generalización es el método de **cross-validation**. Este método consiste en separar los datos repetidamente en diferentes conjuntos de test y training y construir un modelo para cada par test-train. Los scores de test se agregan para obtener una estimación más robusta del modelo.\n",
    "\n",
    "* Si tenemos varios modelos candidatos, ¿cómo seleccionamos un mejor modelo?\n",
    "\n",
    "* Tenemos dos muestras:\n",
    "    * **Entrenamiento:** los datos que utilizamos para estimar el modelo\n",
    "    * **Prueba:** los datos que utilizamos para verificar si el modelo pronostica bien por fuera de la muestra de entrenamiento.\n",
    "    \n",
    "* Una alternativa es juzgar los modelos de acuerdo con el MSE en la muestra de prueba.\n",
    "\n",
    "* Alternativamente, podemos generar varias muestras de prueba, o *muestras de validación*\n",
    "\n",
    "* En el método de validación cruzada en K grupos (*k-fold cross-validation*), dividimos la muestra en $K$ grupos del mismo tamaño seleccionados de manera aleatoria:\n",
    "\n",
    "    * En $K$ iteraciones, dejamos el grupo correspondiente como grupo de prueba, utilizamos los $K-1$ grupos para estimar el modelo (grupo de entrenamiento) y guardamos el $MSE_k$ del modelo evaluado en el *k-ésimo* grupo que fue excluido.\n",
    "    \n",
    "    * El mejor model es aquel que minimiza el MSE promedio\n",
    "$$\n",
    "CV(MSE) = \\frac{1}{K}\\sum_k MSE_k\n",
    "$$\n",
    "\n"
   ]
  },
  {
   "cell_type": "markdown",
   "metadata": {
    "id": "Tv2jJ09EypWv"
   },
   "source": [
    "\n",
    "\n",
    "\n",
    "\n",
    "La manera más común para hacer *cross-validation* es mediante el método **k-fold cross-validation**. Este método consiste en separar el dataset en `k` trozos (usualmente 5 o 10), y en cada iteración utilizar un fold distinto como datos de test. Esto se ve muy bien en la siguiente figura:\n",
    "\n"
   ]
  },
  {
   "cell_type": "markdown",
   "metadata": {
    "id": "LY_g6ykBysWR"
   },
   "source": [
    "![pic](http://image.slidesharecdn.com/euro-202013-barrowcrone-130707073022-phpapp02/95/crossvalidation-aggregation-for-forecasting-7-638.jpg?cb=1373182327)"
   ]
  },
  {
   "cell_type": "code",
   "execution_count": 33,
   "metadata": {
    "id": "Hqh8ciHV127F"
   },
   "outputs": [],
   "source": [
    "# vamos a crear una función OLS para utilizar varias veces\n",
    "def olsfun(y,X):\n",
    "    '''\n",
    "    ------------------\n",
    "    Objetivo: estimar los coeficientes de un modelo de regresión lineal por medio de mínimos cuadrados\n",
    "    ordinarios (OLS).\n",
    "    ------------------\n",
    "    Argumentos: \n",
    "    y: Variable dependiente: de tamaño Nx1\n",
    "    X: matriz de variables independientes: de tamaño NxK\n",
    "    ------------------\n",
    "    Returns:\n",
    "    betahat: vector de coeficientes estimados\n",
    "    mse    : error cuadrático medio muestral\n",
    "    ssr    : suma de residuos al cuadrado\n",
    "    yhat   : y estimado\n",
    "    ------------------\n",
    "    '''\n",
    "    N,K = X.shape\n",
    "    # necesitamos la matriz inversa\n",
    "    xtx = np.dot(X.T, X)\n",
    "    xtxinv = np.linalg.inv(xtx)\n",
    "    xty = np.dot(X.T,y)\n",
    "    betahat = np.dot(xtxinv,xty)\n",
    "    # obtengamos también el MSE\n",
    "    yhat = np.dot(X,betahat)\n",
    "    resids = y-yhat\n",
    "    ssr  = np.dot(resids.T,resids)\n",
    "    s2   = ssr/(N-K)\n",
    "    mse  = ssr/N\n",
    "    return betahat, mse[0,0], ssr[0,0], yhat"
   ]
  },
  {
   "cell_type": "code",
   "execution_count": 34,
   "metadata": {
    "id": "KXbRKCy01f2Y"
   },
   "outputs": [
    {
     "name": "stdout",
     "output_type": "stream",
     "text": [
      "(40,) (40,) (40,) (40,) (40,)\n"
     ]
    },
    {
     "data": {
      "text/plain": [
       "1    40\n",
       "2    40\n",
       "3    40\n",
       "4    40\n",
       "5    40\n",
       "dtype: int64"
      ]
     },
     "execution_count": 34,
     "metadata": {},
     "output_type": "execute_result"
    }
   ],
   "source": [
    "# Volvamos a nuestro ejemplo de los polinomios\n",
    "# El modelo era:\n",
    "import numpy as np\n",
    "import pandas as pd\n",
    "import matplotlib.pyplot as plt\n",
    "np.random.seed(456091215)\n",
    "\n",
    "N = 200\n",
    "# regresores y error\n",
    "x = np.random.randn(N,1)\n",
    "xmat = np.concatenate((np.ones((N,1)), x, np.power(x,2)), axis=1)\n",
    "# Para el término de error vamos a utilizar una varianza mayor\n",
    "epsilon = np.sqrt(10)*np.random.randn(N,1)\n",
    "# coeficientes verdaderos: queremos una función cóncava (sin ninguna razón especial)\n",
    "beta_true = np.array([-2,3,-2]).reshape((3,1))\n",
    "y = np.dot(xmat,beta_true) + epsilon\n",
    "\n",
    "# Hagamos 5-fold CV:\n",
    "# Dividamos en 5 grupos los datos\n",
    "# Seleccionemos los números aleatorios\n",
    "ind_rnd = pd.DataFrame(np.random.randn(N), columns=['random_num'])\n",
    "# Ordenemos de menor a mayor, vamos a utilizar los índices para generar los números\n",
    "rnd_sort = ind_rnd.sort_values(by=['random_num'])\n",
    "# Los grupos los obtenemos con los cuantiles\n",
    "grp1 = rnd_sort[rnd_sort.random_num<=rnd_sort.random_num.quantile(0.2)].index\n",
    "grp2 = rnd_sort[np.logical_and(rnd_sort.random_num>rnd_sort.random_num.quantile(0.2),\n",
    "                               rnd_sort.random_num<=rnd_sort.random_num.quantile(0.4))].index\n",
    "grp3 = rnd_sort[np.logical_and(rnd_sort.random_num>rnd_sort.random_num.quantile(0.4),\n",
    "                               rnd_sort.random_num<=rnd_sort.random_num.quantile(0.6))].index\n",
    "grp4 = rnd_sort[np.logical_and(rnd_sort.random_num>rnd_sort.random_num.quantile(0.6),\n",
    "                               rnd_sort.random_num<=rnd_sort.random_num.quantile(0.8))].index\n",
    "grp5 = rnd_sort[rnd_sort.random_num>rnd_sort.random_num.quantile(0.8)].index\n",
    "print(grp1.shape, grp2.shape, grp3.shape, grp4.shape, grp5.shape)\n",
    "ind_grp = (1*(np.in1d(np.arange(N),grp1.values)) + \n",
    "           2*(np.in1d(np.arange(N),grp2.values)) + \n",
    "           3*(np.in1d(np.arange(N),grp3.values)) + \n",
    "           4*(np.in1d(np.arange(N),grp4.values)) + \n",
    "           5*(np.in1d(np.arange(N),grp5.values))\n",
    "           )\n",
    "# miremos que quedó bien con un groupby\n",
    "chk_grp = pd.Series(ind_grp).groupby(pd.Series(ind_grp)).count()\n",
    "chk_grp"
   ]
  },
  {
   "cell_type": "code",
   "execution_count": 35,
   "metadata": {
    "id": "DfSNg0fg1jIX"
   },
   "outputs": [
    {
     "data": {
      "text/plain": [
       "Text(0.5, 1.0, 'MSE Promedio CV con 5 grupos')"
      ]
     },
     "execution_count": 35,
     "metadata": {},
     "output_type": "execute_result"
    },
    {
     "data": {
      "image/png": "[encoded data removed]",
      "text/plain": [
       "<Figure size 432x288 with 1 Axes>"
      ]
     },
     "metadata": {
      "needs_background": "light"
     },
     "output_type": "display_data"
    }
   ],
   "source": [
    "# Estamos listos:\n",
    "# Necesitamos dos loops:\n",
    "# Unos sobre los modelos: digamos orden 0-9\n",
    "omax = 10\n",
    "# Otro sobre las muestras de validación\n",
    "MSECV = np.zeros((5,omax))\n",
    "# loop externo: sobre las muestras de CV\n",
    "for k in range(5):\n",
    "    # Seleccionemos la muestra: tenemos que excluir al grupo v:\n",
    "    ind_train = (ind_grp!=k+1)\n",
    "    n_train   = int(ind_train.sum())\n",
    "    ind_valid = (ind_grp==k+1)\n",
    "    n_valid   = int(ind_valid.sum())\n",
    "    # muestra de entrenamiento:\n",
    "    y_train   = y[ind_train].reshape((n_train,1))\n",
    "    x_train   = x[ind_train].reshape((n_train,1))\n",
    "    # muestra de validación:\n",
    "    y_valid   = y[ind_valid].reshape((n_valid,1))\n",
    "    x_valid   = x[ind_valid].reshape((n_valid,1))\n",
    "    # loop interno: sobre los modelos:\n",
    "    for m in np.arange(omax):\n",
    "        # adentro necesitamos un loop para crear la matriz de regresores:\n",
    "        newx       = np.ones((n_train,1))\n",
    "        newx_valid = np.ones((n_valid,1))\n",
    "        # esto es todo en la primera iteración\n",
    "        # en las otras tenemos que concatenar los polinomios\n",
    "        if m>0:\n",
    "            for v in np.arange(1,m+1):\n",
    "                newx       = np.concatenate((newx, np.power(x_train,v)), axis=1)\n",
    "                newx_valid = np.concatenate((newx_valid, np.power(x_valid,v)), axis=1)\n",
    "        # estamos listos para estimar el modelo \n",
    "        betahat, mse, ssr, yhat = olsfun(y_train,newx)\n",
    "        # Ya estimamos, ahora necesitamos el MSE pero en la muestra de validación\n",
    "        yest_valid = np.dot(newx_valid,betahat)\n",
    "        # Listos para guardar:\n",
    "        diff  = y_valid - yest_valid\n",
    "        MSECV[k,m] = np.dot(diff.T,diff)/n_valid\n",
    "        \n",
    "# Grafiquemos los resultados\n",
    "mean_mse = pd.DataFrame(MSECV).mean().values\n",
    "plt.plot(np.arange(omax),mean_mse)\n",
    "plt.plot([2,2],[8,24],ls='--')\n",
    "plt.xlabel('Orden del polinomio')\n",
    "plt.ylabel('MSE Promedio')\n",
    "plt.title('MSE Promedio CV con 5 grupos')\n"
   ]
  },
  {
   "cell_type": "markdown",
   "metadata": {
    "id": "HmWlkpp-Usk3"
   },
   "source": [
    "\n",
    "\n",
    "Este método asegura que todos los datos del dataset han sido utilizados para test en algún momento. \n",
    "\n",
    "Vamos a probar este método en el dataset de [Iris](https://en.wikipedia.org/wiki/Iris_flower_data_set), utilizando KNN."
   ]
  },
  {
   "cell_type": "code",
   "execution_count": 36,
   "metadata": {
    "id": "hM9cCpOpUsk3"
   },
   "outputs": [],
   "source": [
    "from sklearn.datasets import load_iris\n",
    "from sklearn.linear_model import LogisticRegression\n",
    "\n",
    "iris = load_iris()\n",
    "X, y = iris.data, iris.target\n",
    "\n",
    "classifier = LogisticRegression(solver='lbfgs', max_iter=1000)"
   ]
  },
  {
   "cell_type": "markdown",
   "metadata": {
    "id": "HVT0vWdSUsk4"
   },
   "source": [
    "\n",
    "\n",
    "Las etiquetas del dataset están ordenadas, así que si separamos el dataset, el primer fold sólo tendría etiquetas `y=0`, etc. hasta el último, que sólo tendría `y=2`"
   ]
  },
  {
   "cell_type": "code",
   "execution_count": 37,
   "metadata": {
    "id": "AtC_Pn-fUsk4"
   },
   "outputs": [
    {
     "data": {
      "text/plain": [
       "array([0, 0, 0, 0, 0, 0, 0, 0, 0, 0, 0, 0, 0, 0, 0, 0, 0, 0, 0, 0, 0, 0,\n",
       "       0, 0, 0, 0, 0, 0, 0, 0, 0, 0, 0, 0, 0, 0, 0, 0, 0, 0, 0, 0, 0, 0,\n",
       "       0, 0, 0, 0, 0, 0, 1, 1, 1, 1, 1, 1, 1, 1, 1, 1, 1, 1, 1, 1, 1, 1,\n",
       "       1, 1, 1, 1, 1, 1, 1, 1, 1, 1, 1, 1, 1, 1, 1, 1, 1, 1, 1, 1, 1, 1,\n",
       "       1, 1, 1, 1, 1, 1, 1, 1, 1, 1, 1, 1, 2, 2, 2, 2, 2, 2, 2, 2, 2, 2,\n",
       "       2, 2, 2, 2, 2, 2, 2, 2, 2, 2, 2, 2, 2, 2, 2, 2, 2, 2, 2, 2, 2, 2,\n",
       "       2, 2, 2, 2, 2, 2, 2, 2, 2, 2, 2, 2, 2, 2, 2, 2, 2, 2])"
      ]
     },
     "execution_count": 37,
     "metadata": {},
     "output_type": "execute_result"
    }
   ],
   "source": [
    "y"
   ]
  },
  {
   "cell_type": "markdown",
   "metadata": {
    "id": "iLItVkosUsk4"
   },
   "source": [
    "\n",
    "\n",
    "Para evitar este problema, primero hay que reordenar nuestros datos de manera aleatoria."
   ]
  },
  {
   "cell_type": "code",
   "execution_count": 38,
   "metadata": {
    "id": "jc9URoMqUsk4"
   },
   "outputs": [
    {
     "name": "stdout",
     "output_type": "stream",
     "text": [
      "[2 1 0 2 0 2 0 1 1 1 2 1 1 1 1 0 1 1 0 0 2 1 0 0 2 0 0 1 1 0 2 1 0 2 2 1 0\n",
      " 1 1 1 2 0 2 0 0 1 2 2 2 2 1 2 1 1 2 2 2 2 1 2 1 0 2 1 1 1 1 2 0 0 2 1 0 0\n",
      " 1 0 2 1 0 1 2 1 0 2 2 2 2 0 0 2 2 0 2 0 2 2 0 0 2 0 0 0 1 2 2 0 0 0 1 1 0\n",
      " 0 1 0 2 1 2 1 0 2 0 2 0 0 2 0 2 1 1 1 2 2 1 1 0 1 2 2 0 1 1 1 1 0 0 0 2 1\n",
      " 2 0]\n"
     ]
    }
   ],
   "source": [
    "import numpy as np\n",
    "rng = np.random.RandomState(0)\n",
    "\n",
    "permutation = rng.permutation(len(X))\n",
    "X, y = X[permutation], y[permutation]\n",
    "print(y)"
   ]
  },
  {
   "cell_type": "markdown",
   "metadata": {
    "id": "FoZbd-fyUsk4"
   },
   "source": [
    "\n",
    "\n",
    "Ahora, implementar *cross-validation* es muy fácil:"
   ]
  },
  {
   "cell_type": "code",
   "execution_count": 39,
   "metadata": {
    "id": "izf4SJnJUsk5"
   },
   "outputs": [],
   "source": [
    "k = 5\n",
    "n_samples = len(X)\n",
    "fold_size = n_samples // k\n",
    "scores = []\n",
    "masks = []\n",
    "for fold in range(k):\n",
    "    # generate a boolean mask for the test set in this fold\n",
    "    test_mask = np.zeros(n_samples, dtype=bool)\n",
    "    test_mask[fold * fold_size : (fold + 1) * fold_size] = True\n",
    "    # store the mask for visualization\n",
    "    masks.append(test_mask)\n",
    "    # create training and test sets using this mask\n",
    "    X_test, y_test = X[test_mask], y[test_mask]\n",
    "    X_train, y_train = X[~test_mask], y[~test_mask]\n",
    "    # fit the classifier\n",
    "    classifier.fit(X_train, y_train)\n",
    "    # compute the score and record it\n",
    "    scores.append(classifier.score(X_test, y_test))"
   ]
  },
  {
   "cell_type": "markdown",
   "metadata": {
    "id": "5gOQV8-rUsk5"
   },
   "source": [
    "\n",
    "\n",
    "Vamos a ver como quedan los folds:"
   ]
  },
  {
   "cell_type": "code",
   "execution_count": 40,
   "metadata": {
    "id": "igm23jYqUsk5"
   },
   "outputs": [
    {
     "data": {
      "text/plain": [
       "<matplotlib.image.AxesImage at 0x7ff4fc45cfa0>"
      ]
     },
     "execution_count": 40,
     "metadata": {},
     "output_type": "execute_result"
    },
    {
     "data": {
      "image/png": "[encoded data removed]",
      "text/plain": [
       "<Figure size 1152x144 with 1 Axes>"
      ]
     },
     "metadata": {
      "needs_background": "light"
     },
     "output_type": "display_data"
    }
   ],
   "source": [
    "import matplotlib.pyplot as plt\n",
    "%matplotlib inline\n",
    "plt.matshow(masks, cmap='gray_r')"
   ]
  },
  {
   "cell_type": "markdown",
   "metadata": {
    "id": "7z3rIs3BUsk5"
   },
   "source": [
    "\n",
    "\n",
    "Y ahora vamos a ver como quedan los scores:"
   ]
  },
  {
   "cell_type": "code",
   "execution_count": 41,
   "metadata": {
    "id": "fb9FDeDeUsk6"
   },
   "outputs": [
    {
     "name": "stdout",
     "output_type": "stream",
     "text": [
      "All scores: [1.0, 0.8333333333333334, 1.0, 1.0, 0.9333333333333333]\n",
      "Mean score: 0.9533333333333334\n"
     ]
    }
   ],
   "source": [
    "print('All scores:', scores)\n",
    "print('Mean score:', np.mean(scores))"
   ]
  },
  {
   "cell_type": "markdown",
   "metadata": {
    "id": "G2kU3XS6Usk6"
   },
   "source": [
    "\n",
    "\n",
    "Como vemos hay un 14% de variación en los scores (del 86% al 100%), si hubiéramos utilizado un sólo split, no hubiéramos podido reflejar estas diferencias. Así, la media de los scores es una métrica mucho más robusta que una evaluación contra un sólo conjunto de datos."
   ]
  },
  {
   "cell_type": "markdown",
   "metadata": {
    "id": "7meNSFlMUsk6"
   },
   "source": [
    "\n",
    "\n",
    "Como imaginaremos, *scikit-learn* ya provee métodos para realizar cross-validaciones rápidamente y sin tener que escribir mucho código. Para ello disponemos del módulo **``sklearn.model_selection``** que provee de muchas funciones de utilidad para *cross-validation*. La función más sencilla es **``cross_val_score``** cuyos parámetros de entrada son un estimador y un dataset y cuya salida son los splits ya realizados:"
   ]
  },
  {
   "cell_type": "code",
   "execution_count": 42,
   "metadata": {
    "id": "jFVic9RhUsk6"
   },
   "outputs": [
    {
     "name": "stdout",
     "output_type": "stream",
     "text": [
      "All scores: [1.         0.86666667 1.         1.         0.93333333]\n",
      "Mean score: 0.96\n"
     ]
    }
   ],
   "source": [
    "from sklearn.model_selection import cross_val_score\n",
    "scores = cross_val_score(classifier, X, y)\n",
    "print('All scores:', scores)\n",
    "print('Mean score:', np.mean(scores))"
   ]
  },
  {
   "cell_type": "markdown",
   "metadata": {
    "id": "RRTqm9B7Usk6"
   },
   "source": [
    "\n",
    "\n",
    "Por defecto **`cross_val_score`** hace 3 folds (`K=3`). Podemos cambiar el número de folds modificando el parámetro `cv`:"
   ]
  },
  {
   "cell_type": "code",
   "execution_count": 43,
   "metadata": {
    "id": "j1reKJs8Usk6"
   },
   "outputs": [
    {
     "data": {
      "text/plain": [
       "array([1.        , 0.86666667, 1.        , 1.        , 0.93333333])"
      ]
     },
     "execution_count": 43,
     "metadata": {},
     "output_type": "execute_result"
    }
   ],
   "source": [
    "cross_val_score(classifier, X, y, cv=5)"
   ]
  },
  {
   "cell_type": "markdown",
   "metadata": {
    "id": "8CypQ_FBUsk7"
   },
   "source": [
    "\n",
    "\n",
    "Existen también otros objetos en el módulo que nos generan las separaciones para todo tipo de métodos de cross-validación, incluyendo el k-fold:"
   ]
  },
  {
   "cell_type": "code",
   "execution_count": 44,
   "metadata": {
    "id": "NxC5BJErUsk7"
   },
   "outputs": [],
   "source": [
    "from sklearn.model_selection import KFold, StratifiedKFold, ShuffleSplit"
   ]
  },
  {
   "cell_type": "markdown",
   "metadata": {
    "id": "Aar5cRiMUsk7"
   },
   "source": [
    "\n",
    "\n",
    "Por defecto **`cross_val_score`** utiliza el objeto **`StratifiedKFold`** para clasificación, lo que asegura que las proporciones de las etiquetas se reflejas en cada fold. Es decir, si tenemos unas clases con 90% de 0s y un 10% de 1s, el **`StratifiedKFold`** asignará un 90% de 0s y un 10% de 1s en cada fold.\n",
    "\n",
    "Además, este objeto permite que no tengamos que barajar los datos del dataset de Iris."
   ]
  },
  {
   "cell_type": "markdown",
   "metadata": {
    "id": "hAutPgWcUsk7"
   },
   "source": [
    "Por default, cross_val_score usa el método StrategiedKFold que se asegura que las proporciones de la clase se mantenan. Si tienes una clasificación binaria con 90% perteneciente a clase 0, entonces en cada fold esto se mantendrá. \n",
    "\n",
    "Vamos a verlo en un ejemplo. Note que cada clase de cross-validation es un generador de conjuntos de índices para train y test."
   ]
  },
  {
   "cell_type": "code",
   "execution_count": 45,
   "metadata": {
    "id": "kbc_-LXnUsk7"
   },
   "outputs": [
    {
     "name": "stdout",
     "output_type": "stream",
     "text": [
      "[  0   1   2   3   4   5   6   7   8   9  50  51  52  53  54  55  56  57\n",
      "  58  59 100 101 102 103 104 105 106 107 108 109]\n",
      "[ 10  11  12  13  14  15  16  17  18  19  60  61  62  63  64  65  66  67\n",
      "  68  69 110 111 112 113 114 115 116 117 118 119]\n",
      "[ 20  21  22  23  24  25  26  27  28  29  70  71  72  73  74  75  76  77\n",
      "  78  79 120 121 122 123 124 125 126 127 128 129]\n",
      "[ 30  31  32  33  34  35  36  37  38  39  80  81  82  83  84  85  86  87\n",
      "  88  89 130 131 132 133 134 135 136 137 138 139]\n",
      "[ 40  41  42  43  44  45  46  47  48  49  90  91  92  93  94  95  96  97\n",
      "  98  99 140 141 142 143 144 145 146 147 148 149]\n"
     ]
    }
   ],
   "source": [
    "cv = StratifiedKFold(n_splits=5)\n",
    "for train, test in cv.split(iris.data, iris.target):\n",
    "    print(test)"
   ]
  },
  {
   "cell_type": "markdown",
   "metadata": {
    "id": "Z9PFcuhuUsk7"
   },
   "source": [
    "\n",
    "\n",
    "Notad que en cada fold hay unos pocos ejemplos del principio del dataset, unos cuantos de instancias de la mitad del dataset y otro grupo del final. \n",
    "\n",
    "Vamos a visualizar los splits:"
   ]
  },
  {
   "cell_type": "code",
   "execution_count": 46,
   "metadata": {
    "id": "yb3wJeTPUsk8"
   },
   "outputs": [],
   "source": [
    "def plot_cv(cv, features, labels):\n",
    "    masks = []\n",
    "    for train, test in cv.split(features, labels):\n",
    "        mask = np.zeros(len(labels), dtype=bool)\n",
    "        mask[test] = 1\n",
    "        masks.append(mask)\n",
    "    \n",
    "    plt.matshow(masks, cmap='gray_r')"
   ]
  },
  {
   "cell_type": "code",
   "execution_count": 47,
   "metadata": {
    "id": "Yvp_IUuiUsk8"
   },
   "outputs": [
    {
     "data": {
      "image/png": "[encoded data removed]",
      "text/plain": [
       "<Figure size 1152x144 with 1 Axes>"
      ]
     },
     "metadata": {
      "needs_background": "light"
     },
     "output_type": "display_data"
    }
   ],
   "source": [
    "plot_cv(StratifiedKFold(n_splits=5), iris.data, iris.target)"
   ]
  },
  {
   "cell_type": "markdown",
   "metadata": {
    "id": "Qo3fyryJUsk8"
   },
   "source": [
    "\n",
    "\n",
    "Para comparar, vamos a ver como separa los folds el K-fold estándar:"
   ]
  },
  {
   "cell_type": "code",
   "execution_count": 48,
   "metadata": {
    "id": "Ni8jaJPiUsk8"
   },
   "outputs": [
    {
     "data": {
      "image/png": "[encoded data removed]",
      "text/plain": [
       "<Figure size 1152x144 with 1 Axes>"
      ]
     },
     "metadata": {
      "needs_background": "light"
     },
     "output_type": "display_data"
    }
   ],
   "source": [
    "plot_cv(KFold(n_splits=5), iris.data, iris.target)"
   ]
  },
  {
   "cell_type": "markdown",
   "metadata": {
    "id": "C0p4rp76Usk8"
   },
   "source": [
    "\n",
    "\n",
    "Tened en cuenta que a mayor número de folds, tendremos un conjunto de entrenamiento más grande, pero también tendremos más repeticiones y, por tanto, una evaluación más lenta."
   ]
  },
  {
   "cell_type": "code",
   "execution_count": 49,
   "metadata": {
    "id": "I5-eRqxJUsk9"
   },
   "outputs": [
    {
     "data": {
      "image/png": "[encoded data removed]",
      "text/plain": [
       "<Figure size 1152x144 with 1 Axes>"
      ]
     },
     "metadata": {
      "needs_background": "light"
     },
     "output_type": "display_data"
    }
   ],
   "source": [
    "plot_cv(KFold(n_splits=10), iris.data, iris.target)"
   ]
  },
  {
   "cell_type": "markdown",
   "metadata": {
    "id": "Ar9QwhacUsk9"
   },
   "source": [
    "\n",
    "\n",
    "Otro generador de cross-validaciones es el objeto ``ShuffleSplit``. Este generador separa el dataset en pequeñas porciones aleatorias permitiendo que el usuario pueda definir el número de repeticiones y el tamaño del test set independientemente:"
   ]
  },
  {
   "cell_type": "code",
   "execution_count": 50,
   "metadata": {
    "id": "gL9E1USAUsk9"
   },
   "outputs": [
    {
     "data": {
      "image/png": "[encoded data removed]",
      "text/plain": [
       "<Figure size 1152x144 with 1 Axes>"
      ]
     },
     "metadata": {
      "needs_background": "light"
     },
     "output_type": "display_data"
    }
   ],
   "source": [
    "plot_cv(ShuffleSplit(n_splits=5, test_size=.2), iris.data, iris.target)"
   ]
  },
  {
   "cell_type": "markdown",
   "metadata": {
    "id": "DNEnQ68XUsk9"
   },
   "source": [
    "\n",
    "\n",
    "Para una estimación más robusta, simplemente se aumenta el número de splits:"
   ]
  },
  {
   "cell_type": "code",
   "execution_count": 51,
   "metadata": {
    "id": "RJ5DVGHpUsk9"
   },
   "outputs": [
    {
     "data": {
      "image/png": "[encoded data removed]",
      "text/plain": [
       "<Figure size 1152x153.6 with 1 Axes>"
      ]
     },
     "metadata": {
      "needs_background": "light"
     },
     "output_type": "display_data"
    }
   ],
   "source": [
    "plot_cv(ShuffleSplit(n_splits=20, test_size=.2), iris.data, iris.target)"
   ]
  },
  {
   "cell_type": "markdown",
   "metadata": {
    "id": "VGPvnpjcUsk9"
   },
   "source": [
    "\n",
    "\n",
    "Finalmente, podemos utilizar cualquiera de estos generadores de cross-validación con el método **`cross_val_score`**:"
   ]
  },
  {
   "cell_type": "code",
   "execution_count": 52,
   "metadata": {
    "id": "GfuMDFmaUsk-"
   },
   "outputs": [
    {
     "data": {
      "text/plain": [
       "array([0.93333333, 0.96666667, 0.96666667, 1.        , 0.96666667])"
      ]
     },
     "execution_count": 52,
     "metadata": {},
     "output_type": "execute_result"
    }
   ],
   "source": [
    "cv = ShuffleSplit(n_splits=5, test_size=.2)\n",
    "cross_val_score(classifier, X, y, cv=cv)"
   ]
  },
  {
   "cell_type": "code",
   "execution_count": null,
   "metadata": {
    "id": "HjmgF7njLjcV"
   },
   "outputs": [],
   "source": []
  },
  {
   "cell_type": "markdown",
   "metadata": {
    "id": "jMDuVflLOwXo"
   },
   "source": [
    "\n",
    "\n",
    "# Regularización\n",
    "\n",
    "En este notebook vamos a estudiar como la regularización puede ayudarnos a reducir los efectos del bias y la varianza. En concreto veremos como utilizar regularización en modelos de regresión.\n"
   ]
  },
  {
   "cell_type": "markdown",
   "metadata": {
    "id": "r4az-6YuOwXo"
   },
   "source": [
    "\n",
    "\n",
    "## Recordando regresión\n"
   ]
  },
  {
   "cell_type": "markdown",
   "metadata": {
    "id": "DNSQVU-nOwXo"
   },
   "source": [
    "\n",
    "\n",
    "Todos los modelos de regresión lineal aprenden una serie de *coeficientes* (también llamados parámetros o pesos) y un *intercept* para realizar una combinación lineal de las características del modelo a aprender. Así tenemos que:\n",
    "\n",
    "```\n",
    "y_pred = x_test[0] * coef_[0] + ... + x_test[n_features-1] * coef_[n_features-1] + intercept_\n",
    "```\n",
    "\n",
    "Existen varios modelos de regresión lineal cuya principal diferencia reside en las restricciones que le ponemos en los *coeficientes*. Recordad que estas restricciones se conocen como regularización.\n",
    "\n",
    "Vamos a generar una conjunto de datos sintético que nos permita ver el comportamiento de estos modelos."
   ]
  },
  {
   "cell_type": "code",
   "execution_count": 53,
   "metadata": {
    "id": "bKDgCyN6OwXp"
   },
   "outputs": [
    {
     "name": "stdout",
     "output_type": "stream",
     "text": [
      "(60, 30)\n",
      "(60,)\n"
     ]
    }
   ],
   "source": [
    "from sklearn.datasets import make_regression\n",
    "from sklearn.model_selection import train_test_split\n",
    "\n",
    "X, y, true_coefficient = make_regression(n_samples=200, n_features=30,\n",
    "                                         n_informative=10, noise=100,\n",
    "                                         coef=True, random_state=5)\n",
    "X_train, X_test, y_train, y_test = train_test_split(X, y, random_state=5, train_size=60)\n",
    "\n",
    "print(X_train.shape)\n",
    "print(y_train.shape)"
   ]
  },
  {
   "cell_type": "markdown",
   "metadata": {
    "id": "1XGzA0SKOwXp"
   },
   "source": [
    "\n",
    "\n",
    "## Linear Regression\n",
    "\n",
    "El modelo lineal más famoso es la regresión OLS (Ordinary Least Squares), llamada *regresión lineal*. Este tipo de regresión no impone ninguna restricción a los coeficientes. Esto significa que cuando tenemos un gran número de caracterísiticas, el modelo tienda a sobreajustar.\n",
    "\n",
    "$$ \\text{min}_{w, b} \\sum_i || w^\\mathsf{T}x_i + b  - y_i||^2 $$"
   ]
  },
  {
   "cell_type": "code",
   "execution_count": 54,
   "metadata": {
    "id": "OQxShS7rOwXp"
   },
   "outputs": [],
   "source": [
    "from sklearn.linear_model import LinearRegression\n",
    "linear_regression = LinearRegression().fit(X_train, y_train)"
   ]
  },
  {
   "cell_type": "code",
   "execution_count": 55,
   "metadata": {
    "id": "7nFy9l15OwXp"
   },
   "outputs": [
    {
     "name": "stdout",
     "output_type": "stream",
     "text": [
      "R^2 on training set: 0.878011\n",
      "R^2 on test set: 0.216332\n"
     ]
    }
   ],
   "source": [
    "print(\"R^2 on training set: %f\" % linear_regression.score(X_train, y_train))\n",
    "print(\"R^2 on test set: %f\" % linear_regression.score(X_test, y_test))"
   ]
  },
  {
   "cell_type": "markdown",
   "metadata": {
    "id": "2cY-ZF8JOwXq"
   },
   "source": [
    "\n",
    "\n",
    "Como vemos el $R^2$ en el conjunto de entrenamiento es muy alto, pero muy bajo en el conjunto de test. Esto suele ser un indicativo de que nuestro modelo está sobreajustando."
   ]
  },
  {
   "cell_type": "markdown",
   "metadata": {
    "id": "6S5LYQLCOwXq"
   },
   "source": [
    "\n",
    "\n",
    "Vamos a aprovecharnos que nuestros datos son sinténticos para evaluar como se comporta el modelo real sobre los datos:"
   ]
  },
  {
   "cell_type": "code",
   "execution_count": 56,
   "metadata": {
    "id": "dVfKS6cVOwXq"
   },
   "outputs": [
    {
     "name": "stdout",
     "output_type": "stream",
     "text": [
      "0.5985284495875146\n"
     ]
    }
   ],
   "source": [
    "from sklearn.metrics import r2_score\n",
    "print(r2_score(np.dot(X, true_coefficient), y))"
   ]
  },
  {
   "cell_type": "markdown",
   "metadata": {
    "id": "ESgOBJcfOwXq"
   },
   "source": [
    "\n",
    "\n",
    "Por lo que podemos decir que un $R^2 \\approx 0.6$ es un resultado ideal para nuestro conjunto de datos. "
   ]
  },
  {
   "cell_type": "markdown",
   "metadata": {
    "id": "lgVuHe7YOwXq"
   },
   "source": [
    "\n",
    "\n",
    "También vamos a aprovechar que tenemos conjuntos de datos sinténticos para comparar los coeficientes del aprendidos por el modelo con los coeficientes reales de nuestros datos sinténticos:"
   ]
  },
  {
   "cell_type": "code",
   "execution_count": 57,
   "metadata": {
    "id": "N8CM-7yEOwXr"
   },
   "outputs": [
    {
     "data": {
      "text/plain": [
       "<matplotlib.legend.Legend at 0x7ff4fc02a6a0>"
      ]
     },
     "execution_count": 57,
     "metadata": {},
     "output_type": "execute_result"
    },
    {
     "data": {
      "image/png": "[encoded data removed]",
      "text/plain": [
       "<Figure size 720x360 with 1 Axes>"
      ]
     },
     "metadata": {
      "needs_background": "light"
     },
     "output_type": "display_data"
    }
   ],
   "source": [
    "plt.figure(figsize=(10, 5))\n",
    "coefficient_sorting = np.argsort(true_coefficient)[::-1]\n",
    "plt.plot(true_coefficient[coefficient_sorting], \"o\", label=\"true\")\n",
    "plt.plot(linear_regression.coef_[coefficient_sorting], \"o\", label=\"linear regression\")\n",
    "\n",
    "plt.legend()"
   ]
  },
  {
   "cell_type": "markdown",
   "metadata": {
    "id": "dViWTyQCOwXr"
   },
   "source": [
    "\n",
    "\n",
    "Un método muy útil para conocer si nuestro modelo sufre de *underfitting* o de *overfitting* es calcular las curvas de aprendizaje. Éstas muestran el score del modelo en los conjuntos de training y de test para un número determinado de muestras de entrenamiento."
   ]
  },
  {
   "cell_type": "code",
   "execution_count": 58,
   "metadata": {
    "id": "EHIc1gAtOwXr"
   },
   "outputs": [
    {
     "data": {
      "image/png": "[encoded data removed]",
      "text/plain": [
       "<Figure size 864x576 with 1 Axes>"
      ]
     },
     "metadata": {
      "needs_background": "light"
     },
     "output_type": "display_data"
    }
   ],
   "source": [
    "from sklearn.model_selection import learning_curve\n",
    "\n",
    "def plot_learning_curve(est, X, y):\n",
    "    training_set_size, train_scores, test_scores = learning_curve(est, X, y, train_sizes=np.linspace(.1, 1, 20))\n",
    "    estimator_name = est.__class__.__name__\n",
    "    line = plt.plot(training_set_size, train_scores.mean(axis=1), '--', label=\"training scores \" + estimator_name)\n",
    "    plt.plot(training_set_size, test_scores.mean(axis=1), '-', label=\"test scores \" + estimator_name, c=line[0].get_color())\n",
    "    plt.xlabel('Training set size')\n",
    "    plt.ylabel('R² Score')\n",
    "    plt.legend(loc='best')\n",
    "    plt.ylim(-0.1, 1.1)\n",
    "\n",
    "plt.figure(figsize=(12,8))    \n",
    "plot_learning_curve(LinearRegression(), X, y)"
   ]
  },
  {
   "cell_type": "markdown",
   "metadata": {
    "id": "Uhq-hNA4OwXr"
   },
   "source": [
    "\n",
    "\n",
    "## Ridge Regression (L2 penalty)\n",
    "\n",
    "La **Regresión de Ridge** es un método de regularización que impone una restricción a los pesos del modelo de regresión simple. La regresión que impone la Regresión de Ridge se basa en la norma $L2$. Este tipo de regularización tiene la ventaja de no ser mucho más pesada computacionalmente que una regresión por OLS.\n",
    "\n",
    "$$ \\text{min}_{w,b}  \\sum_i || B^\\mathsf{T}x_i  - y_i||^2  + \\alpha ||B||_2^2$$ "
   ]
  },
  {
   "cell_type": "markdown",
   "metadata": {
    "id": "P8Dm42IbOwXs"
   },
   "source": [
    "\n",
    "\n",
    "Como vemos, la Regresión de Ridge, es muy parecida a la Regresión Lineal. La única diferencia entre ambas es que Ridge añade la norma L2 a la función de minimización.\n",
    "\n",
    "El parámetro libre $\\alpha$ regula la cantidad de regularización que queemos aplicar al modelo. Vamos a probar varios valores de $\\alpha$ para evaluar como afecta al performance del modelo:"
   ]
  },
  {
   "cell_type": "code",
   "execution_count": 60,
   "metadata": {
    "id": "dHzg4zKNOwXs"
   },
   "outputs": [
    {
     "data": {
      "text/plain": [
       "<matplotlib.legend.Legend at 0x7ff4fc1df8e0>"
      ]
     },
     "execution_count": 60,
     "metadata": {},
     "output_type": "execute_result"
    },
    {
     "data": {
      "image/png": "[encoded data removed]",
      "text/plain": [
       "<Figure size 576x432 with 1 Axes>"
      ]
     },
     "metadata": {
      "needs_background": "light"
     },
     "output_type": "display_data"
    }
   ],
   "source": [
    "from sklearn.linear_model import Ridge\n",
    "ridge_models = {}\n",
    "training_scores = []\n",
    "test_scores = []\n",
    "alphas = [100, 30, 10, 5, 1, 0.1, .01, 0.001]\n",
    "for alpha in alphas:\n",
    "    ridge = Ridge(alpha=alpha).fit(X_train, y_train)\n",
    "    training_scores.append(ridge.score(X_train, y_train))\n",
    "    test_scores.append(ridge.score(X_test, y_test))\n",
    "    ridge_models[alpha] = ridge\n",
    "\n",
    "plt.figure(figsize=(8,6))\n",
    "plt.plot(training_scores, label=\"training scores\")\n",
    "plt.plot(test_scores, label=\"test scores\")\n",
    "plt.xticks(range(len(alphas)), alphas)\n",
    "plt.legend(loc=\"best\")"
   ]
  },
  {
   "cell_type": "markdown",
   "metadata": {
    "id": "suhE689AOwXs"
   },
   "source": [
    "\n",
    "\n",
    "Tenemos el máximo score en el conjunto de test para $\\alpha = 10$.\n",
    "\n",
    "\n",
    "**EJERCICIO**:\n",
    "\n",
    "- Qué le ocurre al modelo para valores de $\\alpha$ menores a 10?\n",
    "- Qué le ocurre al modelo par avalores de $\\alpha$ mayores a 10?"
   ]
  },
  {
   "cell_type": "markdown",
   "metadata": {
    "id": "ClEnQGa9OwXt"
   },
   "source": [
    "\n",
    "\n",
    "Vamos a ver lo ocurre con los coeficientes:"
   ]
  },
  {
   "cell_type": "code",
   "execution_count": 62,
   "metadata": {
    "id": "SsR4H8mIOwXt"
   },
   "outputs": [
    {
     "data": {
      "text/plain": [
       "<matplotlib.legend.Legend at 0x7ff4fc608850>"
      ]
     },
     "execution_count": 62,
     "metadata": {},
     "output_type": "execute_result"
    },
    {
     "data": {
      "image/png": "[encoded data removed]",
      "text/plain": [
       "<Figure size 720x360 with 1 Axes>"
      ]
     },
     "metadata": {
      "needs_background": "light"
     },
     "output_type": "display_data"
    }
   ],
   "source": [
    "plt.figure(figsize=(10, 5))\n",
    "plt.plot(true_coefficient[coefficient_sorting], \"s\", label=\"true\", c='navy')\n",
    "\n",
    "for i, alpha in enumerate([100, 10, 1, .01]):\n",
    "    plt.plot(ridge_models[alpha].coef_[coefficient_sorting], \"o\", label=\"alpha = %.2f\" % alpha, alpha=0.8, c=plt.cm.summer(i / 3.))\n",
    "    \n",
    "plt.legend(loc=\"best\")"
   ]
  },
  {
   "cell_type": "markdown",
   "metadata": {
    "id": "O5uSXpGAOwXt"
   },
   "source": [
    "\n",
    "\n",
    "- Valores altos de $\\alpha$ producen que el modelo tienda a ajustar los pesos a 0.\n",
    "  - Es decir, aumentan el bias del modelo.\n",
    "- Valores bajos de $\\alpha$ producen que el modelo se comporte como una regresión lineal sin regularización."
   ]
  },
  {
   "cell_type": "markdown",
   "metadata": {
    "id": "0ClYXUAKOwXu"
   },
   "source": [
    "\n",
    "\n",
    "En **resumen**: es muy importante elegir el valor óptimo de $\\alpha$. "
   ]
  },
  {
   "cell_type": "markdown",
   "metadata": {
    "id": "J4XL6s_COwXu"
   },
   "source": [
    "\n",
    "\n",
    "Ahora vamos a ver las curvas de aprendizaje del modelo de Ridge vs la Regresión Lineal."
   ]
  },
  {
   "cell_type": "code",
   "execution_count": 63,
   "metadata": {
    "id": "Xp5ajRAgOwXu"
   },
   "outputs": [
    {
     "data": {
      "image/png": "[encoded data removed]",
      "text/plain": [
       "<Figure size 864x576 with 1 Axes>"
      ]
     },
     "metadata": {
      "needs_background": "light"
     },
     "output_type": "display_data"
    }
   ],
   "source": [
    "plt.figure(figsize=(12, 8))\n",
    "plot_learning_curve(LinearRegression(), X, y)\n",
    "plot_learning_curve(Ridge(alpha=10), X, y)"
   ]
  },
  {
   "cell_type": "markdown",
   "metadata": {
    "id": "ZTMN-44XOwXu"
   },
   "source": [
    "\n",
    "\n",
    "## Lasso (penalty L1)\n",
    "\n",
    "La **Regresión de Lasso** es otro tipo de regularización pero que impone una restrucción utilizando la norma $L1$. Este tipo de regularización es útil cuando creemos que muchas de los parámetros del modelo no son relevantes (como es el caso de nuestro dataset). \n",
    "\n",
    "$$ \\text{min}_{w, b} \\sum_i || B^\\mathsf{T}x_i - y_i||^2  + \\alpha ||B||_1$$ "
   ]
  },
  {
   "cell_type": "code",
   "execution_count": 64,
   "metadata": {
    "id": "_d-BZGVnOwXu"
   },
   "outputs": [
    {
     "data": {
      "text/plain": [
       "<matplotlib.legend.Legend at 0x7ff4fce31f70>"
      ]
     },
     "execution_count": 64,
     "metadata": {},
     "output_type": "execute_result"
    },
    {
     "data": {
      "image/png": "[encoded data removed]",
      "text/plain": [
       "<Figure size 576x432 with 1 Axes>"
      ]
     },
     "metadata": {
      "needs_background": "light"
     },
     "output_type": "display_data"
    }
   ],
   "source": [
    "from sklearn.linear_model import Lasso\n",
    "\n",
    "lasso_models = {}\n",
    "training_scores = []\n",
    "test_scores = []\n",
    "\n",
    "alphas = [100, 30, 10, 5, 1, 0.1, .01, 0.001]\n",
    "for alpha in alphas:\n",
    "    lasso = Lasso(alpha=alpha).fit(X_train, y_train)\n",
    "    training_scores.append(lasso.score(X_train, y_train))\n",
    "    test_scores.append(lasso.score(X_test, y_test))\n",
    "    lasso_models[alpha] = lasso\n",
    "plt.figure(figsize=(8,6))\n",
    "plt.plot(training_scores, label=\"training scores\")\n",
    "plt.plot(test_scores, label=\"test scores\")\n",
    "plt.xticks(range(len(alphas)), alphas)\n",
    "plt.legend(loc=\"best\")"
   ]
  },
  {
   "cell_type": "code",
   "execution_count": 65,
   "metadata": {
    "id": "1z6o5I91OwXu"
   },
   "outputs": [
    {
     "data": {
      "text/plain": [
       "<matplotlib.legend.Legend at 0x7ff4fcfd3370>"
      ]
     },
     "execution_count": 65,
     "metadata": {},
     "output_type": "execute_result"
    },
    {
     "data": {
      "image/png": "[encoded data removed]",
      "text/plain": [
       "<Figure size 720x360 with 1 Axes>"
      ]
     },
     "metadata": {
      "needs_background": "light"
     },
     "output_type": "display_data"
    }
   ],
   "source": [
    "plt.figure(figsize=(10, 5))\n",
    "plt.plot(true_coefficient[coefficient_sorting], \"s\", label=\"true\", c='navy')\n",
    "\n",
    "for i, alpha in enumerate([30, 10, 1, .01]):\n",
    "    plt.plot(lasso_models[alpha].coef_[coefficient_sorting], \"o\", label=\"alpha = %.2f\" % alpha, alpha=0.9, c=plt.cm.summer(i / 3.))\n",
    "    \n",
    "plt.legend(loc=\"best\")"
   ]
  },
  {
   "cell_type": "code",
   "execution_count": 66,
   "metadata": {
    "id": "qSG-Yd9lOwXv"
   },
   "outputs": [
    {
     "name": "stderr",
     "output_type": "stream",
     "text": [
      "/opt/anaconda3/lib/python3.8/site-packages/sklearn/linear_model/_coordinate_descent.py:645: ConvergenceWarning: Objective did not converge. You might want to increase the number of iterations, check the scale of the features or consider increasing regularisation. Duality gap: 7.054e+01, tolerance: 4.958e+01\n",
      "  model = cd_fast.enet_coordinate_descent(\n"
     ]
    },
    {
     "data": {
      "image/png": "[encoded data removed]",
      "text/plain": [
       "<Figure size 864x576 with 1 Axes>"
      ]
     },
     "metadata": {
      "needs_background": "light"
     },
     "output_type": "display_data"
    }
   ],
   "source": [
    "plt.figure(figsize=(12, 8))    \n",
    "plot_learning_curve(LinearRegression(), X, y)\n",
    "plot_learning_curve(Ridge(alpha=10), X, y)\n",
    "plot_learning_curve(Lasso(alpha=10), X, y)"
   ]
  },
  {
   "cell_type": "markdown",
   "metadata": {
    "id": "XPPMwNK8OwXv"
   },
   "source": [
    "\n",
    "\n",
    "**Nota**: En lugar de tener que elegir entre Ridge o Lasso, es posible utilizar la Regresión [ElasticNet](http://scikit-learn.org/stable/modules/generated/sklearn.linear_model.ElasticNet.html), que combina ambas formas de regularización a través de un parámetro de ponderación que nos permite elegir a qué tipo de regularización darle más peso. En muchos casos ElasticNet obtiene un rendimiento mayor que Ridge o Lasso.\n"
   ]
  },
  {
   "cell_type": "markdown",
   "metadata": {
    "id": "phw4wAfOOwXv"
   },
   "source": [
    "\n",
    "\n",
    "## Ejercicio\n",
    "\n",
    "Hasta ahora hemos mostrado las *learning curves* para un valor de $\\alpha = 10$ ya que habíamos visto que era el valor óptimo para nuestros datos. Ahora vamos a probar que ocurre en las learning curves si las modificamos.\n",
    "\n",
    "1. Escoje un valor de $\\alpha < 10$ y muestra las learning curves (para Lasso y Ridge). ¿Qué ocurre?\n",
    "2. Escoje un valor de $\\alpha > 10$ y muestra las learning curves (para Lasso y Ridge). ¿Qué ocurre?\n",
    "   1. ¿Como mejoraríais el resultado del modelo para Lasso?\n",
    "   2. ¿Y para Ridge?"
   ]
  },
  {
   "cell_type": "markdown",
   "metadata": {
    "id": "5ZiKBdcaOwXv"
   },
   "source": [
    "\n",
    "\n",
    "- $\\alpha$ valores pequeños: el modelo ejecuta una regresión lineal\n",
    "- $\\alpha$ valores grandes: el modelo tiende al sobreajuste \n",
    "- Mejora del modelo Lasso: reduce $\\alpha$ o incrementa la complejidad del modelo (añade valores útiles).\n",
    "- Mejora del modelo Ridge: puede ser realizada solamente como el modelo Lasso. Sin embargo, es también posible añadir más valores (el modelo tiene una tendencia creciente).\n"
   ]
  },
  {
   "cell_type": "markdown",
   "metadata": {
    "id": "TbZM_A5-HT-I"
   },
   "source": [
    "<img src=\"https://miro.medium.com/max/602/1*o6H_R3Do1zpch-3MZk_fjQ.png\">"
   ]
  }
 ],
 "metadata": {
  "colab": {
   "name": "Clase 4 Intro ML I.ipynb",
   "provenance": [],
   "toc_visible": true
  },
  "kernelspec": {
   "display_name": "Python 3",
   "language": "python",
   "name": "python3"
  },
  "language_info": {
   "codemirror_mode": {
    "name": "ipython",
    "version": 3
   },
   "file_extension": ".py",
   "mimetype": "text/x-python",
   "name": "python",
   "nbconvert_exporter": "python",
   "pygments_lexer": "ipython3",
   "version": "3.8.8"
  }
 },
 "nbformat": 4,
 "nbformat_minor": 1
}
