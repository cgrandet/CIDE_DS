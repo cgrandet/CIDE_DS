{
 "cells": [
  {
   "cell_type": "markdown",
   "metadata": {
    "slideshow": {
     "slide_type": "slide"
    }
   },
   "source": [
    "\n",
    "\n",
    "# Clase 5. Modelos Lineales\n",
    "\n",
    "Empezaremos a ver regresión lineal  \n",
    "Este capítulo está inspirado en el capítulo 3 y 6 del libro de Introduction to Statistical Learning\n",
    " O el capítulo 3 de ESL"
   ]
  },
  {
   "cell_type": "markdown",
   "metadata": {
    "slideshow": {
     "slide_type": "slide"
    }
   },
   "source": [
    "# Mínimos Cuadrados Ordinarios (OLS)\n",
    "\n",
    "* Sean $y_{N \\times 1}$, y $X_{N\\times (p+1)}$ las variables dependiente y matriz de regresores, respectivamente, donde $X$ incluye $p$ regresores y un vector de unos.\n",
    "\n",
    "\n",
    "* El modelo lineal es \n",
    "\n",
    "$$\n",
    "\\begin{eqnarray}\n",
    "y &=& X\\beta + \\epsilon\\\\\n",
    "\\end{eqnarray}\n",
    "$$\n",
    "\n",
    "\n",
    "* El estimador de OLS es el vector $\\hat{\\beta}$ que minimiza la *suma de residuos al cuadrado* (SSR):\n",
    "\n",
    "$$\n",
    "\\min_{\\beta} SSR(\\beta) = (y-X\\beta)'(y-X\\beta)\n",
    "$$\n",
    "\n",
    "\n",
    "* La solución se encuentra fácilmente:\n",
    "$$\n",
    "\\hat{\\beta} = (X'X)^{-1}X'y\n",
    "$$\n",
    "\n",
    "y la matriz de varianzas y covarianzas es:\n",
    "\n",
    "$$\n",
    "\\Sigma_{\\beta} = \\hat{\\sigma}^2(X'X)^{-1}\n",
    "$$\n",
    "\n",
    "donde $\\hat{\\sigma}^2$ es la varianza residual estimada."
   ]
  },
  {
   "cell_type": "markdown",
   "metadata": {
    "slideshow": {
     "slide_type": "subslide"
    }
   },
   "source": [
    "# Algunas propiedades del estimador de OLS\n",
    "\n",
    "*  **Prop 1: El estimador OLS es insesgado**:\n",
    "\n",
    "$$\n",
    "E(\\hat{\\beta}) = \\beta\n",
    "$$\n",
    "\n",
    "(qué supuestos hay que hacer para probarlo?)\n",
    "\n",
    "*  **Prop 2: Teorema de Gauss-Markov**:\n",
    "> El estimador OLS es el estimador de menor varianza, dentro de la clase de estimadores lineales insesgados.\n",
    "\n",
    "*  **Prop 3: Los residuos estimados son ortogonales a la matriz de regresores:**\n",
    "\n",
    "$$\n",
    "X'e = 0\n",
    "$$\n",
    "\n"
   ]
  },
  {
   "cell_type": "markdown",
   "metadata": {
    "slideshow": {
     "slide_type": "slide"
    }
   },
   "source": [
    "# Selección de variables\n",
    "\n",
    "\n",
    "* En general no sabemos cuáles variables deben ir incluidas en un análisis, y este problema puede ser importante cuando tenemos muchos regresores $p$.\n",
    "\n",
    "\n",
    "* Hay varios métodos de selección de variables que permiten:\n",
    "\n",
    "    1. **Mejorar la predicción:** por ejemplo, porque un estimador tiene poco sesgo pero mucha varianza.\n",
    "    \n",
    "    2. **Facilitar la interpretación:** al eliminar ciertas variables podemos concentrarnos únicamente en las más importantes.\n",
    "    \n",
    " \n",
    "* Hay tres familias de métodos que se pueden utilizar:\n",
    "\n",
    "    1. Selección de subconjuntos de variables\n",
    "    \n",
    "    2. Regularización o reducción de la magnitud de los coeficientes o *shrinkage*\n",
    "    \n",
    "    3. Reducción de dimensionalidad\n",
    "\n",
    "\n"
   ]
  },
  {
   "cell_type": "markdown",
   "metadata": {
    "slideshow": {
     "slide_type": "slide"
    }
   },
   "source": [
    "# Selección de subconjuntos: *Best Subset Selection*\n",
    "\n",
    "* Si tenemos $p$ regresores, queremos estimar las $\\binom{p}{k}$ posibles combinaciones de subconjuntos de $k$ variables.\n",
    "\n",
    "\n",
    "* Es un método exhaustivo que puede ser computacionalmente ineficientes cuando $p$ es grande.\n",
    "\n",
    "\n",
    "* Veamos cómo funciona este método utilizando los datos de tarjeta de crédito que están disponibles en la página de [ISL](http://www-bcf.usc.edu/~gareth/ISL/data.html).\n",
    "\n",
    "\n",
    "* Los datos incluyen el saldo en tarjeta de crédito (balance), el ingreso (Income) y límite de crédito  (Limit), score crediticio (Rating), número de tarjetas (Cards), edad, educación, género, variable indicadora del estatus de estudiante del cliente, casado, y etnicidad, para 400 clientes.\n",
    "\n",
    "\n",
    "* Queremos estimar el efecto que tienen estos regresores sobre el saldo o balance de cada cliente."
   ]
  },
  {
   "cell_type": "code",
   "execution_count": 117,
   "metadata": {
    "slideshow": {
     "slide_type": "subslide"
    }
   },
   "outputs": [
    {
     "data": {
      "text/html": [
       "<div>\n",
       "<style scoped>\n",
       "    .dataframe tbody tr th:only-of-type {\n",
       "        vertical-align: middle;\n",
       "    }\n",
       "\n",
       "    .dataframe tbody tr th {\n",
       "        vertical-align: top;\n",
       "    }\n",
       "\n",
       "    .dataframe thead th {\n",
       "        text-align: right;\n",
       "    }\n",
       "</style>\n",
       "<table border=\"1\" class=\"dataframe\">\n",
       "  <thead>\n",
       "    <tr style=\"text-align: right;\">\n",
       "      <th></th>\n",
       "      <th>Income</th>\n",
       "      <th>Limit</th>\n",
       "      <th>Rating</th>\n",
       "      <th>Cards</th>\n",
       "      <th>Age</th>\n",
       "      <th>Education</th>\n",
       "      <th>Own</th>\n",
       "      <th>Student</th>\n",
       "      <th>Married</th>\n",
       "      <th>Region</th>\n",
       "      <th>Balance</th>\n",
       "    </tr>\n",
       "  </thead>\n",
       "  <tbody>\n",
       "    <tr>\n",
       "      <th>0</th>\n",
       "      <td>14.891</td>\n",
       "      <td>3606</td>\n",
       "      <td>283</td>\n",
       "      <td>2</td>\n",
       "      <td>34</td>\n",
       "      <td>11</td>\n",
       "      <td>No</td>\n",
       "      <td>No</td>\n",
       "      <td>Yes</td>\n",
       "      <td>South</td>\n",
       "      <td>333</td>\n",
       "    </tr>\n",
       "    <tr>\n",
       "      <th>1</th>\n",
       "      <td>106.025</td>\n",
       "      <td>6645</td>\n",
       "      <td>483</td>\n",
       "      <td>3</td>\n",
       "      <td>82</td>\n",
       "      <td>15</td>\n",
       "      <td>Yes</td>\n",
       "      <td>Yes</td>\n",
       "      <td>Yes</td>\n",
       "      <td>West</td>\n",
       "      <td>903</td>\n",
       "    </tr>\n",
       "    <tr>\n",
       "      <th>2</th>\n",
       "      <td>104.593</td>\n",
       "      <td>7075</td>\n",
       "      <td>514</td>\n",
       "      <td>4</td>\n",
       "      <td>71</td>\n",
       "      <td>11</td>\n",
       "      <td>No</td>\n",
       "      <td>No</td>\n",
       "      <td>No</td>\n",
       "      <td>West</td>\n",
       "      <td>580</td>\n",
       "    </tr>\n",
       "    <tr>\n",
       "      <th>3</th>\n",
       "      <td>148.924</td>\n",
       "      <td>9504</td>\n",
       "      <td>681</td>\n",
       "      <td>3</td>\n",
       "      <td>36</td>\n",
       "      <td>11</td>\n",
       "      <td>Yes</td>\n",
       "      <td>No</td>\n",
       "      <td>No</td>\n",
       "      <td>West</td>\n",
       "      <td>964</td>\n",
       "    </tr>\n",
       "    <tr>\n",
       "      <th>4</th>\n",
       "      <td>55.882</td>\n",
       "      <td>4897</td>\n",
       "      <td>357</td>\n",
       "      <td>2</td>\n",
       "      <td>68</td>\n",
       "      <td>16</td>\n",
       "      <td>No</td>\n",
       "      <td>No</td>\n",
       "      <td>Yes</td>\n",
       "      <td>South</td>\n",
       "      <td>331</td>\n",
       "    </tr>\n",
       "  </tbody>\n",
       "</table>\n",
       "</div>"
      ],
      "text/plain": [
       "    Income  Limit  Rating  Cards  Age  Education  Own Student Married Region  \\\n",
       "0   14.891   3606     283      2   34         11   No      No     Yes  South   \n",
       "1  106.025   6645     483      3   82         15  Yes     Yes     Yes   West   \n",
       "2  104.593   7075     514      4   71         11   No      No      No   West   \n",
       "3  148.924   9504     681      3   36         11  Yes      No      No   West   \n",
       "4   55.882   4897     357      2   68         16   No      No     Yes  South   \n",
       "\n",
       "   Balance  \n",
       "0      333  \n",
       "1      903  \n",
       "2      580  \n",
       "3      964  \n",
       "4      331  "
      ]
     },
     "execution_count": 117,
     "metadata": {},
     "output_type": "execute_result"
    }
   ],
   "source": [
    "import pandas as pd\n",
    "import numpy as np\n",
    "import matplotlib.pyplot as plt\n",
    "%matplotlib inline\n",
    "\n",
    "data = pd.read_csv('files/Credit.csv')\n",
    "data.head(5)"
   ]
  },
  {
   "cell_type": "code",
   "execution_count": 118,
   "metadata": {
    "slideshow": {
     "slide_type": "subslide"
    }
   },
   "outputs": [
    {
     "name": "stdout",
     "output_type": "stream",
     "text": [
      "['South' 'West' 'East']\n",
      "(400, 11)\n"
     ]
    },
    {
     "data": {
      "text/plain": [
       "0      354.940000\n",
       "1       45.218885\n",
       "2     4735.600000\n",
       "3        2.957500\n",
       "4       55.667500\n",
       "5       13.450000\n",
       "6        0.517500\n",
       "7        0.100000\n",
       "8        0.612500\n",
       "9        0.247500\n",
       "10       0.497500\n",
       "dtype: float64"
      ]
     },
     "execution_count": 118,
     "metadata": {},
     "output_type": "execute_result"
    }
   ],
   "source": [
    "# primero organicemos los datos: las variables cuantitativas están bien.  Las cualitativas toca transformarlas\n",
    "N = data.shape[0]\n",
    "dum_own     = np.asarray(data.Own == 'Yes').reshape((N,1))\n",
    "dum_estudiante = np.asarray(data.Student == 'Yes').reshape((N,1))\n",
    "dum_casado     = np.asarray(data.Married == 'Yes').reshape((N,1))\n",
    "# Para etnicidad debemos excluir una variable que sirva como referencia:\n",
    "# tenemos tres categorías: vamos a excluir la tercera: \"African American\"\n",
    "print(data.Region.unique())\n",
    "dum_region = np.asarray(pd.get_dummies(data.Region).iloc[:,:-1])\n",
    "# etiquetas de X\n",
    "labs_x = np.array(['Rating','Income','Limit','Cards','Age','Education',\n",
    "              'Own','Estudiante','Casado','South','West'])\n",
    "# incluyamos todas las variables:\n",
    "prexmat = np.concatenate((\n",
    "                        np.asarray(data.Rating).reshape((N,1)),\n",
    "                        np.asarray(data.Income).reshape((N,1)),\n",
    "                         np.asarray(data.Limit).reshape((N,1)),\n",
    "                         np.asarray(data.Cards).reshape((N,1)),\n",
    "                         np.asarray(data.Age).reshape((N,1)),\n",
    "                         np.asarray(data.Education).reshape((N,1)),\n",
    "                          dum_own, dum_estudiante, dum_casado, dum_region\n",
    "                         ),axis=1)\n",
    "saldo = np.asarray(data.Balance).reshape((N,1))\n",
    "print(prexmat.shape)\n",
    "# revisemos que todo quedó bien:\n",
    "pd.DataFrame(prexmat).mean()"
   ]
  },
  {
   "cell_type": "code",
   "execution_count": 119,
   "metadata": {
    "slideshow": {
     "slide_type": "subslide"
    }
   },
   "outputs": [
    {
     "name": "stdout",
     "output_type": "stream",
     "text": [
      "(2047, 6)\n"
     ]
    }
   ],
   "source": [
    "# Para las posibles combinaciones vamos a usar el módulo itertools\n",
    "from itertools import combinations\n",
    "import sys\n",
    "sys.path.append('/Users/carlos.grandet/Documents/CIDE_DS/Utils')\n",
    "import olsdan as ols\n",
    "\n",
    "# probémoslo con conjuntos de 9 elementos\n",
    "list(combinations(np.arange(10),9))\n",
    "\n",
    "# vamos a guardar los resultados en un array, pero no se cuántas filas tenemos\n",
    "res_arr = np.zeros((1,6))\n",
    "res_arr[:,:] = np.nan\n",
    "# necesito una lista con todas las combinaciones.  La voy a guardar en un DF\n",
    "initsub = np.zeros((0,9))\n",
    "initsub[:] = np.nan\n",
    "SubSets = pd.DataFrame(initsub)\n",
    "for k in range(1,12):\n",
    "    # la siguiente es la lista de todos los regresores posibles para tamaño k\n",
    "    list_subsets = list(combinations(np.arange(11),k))\n",
    "    SubSets = SubSets.append(list_subsets)\n",
    "    # tenemos que hacer un loop sobre todas estas posibilidades:\n",
    "    for s in range(len(list_subsets)):\n",
    "        # los regresores seleccionados:\n",
    "        ind_s = np.array(list_subsets[s])\n",
    "        xmat_subset = prexmat[:,ind_s]\n",
    "        # listos para estimar: pero incluyamos constante\n",
    "        olssk = ols.ols_dan(saldo, np.concatenate((np.ones((N,1)),xmat_subset),axis=1))\n",
    "        # guardemos los resultados: queremos: número de regresores, ssr\n",
    "        # Calculemos las medidas que queremos utilizar\n",
    "        Cp = (1.0/olssk.nobs)*(olssk.ssr() + 2*olssk.nvar*olssk.s2hat())\n",
    "        AIC = (1.0/(olssk.nobs*olssk.s2hat()))*(olssk.ssr() + 2*olssk.nvar*olssk.s2hat())\n",
    "        BIC = (1.0/olssk.nobs)*(olssk.ssr() + np.log(olssk.nobs)*olssk.nvar*olssk.s2hat())\n",
    "        R2bar = olssk.R2_bar()\n",
    "        prelist = np.array([k, olssk.ssr()[0][0], Cp[0,0], AIC[0,0], BIC[0,0], R2bar]).reshape((1,6))\n",
    "        # listos para anexar:\n",
    "        res_arr = np.concatenate((res_arr, prelist),axis=0)\n",
    "res_arr = pd.DataFrame(res_arr, columns=['k', 'SSR', 'Cp', 'AIC', 'BIC', 'R2bar'])\n",
    "res_arr.dropna(inplace=True)\n",
    "res_arr.set_index(np.arange(res_arr.shape[0]), inplace=True)\n",
    "print(res_arr.shape)"
   ]
  },
  {
   "cell_type": "code",
   "execution_count": 120,
   "metadata": {},
   "outputs": [
    {
     "data": {
      "text/html": [
       "<div>\n",
       "<style scoped>\n",
       "    .dataframe tbody tr th:only-of-type {\n",
       "        vertical-align: middle;\n",
       "    }\n",
       "\n",
       "    .dataframe tbody tr th {\n",
       "        vertical-align: top;\n",
       "    }\n",
       "\n",
       "    .dataframe thead th {\n",
       "        text-align: right;\n",
       "    }\n",
       "</style>\n",
       "<table border=\"1\" class=\"dataframe\">\n",
       "  <thead>\n",
       "    <tr style=\"text-align: right;\">\n",
       "      <th></th>\n",
       "      <th>k</th>\n",
       "      <th>SSR</th>\n",
       "      <th>Cp</th>\n",
       "      <th>AIC</th>\n",
       "      <th>BIC</th>\n",
       "      <th>R2bar</th>\n",
       "    </tr>\n",
       "  </thead>\n",
       "  <tbody>\n",
       "    <tr>\n",
       "      <th>0</th>\n",
       "      <td>1.0</td>\n",
       "      <td>2.143512e+07</td>\n",
       "      <td>54126.375987</td>\n",
       "      <td>1.0050</td>\n",
       "      <td>55201.219325</td>\n",
       "      <td>1.000000</td>\n",
       "    </tr>\n",
       "    <tr>\n",
       "      <th>1</th>\n",
       "      <td>1.0</td>\n",
       "      <td>6.620874e+07</td>\n",
       "      <td>167185.397571</td>\n",
       "      <td>1.0050</td>\n",
       "      <td>170505.370642</td>\n",
       "      <td>1.000000</td>\n",
       "    </tr>\n",
       "    <tr>\n",
       "      <th>2</th>\n",
       "      <td>1.0</td>\n",
       "      <td>2.171566e+07</td>\n",
       "      <td>54834.761162</td>\n",
       "      <td>1.0050</td>\n",
       "      <td>55923.671635</td>\n",
       "      <td>1.000000</td>\n",
       "    </tr>\n",
       "    <tr>\n",
       "      <th>3</th>\n",
       "      <td>1.0</td>\n",
       "      <td>8.370950e+07</td>\n",
       "      <td>211376.994602</td>\n",
       "      <td>1.0050</td>\n",
       "      <td>215574.525846</td>\n",
       "      <td>1.000235</td>\n",
       "    </tr>\n",
       "    <tr>\n",
       "      <th>4</th>\n",
       "      <td>1.0</td>\n",
       "      <td>8.433963e+07</td>\n",
       "      <td>212968.155832</td>\n",
       "      <td>1.0050</td>\n",
       "      <td>217197.284408</td>\n",
       "      <td>1.000321</td>\n",
       "    </tr>\n",
       "    <tr>\n",
       "      <th>...</th>\n",
       "      <td>...</td>\n",
       "      <td>...</td>\n",
       "      <td>...</td>\n",
       "      <td>...</td>\n",
       "      <td>...</td>\n",
       "      <td>...</td>\n",
       "    </tr>\n",
       "    <tr>\n",
       "      <th>2042</th>\n",
       "      <td>10.0</td>\n",
       "      <td>3.949432e+06</td>\n",
       "      <td>10431.984242</td>\n",
       "      <td>1.0275</td>\n",
       "      <td>11546.407229</td>\n",
       "      <td>1.000107</td>\n",
       "    </tr>\n",
       "    <tr>\n",
       "      <th>2043</th>\n",
       "      <td>10.0</td>\n",
       "      <td>4.117780e+06</td>\n",
       "      <td>10876.656400</td>\n",
       "      <td>1.0275</td>\n",
       "      <td>12038.582611</td>\n",
       "      <td>1.000106</td>\n",
       "    </tr>\n",
       "    <tr>\n",
       "      <th>2044</th>\n",
       "      <td>10.0</td>\n",
       "      <td>1.461789e+07</td>\n",
       "      <td>38611.527990</td>\n",
       "      <td>1.0275</td>\n",
       "      <td>42736.301703</td>\n",
       "      <td>1.000009</td>\n",
       "    </tr>\n",
       "    <tr>\n",
       "      <th>2045</th>\n",
       "      <td>10.0</td>\n",
       "      <td>3.839044e+06</td>\n",
       "      <td>10140.405169</td>\n",
       "      <td>1.0275</td>\n",
       "      <td>11223.679487</td>\n",
       "      <td>1.000057</td>\n",
       "    </tr>\n",
       "    <tr>\n",
       "      <th>2046</th>\n",
       "      <td>11.0</td>\n",
       "      <td>3.786730e+06</td>\n",
       "      <td>10052.402310</td>\n",
       "      <td>1.0300</td>\n",
       "      <td>11221.056896</td>\n",
       "      <td>1.000070</td>\n",
       "    </tr>\n",
       "  </tbody>\n",
       "</table>\n",
       "<p>2047 rows × 6 columns</p>\n",
       "</div>"
      ],
      "text/plain": [
       "         k           SSR             Cp     AIC            BIC     R2bar\n",
       "0      1.0  2.143512e+07   54126.375987  1.0050   55201.219325  1.000000\n",
       "1      1.0  6.620874e+07  167185.397571  1.0050  170505.370642  1.000000\n",
       "2      1.0  2.171566e+07   54834.761162  1.0050   55923.671635  1.000000\n",
       "3      1.0  8.370950e+07  211376.994602  1.0050  215574.525846  1.000235\n",
       "4      1.0  8.433963e+07  212968.155832  1.0050  217197.284408  1.000321\n",
       "...    ...           ...            ...     ...            ...       ...\n",
       "2042  10.0  3.949432e+06   10431.984242  1.0275   11546.407229  1.000107\n",
       "2043  10.0  4.117780e+06   10876.656400  1.0275   12038.582611  1.000106\n",
       "2044  10.0  1.461789e+07   38611.527990  1.0275   42736.301703  1.000009\n",
       "2045  10.0  3.839044e+06   10140.405169  1.0275   11223.679487  1.000057\n",
       "2046  11.0  3.786730e+06   10052.402310  1.0300   11221.056896  1.000070\n",
       "\n",
       "[2047 rows x 6 columns]"
      ]
     },
     "execution_count": 120,
     "metadata": {},
     "output_type": "execute_result"
    }
   ],
   "source": [
    "res_arr"
   ]
  },
  {
   "cell_type": "code",
   "execution_count": 121,
   "metadata": {
    "slideshow": {
     "slide_type": "subslide"
    }
   },
   "outputs": [
    {
     "data": {
      "text/plain": [
       "[<matplotlib.lines.Line2D at 0x7fef0f0a9520>]"
      ]
     },
     "execution_count": 121,
     "metadata": {},
     "output_type": "execute_result"
    },
    {
     "data": {
      "image/png": "[encoded data removed]",
      "text/plain": [
       "<Figure size 432x288 with 1 Axes>"
      ]
     },
     "metadata": {
      "needs_background": "light"
     },
     "output_type": "display_data"
    }
   ],
   "source": [
    "# Ya tenemos todos los modelos:\n",
    "# Hagamos un gráfico:\n",
    "plt.scatter(res_arr.k,res_arr.SSR, s=6, color='b',alpha=0.3)\n",
    "plt.ylabel('Suma de Residuos al Cuadrado')\n",
    "plt.xlabel(u'Número de Regresores')\n",
    "# Encontremos la frontera: como en el libro:\n",
    "front_ssr = res_arr.SSR.groupby(res_arr.k).min()\n",
    "plt.plot(front_ssr.index, front_ssr.values, color='r')                          "
   ]
  },
  {
   "cell_type": "code",
   "execution_count": 122,
   "metadata": {},
   "outputs": [
    {
     "data": {
      "text/plain": [
       "k\n",
       "1.0     2.143512e+07\n",
       "2.0     1.053254e+07\n",
       "3.0     4.227219e+06\n",
       "4.0     3.915058e+06\n",
       "5.0     3.866091e+06\n",
       "6.0     3.821620e+06\n",
       "7.0     3.810759e+06\n",
       "8.0     3.800969e+06\n",
       "9.0     3.794145e+06\n",
       "10.0    3.789709e+06\n",
       "11.0    3.786730e+06\n",
       "Name: SSR, dtype: float64"
      ]
     },
     "execution_count": 122,
     "metadata": {},
     "output_type": "execute_result"
    }
   ],
   "source": [
    "front_ssr"
   ]
  },
  {
   "cell_type": "markdown",
   "metadata": {
    "slideshow": {
     "slide_type": "subslide"
    }
   },
   "source": [
    "# ¿Qué variables están incluidas en los mejores modelos?\n",
    "\n",
    "* Rating\n",
    "\n",
    "* Ingreso\n",
    "\n",
    "* Límite de Crédito\n",
    "\n",
    "* Número de tarjetas\n",
    "\n",
    "* Dummy Estudiante"
   ]
  },
  {
   "cell_type": "code",
   "execution_count": 123,
   "metadata": {},
   "outputs": [
    {
     "data": {
      "text/plain": [
       "array([21435122.03273295, 66208744.51078422, 21715656.6591137 , ...,\n",
       "       14617892.34856283,  3839043.90323933,  3786730.19067778])"
      ]
     },
     "execution_count": 123,
     "metadata": {},
     "output_type": "execute_result"
    }
   ],
   "source": [
    "res_arr.SSR.values"
   ]
  },
  {
   "cell_type": "code",
   "execution_count": 124,
   "metadata": {},
   "outputs": [
    {
     "data": {
      "text/plain": [
       "array([ True, False, False, ..., False, False,  True])"
      ]
     },
     "execution_count": 124,
     "metadata": {},
     "output_type": "execute_result"
    }
   ],
   "source": [
    "np.isin(res_arr.SSR.values,front_ssr.values)"
   ]
  },
  {
   "cell_type": "code",
   "execution_count": 125,
   "metadata": {
    "slideshow": {
     "slide_type": "subslide"
    }
   },
   "outputs": [
    {
     "name": "stdout",
     "output_type": "stream",
     "text": [
      "['Rating']\n",
      "['Rating' 'Income']\n",
      "['Rating' 'Income' 'Estudiante']\n",
      "['Income' 'Limit' 'Cards' 'Estudiante']\n",
      "['Rating' 'Income' 'Limit' 'Cards' 'Estudiante']\n",
      "['Rating' 'Income' 'Limit' 'Cards' 'Age' 'Estudiante']\n",
      "['Rating' 'Income' 'Limit' 'Cards' 'Age' 'Own' 'Estudiante']\n",
      "['Rating' 'Income' 'Limit' 'Cards' 'Age' 'Own' 'Estudiante' 'South']\n",
      "['Rating' 'Income' 'Limit' 'Cards' 'Age' 'Own' 'Estudiante' 'Casado'\n",
      " 'South']\n",
      "['Rating' 'Income' 'Limit' 'Cards' 'Age' 'Education' 'Own' 'Estudiante'\n",
      " 'Casado' 'South']\n",
      "['Rating' 'Income' 'Limit' 'Cards' 'Age' 'Education' 'Own' 'Estudiante'\n",
      " 'Casado' 'South' 'West']\n"
     ]
    }
   ],
   "source": [
    "# Teníamos unos índices equivocados.  Vamos a hacerlo de 0 a M (M es el número total de modelos o combinaciones)\n",
    "SubSets.set_index(np.arange(SubSets.shape[0]), inplace=True)\n",
    "# Get the regressors that were selected:\n",
    "ind_best = np.isin(res_arr.SSR.values,front_ssr.values)\n",
    "# teniendo los índices podemos encontrar: los 10 mejores\n",
    "ind_best = res_arr.index[ind_best]\n",
    "ind_subset = np.in1d(SubSets.index,ind_best)\n",
    "SubSets.loc[ind_best]\n",
    "for i in range(SubSets.loc[ind_best].shape[0]):\n",
    "    preind = SubSets.loc[ind_best].iloc[i,:]\n",
    "    #print preind\n",
    "    preind = np.asarray(pd.Series(preind).dropna(), dtype='int')\n",
    "    print(labs_x[preind])"
   ]
  },
  {
   "cell_type": "markdown",
   "metadata": {
    "slideshow": {
     "slide_type": "subslide"
    }
   },
   "source": [
    "# Cómo seleccionamos el mejor modelo?\n",
    "\n",
    "* Una vez tenemos la frontera, podemos utilizar cuatro opciones para seleccionar:\n",
    "\n",
    "    1. **Cross-Validation**: minimizar el SSR promedio.\n",
    "    \n",
    "    2. Minimizar el Criterio de Información de Akaike:\n",
    "    $$\n",
    "    AIC = \\frac{1}{n}(RSS + 2d \\hat{\\sigma}_2)\n",
    "    $$\n",
    "    3. Minimizar el Criterio de Información de Bayesiano:\n",
    "    $$\n",
    "    BIC = \\frac{1}{n}(RSS + \\ln(n)d \\hat{\\sigma}_2)\n",
    "    $$\n",
    "    4. Maximizar el $\\overline{R}^2$\n",
    "\n",
    "\n",
    "* La ventaja de los últimos tres criterios es que no necesitamos utilizar muestras de validación: los criterios penalizan el uso indebido de regresores adicionales.\n",
    "\n",
    "    * Esto es importante: para obtener los últimos tres criterios **no** necesitamos hacer validación cruzada: lo podemos hacer directamente en la muestra de entrenamiento."
   ]
  },
  {
   "cell_type": "markdown",
   "metadata": {
    "slideshow": {
     "slide_type": "subslide"
    }
   },
   "source": [
    "# 1. Seleccionando el mejor modelo: Cross-Validation\n",
    "\n",
    "* El proceso de validación cruzada es simple:\n",
    "\n",
    "    1. Tenemos identificados los mejores 9 modelos, i.e. los modelos sobre la frontera roja en el gráfico de arriba.\n",
    "        \n",
    "        * Cada modelo $\\mathcal{M}_k$, identifica la mejor combinación de $k$ regresores en términos de SSR.        \n",
    "        \n",
    "    2. Vamos a hacer 10-fold CV: \n",
    "        * Dividimos la muestra en 10 grupos iguales.\n",
    "        * Vamos a iterar el proceso haciendo un loop sobre $1,2,\\cdots,10$, donde en cada iteración $g$, la muestra de entrenamiento excluye al grupo $g$, que es utilizado como grupo de validación.\n",
    "        * Para cada modelo $\\mathcal{M}_k$, estimamos los coeficientes de OLS utilizando los 9 grupos de entrenamiento correspondientes.\n",
    "        * Con estos coeficientes, obtenemos el `SSR` de la muestra de validación correspondiente y lo guardamos.\n",
    "        * Así, terminamos con una matriz de tamaño $10 \\times 10$, donde las filas denotan el modelo, el grupo excluído en la muestra de entrenamiento.\n",
    "        \n",
    "* **En la tarea voy a dejar que lo programen ustedes mismos**   "
   ]
  },
  {
   "cell_type": "markdown",
   "metadata": {
    "slideshow": {
     "slide_type": "subslide"
    }
   },
   "source": [
    "![caption](figures/credit_10fcv.png)\n"
   ]
  },
  {
   "cell_type": "markdown",
   "metadata": {
    "slideshow": {
     "slide_type": "subslide"
    }
   },
   "source": [
    "# Miremos los resultados con otros dos criterios: $BIC$ y $\\bar{R}^2$\n",
    "![caption](figures/bicr2bar.png)"
   ]
  },
  {
   "cell_type": "markdown",
   "metadata": {
    "slideshow": {
     "slide_type": "slide"
    }
   },
   "source": [
    "# Forward Stepwise Selection\n",
    "\n",
    "\n",
    "* *Best Subset Selection* es intensivo en poder computacional: necesitamos estimar modelos para **todas** las combinaciones de regresores.\n",
    "\n",
    "* En el ejemplo anterior, con sólo 10 regresores tuvimos que hacer 2047 estimaciones.\n",
    "\n",
    "* Una alternativa más eficiente consiste en utilizar un método *bottom-up*:\n",
    "\n",
    "    * Empezamos con el modelo con una constante.\n",
    "    \n",
    "    * Vamos incluyendo regresores de manera iterativa.\n",
    "    \n",
    "        * El criterio es seleccionar el regresor que minimiza el SSR en esa iteración.\n",
    "    \n",
    "    * Para seleccionar el mejor modelo *global* (tenemos tantos modelos como regresores) utilizamos CV o cualquiera de los otros criterios de selección vistos anteriormente.\n",
    "    "
   ]
  },
  {
   "cell_type": "code",
   "execution_count": 126,
   "metadata": {},
   "outputs": [
    {
     "data": {
      "text/plain": [
       "array([[2.83000e+02, 1.48910e+01, 3.60600e+03, ..., 1.00000e+00,\n",
       "        0.00000e+00, 1.00000e+00],\n",
       "       [4.83000e+02, 1.06025e+02, 6.64500e+03, ..., 1.00000e+00,\n",
       "        0.00000e+00, 0.00000e+00],\n",
       "       [5.14000e+02, 1.04593e+02, 7.07500e+03, ..., 0.00000e+00,\n",
       "        0.00000e+00, 0.00000e+00],\n",
       "       ...,\n",
       "       [3.21000e+02, 5.78720e+01, 4.17100e+03, ..., 1.00000e+00,\n",
       "        0.00000e+00, 1.00000e+00],\n",
       "       [1.92000e+02, 3.77280e+01, 2.52500e+03, ..., 1.00000e+00,\n",
       "        0.00000e+00, 1.00000e+00],\n",
       "       [4.15000e+02, 1.87010e+01, 5.52400e+03, ..., 0.00000e+00,\n",
       "        0.00000e+00, 0.00000e+00]])"
      ]
     },
     "execution_count": 126,
     "metadata": {},
     "output_type": "execute_result"
    }
   ],
   "source": [
    "prexmat"
   ]
  },
  {
   "cell_type": "code",
   "execution_count": 127,
   "metadata": {
    "slideshow": {
     "slide_type": "subslide"
    }
   },
   "outputs": [],
   "source": [
    "import sys\n",
    "sys.path.append('/Users/carlos.grandet/Documents/CIDE_DS/Utils')\n",
    "import olsdan as ols\n",
    "# forward step-wise selection\n",
    "# inicialicemos la iteración con una constante\n",
    "xmat_fss = np.ones((N,1))\n",
    "# primera iteración: tenemos que seleccionar P modelos\n",
    "nvar = prexmat.shape[1]\n",
    "SSRfss = np.zeros((nvar,2))\n",
    "# una lista donde vamos a guardar los regresores:\n",
    "reg_opt = []\n",
    "for k in range(nvar):\n",
    "    # para cada modelo tenemos que iterar sobre los regresores que quedan:\n",
    "    # seleccionemos los que quedan:\n",
    "    ind_quedan = np.setdiff1d(np.arange(nvar),np.array(reg_opt))\n",
    "    # estamos listos para seleccionar el mejor modelo\n",
    "    nvar_quedan = ind_quedan.shape[0]\n",
    "    SSRmat = np.zeros((nvar_quedan,2))\n",
    "    counter = 0\n",
    "    for p in ind_quedan:\n",
    "        # tenemos que utilizar los X previamente seleccionados\n",
    "        newx = np.concatenate((xmat_fss, prexmat[:,p].reshape((N,1))),axis=1)\n",
    "        # podemos estimar:\n",
    "        olsp = ols.ols_dan(saldo,newx)\n",
    "        SSRmat[counter,:] = [p,olsp.ssr()[0,0]]\n",
    "        counter +=1\n",
    "    # terminamos el loop\n",
    "    # tenemos que seleccionar el regresor actual que minimiza SSRMat\n",
    "    row_min = np.argmin(SSRmat[:,1],axis=0)\n",
    "    ssr_min = SSRmat[row_min,1]\n",
    "    var_min = SSRmat[row_min,0]\n",
    "    # guardemos esta información\n",
    "    SSRfss[k,:] = [var_min,ssr_min]\n",
    "    # finalmente, actualicemos la matriz\n",
    "    xmat_fss = np.concatenate((xmat_fss,prexmat[:,int(var_min)].reshape((N,1))),axis=1)\n",
    "    reg_opt.append(int(var_min))"
   ]
  },
  {
   "cell_type": "code",
   "execution_count": 128,
   "metadata": {
    "slideshow": {
     "slide_type": "subslide"
    }
   },
   "outputs": [
    {
     "data": {
      "image/png": "[encoded data removed]",
      "text/plain": [
       "<Figure size 432x288 with 1 Axes>"
      ]
     },
     "metadata": {
      "needs_background": "light"
     },
     "output_type": "display_data"
    }
   ],
   "source": [
    "plt.plot(np.arange(1,12), SSRfss[:,1], color='b',alpha=0.5)\n",
    "for p in range(11):\n",
    "    plt.text(p+1,SSRfss[p,1],labs_x[int(SSRfss[p,0])], rotation=20,\n",
    "                verticalalignment='bottom', horizontalalignment='left')\n",
    "# los ticks en x no dicen nada ahora que incluimos las ettiquetas\n",
    "plt.xticks([])\n",
    "plt.title('FSS: Regresores Incluidos y SSR Correspondiente')\n",
    "plt.ylabel('SRR')\n",
    "plt.show()\n"
   ]
  },
  {
   "cell_type": "markdown",
   "metadata": {
    "slideshow": {
     "slide_type": "slide"
    }
   },
   "source": [
    "# Backward Stepwise Selection\n",
    "\n",
    "* Este método es parecido, pero opera de arriba hacia abajo o *top-down*\n",
    "\n",
    "\n",
    "* Empezamos con un modelo que incluye **todos** los regresores.\n",
    "\n",
    "\n",
    "* Vamos excluyendo regresores así:\n",
    "\n",
    "    * En cada iteración nos quedan $k$ regresores.\n",
    "    \n",
    "    * Seleccionamos el modelo con $k-1$ regresores (excluyendo una variable) que tiene el menor SSR.\n",
    "    \n",
    "\n",
    "* De los $P$ modelos posibles, seleccionamos el mejor modelo global con CV o cualquiera de los otros métodos."
   ]
  },
  {
   "cell_type": "markdown",
   "metadata": {
    "slideshow": {
     "slide_type": "subslide"
    }
   },
   "source": [
    "![caption](figures/bss_credit.png)"
   ]
  },
  {
   "cell_type": "markdown",
   "metadata": {
    "slideshow": {
     "slide_type": "slide"
    }
   },
   "source": [
    "# Componentes Principales (PCA):\n",
    "\n",
    "* Una alternativa bastante utilizada en econometría es seleccionar sólo un subconjunto de *combinaciones lineales* de los regresores, y en particular, aquella que tenga un poder de síntesis sobre la matrix $X$ completa lo suficientemente grande.\n",
    "\n",
    "\n",
    "* En series de tiempo, por ejemplo, cuando tenemos numerosas variables endógenas en un vector autoregresivo o VAR, es fácil agotar los grados de libertad rápidamente si intentamos incluir una dinámica flexible, es decir, un orden de autoregresión que incluya $2,3,4,5, etc.$ rezagos de *todas* las variables endógenas.\n",
    "\n",
    "\n",
    "* Ver por ejemplo la literatura sobre **Factor Augmented Vector Autoregressive Regression (FAVAR)**.\n",
    "  \n",
    "  \n",
    "* La pregunta que queremos responder es simple:\n",
    "\n",
    "    > ¿Dada la matriz $X_{N \\times {p+1}}$, podemos reducir la dimensionalidad de $X$ sin perder poder explicativo?\n",
    "\n",
    "\n",
    "* A diferencia de los métodos anteriores donde la *reducción de dimensionalidad* se obtiene *excluyendo* regresores, en PCA se obtiene mediante una selección inteligente de combinaciones lineales de los regresores.\n",
    "\n",
    "\n",
    "* Así, la primera combinación lineal que utilicemos será la que explique un mayor porcentaje de la varianza de $X$, la siguiente la que explique el segundo mayor porcentaje de la varianza de $X$, y así sucesivamente."
   ]
  },
  {
   "cell_type": "markdown",
   "metadata": {
    "slideshow": {
     "slide_type": "subslide"
    }
   },
   "source": [
    "# Componentes Principales (cont):\n",
    "\n",
    "* Antes de empezar, es común, **centrar** la matriz de regresores, así que, abusando un poco de la notación, sea $X$ una matriz de tamaño $N \\times p$, donde cada regresor $x_k$ ha sido centrado, es decir, $x_k- \\overline{x}_k$.\n",
    "\n",
    "    * También es importante centrar la variable dependiente, $y$.  Por esto excluimos la constante.\n",
    "    \n",
    "    \n",
    "* La intuición de los componentes principales se puede obtener muy rápidamente así.\n",
    "\n",
    "\n",
    "* Supongamos que tenemos $p$  variables aleatorias.\n",
    "\n",
    "    * Nota 1: la matriz $X$ centrada, recoge las $N$ realizaciones de estas variables aleatorias.\n",
    "    \n",
    "    * Nota 2: $N^{-1}X'X$ es la matriz de covarianzas muestral, contraparte de $\\Sigma$.\n",
    "    \n",
    "\n",
    "* Nuestro objetivo es encontrar un vector $\\alpha_j = [\\alpha_{1j}, \\alpha_{2j}, \\cdots, \\alpha_{pj}]$ tal que \n",
    "$$\n",
    "\\sum_{k=1}^p \\alpha_{kj} x_{kj} = \\mathbf{\\alpha}_j' x\n",
    "$$\n",
    "\n",
    "tenga la *mayor varianza posible*.\n",
    "\n",
    "* Como \n",
    "\n",
    "$$\n",
    "Var(\\mathbf{\\alpha}_j' x) = \\mathbf{\\alpha}_j' \\mathbf{\\Sigma} \\mathbf{\\alpha}_j\n",
    "$$\n",
    "\n",
    "sabemos que podemos elegir $\\mathbf{\\alpha}_j$ cada vez más grande, así que el problema está indeterminado, a menos que impongamos una normalización: $\\mathbf{\\alpha}_j'\\mathbf{\\alpha}_j = 1$."
   ]
  },
  {
   "cell_type": "markdown",
   "metadata": {
    "slideshow": {
     "slide_type": "subslide"
    }
   },
   "source": [
    "# Componentes Principales (cont.)\n",
    "\n",
    "\n",
    "* El problema de optimización que queremos resolver es:\n",
    "\n",
    "$$\n",
    "max_{\\mathbf{\\alpha}_j} \\hspace{2mm} \\mathcal{L} = \\mathbf{\\alpha}_j' \\mathbf{\\Sigma} \\mathbf{\\alpha}_j - \\lambda(\\mathbf{\\alpha}_j'\\mathbf{\\alpha}_j - 1)\n",
    "$$\n",
    "\n",
    "* Diferenciando, tenemos las condiciones de primer orden:\n",
    "\n",
    "$$\n",
    "\\begin{eqnarray*}\n",
    "\\mathbf{\\Sigma} \\mathbf{\\alpha}_j &=& \\lambda \\mathbf{\\alpha}_j \\\\\n",
    "\\mathbf{\\alpha}_j'\\mathbf{\\alpha}_j &=& 1\n",
    "\\end{eqnarray*}\n",
    "$$\n",
    "\n",
    "así que podemos reconocer que $\\mathbf{\\alpha}_j$ es un **vector propio de $\\Sigma$**, y $\\lambda$ el valor propio correspondiente.\n",
    "\n",
    "\n",
    "* Pero cuál vector propio?\n",
    "\n",
    "\n",
    "* Queremos maximizar \n",
    "$$\n",
    "\\mathbf{\\alpha}_j' \\mathbf{\\Sigma} \\mathbf{\\alpha}_j = \\mathbf{\\alpha}_j' \\lambda \\mathbf{\\alpha}_j = \\lambda \\mathbf{\\alpha}_j' \\mathbf{\\alpha}_j\n",
    "$$ \n",
    "(¿por qué?)\n",
    "\n",
    "así que la selección es simple: queremos el vector propio $\\mathbf{\\alpha}_j$ que corresponda al **mayor** valor propio $\\lambda$.\n",
    "\n",
    "\n",
    "* Este es el **primer componente principal**: $x'\\mathbf{\\alpha}_j$\n",
    "\n",
    "\n",
    "* Se puede demostrar que el segundo componente principal es la proyección de $X$ utilizando el vector propio correspondiente al segundo mayor valor propio, y así sucesivamente.\n",
    "\n",
    "\n",
    "* Así, los componentes principales se obtienen como el producto de $XV$, donde $V$ es la matriz que tiene los vectores propios correspondientes."
   ]
  },
  {
   "cell_type": "markdown",
   "metadata": {
    "slideshow": {
     "slide_type": "subslide"
    }
   },
   "source": [
    "# Resumen del procedimiento:\n",
    "\n",
    "* Paso 1. Centrar la matriz $X$.\n",
    "\n",
    "* Paso 2. Obtener los primeros $k$ vectores propios de $X'X$, $k \\in  \\{1,2,\\cdots, p\\}$, con la convención que  $\\lambda_1> \\lambda_2 > \\cdots > \\lambda_p$:\n",
    "\n",
    "$$\n",
    "Z_k = XV_k\n",
    "$$\n",
    "\n",
    "* Paso 3. Hacer una regresión de\n",
    "\n",
    "$$\n",
    "y = Z_k \\theta + \\epsilon\n",
    "$$\n",
    "\n",
    "* Paso 4. Guardar el SSR_k y seleccionar el número óptimo por medio de validación cruzada."
   ]
  },
  {
   "cell_type": "code",
   "execution_count": 129,
   "metadata": {
    "slideshow": {
     "slide_type": "subslide"
    }
   },
   "outputs": [
    {
     "name": "stdout",
     "output_type": "stream",
     "text": [
      "[-1.44773082e-15  4.61852778e-16]\n"
     ]
    },
    {
     "data": {
      "text/plain": [
       "<matplotlib.legend.Legend at 0x7fef0ddc05b0>"
      ]
     },
     "execution_count": 129,
     "metadata": {},
     "output_type": "execute_result"
    },
    {
     "data": {
      "image/png": "[encoded data removed]",
      "text/plain": [
       "<Figure size 432x288 with 1 Axes>"
      ]
     },
     "metadata": {
      "needs_background": "light"
     },
     "output_type": "display_data"
    }
   ],
   "source": [
    "#------------------------------\n",
    "# Ejemplo con dos regresores:\n",
    "#------------------------------\n",
    "# vamos a simular dos regresores correlacionados\n",
    "np.random.seed(421091725)\n",
    "N = 100\n",
    "mu = np.array([-3,2])\n",
    "W  = np.random.randn(2,2)\n",
    "DD = np.diag(np.array([10,5]))\n",
    "Sigma = np.dot(W.T,np.dot(DD,W))\n",
    "xmat = np.random.multivariate_normal(mu,Sigma,N)\n",
    "\n",
    "# Paso 1: centrar (usemos broadcasting para facilitar)\n",
    "xmat_dem = xmat - xmat.mean(axis=0).reshape((1,2))\n",
    "# probemos que quedó bien hecho\n",
    "print(xmat_dem.mean(axis=0))\n",
    "\n",
    "# Paso 2: obtengamos los vectores y valores propios\n",
    "Smat = (1.0/N)*np.dot(xmat_dem.T,xmat_dem)\n",
    "D, V = np.linalg.eig(Smat)\n",
    "\n",
    "# Grafiquémoslos\n",
    "plt.scatter(xmat[:,0],xmat[:,1], color='b', alpha=0.5)\n",
    "plt.xlabel('Regresor 1')\n",
    "plt.ylabel('Regresor 2')\n",
    "x1bar = xmat.mean(axis=0)[0]\n",
    "x2bar = xmat.mean(axis=0)[1]\n",
    "newV = 10*V\n",
    "plt.plot([x1bar,x1bar + newV[0,0]], [x2bar,x2bar + newV[1,0]], color='orange', label='1er VP')\n",
    "plt.plot([x1bar,x1bar + newV[0,1]], [x2bar,x2bar + newV[1,1]], color='m', label='2do VP')\n",
    "plt.legend(loc='best')"
   ]
  },
  {
   "cell_type": "markdown",
   "metadata": {
    "slideshow": {
     "slide_type": "subslide"
    }
   },
   "source": [
    "# Componentes Principales :\n",
    "\n",
    "\n",
    "* Los componentes principales son ortogonales entre sí:\n",
    "\n",
    "    * Los vectores propios lo son.\n",
    "    \n",
    "* El primer componente principal busca la dirección de máxima varianza.\n",
    "\n",
    "* Para obtener la proporción de la varianza de $X$ explicada por el componente principal $k$:\n",
    "\n",
    "$$\n",
    "\\frac{\\lambda_k}{\\sum_j \\lambda_j}\n",
    "$$"
   ]
  },
  {
   "cell_type": "code",
   "execution_count": 130,
   "metadata": {},
   "outputs": [
    {
     "name": "stdout",
     "output_type": "stream",
     "text": [
      "2.501110429875553e-13\n"
     ]
    },
    {
     "data": {
      "text/plain": [
       "Text(0, 0.5, '% Varianza Explicada')"
      ]
     },
     "execution_count": 130,
     "metadata": {},
     "output_type": "execute_result"
    },
    {
     "data": {
      "image/png": "[encoded data removed]",
      "text/plain": [
       "<Figure size 432x288 with 1 Axes>"
      ]
     },
     "metadata": {
      "needs_background": "light"
     },
     "output_type": "display_data"
    }
   ],
   "source": [
    "# Volvamos al ejemplo de datos de Crédito\n",
    "N = data.shape[0]\n",
    "# Hay dos tipos de variables: continuas y categóricas\n",
    "prexmat_con = np.concatenate((\n",
    "                        np.asarray(data.Rating).reshape((N,1)),\n",
    "                        np.asarray(data.Income).reshape((N,1)),\n",
    "                         np.asarray(data.Limit).reshape((N,1)),\n",
    "                         np.asarray(data.Cards).reshape((N,1)),\n",
    "                         np.asarray(data.Age).reshape((N,1)),\n",
    "                         np.asarray(data.Education).reshape((N,1)),\n",
    "                         ),axis=1)\n",
    "prexmat_cat = np.concatenate((\n",
    "                          dum_hombre, dum_estudiante, dum_casado, dum_ethnic\n",
    "                         ),axis=1)\n",
    "saldo = np.asarray(data.Balance).reshape((N,1))\n",
    "nvar_con = prexmat_con.shape[1]\n",
    "\n",
    "# Paso 1: Centrar la matriz de variables continuas\n",
    "prexmatcon_dem = prexmat_con - np.nanmean(prexmat_con, axis=0).reshape((1,nvar_con))\n",
    "# check\n",
    "print(prexmatcon_dem.mean(axis=0).max())\n",
    "\n",
    "# Paso 2: Eigenvalue decomposition\n",
    "D,V = np.linalg.eig(np.dot(prexmatcon_dem.T, prexmatcon_dem))\n",
    "\n",
    "# Paso 3: Construcción de los componentes principales:\n",
    "# Organicémoslos de menor a mayor: NO SIEMPRE LO ESTAN\n",
    "D = pd.DataFrame(D, columns=['valores_ppios']).sort_values(by='valores_ppios', ascending=False)\n",
    "ind_sorted = D.index\n",
    "# Componentes principales: con los valores propios ordenados de mayor a menor\n",
    "Zmat = np.dot(prexmatcon_dem,V[:,ind_sorted])\n",
    "# Veamos la proporción de las varianzas explicadas por todos\n",
    "plt.plot((100*D/D.sum()).values)\n",
    "plt.title(u'Proporción de la Varianza')\n",
    "plt.xlabel(u'Número de Componentes Principales')\n",
    "plt.ylabel('% Varianza Explicada')"
   ]
  },
  {
   "cell_type": "code",
   "execution_count": 131,
   "metadata": {
    "slideshow": {
     "slide_type": "subslide"
    }
   },
   "outputs": [
    {
     "name": "stdout",
     "output_type": "stream",
     "text": [
      "1     37\n",
      "2     39\n",
      "3     35\n",
      "4     42\n",
      "5     39\n",
      "6     45\n",
      "7     40\n",
      "8     38\n",
      "9     56\n",
      "10    29\n",
      "dtype: int64\n"
     ]
    },
    {
     "data": {
      "text/plain": [
       "Text(0, 0.5, 'SSR Promedio en Grupos de VC')"
      ]
     },
     "execution_count": 131,
     "metadata": {},
     "output_type": "execute_result"
    },
    {
     "data": {
      "image/png": "[encoded data removed]",
      "text/plain": [
       "<Figure size 432x288 with 1 Axes>"
      ]
     },
     "metadata": {
      "needs_background": "light"
     },
     "output_type": "display_data"
    }
   ],
   "source": [
    "# Vamos a hacer CV con 10 grupos:\n",
    "grp_cv = 10\n",
    "ind_grp = np.dot(np.random.multinomial(1,[1.0/grp_cv]*grp_cv, N),np.arange(1,grp_cv+1).reshape(grp_cv,1))\n",
    "# check:\n",
    "check = pd.Series(ind_grp.flatten()).groupby(pd.Series(ind_grp.flatten())).count()\n",
    "print(check)\n",
    "# Inicialicemos matriz donde vamos a guardar los resultados:\n",
    "SSRCP = np.zeros((grp_cv,nvar_con))\n",
    "# centremos y, así no tenemos que incluir constante\n",
    "saldo_cen = saldo - np.nanmean(saldo,axis=0)\n",
    "# loop externo: grupos\n",
    "for g in np.arange(grp_cv):\n",
    "    ind_train = (ind_grp!=g+1)\n",
    "    n_train   = ind_train.sum()\n",
    "    ind_valid = (ind_grp==g+1)\n",
    "    n_valid   = ind_valid.sum()\n",
    "    # asignemos variables:\n",
    "    yy_train  = saldo_cen[ind_train].reshape((n_train,1))\n",
    "    yy_valid  = saldo_cen[ind_valid].reshape((n_valid,1))\n",
    "    zz_train  = Zmat[ind_train.flatten(),:]\n",
    "    zz_valid  = Zmat[ind_valid.flatten(),:]\n",
    "    dd_train  = prexmat_cat[ind_train.flatten(),:]\n",
    "    dd_valid  = prexmat_cat[ind_valid.flatten(),:]\n",
    "    # loop interno: modelos (número de CP)\n",
    "    for k in range(nvar_con):\n",
    "        # Necesitamos incluir variables categóricas y los componentes principales\n",
    "        fullxmat_train = np.concatenate((zz_train[:,:k+1],dd_train),axis=1)\n",
    "        fullxmat_valid = np.concatenate((zz_valid[:,:k+1],dd_valid),axis=1)\n",
    "        full_nvar = fullxmat_valid.shape[1]\n",
    "        olsk = ols.ols_dan(yy_train,fullxmat_train)\n",
    "        # necesitamos el SSR evaluado en valid\n",
    "        yhat_valid = np.dot(fullxmat_valid,olsk.betahat().reshape((full_nvar,1)))\n",
    "        res_valid  = yy_valid - yhat_valid\n",
    "        SSRCP[g,k] = np.dot(res_valid.T,res_valid)\n",
    "        \n",
    "\n",
    "mean_ssr = pd.DataFrame(SSRCP).mean()\n",
    "sem_ssr  = pd.DataFrame(SSRCP).sem()\n",
    "plt.plot(np.arange(1,nvar_con+1), mean_ssr.values)\n",
    "plt.bar(np.arange(1,nvar_con+1), mean_ssr.values, ec='w', fc='w', align='center',\n",
    "                    yerr = 1.96*sem_ssr.values, ecolor='r')\n",
    "plt.xlabel(u'Número de Componentes Principales')\n",
    "plt.ylabel(u'SSR Promedio en Grupos de VC')"
   ]
  },
  {
   "cell_type": "markdown",
   "metadata": {},
   "source": [
    "# Regularización\n",
    "\n",
    "En este notebook vamos a estudiar como la regularización puede ayudarnos a reducir los efectos del bias y la varianza. En concreto veremos como utilizar regularización en modelos de regresión."
   ]
  },
  {
   "cell_type": "markdown",
   "metadata": {},
   "source": [
    "\n",
    "\n",
    "Todos los modelos de regresión lineal aprenden una serie de *coeficientes* (también llamados parámetros o pesos) y un *intercept* para realizar una combinación lineal de las características del modelo a aprender. Así tenemos que:\n",
    "\n",
    "```\n",
    "y_pred = x_test[0] * coef_[0] + ... + x_test[n_features-1] * coef_[n_features-1] + intercept_\n",
    "```\n",
    "\n",
    "Existen varios modelos de regresión lineal cuya principal diferencia reside en las restricciones que le ponemos en los *coeficientes*. Recordad que estas restricciones se conocen como regularización.\n",
    "\n",
    "Vamos a generar una conjunto de datos sintético que nos permita ver el comportamiento de estos modelos."
   ]
  },
  {
   "cell_type": "code",
   "execution_count": 132,
   "metadata": {},
   "outputs": [
    {
     "name": "stdout",
     "output_type": "stream",
     "text": [
      "(60, 30)\n",
      "(60,)\n"
     ]
    }
   ],
   "source": [
    "from sklearn.datasets import make_regression\n",
    "from sklearn.model_selection import train_test_split\n",
    "\n",
    "X, y, true_coefficient = make_regression(n_samples=200, n_features=30,\n",
    "                                         n_informative=10, noise=100,\n",
    "                                         coef=True, random_state=5)\n",
    "X_train, X_test, y_train, y_test = train_test_split(X, y, random_state=5, train_size=60)\n",
    "\n",
    "print(X_train.shape)\n",
    "print(y_train.shape)"
   ]
  },
  {
   "cell_type": "markdown",
   "metadata": {},
   "source": [
    "\n",
    "## Linear Regression\n",
    "\n",
    "El modelo lineal más famoso es la regresión OLS (Ordinary Least Squares), llamada *regresión lineal*. Este tipo de regresión no impone ninguna restricción a los coeficientes. Esto significa que cuando tenemos un gran número de caracterísiticas, el modelo tienda a sobreajustar.\n",
    "\n",
    "$$ \\text{min}_{w, b} \\sum_i || w^\\mathsf{T}x_i + b  - y_i||^2 $$"
   ]
  },
  {
   "cell_type": "code",
   "execution_count": 133,
   "metadata": {},
   "outputs": [],
   "source": [
    "from sklearn.linear_model import LinearRegression\n",
    "linear_regression = LinearRegression().fit(X_train, y_train)"
   ]
  },
  {
   "cell_type": "code",
   "execution_count": 134,
   "metadata": {},
   "outputs": [
    {
     "name": "stdout",
     "output_type": "stream",
     "text": [
      "R^2 on training set: 0.878011\n",
      "R^2 on test set: 0.216332\n"
     ]
    }
   ],
   "source": [
    "print(\"R^2 on training set: %f\" % linear_regression.score(X_train, y_train))\n",
    "print(\"R^2 on test set: %f\" % linear_regression.score(X_test, y_test))"
   ]
  },
  {
   "cell_type": "markdown",
   "metadata": {},
   "source": [
    "\n",
    "\n",
    "Como vemos el $R^2$ en el conjunto de entrenamiento es muy alto, pero muy bajo en el conjunto de test. Esto suele ser un indicativo de que nuestro modelo está sobreajustando."
   ]
  },
  {
   "cell_type": "markdown",
   "metadata": {},
   "source": [
    "Vamos a aprovecharnos que nuestros datos son sinténticos para evaluar como se comporta el modelo real sobre los datos:"
   ]
  },
  {
   "cell_type": "code",
   "execution_count": 135,
   "metadata": {},
   "outputs": [
    {
     "name": "stdout",
     "output_type": "stream",
     "text": [
      "0.5985284495875146\n"
     ]
    }
   ],
   "source": [
    "from sklearn.metrics import r2_score\n",
    "print(r2_score(np.dot(X, true_coefficient), y))"
   ]
  },
  {
   "cell_type": "markdown",
   "metadata": {},
   "source": [
    "Por lo que podemos decir que un 𝑅2≈0.6 es un resultado ideal para nuestro conjunto de datos.\n",
    "\n",
    "También vamos a aprovechar que tenemos conjuntos de datos sinténticos para comparar los coeficientes del aprendidos por el modelo con los coeficientes reales de nuestros datos sinténticos:"
   ]
  },
  {
   "cell_type": "code",
   "execution_count": 136,
   "metadata": {},
   "outputs": [
    {
     "data": {
      "text/plain": [
       "<matplotlib.legend.Legend at 0x7fef0f41c880>"
      ]
     },
     "execution_count": 136,
     "metadata": {},
     "output_type": "execute_result"
    },
    {
     "data": {
      "image/png": "[encoded data removed]",
      "text/plain": [
       "<Figure size 720x360 with 1 Axes>"
      ]
     },
     "metadata": {
      "needs_background": "light"
     },
     "output_type": "display_data"
    }
   ],
   "source": [
    "plt.figure(figsize=(10, 5))\n",
    "coefficient_sorting = np.argsort(true_coefficient)[::-1]\n",
    "plt.plot(true_coefficient[coefficient_sorting], \"o\", label=\"true\")\n",
    "plt.plot(linear_regression.coef_[coefficient_sorting], \"o\", label=\"linear regression\")\n",
    "\n",
    "plt.legend()"
   ]
  },
  {
   "cell_type": "markdown",
   "metadata": {},
   "source": [
    "Un método muy útil para conocer si nuestro modelo sufre de underfitting o de overfitting es calcular las curvas de aprendizaje. Éstas muestran el score del modelo en los conjuntos de training y de test para un número determinado de muestras de entrenamiento."
   ]
  },
  {
   "cell_type": "code",
   "execution_count": 137,
   "metadata": {},
   "outputs": [
    {
     "data": {
      "image/png": "[encoded data removed]",
      "text/plain": [
       "<Figure size 864x576 with 1 Axes>"
      ]
     },
     "metadata": {
      "needs_background": "light"
     },
     "output_type": "display_data"
    }
   ],
   "source": [
    "from sklearn.model_selection import learning_curve\n",
    "\n",
    "def plot_learning_curve(est, X, y):\n",
    "    training_set_size, train_scores, test_scores = learning_curve(est, X, y, train_sizes=np.linspace(.1, 1, 20))\n",
    "    estimator_name = est.__class__.__name__\n",
    "    line = plt.plot(training_set_size, train_scores.mean(axis=1), '--', label=\"training scores \" + estimator_name)\n",
    "    plt.plot(training_set_size, test_scores.mean(axis=1), '-', label=\"test scores \" + estimator_name, c=line[0].get_color())\n",
    "    plt.xlabel('Training set size')\n",
    "    plt.ylabel('R² Score')\n",
    "    plt.legend(loc='best')\n",
    "    plt.ylim(-0.1, 1.1)\n",
    "\n",
    "plt.figure(figsize=(12,8))    \n",
    "plot_learning_curve(LinearRegression(), X, y)"
   ]
  },
  {
   "cell_type": "markdown",
   "metadata": {
    "slideshow": {
     "slide_type": "slide"
    }
   },
   "source": [
    "# Ridge Regression\n",
    "\n",
    "* Excluyendo la regresión por componentes principales, los métodos anteriores son discontinuos o *sparse*, en el sentido que de los $P$ regresores, sólo excluimos una parte de ellos.\n",
    "    \n",
    "    * Los coeficientes $\\hat{\\beta}_k$ son cero o distintos de cero.\n",
    "    \n",
    "* Tiene la ventaja que facilita la interpretación.\n",
    "\n",
    "* Pero las predicciones pueden tener mucha varianza: incluimos o excluimos regresores.\n",
    "\n",
    "* Una alternativa es buscar un procedimiento más *suave*, en donde minimicemos el valor absoluto de los coeficientes, sin llevarlos a cero.\n",
    "\n",
    "* Esto se puede plantear fácilmente en un modelo de optimización donde penalizamos los coeficientes grandes.\n",
    "\n",
    "$$\n",
    "\\beta_{ridge} = argmin_{\\beta} (y - X\\beta)'(y - X\\beta) + \\lambda \\beta'\\beta\n",
    "$$\n",
    "\n",
    "* Derivando, se puede ver que la solución a este problema es:\n",
    "\n",
    "$$\n",
    "\\beta_{ridge} = (X'X + \\lambda I)^{-1}X'y\n",
    "$$\n",
    "\n",
    "* **Nota**: **estas fórmulas asumen que el modelo se ha estandarizado, es decir, todas las variables, $y$ ha sido centrada y $x$ estandarizadas, así que excluimos la constante de la estimación.** "
   ]
  },
  {
   "cell_type": "markdown",
   "metadata": {
    "collapsed": true,
    "slideshow": {
     "slide_type": "subslide"
    }
   },
   "source": [
    "# Ridge Regression: ¿cómo se estima?\n",
    "\n",
    "\n",
    "* La ecuación de arriba muestra que estimar el método de Ridge Regression es inmediato.\n",
    "\n",
    "\n",
    "* Para cada valor de $\\lambda$, podemos estimar $\\beta_{ridge}$.\n",
    "\n",
    "\n",
    "* Así, si $\\lambda = 0$ obtenemos el estimador de OLS.\n",
    "\n",
    "\n",
    "* A medida que aumentamos $\\lambda$ penalizamos más los coeficientes, y los empezamos a reducir.\n",
    "\n",
    "\n",
    "* **Pregunta:** ¿Por qué quisiéramos hacer eso?\n",
    "\n",
    "\n",
    "* **Respuesta:** Trade-off entre varianza y sesgo.\n",
    "\n",
    "> *Reducir ciertos coeficientes suaviza las predicciones en muestras distintas, así que el error de predicción puede tener menor varianza*"
   ]
  },
  {
   "cell_type": "markdown",
   "metadata": {
    "collapsed": true,
    "slideshow": {
     "slide_type": "subslide"
    }
   },
   "source": [
    "# Ridge Regression y Cross-Validation\n",
    "\n",
    "\n",
    "* Para cada valor $\\lambda$ tenemos unos coeficientes $\\beta_{ridge}(\\lambda)$.\n",
    "\n",
    "\n",
    "* ¿Cuál valor escogemos?\n",
    "\n",
    "\n",
    "* La respuesta es simple: dejemos que los datos nos lo digan utilizando CV\n"
   ]
  },
  {
   "cell_type": "markdown",
   "metadata": {
    "slideshow": {
     "slide_type": "subslide"
    }
   },
   "source": [
    "# Descomposición en Valores Singulares\n",
    "\n",
    "\n",
    "* Una pregunta es por qué puede funcionar un método como este.\n",
    "\n",
    "\n",
    "* Para entender necesitamos introducir una descomposición matricial que es muy utilizada en estadística.\n",
    "\n",
    "\n",
    "* Toda matriz $X_{N\\times p}$ puede descomponerse en el producto de tres matrices:\n",
    "\n",
    "$$\n",
    "X = U_{N \\times p} D_{p \\times p} V_{p \\times p}'\n",
    "$$\n",
    "\n",
    "donde las columnas de $\\mathbf{U}$ son una base ortonormal del espacio de *columnas* de $\\mathbf{X}$, y las columnas de $\\mathbf{V}$ una base ortonormal del espacio de *filas* de $\\mathbf{X}$:\n",
    "\n",
    "$$\n",
    "U'U = I_{p} \\\\\n",
    "V'V = I_{p}\n",
    "$$\n",
    "\n",
    "y $\\mathbf{D}$ es una matriz diagonal con $d_{ii}$ los valores singulares de $\\mathbf{X}$.\n",
    "\n",
    "\n",
    "* Así, el $y$ estimado de OLS se puee escribir como\n",
    "\n",
    "$$\n",
    "\\begin{eqnarray*}\n",
    "X\\hat{\\beta} &=& X(X'X)^{-1}X'y \\\\\n",
    "&=& (UDV)(VDU'UDV')^{-1} (VDU') y \\\\\n",
    "&=& UU'y\n",
    "\\end{eqnarray*}\n",
    "$$\n",
    "\n",
    "(¿por qué?)"
   ]
  },
  {
   "cell_type": "markdown",
   "metadata": {
    "slideshow": {
     "slide_type": "subslide"
    }
   },
   "source": [
    "# Valores Singulares: ¿qué pasa en el caso de Ridge Regression?\n",
    "\n",
    "\n",
    "* Repitamos para el estimador de *Ridge*\n",
    "\n",
    "$$\n",
    "\\begin{eqnarray*}\n",
    "X \\beta_{ridge} &=& X(X'X + \\lambda I_p)^{-1}X'y \\\\\n",
    "&=& (UDV)(VD^2V' + \\lambda I_p)^{-1} (VDU') y \\\\\n",
    "&=& (UDV)(V(D^2 + \\lambda I_p) V')^{-1} (VDU') y \\\\\n",
    "&=& UD(D^2 + \\lambda I_p)^{-1}DU'y \\\\\n",
    "&=& \\sum_i \\mathbf{u_i} \\left(\\frac{d_i^2}{d_i^2 + \\lambda}\\right) \\mathbf{u_i}'  y\n",
    "\\end{eqnarray*}\n",
    "$$\n",
    "\n",
    "\n",
    "* ¿Qué pasa cuando $\\lambda=0$?\n",
    "\n",
    "\n",
    "* Sabemos que estamos en el caso de OLS (compárenlo con el resultado de la diapósitiva anterior).\n",
    "\n",
    "\n",
    "* Cuando $\\lambda \\neq 0$, el estimador reduce las coordenadas de $y$ en el espacio de la base ortonormal $\\mathcal{U}$, y lo hace por un factor \n",
    "\n",
    "$$\n",
    "\\frac{d_i^2}{d_i^2 + \\lambda}\n",
    "$$\n",
    "\n",
    "\n",
    "* La reducción es *mayor* a medida que $d_i^2$ es más chico (lámina siguiente)"
   ]
  },
  {
   "cell_type": "code",
   "execution_count": 138,
   "metadata": {
    "slideshow": {
     "slide_type": "subslide"
    }
   },
   "outputs": [
    {
     "data": {
      "text/plain": [
       "Text(0, 0.5, 'Shrinkage')"
      ]
     },
     "execution_count": 138,
     "metadata": {},
     "output_type": "execute_result"
    },
    {
     "data": {
      "image/png": "[encoded data removed]",
      "text/plain": [
       "<Figure size 432x288 with 1 Axes>"
      ]
     },
     "metadata": {
      "needs_background": "light"
     },
     "output_type": "display_data"
    }
   ],
   "source": [
    "dvec = np.linspace(0,10,10)\n",
    "lambda_vec = 0.5\n",
    "shrink_fac = dvec/(dvec + lambda_vec)\n",
    "plt.plot(dvec, shrink_fac)\n",
    "plt.title(u'Reducción en función de $d^2$')\n",
    "plt.xlabel('Cuadrado de $d$')\n",
    "plt.ylabel('Shrinkage')"
   ]
  },
  {
   "cell_type": "markdown",
   "metadata": {
    "slideshow": {
     "slide_type": "subslide"
    }
   },
   "source": [
    "# ¿Cuándo es $d_i^2$ más grande o más chico?\n",
    "\n",
    "\n",
    "* Recordemos que la para la matriz de covarianzas de $X$: $N^{-1}X'X$:\n",
    "\n",
    "$$\n",
    "X'X = VD^2V'\n",
    "$$\n",
    "\n",
    "* Y ahora notemos que $\\mathbf{V}$ son los vectores propios de $X'X$:\n",
    "\n",
    "$$\n",
    "X'X V = VD^2V'V = VD^2\n",
    "$$\n",
    "\n",
    "Así que para el primer vector propio $\\mathcal{v}_1$, el valor propio es $d_1^2$\n",
    "\n",
    "$$\n",
    "X'X v_1 = v_1 d_1^2\n",
    "$$\n",
    "\n",
    "> *La reducción es mayor con los vectores propios asociados a valores propios de $X'X$ más pequeños, es decir, aquellos que explican una menor varianza de $X$ o sus **componentes principales***.\n",
    "\n",
    "Lo interesante es que esto implica que la reducción de los coeficientes es sobre los regresores $X_k$ que tienen *menor varianza*, y por lo tanto, los que mayor precisión tienen en la estimación.\n"
   ]
  },
  {
   "cell_type": "markdown",
   "metadata": {
    "slideshow": {
     "slide_type": "subslide"
    }
   },
   "source": [
    "#  Ridge Regression en la práctica\n",
    "\n",
    "* En la práctica, estimar los coeficientes de Ridge es inmediato.\n",
    "\n",
    "\n",
    "* Para cada valor de $\\lambda$, se puede calcular directamente $\\beta_{ridge}(\\lambda)$\n",
    "\n",
    "\n",
    "* Pero hay que recordar que debemos **centrar los regresores** y la variable dependiente primero.\n",
    "\n",
    "\n",
    "* Con esto garantizamos que no penalizamos la constante.\n",
    "\n"
   ]
  },
  {
   "cell_type": "code",
   "execution_count": 139,
   "metadata": {},
   "outputs": [
    {
     "data": {
      "text/plain": [
       "[(283,), (399,), (387,), (9,), (68,), (16,), (2,), (2,), (2,), (2,), (2,)]"
      ]
     },
     "execution_count": 139,
     "metadata": {},
     "output_type": "execute_result"
    }
   ],
   "source": [
    "unique_vec"
   ]
  },
  {
   "cell_type": "code",
   "execution_count": 140,
   "metadata": {
    "slideshow": {
     "slide_type": "subslide"
    }
   },
   "outputs": [],
   "source": [
    "# Ridge regression\n",
    "# Empecemos por estandarizar las variables.\n",
    "# Nota: no tiene ningún sentido estandarizar variables dummy\n",
    "prex_std = prexmat.copy()\n",
    "# el siguiente es un ejemplo de un list comprehension de Python\n",
    "unique_vec = [pd.Series(prex_std[:,i]).unique().shape for i in range(prex_std.shape[1])]  \n",
    "for v in range(11):\n",
    "    # Veamos si es una variable dummy:\n",
    "    if unique_vec[v][0]>2:\n",
    "        # Usemos reglas de broadcasting para simplificar\n",
    "        prex_std[:,v] = (prex_std[:,v]- np.nanmean(prex_std[:,v],axis=0))/np.std(prex_std[:,v],axis=0)\n"
   ]
  },
  {
   "cell_type": "code",
   "execution_count": 141,
   "metadata": {
    "slideshow": {
     "slide_type": "subslide"
    }
   },
   "outputs": [
    {
     "name": "stdout",
     "output_type": "stream",
     "text": [
      "                   0\n",
      "Rating      0.552284\n",
      "Income     -0.590531\n",
      "Limit       0.782154\n",
      "Cards       0.045162\n",
      "Age        -0.024094\n",
      "Education  -0.005643\n",
      "Own        -0.035353\n",
      "Estudiante  0.887112\n",
      "Casado     -0.041825\n",
      "South      -0.066964\n",
      "West       -0.043552\n"
     ]
    }
   ],
   "source": [
    "# Ejemplo: lambda = 1\n",
    "yy_std   = (saldo- np.nanmean(saldo,axis=0))/np.std(saldo,axis=0)\n",
    "\n",
    "lambda_ridge = 1.0\n",
    "prechol = np.dot(prex_std.T,prex_std) + lambda_ridge*np.eye(11)\n",
    "xty    = np.dot(prex_std.T,yy_std)\n",
    "beta_ridge = np.dot(np.linalg.inv(prechol),xty)\n",
    "print(pd.DataFrame(beta_ridge, index= labs_x))\n",
    "\n",
    "# guardémoslos para compararlos con otros que estimaremos a continuación\n",
    "ridge_nuestros = pd.DataFrame(beta_ridge, index= labs_x, columns=['Nuestros'])\n"
   ]
  },
  {
   "cell_type": "markdown",
   "metadata": {
    "slideshow": {
     "slide_type": "subslide"
    }
   },
   "source": [
    "# Probemos que quedó bien, utilizando Scikit-Learn\n",
    "\n",
    "\n",
    "\n",
    "* (Scikit-learn)[http://scikit-learn.org/stable/] es la librería de machine learning más utilizada por los usuarios de Python.\n",
    "\n",
    "\n",
    "* Es fácil de usar, como veremos a continuación.\n",
    "\n",
    "\n",
    "* Vamos a utilizar el método `Ridge` que utiliza un parámetro `alpha` que corresponde con nuestro $\\lambda$\n",
    "\n",
    " ![caption](figures/scikitlearn.png)\n"
   ]
  },
  {
   "cell_type": "code",
   "execution_count": 142,
   "metadata": {
    "slideshow": {
     "slide_type": "subslide"
    }
   },
   "outputs": [
    {
     "data": {
      "text/html": [
       "<div>\n",
       "<style scoped>\n",
       "    .dataframe tbody tr th:only-of-type {\n",
       "        vertical-align: middle;\n",
       "    }\n",
       "\n",
       "    .dataframe tbody tr th {\n",
       "        vertical-align: top;\n",
       "    }\n",
       "\n",
       "    .dataframe thead th {\n",
       "        text-align: right;\n",
       "    }\n",
       "</style>\n",
       "<table border=\"1\" class=\"dataframe\">\n",
       "  <thead>\n",
       "    <tr style=\"text-align: right;\">\n",
       "      <th></th>\n",
       "      <th>Scikit_Learn</th>\n",
       "      <th>Nuestros</th>\n",
       "    </tr>\n",
       "  </thead>\n",
       "  <tbody>\n",
       "    <tr>\n",
       "      <th>Rating</th>\n",
       "      <td>0.538295</td>\n",
       "      <td>0.552284</td>\n",
       "    </tr>\n",
       "    <tr>\n",
       "      <th>Income</th>\n",
       "      <td>-0.590264</td>\n",
       "      <td>-0.590531</td>\n",
       "    </tr>\n",
       "    <tr>\n",
       "      <th>Limit</th>\n",
       "      <td>0.795075</td>\n",
       "      <td>0.782154</td>\n",
       "    </tr>\n",
       "    <tr>\n",
       "      <th>Cards</th>\n",
       "      <td>0.046150</td>\n",
       "      <td>0.045162</td>\n",
       "    </tr>\n",
       "    <tr>\n",
       "      <th>Age</th>\n",
       "      <td>-0.024028</td>\n",
       "      <td>-0.024094</td>\n",
       "    </tr>\n",
       "    <tr>\n",
       "      <th>Education</th>\n",
       "      <td>-0.006024</td>\n",
       "      <td>-0.005643</td>\n",
       "    </tr>\n",
       "    <tr>\n",
       "      <th>Own</th>\n",
       "      <td>-0.021810</td>\n",
       "      <td>-0.035353</td>\n",
       "    </tr>\n",
       "    <tr>\n",
       "      <th>Estudiante</th>\n",
       "      <td>0.897766</td>\n",
       "      <td>0.887112</td>\n",
       "    </tr>\n",
       "    <tr>\n",
       "      <th>Casado</th>\n",
       "      <td>-0.022184</td>\n",
       "      <td>-0.041825</td>\n",
       "    </tr>\n",
       "    <tr>\n",
       "      <th>South</th>\n",
       "      <td>-0.037986</td>\n",
       "      <td>-0.066964</td>\n",
       "    </tr>\n",
       "    <tr>\n",
       "      <th>West</th>\n",
       "      <td>-0.016236</td>\n",
       "      <td>-0.043552</td>\n",
       "    </tr>\n",
       "  </tbody>\n",
       "</table>\n",
       "</div>"
      ],
      "text/plain": [
       "            Scikit_Learn  Nuestros\n",
       "Rating          0.538295  0.552284\n",
       "Income         -0.590264 -0.590531\n",
       "Limit           0.795075  0.782154\n",
       "Cards           0.046150  0.045162\n",
       "Age            -0.024028 -0.024094\n",
       "Education      -0.006024 -0.005643\n",
       "Own            -0.021810 -0.035353\n",
       "Estudiante      0.897766  0.887112\n",
       "Casado         -0.022184 -0.041825\n",
       "South          -0.037986 -0.066964\n",
       "West           -0.016236 -0.043552"
      ]
     },
     "execution_count": 142,
     "metadata": {},
     "output_type": "execute_result"
    }
   ],
   "source": [
    "# importemos el método\n",
    "from sklearn.linear_model import Ridge\n",
    "# llamemos el método, con alpha = 1.0\n",
    "clf = Ridge(alpha=1.0)\n",
    "# Ajustemos el modelo\n",
    "clf.fit(prex_std, yy_std)\n",
    "# imprimamos los coeficientes estimados\n",
    "coef_scikit = pd.DataFrame(clf.coef_.T, index= labs_x, columns=['Scikit_Learn'])\n",
    "pd.concat((coef_scikit, ridge_nuestros),axis=1)"
   ]
  },
  {
   "cell_type": "code",
   "execution_count": 143,
   "metadata": {
    "slideshow": {
     "slide_type": "subslide"
    }
   },
   "outputs": [
    {
     "name": "stderr",
     "output_type": "stream",
     "text": [
      "<ipython-input-143-02165a1a2dc5>:13: FutureWarning: `rcond` parameter will change to the default of machine precision times ``max(M, N)`` where M and N are the input matrix dimensions.\n",
      "To use the future default and silence this warning we advise to pass `rcond=None`, to keep using the old, explicitly pass `rcond=-1`.\n",
      "  beta_l   = np.linalg.lstsq(xlamb, xty)[0]\n"
     ]
    },
    {
     "data": {
      "text/plain": [
       "Text(0.5, 1.0, 'Resultados Ridge Regression')"
      ]
     },
     "execution_count": 143,
     "metadata": {},
     "output_type": "execute_result"
    },
    {
     "data": {
      "image/png": "[encoded data removed]",
      "text/plain": [
       "<Figure size 432x288 with 1 Axes>"
      ]
     },
     "metadata": {
      "needs_background": "light"
     },
     "output_type": "display_data"
    }
   ],
   "source": [
    "# Miremos cómo cambian los coeficientes con distintos lambdas\n",
    "prex_con = prex_std.copy()\n",
    "\n",
    "LL = 100\n",
    "Llin = np.linspace(0,8000,LL)\n",
    "Beta_ridge    = np.zeros((LL,11))\n",
    "counter = 0\n",
    "for lamb in Llin:\n",
    "    # primero la matriz\n",
    "    xlamb  = np.dot(prex_con.T,prex_con) + lamb*np.eye(11)\n",
    "    # Ahora obtengamos la descomposición de cholesky:\n",
    "    xty    = np.dot(prex_con.T,yy_std)\n",
    "    beta_l   = np.linalg.lstsq(xlamb, xty)[0]\n",
    "    Beta_ridge[counter,:] = beta_l.flatten()\n",
    "    counter +=1\n",
    "\n",
    "plt.plot(np.arange(LL),Beta_ridge)\n",
    "plt.xticks(np.arange(100)[::20],np.round(Llin[::20],decimals=0).astype('int'), fontsize=8)\n",
    "plt.xlabel('$\\lambda$')\n",
    "plt.ylabel('Coeficientes Estandarizados')\n",
    "plt.title('Resultados Ridge Regression')\n"
   ]
  },
  {
   "cell_type": "code",
   "execution_count": 144,
   "metadata": {
    "slideshow": {
     "slide_type": "subslide"
    }
   },
   "outputs": [
    {
     "name": "stderr",
     "output_type": "stream",
     "text": [
      "<ipython-input-144-fc85acf434e7>:22: FutureWarning: `rcond` parameter will change to the default of machine precision times ``max(M, N)`` where M and N are the input matrix dimensions.\n",
      "To use the future default and silence this warning we advise to pass `rcond=None`, to keep using the old, explicitly pass `rcond=-1`.\n",
      "  beta_l   = np.linalg.lstsq(xlamb, xty)[0]\n"
     ]
    },
    {
     "data": {
      "text/plain": [
       "Text(0.5, 1.0, 'Resultados 10F CV')"
      ]
     },
     "execution_count": 144,
     "metadata": {},
     "output_type": "execute_result"
    },
    {
     "data": {
      "image/png": "[encoded data removed]",
      "text/plain": [
       "<Figure size 432x288 with 1 Axes>"
      ]
     },
     "metadata": {
      "needs_background": "light"
     },
     "output_type": "display_data"
    }
   ],
   "source": [
    "# cross-validation:\n",
    "K =10\n",
    "cv_grp = np.random.multinomial(1,[1.0/K]*K, N)\n",
    "SSRCv  = np.zeros((LL,K))\n",
    "for k in range(K):\n",
    "    # asignación en grupos\n",
    "    ind_train = cv_grp[:,k]==0\n",
    "    nobs_train = ind_train.sum()\n",
    "    ind_valid = cv_grp[:,k]==1\n",
    "    # variables\n",
    "    y_train   = yy_std[ind_train]\n",
    "    y_valid   = yy_std[ind_valid]\n",
    "    x_train   = prex_std[ind_train,:]\n",
    "    x_valid   = prex_std[ind_valid,:]\n",
    "    # listos para loop sobre los lambdas\n",
    "    counter = 0\n",
    "    for lamb in Llin:\n",
    "        # primero la matriz\n",
    "        xlamb  = np.dot(x_train.T,x_train) + lamb*np.eye(11)\n",
    "        xty    = np.dot(x_train.T,y_train)\n",
    "        # probemos con la función lstsq\n",
    "        beta_l   = np.linalg.lstsq(xlamb, xty)[0]\n",
    "        # ahora miremos el método usual\n",
    "        beta_l   = np.dot(np.linalg.inv(xlamb), xty)\n",
    "        # ssr en validación\n",
    "        yhat_valid = np.dot(x_valid,beta_l.reshape((11,1)))\n",
    "        y_diff     = y_valid - yhat_valid\n",
    "        ssr        = np.dot(y_diff.T, y_diff)\n",
    "        SSRCv[counter,k] = ssr[0,0]\n",
    "        counter += 1\n",
    "#pd.DataFrame(SSRCv.T).mean().loc[:10].plot()\n",
    "meancv = pd.DataFrame(SSRCv.T).mean().values\n",
    "semcv  = pd.DataFrame(SSRCv.T).sem().values\n",
    "plt.plot(meancv)\n",
    "plt.bar(np.arange(100),meancv, fc='w',ec='w', align='center', yerr=1.96*semcv, ecolor='r')\n",
    "plt.xticks(np.arange(100)[::2],np.round(Llin[::2],decimals=0).astype('int'), fontsize=8)\n",
    "plt.axis([0,12,0,20])\n",
    "plt.xlabel('$\\lambda$')\n",
    "plt.ylabel('SSR Promedio de 10CV')\n",
    "plt.title('Resultados 10F CV')"
   ]
  },
  {
   "cell_type": "markdown",
   "metadata": {
    "slideshow": {
     "slide_type": "subslide"
    }
   },
   "source": [
    "# Los resultados de 10F - CV sugieren que en este caso no es necesaria la regularización"
   ]
  },
  {
   "cell_type": "markdown",
   "metadata": {
    "slideshow": {
     "slide_type": "slide"
    }
   },
   "source": [
    "# Más regularización: Lasso\n",
    "\n",
    "\n",
    "* Lasso es otro método de regularización de los coeficientes, que utiliza una métrica distinta para penalizar coeficientes grandes.\n",
    "\n",
    "$$\n",
    "\\beta_{lasso} = argmin_{\\beta} (y - X\\beta)'(y - X\\beta) + \\lambda \\sum_j \\left \\vert \\beta_j \\right \\vert\n",
    "$$\n",
    "\n",
    "* Desde un punto de vista de optimización, este es un problema de [programación cuadrática](https://en.wikipedia.org/wiki/Quadratic_programming), i.e. uno donde la función objetivo es cuadrática y está sujeto a restricciones lineales.\n",
    "\n",
    "    * Una alternativa es utilizar una librería de optimización cuadrática como [`cvxopt`](http://cvxopt.org/).\n",
    "    * Vamos a ver otros métodos para resolver el problema de optimización que son computacionalmente eficientes.\n",
    "\n",
    "\n",
    "* Así que la mala noticia es que no hay una solución analítica, como si lo había en el caso del Ridge.\n",
    "\n",
    "\n",
    "* La principal diferencia entre el Lasso y el Ridge es que el segundo reduce los coeficientes, y en el límite, cuando $\\lambda \\rightarrow \\infty$, los coeficientes son cero.\n",
    "\n",
    "\n",
    "* En Lasso, parte de la solución son algunos coeficientes exactamente iguales a cero, *para cualquier valor de $\\lambda$*, así que es un método que permite hacer selección de variables.\n"
   ]
  },
  {
   "cell_type": "markdown",
   "metadata": {
    "slideshow": {
     "slide_type": "subslide"
    }
   },
   "source": [
    "# Comparación entre Lasso y Ridge\n",
    "\n",
    "![caption](figures/lasso_ridge.png)\n",
    "\n",
    "Figura 6.7 de [ISLR](http://www-bcf.usc.edu/~gareth/ISL/)"
   ]
  },
  {
   "cell_type": "markdown",
   "metadata": {
    "collapsed": true,
    "slideshow": {
     "slide_type": "subslide"
    }
   },
   "source": [
    "# ¿Cómo se encuentra la solución de Lasso?\n",
    "\n",
    "\n",
    "* Vamos a utilizar un método de optimización que se llama [coordinate descent](https://www.cs.cmu.edu/~ggordon/10725-F12/slides/25-coord-desc.pdf).\n",
    "\n",
    "\n",
    "* La idea es simple: queremos minimizar \n",
    "$$\n",
    "f(\\beta) = g(\\beta) + \\sum_i h_i(\\beta_i)\n",
    "$$\n",
    "\n",
    "\n",
    "donde $g$ es una función convexa y diferenciable, y cada una de las $h_i$ es una función convexa, no necesariamente diferenciable.\n",
    "\n",
    "\n",
    "* Para encontrar el mínimo podemos hacerlo *coordenada por coordenada*.\n",
    "\n",
    "\n",
    "* En el caso de Lasso, el siguiente algoritmo funciona perfectamente (ver [acá, por ejemplo](http://web.stanford.edu/~hastie/TALKS/glmnet.pdf))."
   ]
  },
  {
   "cell_type": "markdown",
   "metadata": {
    "slideshow": {
     "slide_type": "subslide"
    }
   },
   "source": [
    "# Pseudocódigo de Lasso vía Coordinate Descent\n",
    "\n",
    "\n",
    "* Estandaricemos la matriz $X$ y $y$.\n",
    "\n",
    "\n",
    "* Repita lo siguiente hasta que haya convergencia, para todo $k = 1, 2, \\cdots, p, 1, 2, \\cdots$:\n",
    "\n",
    "> **Paso 1**: Obtenga los residuos excluyendo el regresor $k$: \n",
    "$$    \n",
    "    r_{-k} = y - x_{-k}\\beta_{-k}\n",
    "$$\n",
    ">     donde $x_{-k}$ excluye al regresor $k$, y $\\beta_{-k}$ es la versión actual de los coeficientes excluyendo al $k-$ésimo.\n",
    "\n",
    "\n",
    "> **Paso 2**: Obtenga el estimador de OLS simple para el regresor $k$:\n",
    "    \n",
    "$$    \n",
    "    \\beta^*_{k} = \\frac{1}{N} r_{-k}'x_k = \\frac{1}{N} \\sum_j r_{-k,j}x_{jk}\n",
    "$$\n",
    "\n",
    "\n",
    "> **Paso 3**: Actualice $\\beta_k$ por medio de *soft-thresholding*\n",
    "\n",
    "$$\n",
    "\\begin{eqnarray*}\n",
    "\\beta_k &=& signo(\\beta^*_{k})(\\left \\vert \\beta^*_{k} \\right \\vert -\\lambda)_{+} \\\\\n",
    "\\end{eqnarray*}\n",
    "$$\n",
    "\n",
    ">  donde $(x)_{+} = max(0,x)$ denota la [parte positiva](http://mathworld.wolfram.com/PositivePart.html)"
   ]
  },
  {
   "cell_type": "markdown",
   "metadata": {
    "slideshow": {
     "slide_type": "subslide"
    }
   },
   "source": [
    "# Veamos cómo se hace en Python"
   ]
  },
  {
   "cell_type": "code",
   "execution_count": 145,
   "metadata": {
    "slideshow": {
     "slide_type": "skip"
    }
   },
   "outputs": [],
   "source": [
    "import pandas as pd\n",
    "import numpy as np\n",
    "import matplotlib.pyplot as plt\n",
    "%matplotlib inline \n",
    "\n",
    "\n",
    "data_cr = pd.read_csv('Files/Credit.csv')\n",
    "nobs    = data_cr.shape[0]\n",
    "saldo    = np.asarray(data_cr.Balance).reshape((nobs,1))\n",
    "male     = np.asarray(data_cr.Own==' Yes').reshape((nobs,1))\n",
    "student  = np.asarray(data_cr.Student=='Yes').reshape((nobs,1))\n",
    "married  = np.asarray(data_cr.Married=='Yes').reshape((nobs,1))\n",
    "eth_dum  = np.asarray(pd.get_dummies(data_cr.Region))[:,:-1]\n",
    "oth_xmat = data_cr[[u'Income', u'Limit', u'Rating', u'Cards', u'Age', u'Education']]\n",
    "\n",
    "labs_x = np.array([u'Income', u'Limit', u'Rating', u'Cards', u'Age', u'Education',\n",
    "              'Hombre','Estudiante','Casado','South','West'])\n",
    "\n",
    "prexmat  = np.concatenate((oth_xmat, male, student, married, eth_dum),axis=1)\n",
    "#print prexmat.shape\n",
    "nvar = prexmat.shape[1]\n",
    "# I will start by standardizing/normalizing the matrix\n",
    "prexmat_std = prexmat.copy()\n",
    "ind_dum = np.array([pd.Series(prexmat[:,k]).unique().shape[0] for k in range(nvar)])\n",
    "prexmat_std[:,ind_dum>2] -= prexmat_std[:,ind_dum>2].mean(axis=0).reshape((1,6))\n",
    "# get the norms\n",
    "norm_pxmat = np.array([np.linalg.norm(prexmat_std[:,ind_dum>2][:,k]) for k in range(np.sum(ind_dum>2))])\n",
    "# ready to normalize\n",
    "prexmat_std[:,ind_dum>2] /= prexmat_std[:,ind_dum>2].std(axis=0).reshape((1,6))\n",
    "\n",
    "# also standardize y\n",
    "yy_std = saldo.copy()\n",
    "yy_std = yy_std - yy_std.mean()\n",
    "yy_std = yy_std / yy_std.std()"
   ]
  },
  {
   "cell_type": "code",
   "execution_count": 146,
   "metadata": {
    "slideshow": {
     "slide_type": "subslide"
    }
   },
   "outputs": [
    {
     "name": "stdout",
     "output_type": "stream",
     "text": [
      "total iteraciones:  244\n"
     ]
    },
    {
     "data": {
      "text/html": [
       "<div>\n",
       "<style scoped>\n",
       "    .dataframe tbody tr th:only-of-type {\n",
       "        vertical-align: middle;\n",
       "    }\n",
       "\n",
       "    .dataframe tbody tr th {\n",
       "        vertical-align: top;\n",
       "    }\n",
       "\n",
       "    .dataframe thead th {\n",
       "        text-align: right;\n",
       "    }\n",
       "</style>\n",
       "<table border=\"1\" class=\"dataframe\">\n",
       "  <thead>\n",
       "    <tr style=\"text-align: right;\">\n",
       "      <th></th>\n",
       "      <th>Nuestro</th>\n",
       "    </tr>\n",
       "  </thead>\n",
       "  <tbody>\n",
       "    <tr>\n",
       "      <th>Income</th>\n",
       "      <td>-0.111265</td>\n",
       "    </tr>\n",
       "    <tr>\n",
       "      <th>Limit</th>\n",
       "      <td>0.287465</td>\n",
       "    </tr>\n",
       "    <tr>\n",
       "      <th>Rating</th>\n",
       "      <td>0.565110</td>\n",
       "    </tr>\n",
       "    <tr>\n",
       "      <th>Cards</th>\n",
       "      <td>0.000000</td>\n",
       "    </tr>\n",
       "    <tr>\n",
       "      <th>Age</th>\n",
       "      <td>-0.000000</td>\n",
       "    </tr>\n",
       "    <tr>\n",
       "      <th>Education</th>\n",
       "      <td>0.000000</td>\n",
       "    </tr>\n",
       "    <tr>\n",
       "      <th>Hombre</th>\n",
       "      <td>0.000000</td>\n",
       "    </tr>\n",
       "    <tr>\n",
       "      <th>Estudiante</th>\n",
       "      <td>0.000000</td>\n",
       "    </tr>\n",
       "    <tr>\n",
       "      <th>Casado</th>\n",
       "      <td>-0.000000</td>\n",
       "    </tr>\n",
       "    <tr>\n",
       "      <th>South</th>\n",
       "      <td>-0.000000</td>\n",
       "    </tr>\n",
       "    <tr>\n",
       "      <th>West</th>\n",
       "      <td>-0.000000</td>\n",
       "    </tr>\n",
       "  </tbody>\n",
       "</table>\n",
       "</div>"
      ],
      "text/plain": [
       "             Nuestro\n",
       "Income     -0.111265\n",
       "Limit       0.287465\n",
       "Rating      0.565110\n",
       "Cards       0.000000\n",
       "Age        -0.000000\n",
       "Education   0.000000\n",
       "Hombre      0.000000\n",
       "Estudiante  0.000000\n",
       "Casado     -0.000000\n",
       "South      -0.000000\n",
       "West       -0.000000"
      ]
     },
     "execution_count": 146,
     "metadata": {},
     "output_type": "execute_result"
    }
   ],
   "source": [
    "# Fijemos un lambda:\n",
    "lambda_vec = 0.1\n",
    "# Inicialicemos el vector:\n",
    "beta_actual = np.zeros((1,11))\n",
    "dist = 1\n",
    "counter = 0\n",
    "maxiter = 10000\n",
    "# loop externo: si no hay convergencia continúe\n",
    "while dist>0.001: \n",
    "    #or counter<maxiter:\n",
    "    # Loop interno: ciclo con los regresores\n",
    "    beta_old = beta_actual.copy()\n",
    "    for k in range(11):\n",
    "        # Residuos parciales excluyendo k\n",
    "        inc_k    = np.setdiff1d(np.arange(11),np.array([k]))\n",
    "        xmat_k   = prexmat_std[:,inc_k]\n",
    "        beta_k   = beta_actual[0,inc_k]\n",
    "        resids_k = yy_std - np.dot(xmat_k, beta_k.reshape((10,1)))\n",
    "        # OLS simple de k:\n",
    "        beta_star_k = np.dot(resids_k.T,prexmat_std[:,k].reshape((nobs,1)))/(1.0*nobs)\n",
    "        # Actualicemos beta_k\n",
    "        beta_actual[0,k] = np.sign(beta_star_k)*np.max([0,np.abs(beta_star_k)-lambda_vec])\n",
    "    # Actualicemos distancia:\n",
    "    dist = np.max(np.abs(beta_actual-beta_old))\n",
    "    counter +=1\n",
    "print(\"total iteraciones: \", counter)\n",
    "pd.DataFrame(beta_actual.T, index= labs_x.flatten(), columns = ['Nuestro'])"
   ]
  },
  {
   "cell_type": "markdown",
   "metadata": {
    "slideshow": {
     "slide_type": "subslide"
    }
   },
   "source": [
    "# Cómo se haría en Scikit-learn?"
   ]
  },
  {
   "cell_type": "code",
   "execution_count": 147,
   "metadata": {},
   "outputs": [
    {
     "data": {
      "text/html": [
       "<div>\n",
       "<style scoped>\n",
       "    .dataframe tbody tr th:only-of-type {\n",
       "        vertical-align: middle;\n",
       "    }\n",
       "\n",
       "    .dataframe tbody tr th {\n",
       "        vertical-align: top;\n",
       "    }\n",
       "\n",
       "    .dataframe thead th {\n",
       "        text-align: right;\n",
       "    }\n",
       "</style>\n",
       "<table border=\"1\" class=\"dataframe\">\n",
       "  <thead>\n",
       "    <tr style=\"text-align: right;\">\n",
       "      <th></th>\n",
       "      <th>Scikit-Learn</th>\n",
       "    </tr>\n",
       "  </thead>\n",
       "  <tbody>\n",
       "    <tr>\n",
       "      <th>Income</th>\n",
       "      <td>-0.109992</td>\n",
       "    </tr>\n",
       "    <tr>\n",
       "      <th>Limit</th>\n",
       "      <td>0.140338</td>\n",
       "    </tr>\n",
       "    <tr>\n",
       "      <th>Rating</th>\n",
       "      <td>0.710770</td>\n",
       "    </tr>\n",
       "    <tr>\n",
       "      <th>Cards</th>\n",
       "      <td>0.000000</td>\n",
       "    </tr>\n",
       "    <tr>\n",
       "      <th>Age</th>\n",
       "      <td>-0.000000</td>\n",
       "    </tr>\n",
       "    <tr>\n",
       "      <th>Education</th>\n",
       "      <td>0.000000</td>\n",
       "    </tr>\n",
       "    <tr>\n",
       "      <th>Hombre</th>\n",
       "      <td>0.000000</td>\n",
       "    </tr>\n",
       "    <tr>\n",
       "      <th>Estudiante</th>\n",
       "      <td>0.000000</td>\n",
       "    </tr>\n",
       "    <tr>\n",
       "      <th>Casado</th>\n",
       "      <td>-0.000000</td>\n",
       "    </tr>\n",
       "    <tr>\n",
       "      <th>South</th>\n",
       "      <td>-0.000000</td>\n",
       "    </tr>\n",
       "    <tr>\n",
       "      <th>West</th>\n",
       "      <td>-0.000000</td>\n",
       "    </tr>\n",
       "  </tbody>\n",
       "</table>\n",
       "</div>"
      ],
      "text/plain": [
       "            Scikit-Learn\n",
       "Income         -0.109992\n",
       "Limit           0.140338\n",
       "Rating          0.710770\n",
       "Cards           0.000000\n",
       "Age            -0.000000\n",
       "Education       0.000000\n",
       "Hombre          0.000000\n",
       "Estudiante      0.000000\n",
       "Casado         -0.000000\n",
       "South          -0.000000\n",
       "West           -0.000000"
      ]
     },
     "execution_count": 147,
     "metadata": {},
     "output_type": "execute_result"
    }
   ],
   "source": [
    "from sklearn import linear_model\n",
    "clf = linear_model.Lasso(alpha=0.1)\n",
    "clf.fit(prexmat_std,yy_std)\n",
    "pd.DataFrame(clf.coef_, index = labs_x, columns=['Scikit-Learn'])"
   ]
  },
  {
   "cell_type": "code",
   "execution_count": 148,
   "metadata": {
    "slideshow": {
     "slide_type": "subslide"
    }
   },
   "outputs": [],
   "source": [
    "# Miremos todo el path de lasso\n",
    "L = 100\n",
    "lambda_grid = np.linspace(0,0.6,L)\n",
    "BetaLasso  = np.zeros((L,11))\n",
    "for lamb in range(L):\n",
    "    lambda_vec = lambda_grid[lamb]\n",
    "    # Inicialicemos el vector:\n",
    "    beta_actual = np.zeros((1,11))\n",
    "    dist = 1\n",
    "    counter = 0\n",
    "    maxiter = 10000\n",
    "    # loop externo: si no hay convergencia continúe\n",
    "    while dist>0.001: \n",
    "        #or counter<maxiter:\n",
    "        # Loop interno: ciclo con los regresores\n",
    "        beta_old = beta_actual.copy()\n",
    "        for k in range(11):\n",
    "            # Residuos parciales excluyendo k\n",
    "            inc_k    = np.setdiff1d(np.arange(11),np.array([k]))\n",
    "            xmat_k   = prexmat_std[:,inc_k]\n",
    "            beta_k   = beta_actual[0,inc_k]\n",
    "            resids_k = yy_std - np.dot(xmat_k, beta_k.reshape((10,1)))\n",
    "            # OLS simple de k:\n",
    "            beta_star_k = np.dot(resids_k.T,prexmat_std[:,k].reshape((nobs,1)))/(1.0*nobs)\n",
    "            # Actualicemos beta_k\n",
    "            beta_actual[0,k] = np.sign(beta_star_k)*np.max([0,np.abs(beta_star_k)-lambda_vec])\n",
    "        # Actualicemos distancia:\n",
    "        dist = np.max(np.abs(beta_actual-beta_old))\n",
    "        counter +=1\n",
    "    # terminó, podemos actualizar\n",
    "    BetaLasso[lamb,:] = beta_actual.reshape((1,11))"
   ]
  },
  {
   "cell_type": "code",
   "execution_count": 149,
   "metadata": {
    "slideshow": {
     "slide_type": "subslide"
    }
   },
   "outputs": [
    {
     "data": {
      "text/plain": [
       "Text(0.5, 1.0, 'Path Completo de Lasso')"
      ]
     },
     "execution_count": 149,
     "metadata": {},
     "output_type": "execute_result"
    },
    {
     "data": {
      "image/png": "[encoded data removed]",
      "text/plain": [
       "<Figure size 432x288 with 1 Axes>"
      ]
     },
     "metadata": {
      "needs_background": "light"
     },
     "output_type": "display_data"
    }
   ],
   "source": [
    "BetaLassoDF = pd.DataFrame(BetaLasso, columns= labs_x)\n",
    "BetaLassoDF['lambda_lasso'] = lambda_grid\n",
    "# Grafiquemos:\n",
    "plt.plot(BetaLassoDF.lambda_lasso, BetaLassoDF.Income, label='Income', color='r')\n",
    "plt.plot(BetaLassoDF.lambda_lasso, BetaLassoDF.Rating, label='Rating', color='b')\n",
    "plt.plot(BetaLassoDF.lambda_lasso, BetaLassoDF.Limit,  label='Limit', color='g')\n",
    "labs_exc = np.array([u'Cards', u'Age', u'Education',\n",
    "              'Hombre','Estudiante','Casado','South','West'])\n",
    "for k in range(8):\n",
    "    plt.plot(BetaLassoDF.lambda_lasso, BetaLassoDF[labs_exc[k]], color='k')\n",
    "plt.legend()\n",
    "plt.xlabel('$\\lambda$')\n",
    "plt.ylabel('Coeficientes Estandarizados')\n",
    "plt.title('Path Completo de Lasso')"
   ]
  }
 ],
 "metadata": {
  "celltoolbar": "Slideshow",
  "kernelspec": {
   "display_name": "Python 3",
   "language": "python",
   "name": "python3"
  },
  "language_info": {
   "codemirror_mode": {
    "name": "ipython",
    "version": 3
   },
   "file_extension": ".py",
   "mimetype": "text/x-python",
   "name": "python",
   "nbconvert_exporter": "python",
   "pygments_lexer": "ipython3",
   "version": "3.8.8"
  }
 },
 "nbformat": 4,
 "nbformat_minor": 1
}
