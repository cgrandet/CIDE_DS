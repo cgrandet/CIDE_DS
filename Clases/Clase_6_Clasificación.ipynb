{
 "cells": [
  {
   "cell_type": "markdown",
   "metadata": {
    "id": "Y4xcj_5fDWv5"
   },
   "source": [
    "# Clase 6 Modelos lineales - clasificación\n",
    "\n",
    "Capítulo 4 de [ESL](http://web.stanford.edu/~hastie/ElemStatLearn/).\n",
    "\n",
    "Capítulo 4 de [ISL](http://www-bcf.usc.edu/~gareth/ISL/)\n"
   ]
  },
  {
   "cell_type": "markdown",
   "metadata": {
    "id": "lhvD7fj_ETlB"
   },
   "source": [
    "# Un vistazo a modelos\n",
    "\n",
    "<img src=\"https://miro.medium.com/max/1400/0*wfWRHuXD_OEaPUmN.jpeg\">"
   ]
  },
  {
   "cell_type": "markdown",
   "metadata": {
    "id": "ByOHYWI0fLrC"
   },
   "source": [
    "Todos los modelos de aprendizaje automático se clasifican como supervisados o no supervisados . Si el modelo es un modelo supervisado, entonces se subcategoriza como modelo de regresión o de clasificación . Repasaremos lo que significan estos términos y los modelos correspondientes que se incluyen en cada categoría a continuación.\n",
    "\n",
    "<img src=\"https://miro.medium.com/max/1400/1*XOAOuTfiPT5hGSLSNRSB4Q.png\">"
   ]
  },
  {
   "cell_type": "markdown",
   "metadata": {
    "id": "yiUq3WcqTsXk"
   },
   "source": [
    "### Aprendizaje supervisado\n",
    "El aprendizaje supervisado implica aprender una función que mapea una entrada a una salida basándose en pares de entrada-salida de ejemplo.\n",
    "\n",
    "Por ejemplo, si tuviera un conjunto de datos con dos variables, edad (entrada) y altura (salida), podría implementar un modelo de aprendizaje supervisado para predecir la altura de una persona en función de su edad.\n",
    "\n",
    "<img src=\"https://miro.medium.com/max/1400/1*NhlimsPFBurZKVEJbUN4Vg.png\">"
   ]
  },
  {
   "cell_type": "markdown",
   "metadata": {
    "id": "OTSauaCHU5Gv"
   },
   "source": [
    "Para reiterar, dentro del aprendizaje supervisado, hay dos subcategorías: regresión y clasificación.\n",
    "\n",
    "#### Regresión\n",
    "En los modelos de regresión , la salida es continua. A continuación, se muestran algunos de los tipos más comunes de modelos de regresión.\n",
    "\n",
    "##### Regresión Lineal\n",
    "La idea de la regresión lineal es simplemente encontrar una línea que se ajuste mejor a los datos. Las extensiones de regresión lineal incluyen regresión lineal múltiple (por ejemplo, encontrar un plano de mejor ajuste) y regresión polinomial (por ejemplo, encontrar una curva de mejor ajuste).\n",
    "\n",
    "<img src=\"https://miro.medium.com/max/1400/1*sOi6uKo3d-OxmA1caVmm0g.png\">\n",
    "\n",
    "##### Árboles de decisión\n",
    "\n",
    "Los árboles de decisión son un modelo popular que se utiliza en la investigación de operaciones, la planificación estratégica y el aprendizaje automático. Cada cuadro de arriba se llama nodo , y cuantos más nodos tenga, más preciso será su árbol de decisiones (generalmente). Los últimos nodos del árbol de decisiones, donde se toma una decisión, se denominan hojas del árbol. Los árboles de decisión son intuitivos y fáciles de construir, pero se quedan cortos cuando se trata de precisión.\n",
    "<img src=\"https://miro.medium.com/max/1400/1*L9AcBn8WmWN44s-NQiDbOQ.png\">\n",
    "\n",
    "##### Bosque aleatorio\n",
    "Los bosques aleatorios son una técnica de aprendizaje conjunto que se basa en árboles de decisión. Los bosques aleatorios implican la creación de múltiples árboles de decisión utilizando conjuntos de datos de arranque de los datos originales y la selección aleatoria de un subconjunto de variables en cada paso del árbol de decisión. Luego, el modelo selecciona el modo de todas las predicciones de cada árbol de decisión. ¿Cuál es el punto de esto? Al confiar en un modelo de \"mayoría gana\", reduce el riesgo de error de un árbol individual.\n",
    "\n",
    "Por ejemplo, si creamos un árbol de decisión, el tercero, predeciría 0. Pero si confiáramos en la moda de los 4 árboles de decisión, el valor predicho sería 1. Este es el poder de los bosques aleatorios.\n",
    "<img src=\"https://miro.medium.com/max/1400/1*RuglAQsrbJWG49kaXv6tdQ.png\">\n",
    "\n",
    "##### Otros ensemble\n",
    "Boosting es un enfoque de Machine Learning basado en la idea de crear una regla de predicción altamente precisa combinando muchas reglas relativamente débiles e imprecisas e iterando para encontrar cada vez mejores estimadores\n",
    "\n",
    "<img src=\"https://www.analyticsvidhya.com/wp-content/uploads/2015/11/bigd.png\">\n",
    "\n",
    "https://www.cs.princeton.edu/courses/archive/spr07/cos424/papers/boosting-survey.pdf\n",
    "\n",
    "##### Redes neuronales\n",
    "\n",
    "<img src=\"https://miro.medium.com/max/1314/1*o2xECsD8cGULb8YucHx_2w.png\">\n",
    "\n",
    "Una red neuronal es esencialmente una red de ecuaciones matemáticas. Toma una o más variables de entrada y, al pasar por una red de ecuaciones, da como resultado una o más variables de salida. \n",
    "\n",
    "Los círculos azules representan la capa de entrada, los círculos negros representan las capas ocultas y los círculos verdes representan la capa de salida. Cada nodo en las capas ocultas representa tanto una función lineal como una función de activación por la que pasan los nodos de la capa anterior, lo que finalmente conduce a una salida en los círculos verdes.\n",
    "\n",
    "\n"
   ]
  },
  {
   "cell_type": "markdown",
   "metadata": {
    "id": "TpkZv80wZAAw"
   },
   "source": [
    "#### Clasificación\n",
    "\n",
    "Clasificación\n",
    "En los modelos de clasificación, la salida es discreta. A continuación, se muestran algunos de los tipos más comunes de modelos de clasificación.\n",
    "\n",
    "\n",
    "##### Regresión logística\n",
    "La regresión logística es similar a la regresión lineal, pero se utiliza para modelar la probabilidad de un número finito de resultados, normalmente dos. Hay varias razones por las que se usa la regresión logística sobre la regresión lineal al modelar las probabilidades de los resultados (ver aquí ). En esencia, una ecuación logística se crea de tal manera que los valores de salida solo pueden estar entre 0 y 1 (ver más abajo).\n",
    "\n",
    "<img src=\"https://miro.medium.com/max/1400/1*USrdZ1puaFIIymBRcO51mg.png\">\n",
    "\n",
    "##### Máquinas de vectores soporte\n",
    "Una máquina de vectores de soporte es una técnica de clasificación supervisada que en realidad puede volverse bastante complicada, pero es bastante intuitiva en el nivel más fundamental.\n",
    "\n",
    "Supongamos que hay dos clases de datos. Una máquina de vectores de soporte encontrará un hiperplano o un límite entre las dos clases de datos que maximiza el margen entre las dos clases (ver más abajo). Hay muchos planos que pueden separar las dos clases, pero solo un plano puede maximizar el margen o la distancia entre las clases.\n",
    "\n",
    "<img src=\"https://miro.medium.com/max/600/0*kTUuRm1tGnEw0dHz.png\">"
   ]
  },
  {
   "cell_type": "markdown",
   "metadata": {
    "id": "1GVumZvTYQE5"
   },
   "source": [
    "Para más ve a https://machine-learning-with-python.readthedocs.io/en/latest/"
   ]
  },
  {
   "cell_type": "markdown",
   "metadata": {
    "id": "MvaynHQhYQZ4"
   },
   "source": [
    "´"
   ]
  },
  {
   "cell_type": "markdown",
   "metadata": {
    "id": "OuVrk5L532zQ"
   },
   "source": [
    "# Introducción a los Modelos de Clasificación\n",
    "\n",
    "\n",
    "* En las notas [introductorias](6_Intro_MachineLearning.ipynb) mencionamos algunos de los conceptos que siguen a continuación.\n",
    "\n",
    "\n",
    "* A diferencia de los modelos de regresión, los modelos de clasificación tienen como objetivo estimar la probabilidad de pertenecer a una categoría $k = 1, \\cdots, K$.\n",
    "\n",
    "\n",
    "* La variable dependiente $y_i$ es una variable *categórica* que indica a qué categoría pertenece el individuo $i$.\n",
    "\n",
    "\n",
    "* Así, $y_i \\in \\{1,0\\}$ indica la pertenencia a una de dos categorías, y las etiquetas $1,0$ carecen de contenido numérico u ordinal, así que los podríamos haber permutado, o nombrado de la manera que queramos.\n",
    "\n",
    "\n",
    "* Ejemplo del mundo de los negocios abundan:\n",
    "\n",
    "    * ¿Es el cliente alguien que potencialmente no paga su tarjeta de crédito?\n",
    "    \n",
    "    * ¿Es un cliente *fiel*, o nos abandonará en el siguiente período?\n",
    "    \n",
    "    * ¿Si le ofrecemos el producto, el cliente lo aceptará?"
   ]
  },
  {
   "cell_type": "markdown",
   "metadata": {
    "id": "jHIHQhaP32zQ"
   },
   "source": [
    "# Errores de Clasificación\n",
    "\n",
    "* A diferencia de un modelo de regresión, la estructura no ordinal de la variable dependiente enriquece el análisis de errores que podemos hacer para evaluar un modelo.\n",
    "\n",
    "\n",
    "* En regresión teníamos que una métrica de ajuste o error de un modelo era la *suma de residuos al cuadrado*.\n",
    "\n",
    "\n",
    "* En el caso de modelos de clasificación esta estructura es más rica.\n",
    "\n",
    "\n",
    "* Podemos empezar con el **error de clasificación**:\n",
    "\n",
    "$$\n",
    "\\frac{1}{N}\\sum_{i=1}^N I[\\hat{y}_i \\neq y_i]\n",
    "$$\n",
    "\n",
    "donde $I[x]$ es una variable indicadora que toma el valor $1$ cuando $x$ es verdadera y $0$ en caso contrario."
   ]
  },
  {
   "cell_type": "markdown",
   "metadata": {
    "id": "FjkDFN6j32zR"
   },
   "source": [
    "# ¿Pero cómo clasificamos?\n",
    "\n",
    "* Todavía no está claro, pero eventualmente formularemos modelos de la probabilidad de pertenecer a una categoría. \n",
    "\n",
    "\n",
    "* El resultado del modelo es una probabilidad estimada $\\hat{p}_{ik}$ de que el individuo $i$ pertenezca a la categoría $k \\in 1, \\cdots, K$.\n",
    "\n",
    "\n",
    "* La probabilidad nos da una medida contínua de pertenecer a una categoría, pero nuestro objetivo es predicir la categoría.\n",
    "\n",
    "\n",
    "* Así, por ejemplo, podemos decir que el individuo $i$ pertenece a la categoría que maximiza la probabilidad.\n",
    "\n",
    "    * En el caso de dos categorías: la predicción es \n",
    "    $$\n",
    "    i \\hat{\\in} k \\iff \\hat{p}_{ik}>0.5\n",
    "    $$\n",
    "    \n",
    "   \n",
    "* Pero **noten** que el valor límite o *threshold* $0.5$ es arbitrario, y más adelante veremos que podemos utilizar cualquiera en el intervalo $[min(\\hat{p}_{i,k}), max(\\hat{p}_{i,k})]$"
   ]
  },
  {
   "cell_type": "markdown",
   "metadata": {
    "id": "AM4UVfnD9fPP"
   },
   "source": [
    "\n",
    "\n",
    "# Evaluacion de clasificadores"
   ]
  },
  {
   "cell_type": "markdown",
   "metadata": {
    "id": "95UzAh3w9fPQ"
   },
   "source": [
    "\n",
    "\n",
    "Vamos a crear un conjunto de datos a partir de 2 distribuciones. Cada distribución se etiqueta con una clase. Los valores de ambas se deben cruzar para simular el problema que queremos definir."
   ]
  },
  {
   "cell_type": "code",
   "execution_count": 1476,
   "metadata": {
    "id": "7Cx8GZyu9fPQ"
   },
   "outputs": [],
   "source": [
    "import numpy as np\n",
    "from matplotlib import pyplot as plt\n",
    "%matplotlib inline\n"
   ]
  },
  {
   "cell_type": "code",
   "execution_count": 1477,
   "metadata": {
    "id": "UL7JTh2Y9fPR"
   },
   "outputs": [],
   "source": [
    "total_p = 1000\n",
    "total_n = 1000\n",
    "px = [np.random.normal(10,3) for _ in range(total_p)]\n",
    "nx = [np.random.normal(20,3) for _ in range(total_n)]\n",
    "x = np.concatenate([px,nx])\n",
    "classes = np.concatenate([[\"p\"]*total_p,[\"n\"]*total_n])"
   ]
  },
  {
   "cell_type": "code",
   "execution_count": 1478,
   "metadata": {
    "colab": {
     "base_uri": "https://localhost:8080/",
     "height": 503
    },
    "id": "XYthV9ct9fPR",
    "outputId": "3b0dd2e6-7c01-432f-d22d-647ad025ff05"
   },
   "outputs": [
    {
     "data": {
      "text/plain": [
       "(array([  1.,   0.,   1.,   2.,   5.,   4.,  21.,  19.,  37.,  44.,  66.,\n",
       "        102.,  90.,  85.,  93.,  96.,  80.,  96.,  63.,  56.,  60.,  63.,\n",
       "         73.,  70.,  84., 101., 108., 101.,  91.,  83.,  70.,  54.,  34.,\n",
       "         16.,  14.,   9.,   4.,   3.,   0.,   1.]),\n",
       " array([-1.35318129, -0.55669859,  0.23978412,  1.03626683,  1.83274954,\n",
       "         2.62923225,  3.42571496,  4.22219766,  5.01868037,  5.81516308,\n",
       "         6.61164579,  7.4081285 ,  8.2046112 ,  9.00109391,  9.79757662,\n",
       "        10.59405933, 11.39054204, 12.18702474, 12.98350745, 13.77999016,\n",
       "        14.57647287, 15.37295558, 16.16943829, 16.96592099, 17.7624037 ,\n",
       "        18.55888641, 19.35536912, 20.15185183, 20.94833453, 21.74481724,\n",
       "        22.54129995, 23.33778266, 24.13426537, 24.93074808, 25.72723078,\n",
       "        26.52371349, 27.3201962 , 28.11667891, 28.91316162, 29.70964432,\n",
       "        30.50612703]),\n",
       " <a list of 40 Patch objects>)"
      ]
     },
     "execution_count": 1478,
     "metadata": {},
     "output_type": "execute_result"
    },
    {
     "data": {
      "image/png": "[encoded data removed]",
      "text/plain": [
       "<Figure size 432x288 with 1 Axes>"
      ]
     },
     "metadata": {
      "needs_background": "light"
     },
     "output_type": "display_data"
    }
   ],
   "source": [
    "plt.hist(x,bins=40)"
   ]
  },
  {
   "cell_type": "markdown",
   "metadata": {
    "id": "G5hlq18z9fPR"
   },
   "source": [
    "\n",
    "\n",
    "Aunque se perciba todo del mismo tipo, tenemos presentes las clases verdaderas"
   ]
  },
  {
   "cell_type": "code",
   "execution_count": 1479,
   "metadata": {
    "colab": {
     "base_uri": "https://localhost:8080/",
     "height": 265
    },
    "id": "r1K00yEG9fPS",
    "outputId": "4f529763-a2fd-402c-fa38-a5a32e90cdf8"
   },
   "outputs": [
    {
     "data": {
      "image/png": "[encoded data removed]",
      "text/plain": [
       "<Figure size 432x288 with 1 Axes>"
      ]
     },
     "metadata": {
      "needs_background": "light"
     },
     "output_type": "display_data"
    }
   ],
   "source": [
    "plt.hist(px,bins=20,color=\"r\", alpha = .5)\n",
    "plt.hist(nx,bins=20,color=\"blue\", alpha = .5)\n",
    "plt.show()"
   ]
  },
  {
   "cell_type": "markdown",
   "metadata": {
    "id": "tuy3mq169fPS"
   },
   "source": [
    "\n",
    "\n",
    "## 1 modelo simple"
   ]
  },
  {
   "cell_type": "markdown",
   "metadata": {
    "id": "9nxsK-Cy9fPS"
   },
   "source": [
    "\n",
    "\n",
    "Creemos un clasificador muy simple, que divide las clases entre n y p, por la mitad de sus medias. Es decir que indique true para cada valor que es menor que la mitad."
   ]
  },
  {
   "cell_type": "code",
   "execution_count": 1480,
   "metadata": {
    "colab": {
     "base_uri": "https://localhost:8080/"
    },
    "id": "SOm0ywyC9fPT",
    "outputId": "dbf4711d-3c04-49ba-acf3-f35328416a0b"
   },
   "outputs": [
    {
     "data": {
      "text/plain": [
       "array(['p', 'p', 'p', 'p', 'p', 'p', 'p', 'p', 'p', 'p', 'p', 'p', 'p',\n",
       "       'p', 'n', 'n', 'n', 'n', 'n', 'n', 'n', 'n', 'n', 'n', 'n', 'n',\n",
       "       'n', 'n', 'n'], dtype='<U1')"
      ]
     },
     "execution_count": 1480,
     "metadata": {},
     "output_type": "execute_result"
    }
   ],
   "source": [
    "def model(x,threshold):\n",
    "    model_map = {True:\"p\",False:\"n\"}\n",
    "    result = x<threshold\n",
    "    result = np.vectorize(model_map.get)(result)\n",
    "    return result\n",
    "\n",
    "first_model_threshold = 15\n",
    "testx = np.arange(1,30)\n",
    "model(testx,threshold=first_model_threshold)"
   ]
  },
  {
   "cell_type": "markdown",
   "metadata": {
    "id": "K5vDJyNC9fPT"
   },
   "source": [
    "\n",
    "\n",
    "Predecimos con nuestro modelo para comprobar su precisión, sobre las clases asignadas"
   ]
  },
  {
   "cell_type": "code",
   "execution_count": 1481,
   "metadata": {
    "id": "hvEY7mJc9fPT"
   },
   "outputs": [],
   "source": [
    "class_predicted = model(x,15)"
   ]
  },
  {
   "cell_type": "code",
   "execution_count": 1482,
   "metadata": {},
   "outputs": [
    {
     "data": {
      "text/plain": [
       "array(['p', 'p', 'p', ..., 'n', 'n', 'n'], dtype='<U1')"
      ]
     },
     "execution_count": 1482,
     "metadata": {},
     "output_type": "execute_result"
    }
   ],
   "source": [
    "class_predicted"
   ]
  },
  {
   "cell_type": "markdown",
   "metadata": {
    "id": "H1ffEpET9fPT"
   },
   "source": [
    "\n",
    "# Definir metricas\n",
    "\n",
    "En los modelos de clasificación existen varias métricas de interés\n",
    "\n",
    "## La Matriz de confusión\n",
    "\n",
    "En el campo de la inteligencia artificial  y el aprendizaje automático una matriz de confusión es una herramienta que permite visualizar el desempeño de un algoritmo  de aprendizaje supervisado. Cada columna de la matriz representa el número de predicciones de cada clase, mientras que cada fila representa a las instancias en la clase real., o sea en términos prácticos nos permite ver  qué tipos de aciertos y errores está teniendo nuestro modelo a la hora de pasar por el proceso de aprendizaje con los datos.\n",
    "\n",
    "\n"
   ]
  },
  {
   "cell_type": "code",
   "execution_count": 1483,
   "metadata": {
    "colab": {
     "base_uri": "https://localhost:8080/",
     "height": 142
    },
    "id": "Zo_IqyHGQoqW",
    "outputId": "75b935e4-febe-4cd4-9f33-1fa158bd7e7c"
   },
   "outputs": [
    {
     "data": {
      "text/html": [
       "<div>\n",
       "<style scoped>\n",
       "    .dataframe tbody tr th:only-of-type {\n",
       "        vertical-align: middle;\n",
       "    }\n",
       "\n",
       "    .dataframe tbody tr th {\n",
       "        vertical-align: top;\n",
       "    }\n",
       "\n",
       "    .dataframe thead th {\n",
       "        text-align: right;\n",
       "    }\n",
       "</style>\n",
       "<table border=\"1\" class=\"dataframe\">\n",
       "  <thead>\n",
       "    <tr style=\"text-align: right;\">\n",
       "      <th>col_0</th>\n",
       "      <th>n</th>\n",
       "      <th>p</th>\n",
       "    </tr>\n",
       "    <tr>\n",
       "      <th>row_0</th>\n",
       "      <th></th>\n",
       "      <th></th>\n",
       "    </tr>\n",
       "  </thead>\n",
       "  <tbody>\n",
       "    <tr>\n",
       "      <th>n</th>\n",
       "      <td>951</td>\n",
       "      <td>49</td>\n",
       "    </tr>\n",
       "    <tr>\n",
       "      <th>p</th>\n",
       "      <td>56</td>\n",
       "      <td>944</td>\n",
       "    </tr>\n",
       "  </tbody>\n",
       "</table>\n",
       "</div>"
      ],
      "text/plain": [
       "col_0    n    p\n",
       "row_0          \n",
       "n      951   49\n",
       "p       56  944"
      ]
     },
     "execution_count": 1483,
     "metadata": {},
     "output_type": "execute_result"
    }
   ],
   "source": [
    "import pandas as pd \n",
    "pd.crosstab(classes, class_predicted)"
   ]
  },
  {
   "cell_type": "code",
   "execution_count": null,
   "metadata": {},
   "outputs": [],
   "source": []
  },
  {
   "cell_type": "markdown",
   "metadata": {
    "id": "nlkGd9hG32zW"
   },
   "source": [
    "\n",
    "\n",
    "* Veamos el caso más simple de dos categorías $y_i \\in \\{0,1\\}$.\n",
    "\n",
    "\n",
    "* Aunque el error de clasificación anterior permite tener una primera métrica, para nosotros puede ser más relevante clasificar mal a una categoría que a otra.\n",
    "\n",
    "* Para esto se crea una matriz de confusión, donde las filas denotan la clasificación real u observada y las columnas la clasificación que se obtiene del modelo.\n",
    "\n",
    "$$\n",
    "\\begin{array}{|c|c|c|}\n",
    "\\hline\n",
    "& \\bf \\hat{0} & \\bf \\hat{1} \\\\\n",
    "\\hline\n",
    "\\bf 0 & \\text{Verdaderos Positivos} & \\text{Falsos Negativos} \\\\\n",
    "\\hline\n",
    "\\bf 1 & \\text{Falsos Positivos} & \\text{Verdaderos Negativos} \\\\\n",
    "\\hline\n",
    "\\end{array}\n",
    "$$\n",
    "\n",
    "\n",
    "* Acá estamos siguiendo la tradición en esta literatura de denotar a la categoría $1$ como un negativo, y la categoría $0$ como positivo.\n",
    "\n",
    "\n",
    "* Lo importante es entender que con $K$ categorías tenemos la posibilidad de encontrar $K$ errores de clasificación distintos.\n",
    "\n",
    "* Hay dos métricas importantes que se obtienen de una matriz de confusión:\n",
    "\n",
    "    1. **Precision**: o tasa de verdaderos positivos\n",
    "    $$\n",
    "    \\text{sensibilidad} = \\frac{VP}{VP + FP}\n",
    "    $$\n",
    "    \n",
    "    2. **Recall**: o tasa de verdaderos negativos\n",
    "    $$\n",
    "    \\text{precisión} = \\frac{VP}{VP + FN}\n",
    "    $$\n",
    "    \n",
    "* En el contexto de modelos de clasificación:\n",
    "\n",
    "    * **Error Tipo 1:** o falso positivo: $1-\\text{precisión}$\n",
    "    * **Error Tipo 2:** o falso negativo: $1-\\text{recall}$"
   ]
  },
  {
   "cell_type": "markdown",
   "metadata": {
    "id": "knbGvbg6Pu8P"
   },
   "source": [
    "### Metricas que surgen de la matriz de confusión \n",
    "\n",
    "1. La Exactitud (accuracy)\n",
    "la Exactitud  ( en inglés, “Accuracy”) se refiere a lo cerca que está el resultado de una medición del valor verdadero. En términos estadísticos, la exactitud está relacionada con el sesgo de una estimación. También se conoce como Verdadero Positivo (o “True positive rate”).  Se representa por la proporción entre los positivos reales predichos por el algoritmo y todos los casos positivos.\n",
    "\n",
    "En forma práctica la Exactitud es  la cantidad de predicciones positivas que fueron correctas.\n",
    "\n",
    "2. La precisión (precisión)\n",
    "La Precisión (en inglés “Precision”) se refiere a la dispersión del conjunto de valores obtenidos a partir de mediciones repetidas de una magnitud. Cuanto menor es la dispersión mayor la precisión. Se representa por la proporción entre el número de predicciones correctas (tanto positivas como negativas) y el total de predicciones.\n",
    "\n",
    "En forma práctica es  el porcentaje de casos positivos detectados.\n",
    "\n",
    "Se calcula como:  TP/(TP+FP)\n",
    "\n",
    "3. La Sensibilidad (“Recall” o “Sensitivity” ),\n",
    "También se conoce como Tasa de Verdaderos Positivos (True Positive Rate) ó TP. Es la proporción de casos positivos que fueron correctamente identificadas por el algoritmo.\n",
    "\n",
    "Se calcula:  TP/(TP+FN),   o lo que seria igual en términos de salud:  Verdaderos positivos / Total Enfermos (o bien:  es la capacidad de de poder detectar correctamente la enfermedad entre los enfermos).\n",
    "\n",
    "4. La Especificidad (“Especificity”)\n",
    "También conocida como la Tasa de Verdaderos Negativos, (“true negative rate”) o TN. Se trata de los casos negativos que el algoritmo ha clasificado correctamente.  Expresa cuan bien puede el modelo detectar esa clase.\n",
    "Se calcula:  TN/(TN+FP), o lo que seria igual en términos de salud:  Verdaderos Negativos / Total Sanos (o bien:  la capacidad de poder identificar los casos de los pacientes sanos entre todos los sanos)\n",
    "\n",
    "<img src=\"https://www.researchgate.net/publication/336402347/figure/fig3/AS:812472659349505@1570719985505/Calculation-of-Precision-Recall-and-Accuracy-in-the-confusion-matrix.ppm\">"
   ]
  },
  {
   "cell_type": "markdown",
   "metadata": {
    "id": "5A_or70f9fPT"
   },
   "source": [
    "\n",
    "\n",
    "Si contamos en términos generales cuántas se han acertado, es decir, bien clasificadas, se han acertado casi todas. esta es la métrica precision (accuracy)."
   ]
  },
  {
   "cell_type": "code",
   "execution_count": 1484,
   "metadata": {
    "colab": {
     "base_uri": "https://localhost:8080/"
    },
    "id": "btMi0PW69fPU",
    "outputId": "b80e5909-642e-422f-c668-06e6029c04e4"
   },
   "outputs": [
    {
     "data": {
      "text/plain": [
       "0.9475"
      ]
     },
     "execution_count": 1484,
     "metadata": {},
     "output_type": "execute_result"
    }
   ],
   "source": [
    "sum(classes == class_predicted)/len(classes)"
   ]
  },
  {
   "cell_type": "code",
   "execution_count": 1485,
   "metadata": {
    "id": "VqW9czAF9fPU"
   },
   "outputs": [],
   "source": [
    "def accuracy(classes,predicted,positive_class,debug=True):\n",
    "    if not debug:\n",
    "        print(\"Simple implementation\")\n",
    "    return sum(classes == predicted)/len(classes)"
   ]
  },
  {
   "cell_type": "code",
   "execution_count": 1486,
   "metadata": {
    "colab": {
     "base_uri": "https://localhost:8080/"
    },
    "id": "U90VOkri9fPU",
    "outputId": "9f163bf7-e7c9-4e01-d68c-7de0d5e10c12"
   },
   "outputs": [
    {
     "data": {
      "text/plain": [
       "0.9475"
      ]
     },
     "execution_count": 1486,
     "metadata": {},
     "output_type": "execute_result"
    }
   ],
   "source": [
    "accuracy(classes=classes,predicted=class_predicted,positive_class=\"p\")"
   ]
  },
  {
   "cell_type": "code",
   "execution_count": 1487,
   "metadata": {
    "colab": {
     "base_uri": "https://localhost:8080/",
     "height": 265
    },
    "id": "CW8U-GAI9fPU",
    "outputId": "1c2fafdb-15e6-4ad5-b901-e55cd35a4ed5"
   },
   "outputs": [
    {
     "data": {
      "image/png": "[encoded data removed]",
      "text/plain": [
       "<Figure size 432x288 with 1 Axes>"
      ]
     },
     "metadata": {
      "needs_background": "light"
     },
     "output_type": "display_data"
    }
   ],
   "source": [
    "plt.hist(px,bins=20,color=\"r\", alpha = .5)\n",
    "plt.hist(nx,bins=20,color=\"blue\", alpha = .5)\n",
    "plt.vlines(first_model_threshold,0,130)\n",
    "plt.show()"
   ]
  },
  {
   "cell_type": "markdown",
   "metadata": {
    "id": "tDdAlcVU9fPU"
   },
   "source": [
    "\n",
    "\n",
    "¿Cómo de bueno ha sido distinguiendo las muestras p, de las n ? Para esto necesitamos reflejar sensibilidad (recall) y precision)  \n",
    "\n",
    "Para la Sensibilidad necesitamos dividir todas las clasificadas como p, entre las que existen."
   ]
  },
  {
   "cell_type": "code",
   "execution_count": 1488,
   "metadata": {
    "colab": {
     "base_uri": "https://localhost:8080/"
    },
    "id": "kGSVE1Yy9fPU",
    "outputId": "03aebc30-c9ae-4b6b-945b-c9b32eb820e2"
   },
   "outputs": [
    {
     "data": {
      "text/plain": [
       "0.944"
      ]
     },
     "execution_count": 1488,
     "metadata": {},
     "output_type": "execute_result"
    }
   ],
   "source": [
    "sum((class_predicted == \"p\") & (classes==\"p\")) / sum(classes==\"p\")"
   ]
  },
  {
   "cell_type": "code",
   "execution_count": 1489,
   "metadata": {
    "id": "FJ2HsGZU9fPU"
   },
   "outputs": [],
   "source": [
    "def recall(classes, predicted, positive_class):\n",
    "    return sum((predicted == positive_class) & (classes==positive_class)) / sum(classes==positive_class)"
   ]
  },
  {
   "cell_type": "code",
   "execution_count": 1490,
   "metadata": {
    "colab": {
     "base_uri": "https://localhost:8080/"
    },
    "id": "9xOer7LK9fPV",
    "outputId": "19433421-d2c2-4c72-de03-65a0c04f5074"
   },
   "outputs": [
    {
     "data": {
      "text/plain": [
       "0.944"
      ]
     },
     "execution_count": 1490,
     "metadata": {},
     "output_type": "execute_result"
    }
   ],
   "source": [
    "recall(classes=classes,predicted=class_predicted,positive_class=\"p\")"
   ]
  },
  {
   "cell_type": "markdown",
   "metadata": {
    "id": "53RVRJLD9fPV"
   },
   "source": [
    "\n",
    "\n",
    "Y para la precisión, de las que se han señalado como p, cuales lo son realmente"
   ]
  },
  {
   "cell_type": "code",
   "execution_count": 1491,
   "metadata": {
    "colab": {
     "base_uri": "https://localhost:8080/"
    },
    "id": "xrDbm7hw9fPV",
    "outputId": "c222bbc4-2dc8-47bf-e03b-8c3b6ed30736"
   },
   "outputs": [
    {
     "data": {
      "text/plain": [
       "0.9506545820745217"
      ]
     },
     "execution_count": 1491,
     "metadata": {},
     "output_type": "execute_result"
    }
   ],
   "source": [
    "sum((class_predicted == \"p\") & (classes==\"p\")) /  sum(class_predicted==\"p\")"
   ]
  },
  {
   "cell_type": "code",
   "execution_count": 1492,
   "metadata": {
    "id": "eDtS39wC9fPV"
   },
   "outputs": [],
   "source": [
    "def precision(classes, predicted, positive_class):\n",
    "    return sum((predicted == positive_class) & (classes==positive_class)) / sum(predicted==positive_class)"
   ]
  },
  {
   "cell_type": "code",
   "execution_count": 1493,
   "metadata": {
    "colab": {
     "base_uri": "https://localhost:8080/"
    },
    "id": "MX0H8IW79fPV",
    "outputId": "074e5bba-0220-4887-b7c7-82c46b274e1b"
   },
   "outputs": [
    {
     "data": {
      "text/plain": [
       "0.9506545820745217"
      ]
     },
     "execution_count": 1493,
     "metadata": {},
     "output_type": "execute_result"
    }
   ],
   "source": [
    "precision(classes, class_predicted, \"p\")"
   ]
  },
  {
   "cell_type": "markdown",
   "metadata": {
    "id": "avi5TUIM9fPW"
   },
   "source": [
    "\n",
    "\n",
    "## 3 modelos simples"
   ]
  },
  {
   "cell_type": "code",
   "execution_count": 1494,
   "metadata": {
    "id": "XJFK4trg9fPW"
   },
   "outputs": [],
   "source": [
    "def model_1(x):\n",
    "    return model(x,threshold=12.5)\n",
    "def model_2(x):\n",
    "    return model(x,threshold=15)\n",
    "def model_3(x):\n",
    "    return model(x,threshold=17.5)"
   ]
  },
  {
   "cell_type": "code",
   "execution_count": 1495,
   "metadata": {
    "id": "WxVy8czN9fPW"
   },
   "outputs": [],
   "source": [
    "class_predicted_1 = model_1(x)\n",
    "class_predicted_2 = model_2(x)\n",
    "class_predicted_3 = model_3(x)"
   ]
  },
  {
   "cell_type": "markdown",
   "metadata": {
    "id": "vdz1MeD69fPW"
   },
   "source": [
    "\n",
    "\n",
    "modelo 1"
   ]
  },
  {
   "cell_type": "code",
   "execution_count": 1496,
   "metadata": {},
   "outputs": [
    {
     "data": {
      "image/png": "[encoded data removed]",
      "text/plain": [
       "<Figure size 432x288 with 1 Axes>"
      ]
     },
     "metadata": {
      "needs_background": "light"
     },
     "output_type": "display_data"
    }
   ],
   "source": [
    "plt.hist(px,bins=20,color=\"r\", alpha = .5)\n",
    "plt.hist(nx,bins=20,color=\"blue\", alpha = .5)\n",
    "plt.vlines(12.5,0,130)\n",
    "plt.show()"
   ]
  },
  {
   "cell_type": "code",
   "execution_count": 1497,
   "metadata": {
    "colab": {
     "base_uri": "https://localhost:8080/"
    },
    "id": "jhr9APSt9fPW",
    "outputId": "9b7c238f-611f-4b9b-ef3b-7b3575199766"
   },
   "outputs": [
    {
     "name": "stdout",
     "output_type": "stream",
     "text": [
      "Accuracy 0.885\n",
      "Recall 0.779\n",
      "Precision 0.9885786802030457\n"
     ]
    }
   ],
   "source": [
    "print(\"Accuracy\",accuracy(classes=classes,predicted=class_predicted_1,positive_class=\"p\"))\n",
    "print(\"Recall\",recall(classes=classes,predicted=class_predicted_1,positive_class=\"p\"))\n",
    "print(\"Precision\",precision(classes=classes,predicted=class_predicted_1,positive_class=\"p\"))"
   ]
  },
  {
   "cell_type": "markdown",
   "metadata": {
    "id": "uuiJ3UPs9fPW"
   },
   "source": [
    "\n",
    "\n",
    "modelo 2"
   ]
  },
  {
   "cell_type": "code",
   "execution_count": 1498,
   "metadata": {
    "colab": {
     "base_uri": "https://localhost:8080/"
    },
    "id": "lTFnQjFF9fPW",
    "outputId": "993cffc4-c1c0-4c9a-9fc1-be84dc78679b"
   },
   "outputs": [
    {
     "name": "stdout",
     "output_type": "stream",
     "text": [
      "Accuracy 0.9475\n",
      "Recall 0.944\n",
      "Precision 0.9506545820745217\n"
     ]
    }
   ],
   "source": [
    "print(\"Accuracy\",accuracy(classes=classes,predicted=class_predicted_2,positive_class=\"p\"))\n",
    "print(\"Recall\",recall(classes=classes,predicted=class_predicted_2,positive_class=\"p\"))\n",
    "print(\"Precision\",precision(classes=classes,predicted=class_predicted_2,positive_class=\"p\"))"
   ]
  },
  {
   "cell_type": "markdown",
   "metadata": {
    "id": "3JHuHjnH9fPX"
   },
   "source": [
    "\n",
    "\n",
    "modelo 3"
   ]
  },
  {
   "cell_type": "code",
   "execution_count": 1499,
   "metadata": {},
   "outputs": [
    {
     "data": {
      "image/png": "[encoded data removed]",
      "text/plain": [
       "<Figure size 432x288 with 1 Axes>"
      ]
     },
     "metadata": {
      "needs_background": "light"
     },
     "output_type": "display_data"
    }
   ],
   "source": [
    "plt.hist(px,bins=20,color=\"r\", alpha = .5)\n",
    "plt.hist(nx,bins=20,color=\"blue\", alpha = .5)\n",
    "plt.vlines(17.5,0,130)\n",
    "plt.show()"
   ]
  },
  {
   "cell_type": "code",
   "execution_count": 1500,
   "metadata": {
    "colab": {
     "base_uri": "https://localhost:8080/"
    },
    "id": "zWv2NP7_9fPX",
    "outputId": "26d24d76-de77-486e-e90d-69ae3f20ee95"
   },
   "outputs": [
    {
     "name": "stdout",
     "output_type": "stream",
     "text": [
      "Accuracy 0.8915\n",
      "Recall 0.995\n",
      "Precision 0.824357912178956\n"
     ]
    }
   ],
   "source": [
    "print(\"Accuracy\",accuracy(classes=classes,predicted=class_predicted_3,positive_class=\"p\"))\n",
    "print(\"Recall\",recall(classes=classes,predicted=class_predicted_3,positive_class=\"p\"))\n",
    "print(\"Precision\",precision(classes=classes,predicted=class_predicted_3,positive_class=\"p\"))"
   ]
  },
  {
   "cell_type": "code",
   "execution_count": 1501,
   "metadata": {
    "colab": {
     "base_uri": "https://localhost:8080/",
     "height": 281
    },
    "id": "scn5YISq9fPX",
    "outputId": "cf8d886b-9f83-414b-d58e-8d5e581af39c"
   },
   "outputs": [
    {
     "data": {
      "image/png": "[encoded data removed]",
      "text/plain": [
       "<Figure size 432x288 with 1 Axes>"
      ]
     },
     "metadata": {
      "needs_background": "light"
     },
     "output_type": "display_data"
    }
   ],
   "source": [
    "plt.hist(px,bins=20,color=\"r\", alpha = .5)\n",
    "plt.hist(nx,bins=20,color=\"blue\", alpha = .5)\n",
    "plt.title(\"3 simple models\")\n",
    "plt.vlines(12.5,0,130)\n",
    "plt.vlines(15,0,130)\n",
    "plt.vlines(17.5,0,130)\n",
    "\n",
    "plt.show()"
   ]
  },
  {
   "cell_type": "markdown",
   "metadata": {
    "id": "zrEFMdmT9fPX"
   },
   "source": [
    "\n",
    "\n",
    "## muchos modelos simples"
   ]
  },
  {
   "cell_type": "markdown",
   "metadata": {
    "id": "g6ww20RP9fPX"
   },
   "source": [
    "\n",
    "\n",
    "Creamos ahora \"modelos\" con unmbrales del 5 al 25 de 2 en dos, e introducimos las métricas en listas para comprobar como de bien evolucionan las 3 métricas"
   ]
  },
  {
   "cell_type": "code",
   "execution_count": 1502,
   "metadata": {
    "colab": {
     "base_uri": "https://localhost:8080/"
    },
    "id": "fkAcBDQ89fPX",
    "outputId": "44ab32a9-3d99-46c9-be0a-52bf68ebf16d"
   },
   "outputs": [
    {
     "data": {
      "text/plain": [
       "array([ 5,  7,  9, 11, 13, 15, 17, 19, 21, 23, 25])"
      ]
     },
     "execution_count": 1502,
     "metadata": {},
     "output_type": "execute_result"
    }
   ],
   "source": [
    "thresholds = np.arange(5,27,2)\n",
    "thresholds"
   ]
  },
  {
   "cell_type": "code",
   "execution_count": 1503,
   "metadata": {
    "colab": {
     "base_uri": "https://localhost:8080/"
    },
    "id": "WdFeomqh9fPY",
    "outputId": "88010e31-8663-44cc-b488-b009b0bd5e1e"
   },
   "outputs": [
    {
     "data": {
      "text/plain": [
       "[array(['n', 'n', 'n', ..., 'n', 'n', 'n'], dtype='<U1'),\n",
       " array(['n', 'n', 'n', ..., 'n', 'n', 'n'], dtype='<U1'),\n",
       " array(['n', 'n', 'n', ..., 'n', 'n', 'n'], dtype='<U1'),\n",
       " array(['p', 'p', 'p', ..., 'n', 'n', 'n'], dtype='<U1'),\n",
       " array(['p', 'p', 'p', ..., 'n', 'n', 'n'], dtype='<U1'),\n",
       " array(['p', 'p', 'p', ..., 'n', 'n', 'n'], dtype='<U1'),\n",
       " array(['p', 'p', 'p', ..., 'n', 'n', 'n'], dtype='<U1'),\n",
       " array(['p', 'p', 'p', ..., 'n', 'n', 'n'], dtype='<U1'),\n",
       " array(['p', 'p', 'p', ..., 'n', 'n', 'n'], dtype='<U1'),\n",
       " array(['p', 'p', 'p', ..., 'p', 'n', 'n'], dtype='<U1'),\n",
       " array(['p', 'p', 'p', ..., 'p', 'n', 'p'], dtype='<U1')]"
      ]
     },
     "execution_count": 1503,
     "metadata": {},
     "output_type": "execute_result"
    }
   ],
   "source": [
    "predictions = [model(x,threshold=t) for t in thresholds]\n",
    "predictions"
   ]
  },
  {
   "cell_type": "code",
   "execution_count": 1504,
   "metadata": {
    "id": "-t1dV9pd9fPY"
   },
   "outputs": [],
   "source": [
    "accuracies = [accuracy(classes=classes, predicted= ps, positive_class=\"p\")\n",
    "             for ps in predictions]\n",
    "recalls = [recall(classes=classes, predicted= ps, positive_class=\"p\")\n",
    "             for ps in predictions]\n",
    "precisions = [precision(classes=classes, predicted= ps, positive_class=\"p\")\n",
    "             for ps in predictions]\n",
    "    "
   ]
  },
  {
   "cell_type": "code",
   "execution_count": 1505,
   "metadata": {
    "colab": {
     "base_uri": "https://localhost:8080/"
    },
    "id": "GNevg5bq9fPY",
    "outputId": "a7be776e-7c50-40b2-b9e6-46427152d5ee"
   },
   "outputs": [
    {
     "data": {
      "text/plain": [
       "[0.052, 0.162, 0.392, 0.614, 0.831, 0.944, 0.995, 0.998, 1.0, 1.0, 1.0]"
      ]
     },
     "execution_count": 1505,
     "metadata": {},
     "output_type": "execute_result"
    }
   ],
   "source": [
    "recalls"
   ]
  },
  {
   "cell_type": "code",
   "execution_count": 1506,
   "metadata": {
    "colab": {
     "base_uri": "https://localhost:8080/"
    },
    "id": "h0MMOMdw9fPY",
    "outputId": "e6376b11-0c09-4feb-bd03-c8c110cec1f2"
   },
   "outputs": [
    {
     "data": {
      "text/plain": [
       "[1.0,\n",
       " 1.0,\n",
       " 1.0,\n",
       " 0.9983739837398374,\n",
       " 0.9845971563981043,\n",
       " 0.9506545820745217,\n",
       " 0.8577586206896551,\n",
       " 0.7343635025754232,\n",
       " 0.6153846153846154,\n",
       " 0.546448087431694,\n",
       " 0.5115089514066496]"
      ]
     },
     "execution_count": 1506,
     "metadata": {},
     "output_type": "execute_result"
    }
   ],
   "source": [
    "precisions"
   ]
  },
  {
   "cell_type": "code",
   "execution_count": 1507,
   "metadata": {
    "colab": {
     "base_uri": "https://localhost:8080/",
     "height": 281
    },
    "id": "fF2w5lbi9fPY",
    "outputId": "bfcfe463-fbf5-4b9d-b6ee-cf1f573baef3"
   },
   "outputs": [
    {
     "data": {
      "image/png": "[encoded data removed]",
      "text/plain": [
       "<Figure size 720x288 with 1 Axes>"
      ]
     },
     "metadata": {
      "needs_background": "light"
     },
     "output_type": "display_data"
    }
   ],
   "source": [
    "plt.figure(figsize=[10,4])\n",
    "plt.xlim([0,30])\n",
    "plt.plot(thresholds,accuracies,\"k\")\n",
    "plt.plot(thresholds,recalls,\"red\")\n",
    "plt.plot(thresholds,precisions,\"blue\")\n",
    "plt.legend([\"Accuracy\",\"Recall\",\"Precision\"])\n",
    "plt.title(\"Accuracy - Recall - Precision vs Model\")\n",
    "plt.xlabel(\"Probability threshold. \")\n",
    "\n",
    "\n",
    "plt.show()"
   ]
  },
  {
   "cell_type": "code",
   "execution_count": 1508,
   "metadata": {
    "colab": {
     "base_uri": "https://localhost:8080/",
     "height": 281
    },
    "id": "vDMb00Mh9fPY",
    "outputId": "b086e881-7dd7-4262-f69b-8e3f72d88c0f"
   },
   "outputs": [
    {
     "data": {
      "image/png": "[encoded data removed]",
      "text/plain": [
       "<Figure size 720x288 with 1 Axes>"
      ]
     },
     "metadata": {
      "needs_background": "light"
     },
     "output_type": "display_data"
    }
   ],
   "source": [
    "plt.figure(figsize=[10,4])\n",
    "plt.xlim([0,30])\n",
    "\n",
    "plt.hist(px,bins=20,color=\"r\", alpha = .5)\n",
    "plt.hist(nx,bins=20,color=\"blue\", alpha = .5)\n",
    "for t in thresholds:\n",
    "    plt.vlines(t, 0, 130)\n",
    "plt.title(\"11 simple models\")\n",
    "plt.show()"
   ]
  },
  {
   "cell_type": "code",
   "execution_count": 1509,
   "metadata": {},
   "outputs": [
    {
     "data": {
      "text/plain": [
       "[0.045, 0.154, 0.372, 0.634, 0.853, 0.952, 0.989, 1.0, 1.0, 1.0, 1.0]"
      ]
     },
     "execution_count": 1509,
     "metadata": {},
     "output_type": "execute_result"
    }
   ],
   "source": [
    "TPR"
   ]
  },
  {
   "cell_type": "code",
   "execution_count": 1510,
   "metadata": {},
   "outputs": [
    {
     "data": {
      "text/plain": [
       "array([0.        , 0.        , 0.        , 0.0015748 , 0.01841197,\n",
       "       0.05367793, 0.14372294, 0.2769342 , 0.39357186, 0.46149704,\n",
       "       0.48927477])"
      ]
     },
     "execution_count": 1510,
     "metadata": {},
     "output_type": "execute_result"
    }
   ],
   "source": [
    "FPR"
   ]
  },
  {
   "cell_type": "markdown",
   "metadata": {
    "id": "KFfHF7E_9fPZ"
   },
   "source": [
    "\n",
    "\n",
    "## ROC\n",
    "\n",
    "Una curva ROC (curva de característica operativa del recepto) es un gráfico que muestra el rendimiento de un modelo de clasificación en todos los umbrales de clasificación. Esta curva representa dos parámetros:\n",
    "\n",
    "Tasa de verdaderos positivos\n",
    "Tasa de falsos positivos"
   ]
  },
  {
   "cell_type": "markdown",
   "metadata": {},
   "source": [
    "![image](https://upload.wikimedia.org/wikipedia/commons/thumb/1/13/Roc_curve.svg/1920px-Roc_curve.svg.png)"
   ]
  },
  {
   "cell_type": "markdown",
   "metadata": {
    "id": "q5n6C_GO9fPZ"
   },
   "source": [
    "\n",
    "\n",
    "para N modelos distintos, cada uno posiblemente con un nivel de umbral de aceptación de la clase positiva, se representan sus valores de True Positive Rate y False Positive Rate.\n",
    "\n",
    "TPR = De los casos seleccionados, tasa de los que eran realmente positivos  \n",
    "FPR = De los casos seleccionados, tasa de los que se han dado por positivos pero no lo eran\n"
   ]
  },
  {
   "cell_type": "code",
   "execution_count": 1511,
   "metadata": {
    "id": "DPHYVvJk9fPZ"
   },
   "outputs": [],
   "source": [
    "TPR = recalls\n",
    "\n",
    "FPR = 1 - np.array(precisions)"
   ]
  },
  {
   "cell_type": "code",
   "execution_count": 1512,
   "metadata": {},
   "outputs": [
    {
     "data": {
      "text/plain": [
       "[0.052, 0.162, 0.392, 0.614, 0.831, 0.944, 0.995, 0.998, 1.0, 1.0, 1.0]"
      ]
     },
     "execution_count": 1512,
     "metadata": {},
     "output_type": "execute_result"
    }
   ],
   "source": [
    "TPR"
   ]
  },
  {
   "cell_type": "code",
   "execution_count": 1513,
   "metadata": {},
   "outputs": [
    {
     "data": {
      "text/plain": [
       "array([0.        , 0.        , 0.        , 0.00162602, 0.01540284,\n",
       "       0.04934542, 0.14224138, 0.2656365 , 0.38461538, 0.45355191,\n",
       "       0.48849105])"
      ]
     },
     "execution_count": 1513,
     "metadata": {},
     "output_type": "execute_result"
    }
   ],
   "source": [
    "FPR"
   ]
  },
  {
   "cell_type": "code",
   "execution_count": 1514,
   "metadata": {
    "colab": {
     "base_uri": "https://localhost:8080/",
     "height": 265
    },
    "id": "4FrDdTaS9fPZ",
    "outputId": "b54c4558-9647-4461-a7e4-638a65560761"
   },
   "outputs": [
    {
     "data": {
      "image/png": "[encoded data removed]",
      "text/plain": [
       "<Figure size 432x288 with 1 Axes>"
      ]
     },
     "metadata": {
      "needs_background": "light"
     },
     "output_type": "display_data"
    }
   ],
   "source": [
    "TPR = recalls\n",
    "\n",
    "FPR = 1 - np.array(precisions)\n",
    "\n",
    "plt.plot(FPR,TPR)\n",
    "plt.show()"
   ]
  },
  {
   "cell_type": "markdown",
   "metadata": {
    "id": "wZc2lYQW32zc"
   },
   "source": [
    "\n",
    "* Las tasas de verdaderos positivos y falsos positivos son una buena medida del comportamiento de un modelo.\n",
    "\n",
    "\n",
    "* Sin embargo, dependen crucialmente del *threshold que utilicemos*.\n",
    "\n",
    "\n",
    "* La curva ROC permite mirar cómo cambian las tasas de verdadero y falsos positivos a medida que variamos los *thresholds* de clasificación.\n",
    "\n",
    "$$\n",
    "i \\hat{\\in} 0 \\iff \\hat{p}_{i0} > \\tau\n",
    "$$\n",
    "\n",
    "\n",
    "* Así, si $\\tau = 1$ la matriz de confusión es\n",
    "\n",
    "$$\n",
    "\\begin{array}{|c|c|c|}\n",
    "\\hline\n",
    "& \\bf \\hat{0} & \\bf \\hat{1} \\\\\n",
    "\\hline\n",
    "\\bf 0 & 0 & n_0 \\\\\n",
    "\\hline\n",
    "\\bf 1 & 0 & n_1 \\\\\n",
    "\\hline\n",
    "\\end{array}\n",
    "$$\n",
    "\n",
    "donde $n_i = \\#\\{\\text{$i$ en la muestra de entrenamiento}\\}$ y\n",
    "\n",
    "$$\n",
    "\\text{sensibilidad} = 0$, $1-\\text{especificidad} = 0\n",
    "$$\n",
    "\n",
    "obteniendo el punto en la esquina inferior izquierda de la curva ROC.\n",
    "\n",
    "* De la misma forma $\\tau=0$ implica que todas las observaciones se asignan a la categoría $0$ y obtenemos el punto superior derecho."
   ]
  },
  {
   "cell_type": "markdown",
   "metadata": {},
   "source": [
    "### AUC (area under the curve"
   ]
  },
  {
   "cell_type": "markdown",
   "metadata": {},
   "source": [
    "El AUC es el área bajo la curva ROC. Este puntaje nos da una buena idea de qué tan bien funciona el modelo.\n",
    "\n"
   ]
  },
  {
   "cell_type": "markdown",
   "metadata": {},
   "source": [
    "![1](https://live.staticflickr.com/65535/48049010727_ef276cb443_b.jpg)\n",
    "\n",
    "Esta es una situación ideal. Cuando dos curvas no se superponen en absoluto, el modelo tiene una medida ideal de separación. Es perfectamente capaz de distinguir entre clase positiva y clase negativa."
   ]
  },
  {
   "cell_type": "markdown",
   "metadata": {},
   "source": [
    "![2](https://live.staticflickr.com/65535/48048972478_80ec37664c_b.jpg)\n",
    "Cuando dos distribuciones se superponen, introducimos errores. Dependiendo del umbral, podemos minimizarlos o maximizarlos. Cuando AUC es 0.7, significa que hay 70% de probabilidad de que el modelo pueda distinguir entre clase positiva y clase negativa."
   ]
  },
  {
   "cell_type": "markdown",
   "metadata": {},
   "source": [
    "![3](https://live.staticflickr.com/65535/48049010402_f5ff692cb6_b.jpg)\n",
    "Esta es la peor situación. Cuando el AUC es aproximadamente 0.5, el modelo no tiene capacidad de discriminación para distinguir entre clase positiva y clase negativa."
   ]
  },
  {
   "cell_type": "markdown",
   "metadata": {},
   "source": [
    "50 positivos y 0 negativos - 200 positivos y 200 negativos"
   ]
  },
  {
   "cell_type": "code",
   "execution_count": 1515,
   "metadata": {},
   "outputs": [],
   "source": [
    "FP = 20 / 200"
   ]
  },
  {
   "cell_type": "code",
   "execution_count": 1516,
   "metadata": {},
   "outputs": [],
   "source": [
    "TP = 20 / 200"
   ]
  },
  {
   "cell_type": "code",
   "execution_count": null,
   "metadata": {},
   "outputs": [],
   "source": []
  },
  {
   "cell_type": "code",
   "execution_count": 1517,
   "metadata": {},
   "outputs": [],
   "source": [
    "from sklearn.metrics import roc_auc_score "
   ]
  },
  {
   "cell_type": "code",
   "execution_count": 1518,
   "metadata": {},
   "outputs": [],
   "source": [
    "classes_labels = list(map(lambda x: 1 if x == \"p\" else 0, classes))\n",
    "classes_predicted_labels = list(map(lambda x: 1 if x == \"p\" else 0, class_predicted_2))"
   ]
  },
  {
   "cell_type": "code",
   "execution_count": 1519,
   "metadata": {},
   "outputs": [
    {
     "data": {
      "text/plain": [
       "0.9475"
      ]
     },
     "execution_count": 1519,
     "metadata": {},
     "output_type": "execute_result"
    }
   ],
   "source": [
    "roc_auc_score(classes_labels, classes_predicted_labels)"
   ]
  },
  {
   "attachments": {},
   "cell_type": "markdown",
   "metadata": {},
   "source": [
    "## F1 Score\n",
    "\n",
    "F1 score es una media harmónica entre precision y recall\n",
    "\n",
    "![2](https://inside-machinelearning.com/wp-content/uploads/2021/09/F1-Score.png)"
   ]
  },
  {
   "cell_type": "code",
   "execution_count": 1520,
   "metadata": {},
   "outputs": [],
   "source": [
    "from sklearn.metrics import f1_score"
   ]
  },
  {
   "cell_type": "code",
   "execution_count": 1521,
   "metadata": {},
   "outputs": [
    {
     "data": {
      "text/plain": [
       "0.9473156046161566"
      ]
     },
     "execution_count": 1521,
     "metadata": {},
     "output_type": "execute_result"
    }
   ],
   "source": [
    "f1_score(classes_labels, classes_predicted_labels)"
   ]
  },
  {
   "cell_type": "markdown",
   "metadata": {
    "id": "eqp3VKuO9fPZ"
   },
   "source": [
    "\n",
    "\n",
    "# Otras distribuciones"
   ]
  },
  {
   "cell_type": "markdown",
   "metadata": {
    "id": "RBkJS2v29fPZ"
   },
   "source": [
    "\n",
    "\n",
    "## Clases desequilibradas"
   ]
  },
  {
   "cell_type": "code",
   "execution_count": 1522,
   "metadata": {
    "id": "8KpSoxCt9fPZ"
   },
   "outputs": [],
   "source": [
    "total_p = 100\n",
    "total_n = 1000\n",
    "px = [np.random.normal(10,3) for _ in range(total_p)]\n",
    "nx = [np.random.normal(20,3) for _ in range(total_n)]\n",
    "x = np.concatenate([px,nx])\n",
    "classes = np.concatenate([[\"p\"]*total_p,[\"n\"]*total_n])"
   ]
  },
  {
   "cell_type": "code",
   "execution_count": 1523,
   "metadata": {
    "colab": {
     "base_uri": "https://localhost:8080/",
     "height": 281
    },
    "id": "8eJ2j8am9fPZ",
    "outputId": "69c38d85-7b3c-47cf-c870-9d57dc84a601"
   },
   "outputs": [
    {
     "data": {
      "image/png": "[encoded data removed]",
      "text/plain": [
       "<Figure size 720x288 with 1 Axes>"
      ]
     },
     "metadata": {
      "needs_background": "light"
     },
     "output_type": "display_data"
    }
   ],
   "source": [
    "plt.figure(figsize=[10,4])\n",
    "plt.xlim([0,30])\n",
    "plt.title(\"Unbalanced classes\")\n",
    "plt.hist(px,bins=20,color=\"r\", alpha = .5)\n",
    "plt.hist(nx,bins=20,color=\"blue\", alpha = .5)\n",
    "for t in thresholds:\n",
    "    plt.vlines(t, 0, 130)\n",
    "\n",
    "plt.show()"
   ]
  },
  {
   "cell_type": "code",
   "execution_count": 1524,
   "metadata": {
    "id": "8q2-hHRl9fPa"
   },
   "outputs": [],
   "source": [
    "predictions = [model(x,threshold=t) for t in thresholds]\n",
    "accuracies = [accuracy(classes=classes, predicted= ps, positive_class=\"p\")\n",
    "             for ps in predictions]\n",
    "recalls = [recall(classes=classes, predicted= ps, positive_class=\"p\")\n",
    "             for ps in predictions]\n",
    "precisions = [precision(classes=classes, predicted= ps, positive_class=\"p\")\n",
    "             for ps in predictions]\n",
    "    "
   ]
  },
  {
   "cell_type": "code",
   "execution_count": 1525,
   "metadata": {
    "colab": {
     "base_uri": "https://localhost:8080/",
     "height": 281
    },
    "id": "J3DDAmh69fPa",
    "outputId": "67fc12b3-39d4-462c-a4dd-178020085579"
   },
   "outputs": [
    {
     "data": {
      "image/png": "[encoded data removed]",
      "text/plain": [
       "<Figure size 720x288 with 1 Axes>"
      ]
     },
     "metadata": {
      "needs_background": "light"
     },
     "output_type": "display_data"
    }
   ],
   "source": [
    "plt.figure(figsize=[10,4])\n",
    "plt.xlim([0,30])\n",
    "plt.plot(thresholds,accuracies,\"k\")\n",
    "plt.plot(thresholds,recalls,\"red\")\n",
    "plt.plot(thresholds,precisions,\"blue\")\n",
    "plt.legend([\"Accuracy\",\"Recall\",\"Precision\"])\n",
    "plt.xlabel(\"Sample\")\n",
    "plt.show()"
   ]
  },
  {
   "cell_type": "markdown",
   "metadata": {
    "id": "j-BsgxpJ9fPa"
   },
   "source": [
    "\n",
    "\n",
    "## Distribuciones muy pegadas"
   ]
  },
  {
   "cell_type": "code",
   "execution_count": 1526,
   "metadata": {
    "id": "rzT1YBHe9fPa"
   },
   "outputs": [],
   "source": [
    "total_p = 1000\n",
    "total_n = 1000\n",
    "px = [np.random.normal(13,3) for _ in range(total_p)]\n",
    "nx = [np.random.normal(17,3) for _ in range(total_n)]\n",
    "x = np.concatenate([px,nx])\n",
    "classes = np.concatenate([[\"p\"]*total_p,[\"n\"]*total_n])"
   ]
  },
  {
   "cell_type": "code",
   "execution_count": 1527,
   "metadata": {
    "colab": {
     "base_uri": "https://localhost:8080/",
     "height": 265
    },
    "id": "fIzonWyV9fPa",
    "outputId": "b661f5ce-1296-48bc-f7b9-769b86b7f4e6"
   },
   "outputs": [
    {
     "data": {
      "image/png": "[encoded data removed]",
      "text/plain": [
       "<Figure size 432x288 with 1 Axes>"
      ]
     },
     "metadata": {
      "needs_background": "light"
     },
     "output_type": "display_data"
    }
   ],
   "source": [
    "plt.hist(x,bins=40)\n",
    "plt.show()"
   ]
  },
  {
   "cell_type": "code",
   "execution_count": 1528,
   "metadata": {
    "colab": {
     "base_uri": "https://localhost:8080/",
     "height": 265
    },
    "id": "m2NbU6QG9fPa",
    "outputId": "421a8a07-8ba2-4cc1-8f32-a477f329692d"
   },
   "outputs": [
    {
     "data": {
      "image/png": "[encoded data removed]",
      "text/plain": [
       "<Figure size 432x288 with 1 Axes>"
      ]
     },
     "metadata": {
      "needs_background": "light"
     },
     "output_type": "display_data"
    }
   ],
   "source": [
    "plt.hist(px,bins=20,color=\"r\", alpha = .5)\n",
    "plt.hist(nx,bins=20,color=\"blue\", alpha = .5)\n",
    "for t in thresholds:\n",
    "    plt.vlines(t, 0, 130)\n",
    "\n",
    "plt.show()"
   ]
  },
  {
   "cell_type": "code",
   "execution_count": null,
   "metadata": {},
   "outputs": [],
   "source": []
  },
  {
   "cell_type": "code",
   "execution_count": 1529,
   "metadata": {
    "id": "P57aqZMz9fPa"
   },
   "outputs": [],
   "source": [
    "predictions = [model(x,threshold=t) for t in thresholds]\n",
    "accuracies = [accuracy(classes=classes, predicted= ps, positive_class=\"p\")\n",
    "             for ps in predictions]\n",
    "recalls = [recall(classes=classes, predicted= ps, positive_class=\"p\")\n",
    "             for ps in predictions]\n",
    "precisions = [precision(classes=classes, predicted= ps, positive_class=\"p\")\n",
    "             for ps in predictions]\n",
    "    "
   ]
  },
  {
   "cell_type": "code",
   "execution_count": 1530,
   "metadata": {
    "colab": {
     "base_uri": "https://localhost:8080/",
     "height": 265
    },
    "id": "gTLfxXXr9fPa",
    "outputId": "820ebe64-d80a-46b0-c99a-c1bba90689d2"
   },
   "outputs": [
    {
     "data": {
      "image/png": "[encoded data removed]",
      "text/plain": [
       "<Figure size 432x288 with 1 Axes>"
      ]
     },
     "metadata": {
      "needs_background": "light"
     },
     "output_type": "display_data"
    }
   ],
   "source": [
    "plt.plot(thresholds,accuracies,\"k\")\n",
    "plt.plot(thresholds,recalls,\"red\")\n",
    "plt.plot(thresholds,precisions,\"blue\")\n",
    "plt.legend([\"Accuracy\",\"Recall\",\"Precision\"])\n",
    "plt.xlabel(\"Sample\")\n",
    "plt.show()"
   ]
  },
  {
   "cell_type": "markdown",
   "metadata": {
    "id": "wiwb59N632zc"
   },
   "source": [
    "# Modelos lineales de probabilidad\n",
    "\n",
    "\n",
    "* Cuando hay sólo dos categorías, $y_i \\in {0,1}$, es posible estimar por OLS el modelo.\n",
    "\n",
    "$$\n",
    "y_i = x_i' \\beta + \\epsilon_i\n",
    "$$\n",
    "\n",
    "\n",
    "* ¿Por qué se llama un **modelo lineal de probabilidad**?\n",
    "\n",
    "\n",
    "* En general, queremos modelar \n",
    "$$\n",
    "Prob(y=1|X) = F(X,\\beta)\n",
    "$$\n",
    "\n",
    "Si $F(X,\\beta) = x\\beta$, entonces $E(y|x) = x\\beta$, y tenemos el modelo lineal.\n",
    "\n",
    "\n",
    "\n",
    "* Los modelos lineales de probabilidad tienen dos problemas:\n",
    "\n",
    "    1. Nada garantiza que $\\hat{y}_i \\in [0,1]$, afectando la interpretación del modelo.\n",
    "    \n",
    "    2. Heteroscedasticidad.\n",
    "    $$\n",
    "    Var(\\epsilon_i) = x_i'\\beta(1-x_i'\\beta)\n",
    "    $$\n",
    "\n"
   ]
  },
  {
   "cell_type": "markdown",
   "metadata": {
    "id": "HaYh9NrI32zd"
   },
   "source": [
    "# Modelos Probit\n",
    "\n",
    "\n",
    "* Una alternativa natural es asumir que $F(x_i,\\beta) = \\Phi(x_i'\\beta)$, donde $\\Phi$ es la función de distribución de una variable aleatoria normal estándar.\n",
    "\n",
    "\n",
    "* Este tipo de modelos es ampliamente utilizado en econometría, así que no los cubriremos en el curso.\n",
    "\n",
    "\n",
    "* Si miraremos a profundidad los modelos logísticos o Logit."
   ]
  },
  {
   "cell_type": "markdown",
   "metadata": {
    "id": "jMcPEmhj32zd"
   },
   "source": [
    "# Modelos Logit\n",
    "\n",
    "\n",
    "* Otra alternativa es usar \n",
    "$$\n",
    "F(x_i,\\beta) = \\Lambda(x_i'\\beta) = \\frac{e^{x_i'\\beta}}{1+e^{x_i'\\beta}}\n",
    "$$\n",
    "\n",
    "\n",
    "donde $\\Lambda(x_i'\\beta)$ denota a la función acumulativa logística.\n",
    "\n",
    "\n",
    "* ¿Cuál es el valor esperado de $y$?\n",
    "\n",
    "$$\n",
    "E(y|x) = 1 \\times F(x,\\beta) + 0 \\times (1-F(x,\\beta)) = F(x,\\beta)\n",
    "$$\n",
    "\n",
    "\n",
    "* Para encontrar los efectos marginales: \n",
    "\n",
    "$$\n",
    "\\frac{\\partial E(y|x)}{\\partial x} = \\left[\\frac{d F(x,\\beta)}{d x'\\beta}\\right] \\beta = f(x,\\beta) \\beta\n",
    "$$\n",
    "\n",
    "donde $f()$ es la función de densidad.\n",
    "\n",
    "### Nota:\n",
    "##### A diferencia del modelo lineal de probabilidad donde los efectos marginales son constantes, los efectos marginales en los modelos Logit y Probit son funciones de $x$ y $\\beta$.   Generalmente se reportan *evalúandolos en las medias*.\n",
    "\n",
    "La curva se ve así\n",
    "\n",
    "![image](https://files.realpython.com/media/log-reg-1.e32deaa7cbac.png)"
   ]
  },
  {
   "cell_type": "code",
   "execution_count": null,
   "metadata": {
    "id": "Bn6H9aCQ4yIR"
   },
   "outputs": [],
   "source": []
  },
  {
   "cell_type": "markdown",
   "metadata": {
    "id": "mwKygGk64-Kr"
   },
   "source": [
    "# Apliquemos el modelo"
   ]
  },
  {
   "cell_type": "markdown",
   "metadata": {
    "id": "vub3yz-T9fPb"
   },
   "source": [
    "\n",
    "\n",
    "## Un modelo \"real\""
   ]
  },
  {
   "cell_type": "markdown",
   "metadata": {
    "id": "jiSonczH9fPb"
   },
   "source": [
    "\n",
    "\n",
    "Ahora probamos con un modelo entrenado como una regresión lineal"
   ]
  },
  {
   "cell_type": "code",
   "execution_count": 1531,
   "metadata": {
    "id": "SindRhVu9fPb"
   },
   "outputs": [],
   "source": [
    "from sklearn.linear_model import LogisticRegression"
   ]
  },
  {
   "cell_type": "code",
   "execution_count": 1532,
   "metadata": {
    "id": "wTeM0id79fPb"
   },
   "outputs": [],
   "source": [
    "total_p = 1000\n",
    "total_n = 1000\n",
    "px = [np.random.normal(10,3) for _ in range(total_p)]\n",
    "nx = [np.random.normal(20,3) for _ in range(total_n)]\n",
    "x = np.concatenate([px,nx])\n",
    "classes = np.concatenate([[\"p\"]*total_p,[\"n\"]*total_n])"
   ]
  },
  {
   "cell_type": "code",
   "execution_count": 1533,
   "metadata": {},
   "outputs": [
    {
     "data": {
      "text/plain": [
       "array([11.12742876,  3.75539747, 12.42718492, ..., 20.78412797,\n",
       "       17.8582999 , 17.95780994])"
      ]
     },
     "execution_count": 1533,
     "metadata": {},
     "output_type": "execute_result"
    }
   ],
   "source": [
    "x"
   ]
  },
  {
   "cell_type": "code",
   "execution_count": 1534,
   "metadata": {
    "id": "quVGBr5Z9fPb"
   },
   "outputs": [],
   "source": [
    "lr = LogisticRegression()\n",
    "lr = lr.fit(x.reshape(-1,1),classes)"
   ]
  },
  {
   "cell_type": "markdown",
   "metadata": {
    "id": "NmyFoMpE9fPb"
   },
   "source": [
    "\n",
    "\n",
    "Ahora predecimos con él"
   ]
  },
  {
   "cell_type": "code",
   "execution_count": 1535,
   "metadata": {
    "id": "4rZstu3J9fPb"
   },
   "outputs": [],
   "source": [
    "predicted_classes = lr.predict(x.reshape(-1,1))"
   ]
  },
  {
   "cell_type": "code",
   "execution_count": 1536,
   "metadata": {},
   "outputs": [
    {
     "data": {
      "text/plain": [
       "array(['p', 'p', 'p', ..., 'n', 'n', 'n'], dtype='<U1')"
      ]
     },
     "execution_count": 1536,
     "metadata": {},
     "output_type": "execute_result"
    }
   ],
   "source": [
    "classes"
   ]
  },
  {
   "cell_type": "code",
   "execution_count": 1537,
   "metadata": {},
   "outputs": [
    {
     "data": {
      "text/plain": [
       "array(['p', 'p', 'p', ..., 'n', 'n', 'n'], dtype='<U1')"
      ]
     },
     "execution_count": 1537,
     "metadata": {},
     "output_type": "execute_result"
    }
   ],
   "source": [
    "predicted_classes"
   ]
  },
  {
   "cell_type": "code",
   "execution_count": 1538,
   "metadata": {
    "colab": {
     "base_uri": "https://localhost:8080/"
    },
    "id": "DSus3I-N9fPb",
    "outputId": "f7618f55-9f65-43c6-d26f-ca53c9697eef"
   },
   "outputs": [
    {
     "data": {
      "text/plain": [
       "0.956"
      ]
     },
     "execution_count": 1538,
     "metadata": {},
     "output_type": "execute_result"
    }
   ],
   "source": [
    "accuracy(classes=classes,predicted=predicted_classes,positive_class=\"p\")"
   ]
  },
  {
   "cell_type": "code",
   "execution_count": 1539,
   "metadata": {
    "colab": {
     "base_uri": "https://localhost:8080/"
    },
    "id": "FEaRqCFP9fPb",
    "outputId": "b71d839e-36dd-4690-b7f2-8b1694b63331"
   },
   "outputs": [
    {
     "data": {
      "text/plain": [
       "0.956"
      ]
     },
     "execution_count": 1539,
     "metadata": {},
     "output_type": "execute_result"
    }
   ],
   "source": [
    "recall(classes=classes,predicted=predicted_classes,positive_class=\"p\")"
   ]
  },
  {
   "cell_type": "code",
   "execution_count": 1540,
   "metadata": {
    "colab": {
     "base_uri": "https://localhost:8080/"
    },
    "id": "qqbC3AaZ9fPc",
    "outputId": "dcd64708-c744-4cab-9517-17ca8dbd5391"
   },
   "outputs": [
    {
     "data": {
      "text/plain": [
       "0.956"
      ]
     },
     "execution_count": 1540,
     "metadata": {},
     "output_type": "execute_result"
    }
   ],
   "source": [
    "precision(classes=classes,predicted=predicted_classes,positive_class=\"p\")"
   ]
  },
  {
   "cell_type": "code",
   "execution_count": 1541,
   "metadata": {},
   "outputs": [
    {
     "data": {
      "image/png": "[encoded data removed]",
      "text/plain": [
       "<Figure size 432x288 with 1 Axes>"
      ]
     },
     "metadata": {
      "needs_background": "light"
     },
     "output_type": "display_data"
    }
   ],
   "source": [
    "plt.hist(x,bins=40)\n",
    "plt.show()"
   ]
  },
  {
   "cell_type": "code",
   "execution_count": 1542,
   "metadata": {},
   "outputs": [
    {
     "data": {
      "text/plain": [
       "(array([  1.,   1.,   4.,  15.,  19.,  32.,  56.,  85., 106., 124., 138.,\n",
       "        116., 110.,  73.,  56.,  34.,  16.,  10.,   2.,   2.]),\n",
       " array([ 9.52236116, 10.52613113, 11.5299011 , 12.53367107, 13.53744105,\n",
       "        14.54121102, 15.54498099, 16.54875096, 17.55252093, 18.55629091,\n",
       "        19.56006088, 20.56383085, 21.56760082, 22.57137079, 23.57514077,\n",
       "        24.57891074, 25.58268071, 26.58645068, 27.59022065, 28.59399062,\n",
       "        29.5977606 ]),\n",
       " <a list of 20 Patch objects>)"
      ]
     },
     "execution_count": 1542,
     "metadata": {},
     "output_type": "execute_result"
    },
    {
     "data": {
      "image/png": "[encoded data removed]",
      "text/plain": [
       "<Figure size 432x288 with 1 Axes>"
      ]
     },
     "metadata": {
      "needs_background": "light"
     },
     "output_type": "display_data"
    }
   ],
   "source": [
    "plt.hist(px,bins=20,color=\"r\", alpha = .5)\n",
    "plt.hist(nx,bins=20,color=\"blue\", alpha = .5)\n"
   ]
  },
  {
   "cell_type": "markdown",
   "metadata": {
    "id": "iBrBoXfm9fPc"
   },
   "source": [
    "\n",
    "\n",
    "## Sensibilidad en los modelos"
   ]
  },
  {
   "cell_type": "markdown",
   "metadata": {
    "id": "7x4pUYC59fPc"
   },
   "source": [
    "\n",
    "\n",
    "Por defecto, la probabilidad > .5 se asigna a la primera clase. Pero podemos elegir el umbral que queramos, si interpretamos la salida como probabilidades y elegimos varios umbrales, para ver como respoden."
   ]
  },
  {
   "cell_type": "code",
   "execution_count": 1543,
   "metadata": {
    "id": "e4gvuAVW9fPc"
   },
   "outputs": [],
   "source": [
    "predicted_classes_proba = lr.predict_proba(x.reshape(-1,1))\n",
    "\n",
    "n_proba, p_proba = zip(*predicted_classes_proba)"
   ]
  },
  {
   "cell_type": "code",
   "execution_count": 1544,
   "metadata": {},
   "outputs": [
    {
     "data": {
      "text/plain": [
       "array([[1.62742373e-02, 9.83725763e-01],\n",
       "       [5.03491281e-06, 9.99994965e-01],\n",
       "       [6.45173635e-02, 9.35482637e-01],\n",
       "       ...,\n",
       "       [9.98506341e-01, 1.49365877e-03],\n",
       "       [9.64130506e-01, 3.58694940e-02],\n",
       "       [9.67724532e-01, 3.22754680e-02]])"
      ]
     },
     "execution_count": 1544,
     "metadata": {},
     "output_type": "execute_result"
    }
   ],
   "source": [
    "predicted_classes_proba"
   ]
  },
  {
   "cell_type": "code",
   "execution_count": 1545,
   "metadata": {
    "colab": {
     "base_uri": "https://localhost:8080/"
    },
    "id": "jjR-PvsA9fPc",
    "outputId": "166c4025-b3a1-426c-944d-07f6c5be81fe"
   },
   "outputs": [
    {
     "name": "stdout",
     "output_type": "stream",
     "text": [
      "['p' 'p' 'p' 'p' 'p' 'p' 'p' 'p' 'p' 'p']\n",
      "[11.12742876  3.75539747 12.42718492 13.22366913  9.75569146  8.30679372\n",
      "  8.39947023  7.96576527  4.64708383  4.15105025]\n",
      "(0.9837257627013514, 0.9999949650871917, 0.9354826365467018, 0.8580612746962226, 0.9963466935669409, 0.9992539066984716, 0.999174024242297, 0.999486883726631, 0.9999865926267194, 0.9999922245335227)\n"
     ]
    }
   ],
   "source": [
    "print(classes[0:10])\n",
    "print(x[0:10])\n",
    "print(p_proba[0:10])"
   ]
  },
  {
   "cell_type": "code",
   "execution_count": 1546,
   "metadata": {
    "colab": {
     "base_uri": "https://localhost:8080/"
    },
    "id": "V1L3HfvD9fPc",
    "outputId": "00203852-4b93-4fea-ef09-0621bd0acf1a"
   },
   "outputs": [
    {
     "data": {
      "text/plain": [
       "array([1., 1., 1., ..., 1., 1., 1.])"
      ]
     },
     "execution_count": 1546,
     "metadata": {},
     "output_type": "execute_result"
    }
   ],
   "source": [
    "np.array(n_proba)+np.array(p_proba)"
   ]
  },
  {
   "cell_type": "markdown",
   "metadata": {
    "id": "TSJH3LG79fPc"
   },
   "source": [
    "\n",
    "\n",
    "La probabilidad asignada para cada x serán las siguientes"
   ]
  },
  {
   "cell_type": "code",
   "execution_count": 1547,
   "metadata": {
    "colab": {
     "base_uri": "https://localhost:8080/",
     "height": 265
    },
    "id": "ynf_mqyT9fPc",
    "outputId": "730c537b-2cc8-4dd5-d063-68c682698c53"
   },
   "outputs": [
    {
     "data": {
      "image/png": "[encoded data removed]",
      "text/plain": [
       "<Figure size 432x288 with 1 Axes>"
      ]
     },
     "metadata": {
      "needs_background": "light"
     },
     "output_type": "display_data"
    }
   ],
   "source": [
    "plt.scatter(x, p_proba)\n",
    "plt.show()"
   ]
  },
  {
   "cell_type": "markdown",
   "metadata": {
    "id": "EOi4aZwB9fPd"
   },
   "source": [
    "\n",
    "\n",
    "Creemos modelos del .1 al .9 de umbral de probabilidad, y comrpobemos sus evaluaciones"
   ]
  },
  {
   "cell_type": "code",
   "execution_count": 1548,
   "metadata": {
    "colab": {
     "base_uri": "https://localhost:8080/"
    },
    "id": "1C4OiP3W9fPd",
    "outputId": "947aeb93-d7f4-4d7f-8091-2ab4b2d7de4b"
   },
   "outputs": [
    {
     "data": {
      "text/plain": [
       "array([0.9, 0.8, 0.7, 0.6, 0.5, 0.4, 0.3, 0.2, 0.1])"
      ]
     },
     "execution_count": 1548,
     "metadata": {},
     "output_type": "execute_result"
    }
   ],
   "source": [
    "thresholds = np.arange(1,10)[::-1]/10\n",
    "thresholds"
   ]
  },
  {
   "cell_type": "code",
   "execution_count": 1549,
   "metadata": {
    "colab": {
     "base_uri": "https://localhost:8080/",
     "height": 265
    },
    "id": "v5jy1O-e9fPd",
    "outputId": "aaef3be2-a965-4110-8640-8eb337bfd2a9"
   },
   "outputs": [
    {
     "data": {
      "image/png": "[encoded data removed]",
      "text/plain": [
       "<Figure size 432x288 with 1 Axes>"
      ]
     },
     "metadata": {
      "needs_background": "light"
     },
     "output_type": "display_data"
    }
   ],
   "source": [
    "plt.scatter(x, p_proba)\n",
    "plt.hlines(thresholds,0,30)\n",
    "plt.show()"
   ]
  },
  {
   "cell_type": "markdown",
   "metadata": {
    "id": "0R47PJPs9fPd"
   },
   "source": [
    "\n",
    "\n",
    "Para cada threshold, tenemos un modelo, de manera que podemos discernir que clasificación ha hecho, aplicando el filtro del umbral."
   ]
  },
  {
   "cell_type": "code",
   "execution_count": 1550,
   "metadata": {},
   "outputs": [
    {
     "data": {
      "text/plain": [
       "array([0.9, 0.8, 0.7, 0.6, 0.5, 0.4, 0.3, 0.2, 0.1])"
      ]
     },
     "execution_count": 1550,
     "metadata": {},
     "output_type": "execute_result"
    }
   ],
   "source": [
    "thresholds"
   ]
  },
  {
   "cell_type": "code",
   "execution_count": 1551,
   "metadata": {},
   "outputs": [
    {
     "data": {
      "text/plain": [
       "[(0.9837257627013514, 'p', 'p'),\n",
       " (0.9999949650871917, 'p', 'p'),\n",
       " (0.9354826365467018, 'p', 'p'),\n",
       " (0.8580612746962226, 'p', 'p'),\n",
       " (0.9963466935669409, 'p', 'p'),\n",
       " (0.9992539066984716, 'p', 'p'),\n",
       " (0.999174024242297, 'p', 'p'),\n",
       " (0.999486883726631, 'p', 'p'),\n",
       " (0.9999865926267194, 'p', 'p'),\n",
       " (0.9999922245335227, 'p', 'p'),\n",
       " (0.9998274225099864, 'p', 'p'),\n",
       " (0.9998926767905518, 'p', 'p'),\n",
       " (0.998545703592927, 'p', 'p'),\n",
       " (0.999854178108939, 'p', 'p'),\n",
       " (0.9871188518570689, 'p', 'p'),\n",
       " (0.929835673485078, 'p', 'p'),\n",
       " (0.9999993537149714, 'p', 'p'),\n",
       " (0.9903489003108028, 'p', 'p'),\n",
       " (0.9999864947732939, 'p', 'p'),\n",
       " (0.9662254544692036, 'p', 'p'),\n",
       " (0.9423335952286165, 'p', 'p'),\n",
       " (0.9997942515249163, 'p', 'p'),\n",
       " (0.9985578323585098, 'p', 'p'),\n",
       " (0.982200840249917, 'p', 'p'),\n",
       " (0.9999024672359842, 'p', 'p'),\n",
       " (0.9721249183567889, 'p', 'p'),\n",
       " (0.999813625236292, 'p', 'p'),\n",
       " (0.989697421230132, 'p', 'p'),\n",
       " (0.9994464335897921, 'p', 'p'),\n",
       " (0.9999302451733325, 'p', 'p'),\n",
       " (0.9239708219552668, 'p', 'p'),\n",
       " (0.9984672228132523, 'p', 'p'),\n",
       " (0.9834551313496479, 'p', 'p'),\n",
       " (0.9998364854214223, 'p', 'p'),\n",
       " (0.9768932770111386, 'p', 'p'),\n",
       " (0.9392816948976079, 'p', 'p'),\n",
       " (0.9959649920846023, 'p', 'p'),\n",
       " (0.9294298453819233, 'p', 'p'),\n",
       " (0.9998204980221506, 'p', 'p'),\n",
       " (0.9999325152075682, 'p', 'p'),\n",
       " (0.9956133721793731, 'p', 'p'),\n",
       " (0.9985829060705905, 'p', 'p'),\n",
       " (0.9231294317277845, 'p', 'p'),\n",
       " (0.9996302084214674, 'p', 'p'),\n",
       " (0.9969793686087729, 'p', 'n'),\n",
       " (0.9395338436421758, 'p', 'p'),\n",
       " (0.9996788117414082, 'p', 'p'),\n",
       " (0.9986458963813627, 'p', 'n'),\n",
       " (0.9995128119682515, 'p', 'p'),\n",
       " (0.5902126229197806, 'p', 'p'),\n",
       " (0.9980362308267345, 'p', 'p'),\n",
       " (0.9999962440695508, 'p', 'p'),\n",
       " (0.9998556772461678, 'p', 'p'),\n",
       " (0.9987832115941847, 'p', 'p'),\n",
       " (0.9944653496604103, 'p', 'p'),\n",
       " (0.9696203106175895, 'p', 'p'),\n",
       " (0.1445741777202618, 'p', 'p'),\n",
       " (0.9969703270152308, 'p', 'p'),\n",
       " (0.9837085640015037, 'p', 'p'),\n",
       " (0.999369525492526, 'p', 'p'),\n",
       " (0.999564532859287, 'p', 'p'),\n",
       " (0.985194367944707, 'p', 'p'),\n",
       " (0.9990489465420326, 'p', 'p'),\n",
       " (0.99941880804241, 'p', 'p'),\n",
       " (0.9987549789093818, 'p', 'p'),\n",
       " (0.9978315543610474, 'p', 'p'),\n",
       " (0.9957306386683102, 'p', 'p'),\n",
       " (0.99995975690813, 'p', 'p'),\n",
       " (0.9893554834040303, 'p', 'p'),\n",
       " (0.9999600274230411, 'p', 'p'),\n",
       " (0.9999981395985512, 'p', 'p'),\n",
       " (0.9761234007437143, 'p', 'p'),\n",
       " (0.9967083177342041, 'p', 'p'),\n",
       " (0.5421444433906193, 'p', 'p'),\n",
       " (0.9990749930860743, 'p', 'p'),\n",
       " (0.9560981620913059, 'p', 'p'),\n",
       " (0.6365746114062318, 'p', 'p'),\n",
       " (0.9844884902369934, 'p', 'p'),\n",
       " (0.9743313495631766, 'p', 'p'),\n",
       " (0.9920109231061779, 'p', 'p'),\n",
       " (0.9420212772793177, 'p', 'p'),\n",
       " (0.9989228433594138, 'p', 'p'),\n",
       " (0.9985605374972787, 'p', 'p'),\n",
       " (0.867959049036225, 'p', 'p'),\n",
       " (0.9987711880292444, 'p', 'p'),\n",
       " (0.9982288344441042, 'p', 'p'),\n",
       " (0.9984524875999704, 'p', 'p'),\n",
       " (0.99982854212465, 'p', 'p'),\n",
       " (0.9925174855267368, 'p', 'p'),\n",
       " (0.9999939979083498, 'p', 'p'),\n",
       " (0.8612427902592715, 'p', 'p'),\n",
       " (0.9982222091799331, 'p', 'p'),\n",
       " (0.38578362358383395, 'p', 'p'),\n",
       " (0.7741831677601352, 'p', 'p'),\n",
       " (0.31253387508035896, 'p', 'p'),\n",
       " (0.12405549135398398, 'p', 'p'),\n",
       " (0.9685925502033401, 'p', 'p'),\n",
       " (0.5771670434175861, 'p', 'p'),\n",
       " (0.9958086728253669, 'p', 'p'),\n",
       " (0.9997120509827343, 'p', 'p'),\n",
       " (0.9737354345820403, 'p', 'p'),\n",
       " (0.9999997057766348, 'p', 'p'),\n",
       " (0.9938704870822768, 'p', 'p'),\n",
       " (0.9946319322865629, 'p', 'p'),\n",
       " (0.999844572859421, 'p', 'p'),\n",
       " (0.7121087143120711, 'p', 'p'),\n",
       " (0.9865678935055037, 'p', 'p'),\n",
       " (0.224206986237939, 'p', 'p'),\n",
       " (0.9971437533561397, 'p', 'p'),\n",
       " (0.9902912089421807, 'p', 'p'),\n",
       " (0.9993555437746422, 'p', 'p'),\n",
       " (0.9688476701471717, 'p', 'p'),\n",
       " (0.9948752349761493, 'p', 'p'),\n",
       " (0.9958376618142081, 'p', 'p'),\n",
       " (0.9828683567808416, 'p', 'p'),\n",
       " (0.9479341112544496, 'p', 'p'),\n",
       " (0.9948644846184003, 'p', 'p'),\n",
       " (0.9932437781854666, 'p', 'p'),\n",
       " (0.9998788148922952, 'p', 'p'),\n",
       " (0.9461685129515115, 'p', 'p'),\n",
       " (0.9627791043709623, 'p', 'p'),\n",
       " (0.9919292901798109, 'p', 'p'),\n",
       " (0.998115483621394, 'p', 'p'),\n",
       " (0.2676969836338399, 'p', 'p'),\n",
       " (0.9999389415586433, 'p', 'p'),\n",
       " (0.9310935735704647, 'p', 'p'),\n",
       " (0.9984091510890175, 'p', 'p'),\n",
       " (0.9999932603653581, 'p', 'p'),\n",
       " (0.9998059626525254, 'p', 'p'),\n",
       " (0.8638144780539048, 'p', 'p'),\n",
       " (0.9996075472091622, 'p', 'p'),\n",
       " (0.9953665768077973, 'p', 'p'),\n",
       " (0.9991345069034492, 'p', 'p'),\n",
       " (0.895255198879306, 'p', 'p'),\n",
       " (0.9992455445737941, 'p', 'n'),\n",
       " (0.9953473340428978, 'p', 'p'),\n",
       " (0.0370029096330623, 'p', 'p'),\n",
       " (0.8805606493305543, 'p', 'p'),\n",
       " (0.6081090647542048, 'p', 'p'),\n",
       " (0.9977932786211451, 'p', 'p'),\n",
       " (0.9967135431299947, 'p', 'p'),\n",
       " (0.9837399752656779, 'p', 'p'),\n",
       " (0.9806768247093963, 'p', 'p'),\n",
       " (0.9999744857558248, 'p', 'p'),\n",
       " (0.9928496159228765, 'p', 'p'),\n",
       " (0.9979957025741172, 'p', 'p'),\n",
       " (0.9402842255920479, 'p', 'p'),\n",
       " (0.9995772985631138, 'p', 'p'),\n",
       " (0.9975611446010252, 'p', 'p'),\n",
       " (0.9676032991231779, 'p', 'p'),\n",
       " (0.986256476502815, 'p', 'p'),\n",
       " (0.9994951943553844, 'p', 'p'),\n",
       " (0.9999765098828028, 'p', 'p'),\n",
       " (0.9999924200269336, 'p', 'p'),\n",
       " (0.9999710770386274, 'p', 'p'),\n",
       " (0.9850865589769014, 'p', 'p'),\n",
       " (0.9999994526863556, 'p', 'p'),\n",
       " (0.995388298404339, 'p', 'p'),\n",
       " (0.9577124250388199, 'p', 'p'),\n",
       " (0.9990329127828375, 'p', 'p'),\n",
       " (0.9482829986348428, 'p', 'p'),\n",
       " (0.999933287561055, 'p', 'p'),\n",
       " (0.9767188062640936, 'p', 'p'),\n",
       " (0.9696776358417769, 'p', 'p'),\n",
       " (0.9989911694955833, 'p', 'p'),\n",
       " (0.9969388788541029, 'p', 'p'),\n",
       " (0.9860580496401309, 'p', 'p'),\n",
       " (0.9973183167091575, 'p', 'p'),\n",
       " (0.9921683237677276, 'p', 'p'),\n",
       " (0.9967843266196746, 'p', 'p'),\n",
       " (0.9744787210539101, 'p', 'p'),\n",
       " (0.9998814444324077, 'p', 'p'),\n",
       " (0.9989594611260868, 'p', 'p'),\n",
       " (0.6178255576591605, 'p', 'p'),\n",
       " (0.09840703101202725, 'p', 'p'),\n",
       " (0.9945533155675893, 'p', 'p'),\n",
       " (0.2717146545121625, 'p', 'p'),\n",
       " (0.9988019535575505, 'p', 'p'),\n",
       " (0.9994009613336983, 'p', 'p'),\n",
       " (0.9999794299340478, 'p', 'p'),\n",
       " (0.9583577770813348, 'p', 'p'),\n",
       " (0.9789208151185554, 'p', 'p'),\n",
       " (0.9994038521568309, 'p', 'p'),\n",
       " (0.9997221231824549, 'p', 'p'),\n",
       " (0.9895061165643588, 'p', 'p'),\n",
       " (0.9943396973219876, 'p', 'p'),\n",
       " (0.9869729483940008, 'p', 'p'),\n",
       " (0.8427776530108346, 'p', 'p'),\n",
       " (0.9837880181485554, 'p', 'p'),\n",
       " (0.9893825594718443, 'p', 'p'),\n",
       " (0.8824019879718786, 'p', 'p'),\n",
       " (0.8369239723016613, 'p', 'p'),\n",
       " (0.9911532910925992, 'p', 'p'),\n",
       " (0.9998824838650541, 'p', 'p'),\n",
       " (0.9938648399393298, 'p', 'p'),\n",
       " (0.9906243305781626, 'p', 'p'),\n",
       " (0.9621797897865437, 'p', 'p'),\n",
       " (0.9996321331754333, 'p', 'p'),\n",
       " (0.984243665934197, 'p', 'p'),\n",
       " (0.999862520762542, 'p', 'p'),\n",
       " (0.8277980457573836, 'p', 'p'),\n",
       " (0.9975394053151958, 'p', 'p'),\n",
       " (0.9960163055482227, 'p', 'p'),\n",
       " (0.9906170784518641, 'p', 'p'),\n",
       " (0.9956119968973456, 'p', 'p'),\n",
       " (0.9999945008206104, 'p', 'p'),\n",
       " (0.9842422402059761, 'p', 'p'),\n",
       " (0.9385692843105856, 'p', 'p'),\n",
       " (0.9982552148469398, 'p', 'p'),\n",
       " (0.7516214402986151, 'p', 'p'),\n",
       " (0.9974348888750207, 'p', 'p'),\n",
       " (0.9844039687881722, 'p', 'p'),\n",
       " (0.9983972068725725, 'p', 'p'),\n",
       " (0.9994940752750996, 'p', 'p'),\n",
       " (0.9957568481075356, 'p', 'p'),\n",
       " (0.999192904431669, 'p', 'p'),\n",
       " (0.9999979112023444, 'p', 'p'),\n",
       " (0.9999779818027109, 'p', 'p'),\n",
       " (0.9965488483513182, 'p', 'p'),\n",
       " (0.998826998849927, 'p', 'p'),\n",
       " (0.9952285422774507, 'p', 'p'),\n",
       " (0.9998284049204679, 'p', 'p'),\n",
       " (0.9992630691469578, 'p', 'p'),\n",
       " (0.9991094695656783, 'p', 'p'),\n",
       " (0.9544977408209055, 'p', 'p'),\n",
       " (0.8345201817209766, 'p', 'p'),\n",
       " (0.0012417625485432403, 'p', 'p'),\n",
       " (0.991800283205396, 'p', 'p'),\n",
       " (0.8644061272649513, 'p', 'p'),\n",
       " (0.9999249380103067, 'p', 'p'),\n",
       " (0.9989155207882685, 'p', 'p'),\n",
       " (0.9858008680281987, 'p', 'p'),\n",
       " (0.9987862482211477, 'p', 'p'),\n",
       " (0.996388590081724, 'p', 'p'),\n",
       " (0.849943234905733, 'p', 'p'),\n",
       " (0.9852438171366534, 'p', 'p'),\n",
       " (0.35482289418720286, 'p', 'p'),\n",
       " (0.9995152004455454, 'p', 'p'),\n",
       " (0.9972894105670363, 'p', 'p'),\n",
       " (0.9822522784970453, 'p', 'p'),\n",
       " (0.6030189513183931, 'p', 'p'),\n",
       " (0.9814290998804482, 'p', 'p'),\n",
       " (0.9987527797235836, 'p', 'p'),\n",
       " (0.9936811835762194, 'p', 'p'),\n",
       " (0.9989586383797209, 'p', 'p'),\n",
       " (0.9990062222289501, 'p', 'p'),\n",
       " (0.9993342260903614, 'p', 'p'),\n",
       " (0.995178489973936, 'p', 'p'),\n",
       " (0.9993067601477261, 'p', 'p'),\n",
       " (0.9976219568029763, 'p', 'p'),\n",
       " (0.9922970470982878, 'p', 'p'),\n",
       " (0.5651356193075898, 'p', 'p'),\n",
       " (0.999869940583849, 'p', 'p'),\n",
       " (0.9997646351866432, 'p', 'p'),\n",
       " (0.9988050778256848, 'p', 'n'),\n",
       " (0.9999647657416866, 'p', 'p'),\n",
       " (0.9553609743970124, 'p', 'p'),\n",
       " (0.9995460949198159, 'p', 'p'),\n",
       " (0.9998748118837432, 'p', 'p'),\n",
       " (0.9944144322437257, 'p', 'p'),\n",
       " (0.9980098438368404, 'p', 'p'),\n",
       " (0.9469924764896226, 'p', 'p'),\n",
       " (0.9416233501542489, 'p', 'p'),\n",
       " (0.9968589731518548, 'p', 'p'),\n",
       " (0.9927983061863613, 'p', 'p'),\n",
       " (0.9999904839578343, 'p', 'p'),\n",
       " (0.9998354410998742, 'p', 'p'),\n",
       " (0.9927465162201335, 'p', 'p'),\n",
       " (0.9997701665100621, 'p', 'p'),\n",
       " (0.9999258719060449, 'p', 'p'),\n",
       " (0.5880405876977776, 'p', 'p'),\n",
       " (0.5199364321576739, 'p', 'p'),\n",
       " (0.999322825973367, 'p', 'p'),\n",
       " (0.9987469804272193, 'p', 'p'),\n",
       " (0.9991688118847263, 'p', 'p'),\n",
       " (0.9807965161131525, 'p', 'p'),\n",
       " (0.9988545337420658, 'p', 'p'),\n",
       " (0.9997347495012118, 'p', 'p'),\n",
       " (0.9993239242631655, 'p', 'p'),\n",
       " (0.9938548209610861, 'p', 'p'),\n",
       " (0.9643179630955854, 'p', 'p'),\n",
       " (0.9448226802276285, 'p', 'p'),\n",
       " (0.999857693767097, 'p', 'p'),\n",
       " (0.9945957349002644, 'p', 'p'),\n",
       " (0.9961362917507318, 'p', 'p'),\n",
       " (0.5300727293687444, 'p', 'p'),\n",
       " (0.9549359586238817, 'p', 'p'),\n",
       " (0.9527970743467228, 'p', 'p'),\n",
       " (0.299466489468285, 'p', 'p'),\n",
       " (0.9999723789371429, 'p', 'p'),\n",
       " (0.9861777986738605, 'p', 'p'),\n",
       " (0.3733874164532546, 'p', 'p'),\n",
       " (0.9903771384299206, 'p', 'p'),\n",
       " (0.9999997133372744, 'p', 'p'),\n",
       " (0.9996054396740016, 'p', 'p'),\n",
       " (0.993478061381126, 'p', 'p'),\n",
       " (0.9212114054490214, 'p', 'p'),\n",
       " (0.992586878998295, 'p', 'p'),\n",
       " (0.998866367040729, 'p', 'p'),\n",
       " (0.9982226695422584, 'p', 'p'),\n",
       " (0.9658710686667296, 'p', 'p'),\n",
       " (0.9994110058486206, 'p', 'p'),\n",
       " (0.9995694176732168, 'p', 'p'),\n",
       " (0.9970536627055132, 'p', 'n'),\n",
       " (0.9838655901468821, 'p', 'p'),\n",
       " (0.9913581865717375, 'p', 'p'),\n",
       " (0.9999827679515493, 'p', 'p'),\n",
       " (0.8826390981599931, 'p', 'p'),\n",
       " (0.9999769831448317, 'p', 'p'),\n",
       " (0.9965543503836644, 'p', 'p'),\n",
       " (0.9994174523312871, 'p', 'p'),\n",
       " (0.9944740882255588, 'p', 'p'),\n",
       " (0.9963250650537162, 'p', 'p'),\n",
       " (0.9994894001516702, 'p', 'p'),\n",
       " (0.9583938051546886, 'p', 'p'),\n",
       " (0.49329406233889606, 'p', 'p'),\n",
       " (0.9967473463020126, 'p', 'p'),\n",
       " (0.9999704982502731, 'p', 'p'),\n",
       " (0.9982591478305017, 'p', 'p'),\n",
       " (0.8123436470556745, 'p', 'p'),\n",
       " (0.9986753722050946, 'p', 'p'),\n",
       " (0.9999917796302042, 'p', 'p'),\n",
       " (0.7653242772340605, 'p', 'p'),\n",
       " (0.9997894361693196, 'p', 'p'),\n",
       " (0.949458988170127, 'p', 'p'),\n",
       " (0.9999919235743959, 'p', 'p'),\n",
       " (0.9978336588986731, 'p', 'p'),\n",
       " (0.9999708560237213, 'p', 'p'),\n",
       " (0.6193712300083561, 'p', 'p'),\n",
       " (0.8945006397191576, 'p', 'p'),\n",
       " (0.994719719342099, 'p', 'p'),\n",
       " (0.9836138916756877, 'p', 'p'),\n",
       " (0.9878740093053578, 'p', 'p'),\n",
       " (0.9993630620875907, 'p', 'p'),\n",
       " (0.9991691540037589, 'p', 'p'),\n",
       " (0.9999946080656653, 'p', 'p'),\n",
       " (0.7720698485990165, 'p', 'p'),\n",
       " (0.9998051488090077, 'p', 'p'),\n",
       " (0.9999872722645784, 'p', 'p'),\n",
       " (0.9999889371127791, 'p', 'p'),\n",
       " (0.9998642213879584, 'p', 'p'),\n",
       " (0.9901636117026257, 'p', 'p'),\n",
       " (0.9997307623872868, 'p', 'p'),\n",
       " (0.9968139578964567, 'p', 'p'),\n",
       " (0.9994132050017038, 'p', 'p'),\n",
       " (0.9364049451204288, 'p', 'p'),\n",
       " (0.9672293903631971, 'p', 'p'),\n",
       " (0.8868263262347784, 'p', 'p'),\n",
       " (0.6384352090029343, 'p', 'p'),\n",
       " (0.9999301926135744, 'p', 'p'),\n",
       " (0.9999711861061354, 'p', 'p'),\n",
       " (0.9916132645246053, 'p', 'p'),\n",
       " (0.819602189244717, 'p', 'p'),\n",
       " (0.9414782174182829, 'p', 'p'),\n",
       " (0.921996578303102, 'p', 'p'),\n",
       " (0.9959450432162275, 'p', 'p'),\n",
       " (0.9947071374512325, 'p', 'p'),\n",
       " (0.7200993263855543, 'p', 'p'),\n",
       " (0.017413927376101087, 'p', 'p'),\n",
       " (0.9990263463372354, 'p', 'p'),\n",
       " (0.9981324570169146, 'p', 'p'),\n",
       " (0.9795593946194618, 'p', 'p'),\n",
       " (0.9570215210105772, 'p', 'p'),\n",
       " (0.9173392572175759, 'p', 'p'),\n",
       " (0.9999703425025461, 'p', 'p'),\n",
       " (0.9977571192621694, 'p', 'p'),\n",
       " (0.31314221910643425, 'p', 'p'),\n",
       " (0.8964318406780225, 'p', 'p'),\n",
       " (0.9935009966774073, 'p', 'p'),\n",
       " (0.9968248771781741, 'p', 'p'),\n",
       " (0.9955733366620013, 'p', 'p'),\n",
       " (0.9997162573041003, 'p', 'p'),\n",
       " (0.9957795716627024, 'p', 'p'),\n",
       " (0.9987806646188921, 'p', 'p'),\n",
       " (0.99989676470494, 'p', 'p'),\n",
       " (0.998452031443489, 'p', 'p'),\n",
       " (0.9996840689328006, 'p', 'p'),\n",
       " (0.9825852595656435, 'p', 'p'),\n",
       " (0.9999910652534116, 'p', 'p'),\n",
       " (0.9111981742621712, 'p', 'p'),\n",
       " (0.9991839691468267, 'p', 'p'),\n",
       " (0.9969396982769531, 'p', 'p'),\n",
       " (0.9986928952172202, 'p', 'p'),\n",
       " (0.9961329636270901, 'p', 'p'),\n",
       " (0.9969058361687702, 'p', 'p'),\n",
       " (0.9702194290779508, 'p', 'p'),\n",
       " (0.9152180165460989, 'p', 'p'),\n",
       " (0.9981959142858641, 'p', 'p'),\n",
       " (0.8252907312204185, 'p', 'p'),\n",
       " (0.9955731029908625, 'p', 'p'),\n",
       " (0.9992503692515159, 'p', 'p'),\n",
       " (0.9997543513147168, 'p', 'p'),\n",
       " (0.6751842157493829, 'p', 'p'),\n",
       " (0.7557345397214171, 'p', 'p'),\n",
       " (0.5051568243707464, 'p', 'p'),\n",
       " (0.9929313239364616, 'p', 'p'),\n",
       " (0.9994673735191991, 'p', 'p'),\n",
       " (0.761895573482701, 'p', 'p'),\n",
       " (0.9520581452864669, 'p', 'p'),\n",
       " (0.9997807355701624, 'p', 'p'),\n",
       " (0.9966255447422429, 'p', 'p'),\n",
       " (0.9934672554963351, 'p', 'p'),\n",
       " (0.9489175235546384, 'p', 'p'),\n",
       " (0.5592255398580057, 'p', 'p'),\n",
       " (0.9996649845166373, 'p', 'p'),\n",
       " (0.9802475244107153, 'p', 'p'),\n",
       " (0.9922915373291465, 'p', 'p'),\n",
       " (0.9880447174951774, 'p', 'p'),\n",
       " (0.9997323484715768, 'p', 'p'),\n",
       " (0.9980016327683602, 'p', 'p'),\n",
       " (0.9993534703769662, 'p', 'p'),\n",
       " (0.9979258116522826, 'p', 'p'),\n",
       " (0.9992789597787607, 'p', 'p'),\n",
       " (0.9985132241617424, 'p', 'p'),\n",
       " (0.9992268742074005, 'p', 'p'),\n",
       " (0.8531491435023734, 'p', 'p'),\n",
       " (0.9996499214979717, 'p', 'p'),\n",
       " (0.9992888130866835, 'p', 'p'),\n",
       " (0.999704182029759, 'p', 'p'),\n",
       " (0.9988994747170036, 'p', 'p'),\n",
       " (0.9871744567050603, 'p', 'p'),\n",
       " (0.9998409788761085, 'p', 'p'),\n",
       " (0.9999297332034337, 'p', 'p'),\n",
       " (0.8791989999841541, 'p', 'p'),\n",
       " (0.9989435738799783, 'p', 'p'),\n",
       " (0.6459523869776168, 'p', 'p'),\n",
       " (0.9966614620333432, 'p', 'p'),\n",
       " (0.9958914054014459, 'p', 'p'),\n",
       " (0.9972010698276734, 'p', 'p'),\n",
       " (0.9439505941883621, 'p', 'p'),\n",
       " (0.8018510979055401, 'p', 'p'),\n",
       " (0.9750454760906508, 'p', 'p'),\n",
       " (0.9984879740261063, 'p', 'p'),\n",
       " (0.985686626305102, 'p', 'p'),\n",
       " (0.9546512965084661, 'p', 'p'),\n",
       " (0.9891685021263051, 'p', 'p'),\n",
       " (0.6085128228587794, 'p', 'p'),\n",
       " (0.9651053350700909, 'p', 'p'),\n",
       " (0.3275623393708043, 'p', 'p'),\n",
       " (0.9960185832114792, 'p', 'p'),\n",
       " (0.9997478058059717, 'p', 'p'),\n",
       " (0.9691209396307323, 'p', 'p'),\n",
       " (0.8389065761333759, 'p', 'p'),\n",
       " (0.8381187261376442, 'p', 'p'),\n",
       " (0.9592647453907014, 'p', 'p'),\n",
       " (0.8726565340427951, 'p', 'p'),\n",
       " (0.9995641201856473, 'p', 'p'),\n",
       " (0.9987399027529691, 'p', 'p'),\n",
       " (0.9938654631009024, 'p', 'n'),\n",
       " (0.999900624395977, 'p', 'p'),\n",
       " (0.9983616635218071, 'p', 'p'),\n",
       " (0.9968775828237725, 'p', 'p'),\n",
       " (0.9999906468774927, 'p', 'p'),\n",
       " (0.9997242764276817, 'p', 'p'),\n",
       " (0.9995592409589373, 'p', 'p'),\n",
       " (0.9714917576718619, 'p', 'p'),\n",
       " (0.9987685366417453, 'p', 'p'),\n",
       " (0.9998890178346517, 'p', 'p'),\n",
       " (0.9999567881328243, 'p', 'p'),\n",
       " (0.9996953053850894, 'p', 'p'),\n",
       " (0.846354282604426, 'p', 'p'),\n",
       " (0.9992407264570694, 'p', 'p'),\n",
       " (0.9999887637142778, 'p', 'p'),\n",
       " (0.9942809678774084, 'p', 'p'),\n",
       " (0.9991830464047393, 'p', 'p'),\n",
       " (0.9994042282638469, 'p', 'p'),\n",
       " (0.8308288704736156, 'p', 'p'),\n",
       " (0.6871897992439484, 'p', 'p'),\n",
       " (0.9954280912505152, 'p', 'p'),\n",
       " (0.9994718644602328, 'p', 'p'),\n",
       " (0.9842497915998953, 'p', 'p'),\n",
       " (0.9998720656470961, 'p', 'p'),\n",
       " (0.6596112809056982, 'p', 'p'),\n",
       " (0.998736780427115, 'p', 'p'),\n",
       " (0.8392228498891894, 'p', 'n'),\n",
       " (0.982463653158186, 'p', 'p'),\n",
       " (0.9992302538656945, 'p', 'p'),\n",
       " (0.6944762567315711, 'p', 'p'),\n",
       " (0.937502834395808, 'p', 'p'),\n",
       " (0.7868754706780327, 'p', 'p'),\n",
       " (0.027584712801937597, 'p', 'p'),\n",
       " (0.9601528423381864, 'p', 'p'),\n",
       " (0.9997395740680267, 'p', 'p'),\n",
       " (0.9982160490068452, 'p', 'p'),\n",
       " (0.9918965654408941, 'p', 'p'),\n",
       " (0.9992921300496197, 'p', 'p'),\n",
       " (0.9811189625211434, 'p', 'p'),\n",
       " (0.9999698713538322, 'p', 'p'),\n",
       " (0.9998336665304886, 'p', 'p'),\n",
       " (0.9806485445943209, 'p', 'p'),\n",
       " (0.055995228811783385, 'p', 'p'),\n",
       " (0.968967544172673, 'p', 'p'),\n",
       " (0.992145602467108, 'p', 'p'),\n",
       " (0.9999938777850108, 'p', 'p'),\n",
       " (0.950781017285262, 'p', 'p'),\n",
       " (0.9931075039679192, 'p', 'p'),\n",
       " (0.9893457819774547, 'p', 'p'),\n",
       " (0.30820089336734735, 'p', 'p'),\n",
       " (0.999802229377684, 'p', 'p'),\n",
       " (0.999752851436622, 'p', 'n'),\n",
       " (0.9975213651235543, 'p', 'p'),\n",
       " (0.9999696704275132, 'p', 'p'),\n",
       " (0.9960418685568546, 'p', 'p'),\n",
       " (0.98971558906209, 'p', 'p'),\n",
       " (0.9663551473165893, 'p', 'p'),\n",
       " (0.994578304209338, 'p', 'p'),\n",
       " (0.9997883005133772, 'p', 'p'),\n",
       " (0.9846384255542411, 'p', 'p'),\n",
       " (0.9914773406444601, 'p', 'p'),\n",
       " (0.9652577838290728, 'p', 'p'),\n",
       " (0.99426179951552, 'p', 'p'),\n",
       " (0.9981471369859387, 'p', 'p'),\n",
       " (0.9992653452388541, 'p', 'p'),\n",
       " (0.36983376995860084, 'p', 'p'),\n",
       " (0.9923249558971836, 'p', 'p'),\n",
       " (0.5634035190176153, 'p', 'p'),\n",
       " (0.9787570165276452, 'p', 'p'),\n",
       " (0.9946285535993313, 'p', 'p'),\n",
       " (0.9984275618560008, 'p', 'p'),\n",
       " (0.9996164146152268, 'p', 'p'),\n",
       " (0.956086561247534, 'p', 'p'),\n",
       " (0.8202395197312907, 'p', 'p'),\n",
       " (0.9973854320545024, 'p', 'p'),\n",
       " (0.6934235902094069, 'p', 'p'),\n",
       " (0.9993555090400155, 'p', 'p'),\n",
       " (0.9179672634381526, 'p', 'p'),\n",
       " (0.9820464603446875, 'p', 'p'),\n",
       " (0.9025231979875511, 'p', 'p'),\n",
       " (0.9953872896571802, 'p', 'p'),\n",
       " (0.9966894084052076, 'p', 'p'),\n",
       " (0.9825597012071678, 'p', 'p'),\n",
       " (0.9702147994648483, 'p', 'p'),\n",
       " (0.4437815400535462, 'p', 'p'),\n",
       " (0.9999736557511387, 'p', 'p'),\n",
       " (0.9491129761855894, 'p', 'p'),\n",
       " (0.8992289490596601, 'p', 'p'),\n",
       " (0.49393072613371725, 'p', 'p'),\n",
       " (0.9312933836142104, 'p', 'p'),\n",
       " (0.9983341468646804, 'p', 'p'),\n",
       " (0.9864575150492274, 'p', 'p'),\n",
       " (0.996146451743956, 'p', 'p'),\n",
       " (0.9790122967240882, 'p', 'p'),\n",
       " (0.9971032997472278, 'p', 'p'),\n",
       " (0.37429195391820586, 'p', 'p'),\n",
       " (0.9999857346049364, 'p', 'p'),\n",
       " (0.9730678053833518, 'p', 'p'),\n",
       " (0.9922827849936784, 'p', 'p'),\n",
       " (0.9611980749082719, 'p', 'p'),\n",
       " (0.9997796611256986, 'p', 'p'),\n",
       " (0.9943337812460725, 'p', 'p'),\n",
       " (0.9906799304704156, 'p', 'p'),\n",
       " (0.11013269929417356, 'p', 'p'),\n",
       " (0.9990666237112172, 'p', 'p'),\n",
       " (0.9920812497223466, 'p', 'p'),\n",
       " (0.9956594089192704, 'p', 'p'),\n",
       " (0.9998632887182005, 'p', 'p'),\n",
       " (0.9999071378704772, 'p', 'p'),\n",
       " (0.9990365040379482, 'p', 'p'),\n",
       " (0.999859344354554, 'p', 'p'),\n",
       " (0.812576044688688, 'p', 'p'),\n",
       " (0.998899251812586, 'p', 'p'),\n",
       " (0.999827648880041, 'p', 'p'),\n",
       " (0.9986388529145105, 'p', 'p'),\n",
       " (0.9968495937666442, 'p', 'p'),\n",
       " (0.9920172718846508, 'p', 'p'),\n",
       " (0.999243263553046, 'p', 'p'),\n",
       " (0.4447089499144513, 'p', 'p'),\n",
       " (0.9991751743396018, 'p', 'p'),\n",
       " (0.9769517150095853, 'p', 'p'),\n",
       " (0.9944406810760551, 'p', 'p'),\n",
       " (0.9987676921854609, 'p', 'p'),\n",
       " (0.9905459955871245, 'p', 'p'),\n",
       " (0.8691956395003155, 'p', 'p'),\n",
       " (0.9495223135192201, 'p', 'p'),\n",
       " (0.9745593254573286, 'p', 'p'),\n",
       " (0.9930478158669358, 'p', 'p'),\n",
       " (0.9943495260394175, 'p', 'p'),\n",
       " (0.9988996256327538, 'p', 'p'),\n",
       " (0.9951569516343011, 'p', 'p'),\n",
       " (0.7305799815003615, 'p', 'p'),\n",
       " (0.9993050122129431, 'p', 'p'),\n",
       " (0.9488154873137865, 'p', 'p'),\n",
       " (0.9810596843232882, 'p', 'p'),\n",
       " (0.9971451908598717, 'p', 'p'),\n",
       " (0.9963305766780153, 'p', 'p'),\n",
       " (0.9994973213815852, 'p', 'p'),\n",
       " (0.9952663006586356, 'p', 'p'),\n",
       " (0.996266026894821, 'p', 'p'),\n",
       " (0.9944080391377051, 'p', 'p'),\n",
       " (0.9998640083455919, 'p', 'p'),\n",
       " (0.9799637215143968, 'p', 'p'),\n",
       " (0.9988215491695326, 'p', 'p'),\n",
       " (0.9999687320039641, 'p', 'p'),\n",
       " (0.9919063569796387, 'p', 'p'),\n",
       " (0.5133722178078061, 'p', 'p'),\n",
       " (0.9420677275163445, 'p', 'p'),\n",
       " (0.9998702636500083, 'p', 'p'),\n",
       " (0.9954082550619091, 'p', 'p'),\n",
       " (0.9995195509080796, 'p', 'p'),\n",
       " (0.9991110566093065, 'p', 'p'),\n",
       " (0.9987027417787177, 'p', 'p'),\n",
       " (0.9999549025785396, 'p', 'p'),\n",
       " (0.9115287600956681, 'p', 'p'),\n",
       " (0.9974498823170183, 'p', 'p'),\n",
       " (0.9974494062254329, 'p', 'p'),\n",
       " (0.9998905092213817, 'p', 'p'),\n",
       " (0.9944416837241012, 'p', 'p'),\n",
       " (0.9824224466567127, 'p', 'p'),\n",
       " (0.9432015129314235, 'p', 'p'),\n",
       " (0.9545535932420894, 'p', 'p'),\n",
       " (0.9999311753673022, 'p', 'p'),\n",
       " (0.9991636760918452, 'p', 'p'),\n",
       " (0.9978701470732259, 'p', 'p'),\n",
       " (0.9999895902590227, 'p', 'p'),\n",
       " (0.9959413406386782, 'p', 'p'),\n",
       " (0.4316825701675613, 'p', 'p'),\n",
       " (0.9988570135011967, 'p', 'p'),\n",
       " (0.9934913365052276, 'p', 'p'),\n",
       " (0.9981630244991576, 'p', 'p'),\n",
       " (0.8251961411290022, 'p', 'p'),\n",
       " (0.9990132538820666, 'p', 'p'),\n",
       " (0.9702227267192604, 'p', 'p'),\n",
       " (0.4775365300739693, 'p', 'p'),\n",
       " (0.9041233926694057, 'p', 'p'),\n",
       " (0.9978157910259625, 'p', 'n'),\n",
       " (0.9994735959325465, 'p', 'p'),\n",
       " (0.9994327419603249, 'p', 'p'),\n",
       " (0.9905590959160464, 'p', 'p'),\n",
       " (0.9556026546360359, 'p', 'p'),\n",
       " (0.33578372563713726, 'p', 'p'),\n",
       " (0.9999205746851733, 'p', 'n'),\n",
       " (0.9999064511743488, 'p', 'p'),\n",
       " (0.967588507134877, 'p', 'p'),\n",
       " (0.8326850836530008, 'p', 'p'),\n",
       " (0.2658838429124224, 'p', 'p'),\n",
       " (0.999805833866791, 'p', 'p'),\n",
       " (0.9355985704664828, 'p', 'p'),\n",
       " (0.9814959284751796, 'p', 'p'),\n",
       " (0.993519971223125, 'p', 'p'),\n",
       " (0.9763837467849201, 'p', 'p'),\n",
       " (0.9961557896133058, 'p', 'p'),\n",
       " (0.5641113765944392, 'p', 'p'),\n",
       " (0.9991563508587344, 'p', 'p'),\n",
       " (0.9999941000527895, 'p', 'p'),\n",
       " (0.9919180055086897, 'p', 'p'),\n",
       " (0.984525313566555, 'p', 'p'),\n",
       " (0.9969414299823576, 'p', 'p'),\n",
       " (0.9273569451643127, 'p', 'p'),\n",
       " (0.9998391245614713, 'p', 'p'),\n",
       " (0.999967806134591, 'p', 'p'),\n",
       " (0.9898826385658646, 'p', 'p'),\n",
       " (0.3856057256999179, 'p', 'p'),\n",
       " (0.9999295004514704, 'p', 'p'),\n",
       " (0.9811527701732009, 'p', 'p'),\n",
       " (0.9566807822874082, 'p', 'p'),\n",
       " (0.9964186988760254, 'p', 'p'),\n",
       " (0.6927053968031281, 'p', 'p'),\n",
       " (0.9992954153687812, 'p', 'p'),\n",
       " (0.9255384559966838, 'p', 'p'),\n",
       " (0.3563482918126675, 'p', 'p'),\n",
       " (0.8944413872585869, 'p', 'p'),\n",
       " (0.9984146836054515, 'p', 'p'),\n",
       " (0.9991318399009452, 'p', 'p'),\n",
       " (0.9998792811931774, 'p', 'p'),\n",
       " (0.9999380004943809, 'p', 'p'),\n",
       " (0.9983114103079515, 'p', 'p'),\n",
       " (0.9990693986071577, 'p', 'p'),\n",
       " (0.9996876801810122, 'p', 'p'),\n",
       " (0.9925956189832014, 'p', 'p'),\n",
       " (0.9953573370903805, 'p', 'p'),\n",
       " (0.5133162821146139, 'p', 'p'),\n",
       " (0.9990841782733629, 'p', 'p'),\n",
       " (0.9639704958227716, 'p', 'p'),\n",
       " (0.9839481586971344, 'p', 'p'),\n",
       " (0.9984724151755389, 'p', 'p'),\n",
       " (0.9963130421344825, 'p', 'p'),\n",
       " (0.9923182824390973, 'p', 'p'),\n",
       " (0.9990693389487877, 'p', 'p'),\n",
       " (0.9998153963522478, 'p', 'p'),\n",
       " (0.9380798562590817, 'p', 'p'),\n",
       " (0.9117086743362096, 'p', 'n'),\n",
       " (0.10112428155751692, 'p', 'p'),\n",
       " (0.9995974949190914, 'p', 'p'),\n",
       " (0.9682967636495068, 'p', 'p'),\n",
       " (0.954888928200021, 'p', 'p'),\n",
       " (0.9988530177493706, 'p', 'p'),\n",
       " (0.8742190160905629, 'p', 'p'),\n",
       " (0.9882929716241168, 'p', 'n'),\n",
       " (0.5081709824627764, 'p', 'p'),\n",
       " (0.9993564368642106, 'p', 'p'),\n",
       " (0.9998283752660936, 'p', 'p'),\n",
       " (0.9936053423141363, 'p', 'p'),\n",
       " (0.7959050057099949, 'p', 'p'),\n",
       " (0.9999594878034667, 'p', 'p'),\n",
       " (0.9513428061919597, 'p', 'p'),\n",
       " (0.993756253367927, 'p', 'p'),\n",
       " (0.9967178527223873, 'p', 'p'),\n",
       " (0.9939589221306077, 'p', 'n'),\n",
       " (0.8970056196722954, 'p', 'p'),\n",
       " (0.9878372756539845, 'p', 'p'),\n",
       " (0.9023064467147506, 'p', 'p'),\n",
       " (0.9991892476195615, 'p', 'p'),\n",
       " (0.9006136856031309, 'p', 'p'),\n",
       " (0.9992862873044768, 'p', 'p'),\n",
       " (0.9999970107725673, 'p', 'p'),\n",
       " (0.997785698551155, 'p', 'p'),\n",
       " (0.9839473498123078, 'p', 'p'),\n",
       " (0.9907249163038976, 'p', 'p'),\n",
       " (0.96267860103493, 'p', 'p'),\n",
       " (0.865591559539026, 'p', 'p'),\n",
       " (0.9998579889572675, 'p', 'p'),\n",
       " (0.9999056409211561, 'p', 'p'),\n",
       " (0.999930376964748, 'p', 'p'),\n",
       " (0.9978521105738952, 'p', 'p'),\n",
       " (0.9995224091426664, 'p', 'p'),\n",
       " (0.9999908303114787, 'p', 'p'),\n",
       " (0.9764667229164871, 'p', 'p'),\n",
       " (0.9999802915321655, 'p', 'p'),\n",
       " (0.9984434397773378, 'p', 'p'),\n",
       " (0.8491221748115994, 'p', 'p'),\n",
       " (0.9972093264388472, 'p', 'p'),\n",
       " (0.9998332163073509, 'p', 'p'),\n",
       " (0.9999958805302828, 'p', 'p'),\n",
       " (0.9897168837657455, 'p', 'p'),\n",
       " (0.9999888804355476, 'p', 'p'),\n",
       " (0.9906629949966201, 'p', 'p'),\n",
       " (0.9804867383908494, 'p', 'p'),\n",
       " (0.9996462376816574, 'p', 'p'),\n",
       " (0.999952016560424, 'p', 'p'),\n",
       " (0.9999094790881469, 'p', 'p'),\n",
       " (0.9837541802693285, 'p', 'p'),\n",
       " (0.999722715093089, 'p', 'p'),\n",
       " (0.9994579122210769, 'p', 'p'),\n",
       " (0.7183043898160291, 'p', 'p'),\n",
       " (0.9999846752224113, 'p', 'p'),\n",
       " (0.9491439256657497, 'p', 'p'),\n",
       " (0.9999616024618955, 'p', 'p'),\n",
       " (0.7936199609268143, 'p', 'p'),\n",
       " (0.9682624011095367, 'p', 'p'),\n",
       " (0.7007463671427255, 'p', 'p'),\n",
       " (0.9999768709372575, 'p', 'p'),\n",
       " (0.998773159420231, 'p', 'p'),\n",
       " (0.9959301158758057, 'p', 'p'),\n",
       " (0.999840138373191, 'p', 'p'),\n",
       " (0.991718847925613, 'p', 'p'),\n",
       " (0.9918400639830843, 'p', 'p'),\n",
       " (0.9935239561632498, 'p', 'p'),\n",
       " (0.9256755685393233, 'p', 'p'),\n",
       " (0.9970689838092015, 'p', 'p'),\n",
       " (0.8487034325867551, 'p', 'p'),\n",
       " (0.7531081375954446, 'p', 'p'),\n",
       " (0.9977842917385656, 'p', 'p'),\n",
       " (0.9936825227975181, 'p', 'p'),\n",
       " (0.9623336091306778, 'p', 'p'),\n",
       " (0.9927860642816038, 'p', 'p'),\n",
       " (0.999998472307578, 'p', 'p'),\n",
       " (0.9739272283626328, 'p', 'p'),\n",
       " (0.9996676112983037, 'p', 'p'),\n",
       " (0.59128191084255, 'p', 'p'),\n",
       " (0.999067013566777, 'p', 'p'),\n",
       " (0.24123527470398204, 'p', 'p'),\n",
       " (0.9887501050346165, 'p', 'p'),\n",
       " (0.9928643666992203, 'p', 'p'),\n",
       " (0.9978513803681941, 'p', 'p'),\n",
       " (0.979989423908573, 'p', 'p'),\n",
       " (0.9311459362995618, 'p', 'p'),\n",
       " (0.991553531968665, 'p', 'p'),\n",
       " (0.9995512666578092, 'p', 'p'),\n",
       " (0.9997920744506507, 'p', 'p'),\n",
       " (0.659331677341439, 'p', 'p'),\n",
       " (0.9996827371267057, 'p', 'p'),\n",
       " (0.9993529194944568, 'p', 'p'),\n",
       " (0.9945870723030131, 'p', 'p'),\n",
       " (0.9922406535070494, 'p', 'p'),\n",
       " (0.9957145647346752, 'p', 'p'),\n",
       " (0.8698917521921713, 'p', 'p'),\n",
       " (0.9928403198259671, 'p', 'p'),\n",
       " (0.9986844538112908, 'p', 'p'),\n",
       " (0.9956595350183501, 'p', 'p'),\n",
       " (0.9987108960057077, 'p', 'p'),\n",
       " (0.9999248958828166, 'p', 'p'),\n",
       " (0.9999813483076041, 'p', 'p'),\n",
       " (0.6568633193773844, 'p', 'p'),\n",
       " (0.9994149258992981, 'p', 'p'),\n",
       " (0.9998162177531122, 'p', 'p'),\n",
       " (0.9900319868358148, 'p', 'p'),\n",
       " (0.9999732021881276, 'p', 'p'),\n",
       " (0.9802482280484245, 'p', 'p'),\n",
       " (0.9578331207150256, 'p', 'p'),\n",
       " (0.9209218231447944, 'p', 'p'),\n",
       " (0.9942007533113271, 'p', 'p'),\n",
       " (0.9999234710896803, 'p', 'p'),\n",
       " (0.9839455419722772, 'p', 'p'),\n",
       " (0.9949074146536871, 'p', 'p'),\n",
       " (0.9705465274831857, 'p', 'p'),\n",
       " (0.9993126976894551, 'p', 'p'),\n",
       " (0.9832365609395303, 'p', 'p'),\n",
       " (0.9998035282672293, 'p', 'p'),\n",
       " (0.9809147304955751, 'p', 'p'),\n",
       " (0.9987480407647046, 'p', 'p'),\n",
       " (0.9267671626104536, 'p', 'p'),\n",
       " (0.9993868203294266, 'p', 'p'),\n",
       " (0.9995954298922507, 'p', 'p'),\n",
       " (0.9995958123112445, 'p', 'p'),\n",
       " (0.8905999738606536, 'p', 'p'),\n",
       " (0.827327408493872, 'p', 'p'),\n",
       " (0.999962564917801, 'p', 'p'),\n",
       " (0.996735698968579, 'p', 'p'),\n",
       " (0.999323538042431, 'p', 'p'),\n",
       " (0.9351181853269404, 'p', 'p'),\n",
       " (0.9999780376349953, 'p', 'p'),\n",
       " (0.9902829977829164, 'p', 'p'),\n",
       " (0.9999422623506319, 'p', 'p'),\n",
       " (0.9997901214491977, 'p', 'p'),\n",
       " (0.9964408835481797, 'p', 'p'),\n",
       " (0.9882479866936622, 'p', 'p'),\n",
       " (0.993317359766581, 'p', 'p'),\n",
       " (0.998152258085948, 'p', 'p'),\n",
       " (0.9999914266849739, 'p', 'p'),\n",
       " (0.9296052241040561, 'p', 'p'),\n",
       " (0.9998130600052486, 'p', 'p'),\n",
       " (0.9999056841854324, 'p', 'p'),\n",
       " (0.9967868400871445, 'p', 'p'),\n",
       " (0.9965947361635736, 'p', 'p'),\n",
       " (0.9983234289492906, 'p', 'p'),\n",
       " (0.9988711242413636, 'p', 'p'),\n",
       " (0.99918208383485, 'p', 'p'),\n",
       " (0.9997198861511138, 'p', 'p'),\n",
       " (0.8578426840794943, 'p', 'p'),\n",
       " (0.9639153006172625, 'p', 'p'),\n",
       " (0.9945493376613744, 'p', 'p'),\n",
       " (0.998626146250226, 'p', 'p'),\n",
       " (0.9998297677546718, 'p', 'p'),\n",
       " (0.9996486115798727, 'p', 'p'),\n",
       " (0.5086770655164026, 'p', 'p'),\n",
       " (0.9696707088166827, 'p', 'p'),\n",
       " (0.9893579050665314, 'p', 'p'),\n",
       " (0.24380659820548972, 'p', 'p'),\n",
       " (0.9893880496846144, 'p', 'p'),\n",
       " (0.9904687531939617, 'p', 'p'),\n",
       " (0.9999746002319068, 'p', 'p'),\n",
       " (0.9997923375260196, 'p', 'p'),\n",
       " (0.9973364261691388, 'p', 'p'),\n",
       " (0.9995506245751365, 'p', 'p'),\n",
       " (0.9992742434604325, 'p', 'p'),\n",
       " (0.9961419198249329, 'p', 'p'),\n",
       " (0.9799782490010637, 'p', 'p'),\n",
       " (0.9941334417832869, 'p', 'p'),\n",
       " (0.994152543914541, 'p', 'p'),\n",
       " (0.9982036960022752, 'p', 'p'),\n",
       " (0.9995154709444695, 'p', 'p'),\n",
       " (0.99781848580783, 'p', 'p'),\n",
       " (0.9995180423725301, 'p', 'p'),\n",
       " (0.9607173797790539, 'p', 'p'),\n",
       " (0.7447501860707757, 'p', 'p'),\n",
       " (0.23009733856801917, 'p', 'p'),\n",
       " (0.9992633665659502, 'p', 'p'),\n",
       " (0.9907741874673921, 'p', 'p'),\n",
       " (0.995922782962169, 'p', 'p'),\n",
       " (0.9957849879911145, 'p', 'p'),\n",
       " (0.9982668401071614, 'p', 'p'),\n",
       " (0.9969133004392327, 'p', 'p'),\n",
       " (0.9955919874118788, 'p', 'p'),\n",
       " (0.9865328233615277, 'p', 'p'),\n",
       " (0.9993055823262305, 'p', 'p'),\n",
       " (0.9992247079787664, 'p', 'p'),\n",
       " (0.9995561278229099, 'p', 'p'),\n",
       " (0.9882676405681806, 'p', 'p'),\n",
       " (0.991250738593483, 'p', 'p'),\n",
       " (0.994449290183021, 'p', 'p'),\n",
       " (0.9940094120371399, 'p', 'p'),\n",
       " (0.9996431501682027, 'p', 'p'),\n",
       " (0.9928081702361966, 'p', 'p'),\n",
       " (0.9869007653268498, 'p', 'p'),\n",
       " (0.9940542285316014, 'p', 'p'),\n",
       " (0.9996527529937028, 'p', 'p'),\n",
       " (0.998589227787146, 'p', 'p'),\n",
       " (0.9995293367043682, 'p', 'p'),\n",
       " (0.9988517550246606, 'p', 'p'),\n",
       " (0.8917301558273683, 'p', 'p'),\n",
       " (0.9976429881051518, 'p', 'p'),\n",
       " (0.9995926874006595, 'p', 'p'),\n",
       " (0.8872080900098847, 'p', 'p'),\n",
       " (0.9999555506496578, 'p', 'p'),\n",
       " (0.9995454556255364, 'p', 'p'),\n",
       " (0.9952260943136768, 'p', 'p'),\n",
       " (0.998598564426051, 'p', 'p'),\n",
       " (0.06291253538087971, 'p', 'p'),\n",
       " (0.9446878773581442, 'p', 'p'),\n",
       " (0.9925793409724778, 'p', 'p'),\n",
       " (0.3952896144785882, 'p', 'p'),\n",
       " (0.9998308520557785, 'p', 'p'),\n",
       " (0.9972801027286369, 'p', 'p'),\n",
       " (0.9894685115887798, 'p', 'p'),\n",
       " (0.8627734492995945, 'p', 'p'),\n",
       " (0.8340118285485327, 'p', 'p'),\n",
       " (0.9866231358012016, 'p', 'p'),\n",
       " (0.9971396761748406, 'p', 'p'),\n",
       " (0.9889275271206949, 'p', 'p'),\n",
       " (0.9936119506352102, 'p', 'p'),\n",
       " (0.9758754195360151, 'p', 'p'),\n",
       " (0.9983135066293953, 'p', 'p'),\n",
       " (0.9999196961831815, 'p', 'p'),\n",
       " (0.9990214270576177, 'p', 'p'),\n",
       " (0.9995827509734977, 'p', 'p'),\n",
       " (0.999509848381687, 'p', 'p'),\n",
       " (0.9999952701754514, 'p', 'p'),\n",
       " (0.987411377200077, 'p', 'p'),\n",
       " (0.9974129398161625, 'p', 'p'),\n",
       " (0.20760277111512093, 'p', 'p'),\n",
       " (0.960268824368661, 'p', 'p'),\n",
       " (0.2078891410734577, 'p', 'p'),\n",
       " (0.9999186234994786, 'p', 'p'),\n",
       " (0.9984039690813846, 'p', 'p'),\n",
       " (0.9952414115399486, 'p', 'p'),\n",
       " (0.9772808363583623, 'p', 'p'),\n",
       " (0.9980679887620125, 'p', 'p'),\n",
       " (0.9999464701994506, 'p', 'p'),\n",
       " (0.9993211001460949, 'p', 'p'),\n",
       " (0.9740225516000067, 'p', 'p'),\n",
       " (0.993424627106342, 'p', 'p'),\n",
       " (0.8164356120124402, 'p', 'p'),\n",
       " (0.9999885029305383, 'p', 'p'),\n",
       " (0.9959358871183068, 'p', 'p'),\n",
       " (0.9810145015868263, 'p', 'p'),\n",
       " (0.8516008852577338, 'p', 'p'),\n",
       " (0.010185488427538459, 'p', 'p'),\n",
       " (0.9388871416289081, 'p', 'p'),\n",
       " (0.9915869714189716, 'p', 'p'),\n",
       " (0.995832835291661, 'p', 'p'),\n",
       " (0.9997660673599025, 'p', 'p'),\n",
       " (0.9948817105185868, 'p', 'p'),\n",
       " (0.998014719818287, 'p', 'p'),\n",
       " (0.9999998687367563, 'p', 'p'),\n",
       " (0.9995879229031055, 'p', 'p'),\n",
       " (0.9999863862852365, 'p', 'p'),\n",
       " (0.9894614987329858, 'p', 'p'),\n",
       " (0.7667778010078422, 'p', 'p'),\n",
       " (0.999918016772818, 'p', 'p'),\n",
       " (0.999977512009442, 'p', 'p'),\n",
       " (0.9999124997546861, 'p', 'p'),\n",
       " (0.9448022022793985, 'p', 'p'),\n",
       " (0.9307434405967966, 'p', 'p'),\n",
       " (0.9458683012101293, 'p', 'p'),\n",
       " (0.9998003715174923, 'p', 'p'),\n",
       " (0.2238499362928693, 'p', 'p'),\n",
       " (0.9359375194415798, 'p', 'p'),\n",
       " (0.7847343140391341, 'p', 'p'),\n",
       " (0.9775224282621512, 'p', 'p'),\n",
       " (0.9992252071760354, 'p', 'p'),\n",
       " (0.9948934375726194, 'p', 'p'),\n",
       " (0.9954965383962926, 'p', 'p'),\n",
       " (0.9707525947440355, 'p', 'p'),\n",
       " (0.638903835734043, 'p', 'p'),\n",
       " (0.8103682912374329, 'p', 'p'),\n",
       " (0.9830153522506381, 'p', 'p'),\n",
       " (0.16162197904589692, 'p', 'p'),\n",
       " (0.5436280265389546, 'p', 'p'),\n",
       " (0.9995513341766109, 'p', 'p'),\n",
       " (0.9734787607410123, 'p', 'p'),\n",
       " (0.7485042197541595, 'p', 'p'),\n",
       " (0.9974762209353134, 'p', 'p'),\n",
       " (0.9989227910277254, 'p', 'p'),\n",
       " (0.9998407463728253, 'p', 'p'),\n",
       " (0.8694691478887512, 'p', 'p'),\n",
       " (0.11153198762728599, 'p', 'p'),\n",
       " (0.9996248584418858, 'p', 'p'),\n",
       " (0.9999796339518284, 'p', 'p'),\n",
       " (0.9999921686679407, 'p', 'p'),\n",
       " (0.973067046036539, 'p', 'p'),\n",
       " (0.9970073755411849, 'p', 'p'),\n",
       " (0.9967918829193693, 'p', 'p'),\n",
       " (0.9999428369762111, 'p', 'p'),\n",
       " (0.9777154660071625, 'p', 'p'),\n",
       " (0.9984121696454838, 'p', 'p'),\n",
       " (0.9983693506671307, 'p', 'p'),\n",
       " (0.9991535156354093, 'p', 'p'),\n",
       " (0.5110659662743569, 'p', 'p'),\n",
       " (0.9999361817586762, 'p', 'p'),\n",
       " (0.9956247112052443, 'p', 'p'),\n",
       " (0.9931958722894442, 'p', 'p'),\n",
       " (0.9999985269514113, 'p', 'p'),\n",
       " (0.9972590046813647, 'p', 'p'),\n",
       " (0.959549699758532, 'p', 'p'),\n",
       " (0.9985759235823719, 'p', 'p'),\n",
       " (0.9999680310228793, 'p', 'p'),\n",
       " (0.9959227377060303, 'p', 'p'),\n",
       " (0.997565892255368, 'p', 'p'),\n",
       " (0.9884359061750246, 'p', 'p'),\n",
       " (0.9977639410067605, 'p', 'p'),\n",
       " (0.968564281925254, 'p', 'p'),\n",
       " (0.9998525352363955, 'p', 'p'),\n",
       " (0.9999871606196319, 'p', 'p'),\n",
       " (0.999975051985396, 'p', 'p'),\n",
       " (0.9947223201096118, 'p', 'p'),\n",
       " (0.9997182170863592, 'p', 'p'),\n",
       " (0.9965512459410636, 'p', 'p'),\n",
       " (0.9963557770507857, 'p', 'p'),\n",
       " (0.9982810070102048, 'p', 'p'),\n",
       " (0.8616281723579448, 'p', 'p'),\n",
       " ...]"
      ]
     },
     "execution_count": 1551,
     "metadata": {},
     "output_type": "execute_result"
    }
   ],
   "source": [
    "list(zip(p_proba, classes, predictions_model0))"
   ]
  },
  {
   "cell_type": "code",
   "execution_count": 1552,
   "metadata": {
    "id": "jUKk0hO99fPd"
   },
   "outputs": [],
   "source": [
    "predictions_model0 = p_proba>thresholds[8]\n",
    "predictions_model0 = list(map(lambda x: \"p\" if x else \"n\",predictions_model0))"
   ]
  },
  {
   "cell_type": "code",
   "execution_count": 1553,
   "metadata": {},
   "outputs": [
    {
     "data": {
      "text/plain": [
       "array(['p', 'p', 'p', ..., 'n', 'n', 'n'], dtype='<U1')"
      ]
     },
     "execution_count": 1553,
     "metadata": {},
     "output_type": "execute_result"
    }
   ],
   "source": [
    "np.array(predictions_model0)"
   ]
  },
  {
   "cell_type": "code",
   "execution_count": 1554,
   "metadata": {},
   "outputs": [
    {
     "data": {
      "text/plain": [
       "0.8656195462478184"
      ]
     },
     "execution_count": 1554,
     "metadata": {},
     "output_type": "execute_result"
    }
   ],
   "source": [
    "precision(classes = classes, predicted = np.array(predictions_model0) , positive_class = \"p\")"
   ]
  },
  {
   "cell_type": "code",
   "execution_count": 1555,
   "metadata": {},
   "outputs": [
    {
     "data": {
      "text/plain": [
       "0.992"
      ]
     },
     "execution_count": 1555,
     "metadata": {},
     "output_type": "execute_result"
    }
   ],
   "source": [
    "recall(classes = classes, predicted = np.array(predictions_model0) , positive_class = \"p\")"
   ]
  },
  {
   "cell_type": "markdown",
   "metadata": {
    "id": "wq4gHOJi9fPd"
   },
   "source": [
    "\n",
    "\n",
    "Para todos los modelos"
   ]
  },
  {
   "cell_type": "code",
   "execution_count": 1556,
   "metadata": {
    "colab": {
     "base_uri": "https://localhost:8080/"
    },
    "id": "UvbyG5Mc9fPd",
    "outputId": "b028502a-fc19-45a1-e294-72deccb4443b"
   },
   "outputs": [
    {
     "name": "stdout",
     "output_type": "stream",
     "text": [
      "[0.9 0.8 0.7 0.6 0.5 0.4 0.3 0.2 0.1]\n"
     ]
    }
   ],
   "source": [
    "print(thresholds)\n",
    "predictions = [np.array(list(map(lambda x: \"p\" if x else \"n\", p_proba > t_ ))) for t_ in thresholds ]"
   ]
  },
  {
   "cell_type": "code",
   "execution_count": 1557,
   "metadata": {
    "id": "li_UMj0t9fPd"
   },
   "outputs": [],
   "source": [
    "accuracies = [accuracy(classes=classes, predicted=pred_, positive_class=\"p\") \n",
    "                for pred_ in predictions]\n",
    "recalls = [recall(classes=classes, predicted=pred_, positive_class=\"p\") \n",
    "                for pred_ in predictions]\n",
    "precisions = [precision(classes=classes, predicted=pred_, positive_class=\"p\") \n",
    "                for pred_ in predictions]"
   ]
  },
  {
   "cell_type": "code",
   "execution_count": 1558,
   "metadata": {
    "colab": {
     "base_uri": "https://localhost:8080/",
     "height": 281
    },
    "id": "DzSYVTrb9fPe",
    "outputId": "7e05109a-abaf-4f1c-e48b-de4ea0e9a43f"
   },
   "outputs": [
    {
     "data": {
      "image/png": "[encoded data removed]",
      "text/plain": [
       "<Figure size 720x288 with 1 Axes>"
      ]
     },
     "metadata": {
      "needs_background": "light"
     },
     "output_type": "display_data"
    }
   ],
   "source": [
    "plt.figure(figsize=[10,4])\n",
    "plt.xlim([0,1])\n",
    "plt.ylim([0,1])\n",
    "plt.plot(thresholds,accuracies,\"k\")\n",
    "plt.plot(thresholds,recalls,\"red\")\n",
    "plt.plot(thresholds,precisions,\"blue\")\n",
    "plt.legend([\"Accuracy\",\"Recall\",\"Precision\"])\n",
    "plt.xlabel(\"Probability threshold. \")\n",
    "plt.ylim(0.7,1.05)\n",
    "plt.show()\n"
   ]
  },
  {
   "cell_type": "code",
   "execution_count": 1559,
   "metadata": {},
   "outputs": [
    {
     "data": {
      "image/png": "[encoded data removed]",
      "text/plain": [
       "<Figure size 432x288 with 1 Axes>"
      ]
     },
     "metadata": {
      "needs_background": "light"
     },
     "output_type": "display_data"
    }
   ],
   "source": [
    "TPR = [0] + recalls + [1]\n",
    " \n",
    "FPR = np.append(np.array([0]), (1 - np.array(precisions)))\n",
    "FPR = np.append(FPR, np.array([1]))\n",
    "\n",
    "plt.plot(FPR,TPR)\n",
    "plt.xlim(0,1.05)\n",
    "plt.ylim(0,1)\n",
    "plt.show()"
   ]
  },
  {
   "cell_type": "markdown",
   "metadata": {
    "id": "jQzKnNwa9fPe"
   },
   "source": [
    "\n",
    "\n",
    "## Más sensibilidad"
   ]
  },
  {
   "cell_type": "code",
   "execution_count": 1560,
   "metadata": {
    "id": "PU0std519fPe"
   },
   "outputs": [],
   "source": [
    "thresholds = np.arange(0,1000,10)[::-1]/1000\n",
    "predictions = [np.array(list(map(lambda x: \"p\" if x else \"n\", p_proba > t_ ))) for t_ in thresholds ]\n",
    "\n",
    "accuracies = [accuracy(classes=classes, predicted=pred_, positive_class=\"p\") \n",
    "                for pred_ in predictions]\n",
    "recalls = [recall(classes=classes, predicted=pred_, positive_class=\"p\") \n",
    "                for pred_ in predictions]\n",
    "precisions = [precision(classes=classes, predicted=pred_, positive_class=\"p\") \n",
    "                for pred_ in predictions]"
   ]
  },
  {
   "cell_type": "code",
   "execution_count": 1561,
   "metadata": {
    "colab": {
     "base_uri": "https://localhost:8080/",
     "height": 295
    },
    "id": "iu5QMkbr9fPe",
    "outputId": "7e57731e-fb8b-4a4e-aa1f-69edba0e22e9"
   },
   "outputs": [
    {
     "data": {
      "image/png": "[encoded data removed]",
      "text/plain": [
       "<Figure size 720x288 with 1 Axes>"
      ]
     },
     "metadata": {
      "needs_background": "light"
     },
     "output_type": "display_data"
    }
   ],
   "source": [
    "plt.figure(figsize=[10,4])\n",
    "plt.xlim([-.1,1.1])\n",
    "plt.ylim([0,1.1])\n",
    "plt.plot(thresholds[::-1],accuracies,\"k\")\n",
    "plt.plot(thresholds,recalls,\"red\")\n",
    "plt.plot(thresholds,precisions,\"blue\")\n",
    "plt.legend([\"Accuracy\",\"Recall\",\"Precision\"])\n",
    "plt.xlabel(\"Probability threshold. \")\n",
    "plt.show()"
   ]
  },
  {
   "cell_type": "markdown",
   "metadata": {
    "id": "XlDeFAhN9fPe"
   },
   "source": [
    "\n",
    "\n",
    "## Distribuciones desequilibradas"
   ]
  },
  {
   "cell_type": "code",
   "execution_count": 1562,
   "metadata": {
    "id": "g38vQceQ9fPe"
   },
   "outputs": [],
   "source": [
    "total_p = 100\n",
    "total_n = 1000\n",
    "px = [np.random.normal(10,3) for _ in range(total_p)]\n",
    "nx = [np.random.normal(20,3) for _ in range(total_n)]\n",
    "x = np.concatenate([px,nx])\n",
    "classes = np.concatenate([[\"p\"]*total_p,[\"n\"]*total_n])"
   ]
  },
  {
   "cell_type": "code",
   "execution_count": 1563,
   "metadata": {},
   "outputs": [
    {
     "data": {
      "text/plain": [
       "(array([  2.,   2.,  11.,  29.,  40.,  61.,  86., 105., 109., 137., 129.,\n",
       "        109.,  75.,  42.,  30.,  17.,  13.,   2.,   0.,   1.]),\n",
       " array([10.98274944, 11.95099108, 12.91923273, 13.88747438, 14.85571603,\n",
       "        15.82395767, 16.79219932, 17.76044097, 18.72868262, 19.69692427,\n",
       "        20.66516591, 21.63340756, 22.60164921, 23.56989086, 24.53813251,\n",
       "        25.50637415, 26.4746158 , 27.44285745, 28.4110991 , 29.37934074,\n",
       "        30.34758239]),\n",
       " <a list of 20 Patch objects>)"
      ]
     },
     "execution_count": 1563,
     "metadata": {},
     "output_type": "execute_result"
    },
    {
     "data": {
      "image/png": "[encoded data removed]",
      "text/plain": [
       "<Figure size 432x288 with 1 Axes>"
      ]
     },
     "metadata": {
      "needs_background": "light"
     },
     "output_type": "display_data"
    }
   ],
   "source": [
    "plt.hist(px,bins=20,color=\"r\", alpha = .5)\n",
    "plt.hist(nx,bins=20,color=\"blue\", alpha = .5)"
   ]
  },
  {
   "cell_type": "code",
   "execution_count": 1564,
   "metadata": {
    "id": "ZZfnCGjX9fPe"
   },
   "outputs": [],
   "source": [
    "lr = LogisticRegression()\n",
    "lr = lr.fit(x.reshape(-1,1),classes)\n",
    "\n",
    "predicted_classes_proba = lr.predict_proba(x.reshape(-1,1))\n",
    "\n",
    "n_proba, p_proba = zip(*predicted_classes_proba)"
   ]
  },
  {
   "cell_type": "code",
   "execution_count": 1565,
   "metadata": {
    "id": "m5bz0bpg9fPf"
   },
   "outputs": [],
   "source": [
    "thresholds = np.arange(0,1000,10)[::-1]/1000\n",
    "predictions = [np.array(list(map(lambda x: \"p\" if x else \"n\", p_proba > t_ ))) for t_ in thresholds ]\n",
    "\n",
    "accuracies = [accuracy(classes=classes, predicted=pred_, positive_class=\"p\") \n",
    "                for pred_ in predictions]\n",
    "recalls = [recall(classes=classes, predicted=pred_, positive_class=\"p\") \n",
    "                for pred_ in predictions]\n",
    "precisions = [precision(classes=classes, predicted=pred_, positive_class=\"p\") \n",
    "                for pred_ in predictions]"
   ]
  },
  {
   "cell_type": "code",
   "execution_count": 1566,
   "metadata": {
    "colab": {
     "base_uri": "https://localhost:8080/",
     "height": 281
    },
    "id": "svDAPal49fPf",
    "outputId": "b3c3d869-c369-44a7-9c97-a0021f4eec6c"
   },
   "outputs": [
    {
     "data": {
      "image/png": "[encoded data removed]",
      "text/plain": [
       "<Figure size 720x288 with 1 Axes>"
      ]
     },
     "metadata": {
      "needs_background": "light"
     },
     "output_type": "display_data"
    }
   ],
   "source": [
    "plt.figure(figsize=[10,4])\n",
    "plt.xlim([-.1,1.1])\n",
    "plt.ylim([0,1.1])\n",
    "plt.plot(thresholds,accuracies,\"k\")\n",
    "plt.plot(thresholds,recalls,\"red\")\n",
    "plt.plot(thresholds,precisions,\"blue\")\n",
    "plt.legend([\"Accuracy\",\"Recall\",\"Precision\"])\n",
    "plt.xlabel(\"Probability threshold. \")\n",
    "plt.show()"
   ]
  },
  {
   "cell_type": "code",
   "execution_count": 1567,
   "metadata": {},
   "outputs": [
    {
     "data": {
      "text/html": [
       "<div>\n",
       "<style scoped>\n",
       "    .dataframe tbody tr th:only-of-type {\n",
       "        vertical-align: middle;\n",
       "    }\n",
       "\n",
       "    .dataframe tbody tr th {\n",
       "        vertical-align: top;\n",
       "    }\n",
       "\n",
       "    .dataframe thead th {\n",
       "        text-align: right;\n",
       "    }\n",
       "</style>\n",
       "<table border=\"1\" class=\"dataframe\">\n",
       "  <thead>\n",
       "    <tr style=\"text-align: right;\">\n",
       "      <th></th>\n",
       "      <th>threshold</th>\n",
       "      <th>precision</th>\n",
       "      <th>recall</th>\n",
       "    </tr>\n",
       "  </thead>\n",
       "  <tbody>\n",
       "    <tr>\n",
       "      <th>0</th>\n",
       "      <td>0.99</td>\n",
       "      <td>1.000000</td>\n",
       "      <td>0.38</td>\n",
       "    </tr>\n",
       "    <tr>\n",
       "      <th>1</th>\n",
       "      <td>0.98</td>\n",
       "      <td>1.000000</td>\n",
       "      <td>0.48</td>\n",
       "    </tr>\n",
       "    <tr>\n",
       "      <th>2</th>\n",
       "      <td>0.97</td>\n",
       "      <td>1.000000</td>\n",
       "      <td>0.53</td>\n",
       "    </tr>\n",
       "    <tr>\n",
       "      <th>3</th>\n",
       "      <td>0.96</td>\n",
       "      <td>1.000000</td>\n",
       "      <td>0.55</td>\n",
       "    </tr>\n",
       "    <tr>\n",
       "      <th>4</th>\n",
       "      <td>0.95</td>\n",
       "      <td>1.000000</td>\n",
       "      <td>0.56</td>\n",
       "    </tr>\n",
       "    <tr>\n",
       "      <th>...</th>\n",
       "      <td>...</td>\n",
       "      <td>...</td>\n",
       "      <td>...</td>\n",
       "    </tr>\n",
       "    <tr>\n",
       "      <th>95</th>\n",
       "      <td>0.04</td>\n",
       "      <td>0.554913</td>\n",
       "      <td>0.96</td>\n",
       "    </tr>\n",
       "    <tr>\n",
       "      <th>96</th>\n",
       "      <td>0.03</td>\n",
       "      <td>0.505208</td>\n",
       "      <td>0.97</td>\n",
       "    </tr>\n",
       "    <tr>\n",
       "      <th>97</th>\n",
       "      <td>0.02</td>\n",
       "      <td>0.455814</td>\n",
       "      <td>0.98</td>\n",
       "    </tr>\n",
       "    <tr>\n",
       "      <th>98</th>\n",
       "      <td>0.01</td>\n",
       "      <td>0.396825</td>\n",
       "      <td>1.00</td>\n",
       "    </tr>\n",
       "    <tr>\n",
       "      <th>99</th>\n",
       "      <td>0.00</td>\n",
       "      <td>0.090909</td>\n",
       "      <td>1.00</td>\n",
       "    </tr>\n",
       "  </tbody>\n",
       "</table>\n",
       "<p>100 rows × 3 columns</p>\n",
       "</div>"
      ],
      "text/plain": [
       "    threshold  precision  recall\n",
       "0        0.99   1.000000    0.38\n",
       "1        0.98   1.000000    0.48\n",
       "2        0.97   1.000000    0.53\n",
       "3        0.96   1.000000    0.55\n",
       "4        0.95   1.000000    0.56\n",
       "..        ...        ...     ...\n",
       "95       0.04   0.554913    0.96\n",
       "96       0.03   0.505208    0.97\n",
       "97       0.02   0.455814    0.98\n",
       "98       0.01   0.396825    1.00\n",
       "99       0.00   0.090909    1.00\n",
       "\n",
       "[100 rows x 3 columns]"
      ]
     },
     "execution_count": 1567,
     "metadata": {},
     "output_type": "execute_result"
    }
   ],
   "source": [
    "pd.DataFrame({\"threshold\": thresholds, \"precision\": precisions, \"recall\": recalls})"
   ]
  },
  {
   "cell_type": "code",
   "execution_count": 1568,
   "metadata": {
    "colab": {
     "base_uri": "https://localhost:8080/",
     "height": 265
    },
    "id": "QrV-oV8a9fPf",
    "outputId": "1908c82c-8425-45ca-e2c4-c90b440b55f2"
   },
   "outputs": [
    {
     "data": {
      "image/png": "[encoded data removed]",
      "text/plain": [
       "<Figure size 432x288 with 1 Axes>"
      ]
     },
     "metadata": {
      "needs_background": "light"
     },
     "output_type": "display_data"
    }
   ],
   "source": [
    "plt.scatter(x, p_proba)\n",
    "plt.hlines(thresholds, 0, 30, alpha=1)\n",
    "plt.show()"
   ]
  },
  {
   "cell_type": "markdown",
   "metadata": {},
   "source": [
    "Calculando el ROC puede parecer como un gran modelo pero puede ser engañoso"
   ]
  },
  {
   "cell_type": "code",
   "execution_count": 1569,
   "metadata": {},
   "outputs": [
    {
     "data": {
      "image/png": "[encoded data removed]",
      "text/plain": [
       "<Figure size 432x288 with 1 Axes>"
      ]
     },
     "metadata": {
      "needs_background": "light"
     },
     "output_type": "display_data"
    }
   ],
   "source": [
    "TPR = [0] + recalls + [1]\n",
    " \n",
    "FPR = np.append(np.array([0]), (1 - np.array(precisions)))\n",
    "FPR = np.append(FPR, np.array([1]))\n",
    "\n",
    "plt.plot(FPR,TPR)\n",
    "plt.xlim(0,1.05)\n",
    "plt.ylim(0,1)\n",
    "plt.show()"
   ]
  },
  {
   "cell_type": "markdown",
   "metadata": {},
   "source": [
    "### Métricas a considerar en muestras desbalanceadas\n",
    "\n",
    "Cuando las métricas son desbalanceadas, entonces, algunas métricas pueden ser engañosas. \n",
    "Por ejemplo, tomemos el accuracy y el AUC del siguiente modelo"
   ]
  },
  {
   "cell_type": "code",
   "execution_count": 1570,
   "metadata": {},
   "outputs": [
    {
     "name": "stdout",
     "output_type": "stream",
     "text": [
      "No Skill: ROC AUC=0.500\n",
      "Logistic: ROC AUC=0.716\n",
      "No Skill: Accuracy=0.978\n",
      "Logistic: Accuracy=0.978\n"
     ]
    },
    {
     "data": {
      "image/png": "[encoded data removed]",
      "text/plain": [
       "<Figure size 432x288 with 1 Axes>"
      ]
     },
     "metadata": {
      "needs_background": "light"
     },
     "output_type": "display_data"
    }
   ],
   "source": [
    "\n",
    "from sklearn.datasets import make_classification\n",
    "from sklearn.linear_model import LogisticRegression\n",
    "from sklearn.model_selection import train_test_split\n",
    "from sklearn.metrics import roc_curve, accuracy_score, precision_recall_curve\n",
    "from sklearn.metrics import roc_auc_score\n",
    "from matplotlib import pyplot\n",
    "\n",
    "# Generemos un set desbalanceado \n",
    "X, y = make_classification(n_samples=1000, n_classes=2, weights=[0.99,0.01], random_state=1)\n",
    "\n",
    "# Separamos training y testing set\n",
    "trainX, testX, trainy, testy = train_test_split(X, y, test_size=0.5, random_state=2)\n",
    "\n",
    "# Generemos un estimador naive que asigne todo a una clase\n",
    "ns_probs = [0 for _ in range(len(testy))]\n",
    "\n",
    "# Entrenemos un modelo\n",
    "model = LogisticRegression(solver='lbfgs')\n",
    "model.fit(trainX, trainy)\n",
    "\n",
    "# Predecir probabilidad \n",
    "\n",
    "lr_probs = model.predict_proba(testX)\n",
    "## Just keep the positive value\n",
    "lr_probs = lr_probs[:, 1]\n",
    "\n",
    "lr_scores = model.predict(testX)\n",
    "\n",
    "# Calcula scores\n",
    "ns_auc = roc_auc_score(testy, ns_probs)\n",
    "lr_auc = roc_auc_score(testy, lr_probs)\n",
    "ns_acc = accuracy_score(testy, ns_probs)\n",
    "lr_acc = accuracy_score(testy, lr_scores)\n",
    "\n",
    "\n",
    "#  Sumariza scores\n",
    "print('No Skill: ROC AUC=%.3f' % (ns_auc))\n",
    "print('Logistic: ROC AUC=%.3f' % (lr_auc))\n",
    "print('No Skill: Accuracy=%.3f' % (ns_acc))\n",
    "print('Logistic: Accuracy=%.3f' % (lr_acc))\n",
    "\n",
    "# Calcula curvas \n",
    "ns_fpr, ns_tpr, _ = roc_curve(testy, ns_probs)\n",
    "lr_fpr, lr_tpr, _ = roc_curve(testy, lr_probs)\n",
    "\n",
    "pyplot.plot(ns_fpr, ns_tpr, linestyle='--', label='No Skill')\n",
    "pyplot.plot(lr_fpr, lr_tpr, marker='.', label='Logistic')\n",
    "\n",
    "pyplot.xlabel('False Positive Rate')\n",
    "pyplot.ylabel('True Positive Rate')\n",
    "\n",
    "pyplot.legend()\n",
    "\n",
    "pyplot.show()"
   ]
  },
  {
   "cell_type": "markdown",
   "metadata": {},
   "source": [
    "En realidad, para diferentes thresholds, tenderá a asignar todo a False"
   ]
  },
  {
   "cell_type": "code",
   "execution_count": 1572,
   "metadata": {},
   "outputs": [
    {
     "data": {
      "text/plain": [
       "array([False, False, False, False, False, False, False, False, False,\n",
       "       False, False, False, False, False, False, False, False, False,\n",
       "       False, False, False, False, False, False, False, False, False,\n",
       "       False, False, False, False, False, False, False, False, False,\n",
       "       False, False, False, False, False, False, False, False, False,\n",
       "       False, False, False, False, False, False, False, False, False,\n",
       "       False, False, False, False, False, False, False, False, False,\n",
       "       False, False, False, False, False, False, False, False, False,\n",
       "       False, False, False, False, False, False, False, False, False,\n",
       "       False, False, False, False, False, False, False, False, False,\n",
       "       False, False, False, False, False, False, False, False, False,\n",
       "       False, False, False, False, False, False, False, False, False,\n",
       "       False, False, False, False, False, False, False, False, False,\n",
       "       False, False,  True, False, False, False, False, False, False,\n",
       "       False, False, False, False, False, False, False, False, False,\n",
       "       False, False, False, False, False, False, False, False, False,\n",
       "       False, False, False, False, False, False, False, False, False,\n",
       "       False, False, False, False, False, False, False, False, False,\n",
       "       False, False, False, False, False, False, False, False, False,\n",
       "       False, False, False, False, False, False, False, False, False,\n",
       "       False, False, False, False, False, False, False, False, False,\n",
       "       False, False, False, False, False, False, False, False, False,\n",
       "       False, False, False, False,  True, False, False, False, False,\n",
       "       False, False, False, False, False, False, False, False, False,\n",
       "       False, False, False,  True, False, False, False, False, False,\n",
       "       False, False, False, False, False, False, False, False, False,\n",
       "       False, False, False, False, False, False, False, False, False,\n",
       "       False, False, False, False, False, False, False, False, False,\n",
       "       False, False, False, False, False, False, False, False, False,\n",
       "       False, False, False, False, False, False, False, False, False,\n",
       "       False, False, False, False, False, False, False, False, False,\n",
       "       False, False, False, False, False, False, False, False, False,\n",
       "       False, False, False, False, False, False, False, False, False,\n",
       "       False, False, False, False, False, False, False, False, False,\n",
       "       False, False, False, False, False, False, False, False, False,\n",
       "       False, False, False, False, False, False, False, False, False,\n",
       "       False, False, False, False, False, False, False, False, False,\n",
       "       False, False, False, False, False, False, False, False, False,\n",
       "       False, False, False, False, False, False, False, False, False,\n",
       "       False, False, False, False, False, False, False, False, False,\n",
       "       False, False, False, False, False, False, False, False, False,\n",
       "       False, False, False, False, False, False, False, False, False,\n",
       "       False, False, False, False, False, False, False, False, False,\n",
       "       False, False, False, False, False, False, False, False, False,\n",
       "       False, False, False, False, False, False, False, False, False,\n",
       "       False, False, False, False, False, False, False, False, False,\n",
       "       False, False, False, False, False, False, False, False, False,\n",
       "       False, False, False, False, False, False, False, False, False,\n",
       "       False, False, False, False, False, False, False, False, False,\n",
       "       False, False, False, False,  True, False, False, False, False,\n",
       "       False, False, False, False, False, False, False, False, False,\n",
       "       False, False, False, False, False, False, False, False, False,\n",
       "       False, False, False, False, False, False, False, False, False,\n",
       "       False, False, False, False, False, False, False, False, False,\n",
       "       False, False, False, False, False, False, False, False, False,\n",
       "       False, False, False, False, False])"
      ]
     },
     "execution_count": 1572,
     "metadata": {},
     "output_type": "execute_result"
    }
   ],
   "source": [
    "y_pred = (model.predict_proba(testX)[:,1] >= .2).astype(bool)\n",
    "y_pred"
   ]
  },
  {
   "cell_type": "markdown",
   "metadata": {},
   "source": [
    "A grandes rasgos, puede parecer que el modelo es bueno, pero en realidad lo es porque asigna a practicamente todo un valor de 0"
   ]
  },
  {
   "cell_type": "code",
   "execution_count": 1065,
   "metadata": {},
   "outputs": [
    {
     "name": "stdout",
     "output_type": "stream",
     "text": [
      "Logistic: f1=0.000 auc=0.054\n"
     ]
    },
    {
     "data": {
      "image/png": "[encoded data removed]",
      "text/plain": [
       "<Figure size 432x288 with 1 Axes>"
      ]
     },
     "metadata": {
      "needs_background": "light"
     },
     "output_type": "display_data"
    }
   ],
   "source": [
    "# predict class values\n",
    "yhat = model.predict(testX)\n",
    "# calculate precision and recall for each threshold\n",
    "lr_precision, lr_recall, _ = precision_recall_curve(testy, lr_probs)\n",
    "# calculate scores\n",
    "lr_f1, lr_auc = f1_score(testy, yhat), auc(lr_recall, lr_precision)\n",
    "# summarize scores\n",
    "print('Logistic: f1=%.3f auc=%.3f' % (lr_f1, lr_auc))\n",
    "# plot the precision-recall curves\n",
    "no_skill = len(testy[testy==1]) / len(testy)\n",
    "pyplot.plot([0, 1], [no_skill, no_skill], linestyle='--', label='No Skill')\n",
    "pyplot.plot(lr_recall, lr_precision, marker='.', label='Logistic')\n",
    "# axis labels\n",
    "pyplot.xlabel('Recall')\n",
    "pyplot.ylabel('Precision')\n",
    "# show the legend\n",
    "pyplot.legend()\n",
    "# show the plot\n",
    "pyplot.show()"
   ]
  },
  {
   "attachments": {},
   "cell_type": "markdown",
   "metadata": {},
   "source": [
    "Cuando las muestras son desiquilibradas, los resultados de la curva ROC pueden ser engañosos, por eso es mejor usar métricas como Precision Recall Curve y el Average precision\n",
    "\n",
    "![2](https://blog.paperspace.com/content/images/2020/09/Fig04-1.jpg)"
   ]
  },
  {
   "cell_type": "code",
   "execution_count": 1039,
   "metadata": {},
   "outputs": [
    {
     "data": {
      "text/plain": [
       "0.022"
      ]
     },
     "execution_count": 1039,
     "metadata": {},
     "output_type": "execute_result"
    }
   ],
   "source": [
    "from sklearn.metrics import average_precision_score\n",
    "\n",
    "average_precision_score(testy, yhat)"
   ]
  },
  {
   "cell_type": "markdown",
   "metadata": {
    "id": "cunoRzXW9fPf"
   },
   "source": [
    "\n",
    "\n",
    "## Distribuciones muy pegadas"
   ]
  },
  {
   "cell_type": "code",
   "execution_count": 1023,
   "metadata": {
    "id": "2qTfGSu89fPf"
   },
   "outputs": [],
   "source": [
    "total_p = 1000\n",
    "total_n = 1000\n",
    "px = [np.random.normal(13,3) for _ in range(total_p)]\n",
    "nx = [np.random.normal(17,3) for _ in range(total_n)]\n",
    "x = np.concatenate([px,nx])\n",
    "classes = np.concatenate([[\"p\"]*total_p,[\"n\"]*total_n])"
   ]
  },
  {
   "cell_type": "code",
   "execution_count": 1024,
   "metadata": {
    "id": "EvhBRz2D9fPf"
   },
   "outputs": [],
   "source": [
    "lr = LogisticRegression()\n",
    "lr = lr.fit(x.reshape(-1,1),classes)\n",
    "\n",
    "predicted_classes_proba = lr.predict_proba(x.reshape(-1,1))\n",
    "\n",
    "n_proba, p_proba = zip(*predicted_classes_proba)"
   ]
  },
  {
   "cell_type": "code",
   "execution_count": 1025,
   "metadata": {
    "colab": {
     "base_uri": "https://localhost:8080/"
    },
    "id": "jDefgDP69fPg",
    "outputId": "ef1a1cd5-fcbc-4d71-a118-fb57ac43b212"
   },
   "outputs": [],
   "source": [
    "thresholds = np.arange(0,1000,10)[::-1]/1000\n",
    "predictions = [np.array(list(map(lambda x: \"p\" if x else \"n\", p_proba > t_ ))) for t_ in thresholds ]\n",
    "\n",
    "accuracies = [accuracy(classes=classes, predicted=pred_, positive_class=\"p\") \n",
    "                for pred_ in predictions]\n",
    "recalls = [recall(classes=classes, predicted=pred_, positive_class=\"p\") \n",
    "                for pred_ in predictions]\n",
    "precisions = [precision(classes=classes, predicted=pred_, positive_class=\"p\") \n",
    "                for pred_ in predictions]"
   ]
  },
  {
   "cell_type": "code",
   "execution_count": 1026,
   "metadata": {
    "colab": {
     "base_uri": "https://localhost:8080/",
     "height": 281
    },
    "id": "kYfpts609fPg",
    "outputId": "44d06b89-9bcb-4916-9316-aaf4afb14a14"
   },
   "outputs": [
    {
     "data": {
      "image/png": "[encoded data removed]",
      "text/plain": [
       "<Figure size 720x288 with 1 Axes>"
      ]
     },
     "metadata": {
      "needs_background": "light"
     },
     "output_type": "display_data"
    }
   ],
   "source": [
    "plt.figure(figsize=[10,4])\n",
    "plt.xlim([-.1,1.1])\n",
    "plt.ylim([0,1.1])\n",
    "plt.plot(thresholds,accuracies,\"k\")\n",
    "plt.plot(thresholds,recalls,\"red\")\n",
    "plt.plot(thresholds,precisions,\"blue\")\n",
    "plt.legend([\"Accuracy\",\"Recall\",\"Precision\"])\n",
    "plt.xlabel(\"Probability threshold. \")\n",
    "plt.show()"
   ]
  }
 ],
 "metadata": {
  "colab": {
   "name": "Clase_6_Modelos_Lineales_clasificación.ipynb",
   "provenance": [],
   "toc_visible": true
  },
  "kernelspec": {
   "display_name": "Python 3",
   "language": "python",
   "name": "python3"
  },
  "language_info": {
   "codemirror_mode": {
    "name": "ipython",
    "version": 3
   },
   "file_extension": ".py",
   "mimetype": "text/x-python",
   "name": "python",
   "nbconvert_exporter": "python",
   "pygments_lexer": "ipython3",
   "version": "3.8.8"
  }
 },
 "nbformat": 4,
 "nbformat_minor": 1
}
