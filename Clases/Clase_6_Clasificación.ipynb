{
 "cells": [
  {
   "cell_type": "markdown",
   "metadata": {
    "id": "Y4xcj_5fDWv5"
   },
   "source": [
    "# Clase 6 Modelos lineales - clasificación\n",
    "\n",
    "Capítulo 4 de [ESL](http://web.stanford.edu/~hastie/ElemStatLearn/).\n",
    "\n",
    "Capítulo 4 de [ISL](http://www-bcf.usc.edu/~gareth/ISL/)\n"
   ]
  },
  {
   "cell_type": "markdown",
   "metadata": {
    "id": "lhvD7fj_ETlB"
   },
   "source": [
    "# Un vistazo a modelos\n",
    "\n",
    "<img src=\"https://miro.medium.com/max/1400/0*wfWRHuXD_OEaPUmN.jpeg\">"
   ]
  },
  {
   "cell_type": "markdown",
   "metadata": {
    "id": "ByOHYWI0fLrC"
   },
   "source": [
    "Todos los modelos de aprendizaje automático se clasifican como supervisados o no supervisados . Si el modelo es un modelo supervisado, entonces se subcategoriza como modelo de regresión o de clasificación . Repasaremos lo que significan estos términos y los modelos correspondientes que se incluyen en cada categoría a continuación.\n",
    "\n",
    "<img src=\"https://miro.medium.com/max/1400/1*XOAOuTfiPT5hGSLSNRSB4Q.png\">"
   ]
  },
  {
   "cell_type": "markdown",
   "metadata": {
    "id": "yiUq3WcqTsXk"
   },
   "source": [
    "### Aprendizaje supervisado\n",
    "El aprendizaje supervisado implica aprender una función que mapea una entrada a una salida basándose en pares de entrada-salida de ejemplo.\n",
    "\n",
    "Por ejemplo, si tuviera un conjunto de datos con dos variables, edad (entrada) y altura (salida), podría implementar un modelo de aprendizaje supervisado para predecir la altura de una persona en función de su edad.\n",
    "\n",
    "<img src=\"https://miro.medium.com/max/1400/1*NhlimsPFBurZKVEJbUN4Vg.png\">"
   ]
  },
  {
   "cell_type": "markdown",
   "metadata": {
    "id": "OTSauaCHU5Gv"
   },
   "source": [
    "Para reiterar, dentro del aprendizaje supervisado, hay dos subcategorías: regresión y clasificación.\n",
    "\n",
    "#### Regresión\n",
    "En los modelos de regresión , la salida es continua. A continuación, se muestran algunos de los tipos más comunes de modelos de regresión.\n",
    "\n",
    "##### Regresión Lineal\n",
    "La idea de la regresión lineal es simplemente encontrar una línea que se ajuste mejor a los datos. Las extensiones de regresión lineal incluyen regresión lineal múltiple (por ejemplo, encontrar un plano de mejor ajuste) y regresión polinomial (por ejemplo, encontrar una curva de mejor ajuste).\n",
    "\n",
    "<img src=\"https://miro.medium.com/max/1400/1*sOi6uKo3d-OxmA1caVmm0g.png\">\n",
    "\n",
    "##### Árboles de decisión\n",
    "\n",
    "Los árboles de decisión son un modelo popular que se utiliza en la investigación de operaciones, la planificación estratégica y el aprendizaje automático. Cada cuadro de arriba se llama nodo , y cuantos más nodos tenga, más preciso será su árbol de decisiones (generalmente). Los últimos nodos del árbol de decisiones, donde se toma una decisión, se denominan hojas del árbol. Los árboles de decisión son intuitivos y fáciles de construir, pero se quedan cortos cuando se trata de precisión.\n",
    "<img src=\"https://miro.medium.com/max/1400/1*L9AcBn8WmWN44s-NQiDbOQ.png\">\n",
    "\n",
    "##### Bosque aleatorio\n",
    "Los bosques aleatorios son una técnica de aprendizaje conjunto que se basa en árboles de decisión. Los bosques aleatorios implican la creación de múltiples árboles de decisión utilizando conjuntos de datos de arranque de los datos originales y la selección aleatoria de un subconjunto de variables en cada paso del árbol de decisión. Luego, el modelo selecciona el modo de todas las predicciones de cada árbol de decisión. ¿Cuál es el punto de esto? Al confiar en un modelo de \"mayoría gana\", reduce el riesgo de error de un árbol individual.\n",
    "\n",
    "Por ejemplo, si creamos un árbol de decisión, el tercero, predeciría 0. Pero si confiáramos en la moda de los 4 árboles de decisión, el valor predicho sería 1. Este es el poder de los bosques aleatorios.\n",
    "<img src=\"https://miro.medium.com/max/1400/1*RuglAQsrbJWG49kaXv6tdQ.png\">\n",
    "\n",
    "##### Otros ensemble\n",
    "Boosting es un enfoque de Machine Learning basado en la idea de crear una regla de predicción altamente precisa combinando muchas reglas relativamente débiles e imprecisas e iterando para encontrar cada vez mejores estimadores\n",
    "\n",
    "<img src=\"https://www.analyticsvidhya.com/wp-content/uploads/2015/11/bigd.png\">\n",
    "\n",
    "https://www.cs.princeton.edu/courses/archive/spr07/cos424/papers/boosting-survey.pdf\n",
    "\n",
    "##### Redes neuronales\n",
    "\n",
    "<img src=\"https://miro.medium.com/max/1314/1*o2xECsD8cGULb8YucHx_2w.png\">\n",
    "\n",
    "Una red neuronal es esencialmente una red de ecuaciones matemáticas. Toma una o más variables de entrada y, al pasar por una red de ecuaciones, da como resultado una o más variables de salida. \n",
    "\n",
    "Los círculos azules representan la capa de entrada, los círculos negros representan las capas ocultas y los círculos verdes representan la capa de salida. Cada nodo en las capas ocultas representa tanto una función lineal como una función de activación por la que pasan los nodos de la capa anterior, lo que finalmente conduce a una salida en los círculos verdes.\n",
    "\n",
    "\n"
   ]
  },
  {
   "cell_type": "markdown",
   "metadata": {
    "id": "TpkZv80wZAAw"
   },
   "source": [
    "#### Clasificación\n",
    "\n",
    "Clasificación\n",
    "En los modelos de clasificación, la salida es discreta. A continuación, se muestran algunos de los tipos más comunes de modelos de clasificación.\n",
    "\n",
    "\n",
    "##### Regresión logística\n",
    "La regresión logística es similar a la regresión lineal, pero se utiliza para modelar la probabilidad de un número finito de resultados, normalmente dos. Hay varias razones por las que se usa la regresión logística sobre la regresión lineal al modelar las probabilidades de los resultados (ver aquí ). En esencia, una ecuación logística se crea de tal manera que los valores de salida solo pueden estar entre 0 y 1 (ver más abajo).\n",
    "\n",
    "<img src=\"https://miro.medium.com/max/1400/1*USrdZ1puaFIIymBRcO51mg.png\">\n",
    "\n",
    "##### Máquinas de vectores soporte\n",
    "Una máquina de vectores de soporte es una técnica de clasificación supervisada que en realidad puede volverse bastante complicada, pero es bastante intuitiva en el nivel más fundamental.\n",
    "\n",
    "Supongamos que hay dos clases de datos. Una máquina de vectores de soporte encontrará un hiperplano o un límite entre las dos clases de datos que maximiza el margen entre las dos clases (ver más abajo). Hay muchos planos que pueden separar las dos clases, pero solo un plano puede maximizar el margen o la distancia entre las clases.\n",
    "\n",
    "<img src=\"https://miro.medium.com/max/600/0*kTUuRm1tGnEw0dHz.png\">"
   ]
  },
  {
   "cell_type": "markdown",
   "metadata": {
    "id": "1GVumZvTYQE5"
   },
   "source": [
    "Para más ve a https://machine-learning-with-python.readthedocs.io/en/latest/"
   ]
  },
  {
   "cell_type": "markdown",
   "metadata": {
    "id": "MvaynHQhYQZ4"
   },
   "source": [
    "´"
   ]
  },
  {
   "cell_type": "markdown",
   "metadata": {
    "id": "OuVrk5L532zQ"
   },
   "source": [
    "# Introducción a los Modelos de Clasificación\n",
    "\n",
    "\n",
    "* En las notas [introductorias](6_Intro_MachineLearning.ipynb) mencionamos algunos de los conceptos que siguen a continuación.\n",
    "\n",
    "\n",
    "* A diferencia de los modelos de regresión, los modelos de clasificación tienen como objetivo estimar la probabilidad de pertenecer a una categoría $k = 1, \\cdots, K$.\n",
    "\n",
    "\n",
    "* La variable dependiente $y_i$ es una variable *categórica* que indica a qué categoría pertenece el individuo $i$.\n",
    "\n",
    "\n",
    "* Así, $y_i \\in \\{1,0\\}$ indica la pertenencia a una de dos categorías, y las etiquetas $1,0$ carecen de contenido numérico u ordinal, así que los podríamos haber permutado, o nombrado de la manera que queramos.\n",
    "\n",
    "\n",
    "* Ejemplo del mundo de los negocios abundan:\n",
    "\n",
    "    * ¿Es el cliente alguien que potencialmente no paga su tarjeta de crédito?\n",
    "    \n",
    "    * ¿Es un cliente *fiel*, o nos abandonará en el siguiente período?\n",
    "    \n",
    "    * ¿Si le ofrecemos el producto, el cliente lo aceptará?"
   ]
  },
  {
   "cell_type": "markdown",
   "metadata": {
    "id": "jHIHQhaP32zQ"
   },
   "source": [
    "# Errores de Clasificación\n",
    "\n",
    "* A diferencia de un modelo de regresión, la estructura no ordinal de la variable dependiente enriquece el análisis de errores que podemos hacer para evaluar un modelo.\n",
    "\n",
    "\n",
    "* En regresión teníamos que una métrica de ajuste o error de un modelo era la *suma de residuos al cuadrado*.\n",
    "\n",
    "\n",
    "* En el caso de modelos de clasificación esta estructura es más rica.\n",
    "\n",
    "\n",
    "* Podemos empezar con el **error de clasificación**:\n",
    "\n",
    "$$\n",
    "\\frac{1}{N}\\sum_{i=1}^N I[\\hat{y}_i \\neq y_i]\n",
    "$$\n",
    "\n",
    "donde $I[x]$ es una variable indicadora que toma el valor $1$ cuando $x$ es verdadera y $0$ en caso contrario."
   ]
  },
  {
   "cell_type": "markdown",
   "metadata": {
    "id": "FjkDFN6j32zR"
   },
   "source": [
    "# ¿Pero cómo clasificamos?\n",
    "\n",
    "* Todavía no está claro, pero eventualmente formularemos modelos de la probabilidad de pertenecer a una categoría. \n",
    "\n",
    "\n",
    "* El resultado del modelo es una probabilidad estimada $\\hat{p}_{ik}$ de que el individuo $i$ pertenezca a la categoría $k \\in 1, \\cdots, K$.\n",
    "\n",
    "\n",
    "* La probabilidad nos da una medida contínua de pertenecer a una categoría, pero nuestro objetivo es predicir la categoría.\n",
    "\n",
    "\n",
    "* Así, por ejemplo, podemos decir que el individuo $i$ pertenece a la categoría que maximiza la probabilidad.\n",
    "\n",
    "    * En el caso de dos categorías: la predicción es \n",
    "    $$\n",
    "    i \\hat{\\in} k \\iff \\hat{p}_{ik}>0.5\n",
    "    $$\n",
    "    \n",
    "   \n",
    "* Pero **noten** que el valor límite o *threshold* $0.5$ es arbitrario, y más adelante veremos que podemos utilizar cualquiera en el intervalo $[min(\\hat{p}_{i,k}), max(\\hat{p}_{i,k})]$"
   ]
  },
  {
   "cell_type": "markdown",
   "metadata": {
    "id": "AM4UVfnD9fPP"
   },
   "source": [
    "\n",
    "\n",
    "# Evaluacion de clasificadores"
   ]
  },
  {
   "cell_type": "markdown",
   "metadata": {
    "id": "95UzAh3w9fPQ"
   },
   "source": [
    "\n",
    "\n",
    "Vamos a crear un conjunto de datos a partir de 2 distribuciones. Cada distribución se etiqueta con una clase. Los valores de ambas se deben cruzar para simular el problema que queremos definir."
   ]
  },
  {
   "cell_type": "code",
   "execution_count": 908,
   "metadata": {
    "id": "7Cx8GZyu9fPQ"
   },
   "outputs": [],
   "source": [
    "import numpy as np\n",
    "from matplotlib import pyplot as plt\n",
    "%matplotlib inline\n"
   ]
  },
  {
   "cell_type": "code",
   "execution_count": 909,
   "metadata": {
    "id": "UL7JTh2Y9fPR"
   },
   "outputs": [],
   "source": [
    "total_p = 1000\n",
    "total_n = 1000\n",
    "px = [np.random.normal(10,3) for _ in range(total_p)]\n",
    "nx = [np.random.normal(20,3) for _ in range(total_n)]\n",
    "x = np.concatenate([px,nx])\n",
    "classes = np.concatenate([[\"p\"]*total_p,[\"n\"]*total_n])"
   ]
  },
  {
   "cell_type": "code",
   "execution_count": 910,
   "metadata": {
    "colab": {
     "base_uri": "https://localhost:8080/",
     "height": 503
    },
    "id": "XYthV9ct9fPR",
    "outputId": "3b0dd2e6-7c01-432f-d22d-647ad025ff05"
   },
   "outputs": [
    {
     "data": {
      "text/plain": [
       "(array([  1.,   0.,   8.,   4.,  12.,  21.,  28.,  29.,  51.,  67.,  79.,\n",
       "         91.,  80., 100.,  96.,  95.,  69.,  69.,  44.,  57.,  44.,  47.,\n",
       "         59.,  79.,  91.,  89., 103.,  93., 109.,  78.,  56.,  59.,  32.,\n",
       "         26.,  14.,  10.,   7.,   2.,   0.,   1.]),\n",
       " array([ 0.43291256,  1.15881754,  1.88472251,  2.61062748,  3.33653245,\n",
       "         4.06243742,  4.78834239,  5.51424737,  6.24015234,  6.96605731,\n",
       "         7.69196228,  8.41786725,  9.14377223,  9.8696772 , 10.59558217,\n",
       "        11.32148714, 12.04739211, 12.77329708, 13.49920206, 14.22510703,\n",
       "        14.951012  , 15.67691697, 16.40282194, 17.12872691, 17.85463189,\n",
       "        18.58053686, 19.30644183, 20.0323468 , 20.75825177, 21.48415675,\n",
       "        22.21006172, 22.93596669, 23.66187166, 24.38777663, 25.1136816 ,\n",
       "        25.83958658, 26.56549155, 27.29139652, 28.01730149, 28.74320646,\n",
       "        29.46911143]),\n",
       " <a list of 40 Patch objects>)"
      ]
     },
     "execution_count": 910,
     "metadata": {},
     "output_type": "execute_result"
    },
    {
     "data": {
      "image/png": "[encoded data removed]",
      "text/plain": [
       "<Figure size 432x288 with 1 Axes>"
      ]
     },
     "metadata": {
      "needs_background": "light"
     },
     "output_type": "display_data"
    }
   ],
   "source": [
    "plt.hist(x,bins=40)"
   ]
  },
  {
   "cell_type": "markdown",
   "metadata": {
    "id": "G5hlq18z9fPR"
   },
   "source": [
    "\n",
    "\n",
    "Aunque se perciba todo del mismo tipo, tenemos presentes las clases verdaderas"
   ]
  },
  {
   "cell_type": "code",
   "execution_count": 911,
   "metadata": {
    "colab": {
     "base_uri": "https://localhost:8080/",
     "height": 265
    },
    "id": "r1K00yEG9fPS",
    "outputId": "4f529763-a2fd-402c-fa38-a5a32e90cdf8"
   },
   "outputs": [
    {
     "data": {
      "image/png": "[encoded data removed]",
      "text/plain": [
       "<Figure size 432x288 with 1 Axes>"
      ]
     },
     "metadata": {
      "needs_background": "light"
     },
     "output_type": "display_data"
    }
   ],
   "source": [
    "plt.hist(px,bins=20,color=\"r\", alpha = .5)\n",
    "plt.hist(nx,bins=20,color=\"blue\", alpha = .5)\n",
    "plt.show()"
   ]
  },
  {
   "cell_type": "markdown",
   "metadata": {
    "id": "tuy3mq169fPS"
   },
   "source": [
    "\n",
    "\n",
    "## 1 modelo simple"
   ]
  },
  {
   "cell_type": "markdown",
   "metadata": {
    "id": "9nxsK-Cy9fPS"
   },
   "source": [
    "\n",
    "\n",
    "Creemos un clasificador muy simple, que divide las clases entre n y p, por la mitad de sus medias. Es decir que indique true para cada valor que es menor que la mitad."
   ]
  },
  {
   "cell_type": "code",
   "execution_count": 912,
   "metadata": {
    "colab": {
     "base_uri": "https://localhost:8080/"
    },
    "id": "SOm0ywyC9fPT",
    "outputId": "dbf4711d-3c04-49ba-acf3-f35328416a0b"
   },
   "outputs": [
    {
     "data": {
      "text/plain": [
       "array(['p', 'p', 'p', 'p', 'p', 'p', 'p', 'p', 'p', 'p', 'p', 'p', 'p',\n",
       "       'p', 'n', 'n', 'n', 'n', 'n', 'n', 'n', 'n', 'n', 'n', 'n', 'n',\n",
       "       'n', 'n', 'n'], dtype='<U1')"
      ]
     },
     "execution_count": 912,
     "metadata": {},
     "output_type": "execute_result"
    }
   ],
   "source": [
    "def model(x,threshold):\n",
    "    model_map = {True:\"p\",False:\"n\"}\n",
    "    result = x<threshold\n",
    "    result = np.vectorize(model_map.get)(result)\n",
    "    return result\n",
    "\n",
    "first_model_threshold = 15\n",
    "testx = np.arange(1,30)\n",
    "model(testx,threshold=first_model_threshold)"
   ]
  },
  {
   "cell_type": "markdown",
   "metadata": {
    "id": "K5vDJyNC9fPT"
   },
   "source": [
    "\n",
    "\n",
    "Predecimos con nuestro modelo para comprobar su precisión, sobre las clases asignadas"
   ]
  },
  {
   "cell_type": "code",
   "execution_count": 913,
   "metadata": {
    "id": "hvEY7mJc9fPT"
   },
   "outputs": [],
   "source": [
    "class_predicted = model(x,15)"
   ]
  },
  {
   "cell_type": "code",
   "execution_count": 914,
   "metadata": {},
   "outputs": [
    {
     "data": {
      "text/plain": [
       "array(['p', 'p', 'p', ..., 'n', 'n', 'n'], dtype='<U1')"
      ]
     },
     "execution_count": 914,
     "metadata": {},
     "output_type": "execute_result"
    }
   ],
   "source": [
    "class_predicted"
   ]
  },
  {
   "cell_type": "markdown",
   "metadata": {
    "id": "H1ffEpET9fPT"
   },
   "source": [
    "\n",
    "# Definir metricas\n",
    "\n",
    "En los modelos de clasificación existen varias métricas de interés\n",
    "\n",
    "## La Matriz de confusión\n",
    "\n",
    "En el campo de la inteligencia artificial  y el aprendizaje automático una matriz de confusión es una herramienta que permite visualizar el desempeño de un algoritmo  de aprendizaje supervisado. Cada columna de la matriz representa el número de predicciones de cada clase, mientras que cada fila representa a las instancias en la clase real., o sea en términos prácticos nos permite ver  qué tipos de aciertos y errores está teniendo nuestro modelo a la hora de pasar por el proceso de aprendizaje con los datos.\n",
    "\n",
    "\n"
   ]
  },
  {
   "cell_type": "code",
   "execution_count": 915,
   "metadata": {
    "colab": {
     "base_uri": "https://localhost:8080/",
     "height": 142
    },
    "id": "Zo_IqyHGQoqW",
    "outputId": "75b935e4-febe-4cd4-9f33-1fa158bd7e7c"
   },
   "outputs": [
    {
     "data": {
      "text/html": [
       "<div>\n",
       "<style scoped>\n",
       "    .dataframe tbody tr th:only-of-type {\n",
       "        vertical-align: middle;\n",
       "    }\n",
       "\n",
       "    .dataframe tbody tr th {\n",
       "        vertical-align: top;\n",
       "    }\n",
       "\n",
       "    .dataframe thead th {\n",
       "        text-align: right;\n",
       "    }\n",
       "</style>\n",
       "<table border=\"1\" class=\"dataframe\">\n",
       "  <thead>\n",
       "    <tr style=\"text-align: right;\">\n",
       "      <th>col_0</th>\n",
       "      <th>n</th>\n",
       "      <th>p</th>\n",
       "    </tr>\n",
       "    <tr>\n",
       "      <th>row_0</th>\n",
       "      <th></th>\n",
       "      <th></th>\n",
       "    </tr>\n",
       "  </thead>\n",
       "  <tbody>\n",
       "    <tr>\n",
       "      <th>n</th>\n",
       "      <td>948</td>\n",
       "      <td>52</td>\n",
       "    </tr>\n",
       "    <tr>\n",
       "      <th>p</th>\n",
       "      <td>48</td>\n",
       "      <td>952</td>\n",
       "    </tr>\n",
       "  </tbody>\n",
       "</table>\n",
       "</div>"
      ],
      "text/plain": [
       "col_0    n    p\n",
       "row_0          \n",
       "n      948   52\n",
       "p       48  952"
      ]
     },
     "execution_count": 915,
     "metadata": {},
     "output_type": "execute_result"
    }
   ],
   "source": [
    "import pandas as pd \n",
    "pd.crosstab(classes, class_predicted)"
   ]
  },
  {
   "cell_type": "markdown",
   "metadata": {
    "id": "nlkGd9hG32zW"
   },
   "source": [
    "\n",
    "\n",
    "* Veamos el caso más simple de dos categorías $y_i \\in \\{0,1\\}$.\n",
    "\n",
    "\n",
    "* Aunque el error de clasificación anterior permite tener una primera métrica, para nosotros puede ser más relevante clasificar mal a una categoría que a otra.\n",
    "\n",
    "* Para esto se crea una matriz de confusión, donde las filas denotan la clasificación real u observada y las columnas la clasificación que se obtiene del modelo.\n",
    "\n",
    "$$\n",
    "\\begin{array}{|c|c|c|}\n",
    "\\hline\n",
    "& \\bf \\hat{0} & \\bf \\hat{1} \\\\\n",
    "\\hline\n",
    "\\bf 0 & \\text{Verdaderos Positivos} & \\text{Falsos Negativos} \\\\\n",
    "\\hline\n",
    "\\bf 1 & \\text{Falsos Positivos} & \\text{Verdaderos Negativos} \\\\\n",
    "\\hline\n",
    "\\end{array}\n",
    "$$\n",
    "\n",
    "\n",
    "* Acá estamos siguiendo la tradición en esta literatura de denotar a la categoría $1$ como un negativo, y la categoría $0$ como positivo.\n",
    "\n",
    "\n",
    "* Lo importante es entender que con $K$ categorías tenemos la posibilidad de encontrar $K$ errores de clasificación distintos.\n",
    "\n",
    "* Hay dos métricas importantes que se obtienen de una matriz de confusión:\n",
    "\n",
    "    1. **Precision**: o tasa de verdaderos positivos\n",
    "    $$\n",
    "    \\text{sensibilidad} = \\frac{VP}{VP + FP}\n",
    "    $$\n",
    "    \n",
    "    2. **Recall**: o tasa de verdaderos negativos\n",
    "    $$\n",
    "    \\text{precisión} = \\frac{VP}{VP + FN}\n",
    "    $$\n",
    "    \n",
    "* En el contexto de modelos de clasificación:\n",
    "\n",
    "    * **Error Tipo 1:** o falso positivo: $1-\\text{precisión}$\n",
    "    * **Error Tipo 2:** o falso negativo: $1-\\text{recall}$"
   ]
  },
  {
   "cell_type": "markdown",
   "metadata": {
    "id": "knbGvbg6Pu8P"
   },
   "source": [
    "### Metricas que surgen de la matriz de confusión \n",
    "\n",
    "1. La Exactitud (accuracy)\n",
    "la Exactitud  ( en inglés, “Accuracy”) se refiere a lo cerca que está el resultado de una medición del valor verdadero. En términos estadísticos, la exactitud está relacionada con el sesgo de una estimación. También se conoce como Verdadero Positivo (o “True positive rate”).  Se representa por la proporción entre los positivos reales predichos por el algoritmo y todos los casos positivos.\n",
    "\n",
    "En forma práctica la Exactitud es  la cantidad de predicciones positivas que fueron correctas.\n",
    "\n",
    "2. La precisión (precisión)\n",
    "La Precisión (en inglés “Precision”) se refiere a la dispersión del conjunto de valores obtenidos a partir de mediciones repetidas de una magnitud. Cuanto menor es la dispersión mayor la precisión. Se representa por la proporción entre el número de predicciones correctas (tanto positivas como negativas) y el total de predicciones.\n",
    "\n",
    "En forma práctica es  el porcentaje de casos positivos detectados.\n",
    "\n",
    "Se calcula como:  TP/(TP+FP)\n",
    "\n",
    "3. La Sensibilidad (“Recall” o “Sensitivity” ),\n",
    "También se conoce como Tasa de Verdaderos Positivos (True Positive Rate) ó TP. Es la proporción de casos positivos que fueron correctamente identificadas por el algoritmo.\n",
    "\n",
    "Se calcula:  TP/(TP+FN),   o lo que seria igual en términos de salud:  Verdaderos positivos / Total Enfermos (o bien:  es la capacidad de de poder detectar correctamente la enfermedad entre los enfermos).\n",
    "\n",
    "4. La Especificidad (“Especificity”)\n",
    "También conocida como la Tasa de Verdaderos Negativos, (“true negative rate”) o TN. Se trata de los casos negativos que el algoritmo ha clasificado correctamente.  Expresa cuan bien puede el modelo detectar esa clase.\n",
    "Se calcula:  TN/(TN+FP), o lo que seria igual en términos de salud:  Verdaderos Negativos / Total Sanos (o bien:  la capacidad de poder identificar los casos de los pacientes sanos entre todos los sanos)\n",
    "\n",
    "<img src=\"https://www.researchgate.net/publication/336402347/figure/fig3/AS:812472659349505@1570719985505/Calculation-of-Precision-Recall-and-Accuracy-in-the-confusion-matrix.ppm\">"
   ]
  },
  {
   "cell_type": "markdown",
   "metadata": {
    "id": "5A_or70f9fPT"
   },
   "source": [
    "\n",
    "\n",
    "Si contamos en términos generales cuántas se han acertado, es decir, bien clasificadas, se han acertado casi todas. esta es la métrica precision (accuracy)."
   ]
  },
  {
   "cell_type": "code",
   "execution_count": 916,
   "metadata": {
    "colab": {
     "base_uri": "https://localhost:8080/"
    },
    "id": "btMi0PW69fPU",
    "outputId": "b80e5909-642e-422f-c668-06e6029c04e4"
   },
   "outputs": [
    {
     "data": {
      "text/plain": [
       "0.95"
      ]
     },
     "execution_count": 916,
     "metadata": {},
     "output_type": "execute_result"
    }
   ],
   "source": [
    "sum(classes == class_predicted)/len(classes)"
   ]
  },
  {
   "cell_type": "code",
   "execution_count": 917,
   "metadata": {
    "id": "VqW9czAF9fPU"
   },
   "outputs": [],
   "source": [
    "def accuracy(classes,predicted,positive_class,debug=True):\n",
    "    if not debug:\n",
    "        print(\"Simple implementation\")\n",
    "    return sum(classes == predicted)/len(classes)"
   ]
  },
  {
   "cell_type": "code",
   "execution_count": 918,
   "metadata": {
    "colab": {
     "base_uri": "https://localhost:8080/"
    },
    "id": "U90VOkri9fPU",
    "outputId": "9f163bf7-e7c9-4e01-d68c-7de0d5e10c12"
   },
   "outputs": [
    {
     "data": {
      "text/plain": [
       "0.95"
      ]
     },
     "execution_count": 918,
     "metadata": {},
     "output_type": "execute_result"
    }
   ],
   "source": [
    "accuracy(classes=classes,predicted=class_predicted,positive_class=\"p\")"
   ]
  },
  {
   "cell_type": "code",
   "execution_count": 919,
   "metadata": {
    "colab": {
     "base_uri": "https://localhost:8080/",
     "height": 265
    },
    "id": "CW8U-GAI9fPU",
    "outputId": "1c2fafdb-15e6-4ad5-b901-e55cd35a4ed5"
   },
   "outputs": [
    {
     "data": {
      "image/png": "[encoded data removed]",
      "text/plain": [
       "<Figure size 432x288 with 1 Axes>"
      ]
     },
     "metadata": {
      "needs_background": "light"
     },
     "output_type": "display_data"
    }
   ],
   "source": [
    "plt.hist(px,bins=20,color=\"r\", alpha = .5)\n",
    "plt.hist(nx,bins=20,color=\"blue\", alpha = .5)\n",
    "plt.vlines(first_model_threshold,0,130)\n",
    "plt.show()"
   ]
  },
  {
   "cell_type": "markdown",
   "metadata": {
    "id": "tDdAlcVU9fPU"
   },
   "source": [
    "\n",
    "\n",
    "¿Cómo de bueno ha sido distinguiendo las muestras p, de las n ? Para esto necesitamos reflejar sensibilidad (recall) y precision)  \n",
    "\n",
    "Para la Sensibilidad necesitamos dividir todas las clasificadas como p, entre las que existen."
   ]
  },
  {
   "cell_type": "code",
   "execution_count": 920,
   "metadata": {
    "colab": {
     "base_uri": "https://localhost:8080/"
    },
    "id": "kGSVE1Yy9fPU",
    "outputId": "03aebc30-c9ae-4b6b-945b-c9b32eb820e2"
   },
   "outputs": [
    {
     "data": {
      "text/plain": [
       "0.952"
      ]
     },
     "execution_count": 920,
     "metadata": {},
     "output_type": "execute_result"
    }
   ],
   "source": [
    "sum((class_predicted == \"p\") & (classes==\"p\")) / sum(classes==\"p\")"
   ]
  },
  {
   "cell_type": "code",
   "execution_count": 921,
   "metadata": {
    "id": "FJ2HsGZU9fPU"
   },
   "outputs": [],
   "source": [
    "def recall(classes, predicted, positive_class):\n",
    "    return sum((predicted == positive_class) & (classes==positive_class)) / sum(classes==positive_class)"
   ]
  },
  {
   "cell_type": "code",
   "execution_count": 922,
   "metadata": {
    "colab": {
     "base_uri": "https://localhost:8080/"
    },
    "id": "9xOer7LK9fPV",
    "outputId": "19433421-d2c2-4c72-de03-65a0c04f5074"
   },
   "outputs": [
    {
     "data": {
      "text/plain": [
       "0.952"
      ]
     },
     "execution_count": 922,
     "metadata": {},
     "output_type": "execute_result"
    }
   ],
   "source": [
    "recall(classes=classes,predicted=class_predicted,positive_class=\"p\")"
   ]
  },
  {
   "cell_type": "markdown",
   "metadata": {
    "id": "53RVRJLD9fPV"
   },
   "source": [
    "\n",
    "\n",
    "Y para la precisión, de las que se han señalado como p, cuales lo son realmente"
   ]
  },
  {
   "cell_type": "code",
   "execution_count": 923,
   "metadata": {
    "colab": {
     "base_uri": "https://localhost:8080/"
    },
    "id": "xrDbm7hw9fPV",
    "outputId": "c222bbc4-2dc8-47bf-e03b-8c3b6ed30736"
   },
   "outputs": [
    {
     "data": {
      "text/plain": [
       "0.9482071713147411"
      ]
     },
     "execution_count": 923,
     "metadata": {},
     "output_type": "execute_result"
    }
   ],
   "source": [
    "sum((class_predicted == \"p\") & (classes==\"p\")) /  sum(class_predicted==\"p\")"
   ]
  },
  {
   "cell_type": "code",
   "execution_count": 924,
   "metadata": {
    "id": "eDtS39wC9fPV"
   },
   "outputs": [],
   "source": [
    "def precision(classes, predicted, positive_class):\n",
    "    return sum((predicted == positive_class) & (classes==positive_class)) / sum(predicted==positive_class)"
   ]
  },
  {
   "cell_type": "code",
   "execution_count": 925,
   "metadata": {
    "colab": {
     "base_uri": "https://localhost:8080/"
    },
    "id": "MX0H8IW79fPV",
    "outputId": "074e5bba-0220-4887-b7c7-82c46b274e1b"
   },
   "outputs": [
    {
     "data": {
      "text/plain": [
       "0.9482071713147411"
      ]
     },
     "execution_count": 925,
     "metadata": {},
     "output_type": "execute_result"
    }
   ],
   "source": [
    "precision(classes, class_predicted, \"p\")"
   ]
  },
  {
   "cell_type": "markdown",
   "metadata": {
    "id": "avi5TUIM9fPW"
   },
   "source": [
    "\n",
    "\n",
    "## 3 modelos simples"
   ]
  },
  {
   "cell_type": "code",
   "execution_count": 926,
   "metadata": {
    "id": "XJFK4trg9fPW"
   },
   "outputs": [],
   "source": [
    "def model_1(x):\n",
    "    return model(x,threshold=12.5)\n",
    "def model_2(x):\n",
    "    return model(x,threshold=15)\n",
    "def model_3(x):\n",
    "    return model(x,threshold=17.5)"
   ]
  },
  {
   "cell_type": "code",
   "execution_count": 927,
   "metadata": {
    "id": "WxVy8czN9fPW"
   },
   "outputs": [],
   "source": [
    "class_predicted_1 = model_1(x)\n",
    "class_predicted_2 = model_2(x)\n",
    "class_predicted_3 = model_3(x)"
   ]
  },
  {
   "cell_type": "markdown",
   "metadata": {
    "id": "vdz1MeD69fPW"
   },
   "source": [
    "\n",
    "\n",
    "modelo 1"
   ]
  },
  {
   "cell_type": "code",
   "execution_count": 928,
   "metadata": {
    "colab": {
     "base_uri": "https://localhost:8080/"
    },
    "id": "jhr9APSt9fPW",
    "outputId": "9b7c238f-611f-4b9b-ef3b-7b3575199766"
   },
   "outputs": [
    {
     "name": "stdout",
     "output_type": "stream",
     "text": [
      "Accuracy 0.904\n",
      "Recall 0.811\n",
      "Precision 0.9963144963144963\n"
     ]
    }
   ],
   "source": [
    "print(\"Accuracy\",accuracy(classes=classes,predicted=class_predicted_1,positive_class=\"p\"))\n",
    "print(\"Recall\",recall(classes=classes,predicted=class_predicted_1,positive_class=\"p\"))\n",
    "print(\"Precision\",precision(classes=classes,predicted=class_predicted_1,positive_class=\"p\"))"
   ]
  },
  {
   "cell_type": "markdown",
   "metadata": {
    "id": "uuiJ3UPs9fPW"
   },
   "source": [
    "\n",
    "\n",
    "modelo 2"
   ]
  },
  {
   "cell_type": "code",
   "execution_count": 929,
   "metadata": {
    "colab": {
     "base_uri": "https://localhost:8080/"
    },
    "id": "lTFnQjFF9fPW",
    "outputId": "993cffc4-c1c0-4c9a-9fc1-be84dc78679b"
   },
   "outputs": [
    {
     "name": "stdout",
     "output_type": "stream",
     "text": [
      "Accuracy 0.95\n",
      "Recall 0.952\n",
      "Precision 0.9482071713147411\n"
     ]
    }
   ],
   "source": [
    "print(\"Accuracy\",accuracy(classes=classes,predicted=class_predicted_2,positive_class=\"p\"))\n",
    "print(\"Recall\",recall(classes=classes,predicted=class_predicted_2,positive_class=\"p\"))\n",
    "print(\"Precision\",precision(classes=classes,predicted=class_predicted_2,positive_class=\"p\"))"
   ]
  },
  {
   "cell_type": "markdown",
   "metadata": {
    "id": "3JHuHjnH9fPX"
   },
   "source": [
    "\n",
    "\n",
    "modelo 3"
   ]
  },
  {
   "cell_type": "code",
   "execution_count": 930,
   "metadata": {
    "colab": {
     "base_uri": "https://localhost:8080/"
    },
    "id": "zWv2NP7_9fPX",
    "outputId": "26d24d76-de77-486e-e90d-69ae3f20ee95"
   },
   "outputs": [
    {
     "name": "stdout",
     "output_type": "stream",
     "text": [
      "Accuracy 0.9015\n",
      "Recall 0.993\n",
      "Precision 0.8393913778529163\n"
     ]
    }
   ],
   "source": [
    "print(\"Accuracy\",accuracy(classes=classes,predicted=class_predicted_3,positive_class=\"p\"))\n",
    "print(\"Recall\",recall(classes=classes,predicted=class_predicted_3,positive_class=\"p\"))\n",
    "print(\"Precision\",precision(classes=classes,predicted=class_predicted_3,positive_class=\"p\"))"
   ]
  },
  {
   "cell_type": "code",
   "execution_count": 931,
   "metadata": {
    "colab": {
     "base_uri": "https://localhost:8080/",
     "height": 281
    },
    "id": "scn5YISq9fPX",
    "outputId": "cf8d886b-9f83-414b-d58e-8d5e581af39c"
   },
   "outputs": [
    {
     "data": {
      "image/png": "[encoded data removed]",
      "text/plain": [
       "<Figure size 432x288 with 1 Axes>"
      ]
     },
     "metadata": {
      "needs_background": "light"
     },
     "output_type": "display_data"
    }
   ],
   "source": [
    "plt.hist(px,bins=20,color=\"r\", alpha = .5)\n",
    "plt.hist(nx,bins=20,color=\"blue\", alpha = .5)\n",
    "plt.title(\"3 simple models\")\n",
    "plt.vlines(12.5,0,130)\n",
    "plt.vlines(15,0,130)\n",
    "plt.vlines(17.5,0,130)\n",
    "\n",
    "plt.show()"
   ]
  },
  {
   "cell_type": "markdown",
   "metadata": {
    "id": "zrEFMdmT9fPX"
   },
   "source": [
    "\n",
    "\n",
    "## muchos modelos simples"
   ]
  },
  {
   "cell_type": "markdown",
   "metadata": {
    "id": "g6ww20RP9fPX"
   },
   "source": [
    "\n",
    "\n",
    "Creamos ahora \"modelos\" con unmbrales del 5 al 25 de 2 en dos, e introducimos las métricas en listas para comprobar como de bien evolucionan las 3 métricas"
   ]
  },
  {
   "cell_type": "code",
   "execution_count": 932,
   "metadata": {
    "colab": {
     "base_uri": "https://localhost:8080/"
    },
    "id": "fkAcBDQ89fPX",
    "outputId": "44ab32a9-3d99-46c9-be0a-52bf68ebf16d"
   },
   "outputs": [
    {
     "data": {
      "text/plain": [
       "array([ 5,  7,  9, 11, 13, 15, 17, 19, 21, 23, 25])"
      ]
     },
     "execution_count": 932,
     "metadata": {},
     "output_type": "execute_result"
    }
   ],
   "source": [
    "thresholds = np.arange(5,27,2)\n",
    "thresholds"
   ]
  },
  {
   "cell_type": "code",
   "execution_count": 933,
   "metadata": {
    "colab": {
     "base_uri": "https://localhost:8080/"
    },
    "id": "WdFeomqh9fPY",
    "outputId": "88010e31-8663-44cc-b488-b009b0bd5e1e"
   },
   "outputs": [
    {
     "data": {
      "text/plain": [
       "[array(['n', 'n', 'n', ..., 'n', 'n', 'n'], dtype='<U1'),\n",
       " array(['p', 'n', 'n', ..., 'n', 'n', 'n'], dtype='<U1'),\n",
       " array(['p', 'n', 'p', ..., 'n', 'n', 'n'], dtype='<U1'),\n",
       " array(['p', 'n', 'p', ..., 'n', 'n', 'n'], dtype='<U1'),\n",
       " array(['p', 'n', 'p', ..., 'n', 'n', 'n'], dtype='<U1'),\n",
       " array(['p', 'p', 'p', ..., 'n', 'n', 'n'], dtype='<U1'),\n",
       " array(['p', 'p', 'p', ..., 'n', 'p', 'n'], dtype='<U1'),\n",
       " array(['p', 'p', 'p', ..., 'n', 'p', 'p'], dtype='<U1'),\n",
       " array(['p', 'p', 'p', ..., 'p', 'p', 'p'], dtype='<U1'),\n",
       " array(['p', 'p', 'p', ..., 'p', 'p', 'p'], dtype='<U1'),\n",
       " array(['p', 'p', 'p', ..., 'p', 'p', 'p'], dtype='<U1')]"
      ]
     },
     "execution_count": 933,
     "metadata": {},
     "output_type": "execute_result"
    }
   ],
   "source": [
    "predictions = [model(x,threshold=t) for t in thresholds]\n",
    "predictions"
   ]
  },
  {
   "cell_type": "code",
   "execution_count": 934,
   "metadata": {
    "id": "-t1dV9pd9fPY"
   },
   "outputs": [],
   "source": [
    "accuracies = [accuracy(classes=classes, predicted= ps, positive_class=\"p\")\n",
    "             for ps in predictions]\n",
    "recalls = [recall(classes=classes, predicted= ps, positive_class=\"p\")\n",
    "             for ps in predictions]\n",
    "precisions = [precision(classes=classes, predicted= ps, positive_class=\"p\")\n",
    "             for ps in predictions]\n",
    "    "
   ]
  },
  {
   "cell_type": "code",
   "execution_count": 935,
   "metadata": {
    "colab": {
     "base_uri": "https://localhost:8080/"
    },
    "id": "GNevg5bq9fPY",
    "outputId": "a7be776e-7c50-40b2-b9e6-46427152d5ee"
   },
   "outputs": [
    {
     "data": {
      "text/plain": [
       "[0.051, 0.158, 0.378, 0.624, 0.84, 0.952, 0.988, 0.998, 1.0, 1.0, 1.0]"
      ]
     },
     "execution_count": 935,
     "metadata": {},
     "output_type": "execute_result"
    }
   ],
   "source": [
    "recalls"
   ]
  },
  {
   "cell_type": "code",
   "execution_count": 936,
   "metadata": {
    "colab": {
     "base_uri": "https://localhost:8080/"
    },
    "id": "h0MMOMdw9fPY",
    "outputId": "e6376b11-0c09-4feb-bd03-c8c110cec1f2"
   },
   "outputs": [
    {
     "data": {
      "text/plain": [
       "[1.0,\n",
       " 1.0,\n",
       " 1.0,\n",
       " 0.9984,\n",
       " 0.9905660377358491,\n",
       " 0.9482071713147411,\n",
       " 0.8697183098591549,\n",
       " 0.7279358132749818,\n",
       " 0.60790273556231,\n",
       " 0.5376344086021505,\n",
       " 0.5091649694501018]"
      ]
     },
     "execution_count": 936,
     "metadata": {},
     "output_type": "execute_result"
    }
   ],
   "source": [
    "precisions"
   ]
  },
  {
   "cell_type": "code",
   "execution_count": 937,
   "metadata": {
    "colab": {
     "base_uri": "https://localhost:8080/",
     "height": 281
    },
    "id": "fF2w5lbi9fPY",
    "outputId": "bfcfe463-fbf5-4b9d-b6ee-cf1f573baef3"
   },
   "outputs": [
    {
     "data": {
      "image/png": "[encoded data removed]",
      "text/plain": [
       "<Figure size 720x288 with 1 Axes>"
      ]
     },
     "metadata": {
      "needs_background": "light"
     },
     "output_type": "display_data"
    }
   ],
   "source": [
    "plt.figure(figsize=[10,4])\n",
    "plt.xlim([0,30])\n",
    "plt.plot(thresholds,accuracies,\"k\")\n",
    "plt.plot(thresholds,recalls,\"red\")\n",
    "plt.plot(thresholds,precisions,\"blue\")\n",
    "plt.legend([\"Accuracy\",\"Recall\",\"Precision\"])\n",
    "plt.title(\"Accuracy - Recall - Precision vs Model\")\n",
    "plt.xlabel(\"Probability threshold. \")\n",
    "\n",
    "\n",
    "plt.show()"
   ]
  },
  {
   "cell_type": "code",
   "execution_count": 938,
   "metadata": {
    "colab": {
     "base_uri": "https://localhost:8080/",
     "height": 281
    },
    "id": "vDMb00Mh9fPY",
    "outputId": "b086e881-7dd7-4262-f69b-8e3f72d88c0f"
   },
   "outputs": [
    {
     "data": {
      "image/png": "[encoded data removed]",
      "text/plain": [
       "<Figure size 720x288 with 1 Axes>"
      ]
     },
     "metadata": {
      "needs_background": "light"
     },
     "output_type": "display_data"
    }
   ],
   "source": [
    "plt.figure(figsize=[10,4])\n",
    "plt.xlim([0,30])\n",
    "\n",
    "plt.hist(px,bins=20,color=\"r\", alpha = .5)\n",
    "plt.hist(nx,bins=20,color=\"blue\", alpha = .5)\n",
    "for t in thresholds:\n",
    "    plt.vlines(t, 0, 130)\n",
    "plt.title(\"11 simple models\")\n",
    "plt.show()"
   ]
  },
  {
   "cell_type": "markdown",
   "metadata": {
    "id": "KFfHF7E_9fPZ"
   },
   "source": [
    "\n",
    "\n",
    "## ROC\n",
    "\n",
    "Una curva ROC (curva de característica operativa del recepto) es un gráfico que muestra el rendimiento de un modelo de clasificación en todos los umbrales de clasificación. Esta curva representa dos parámetros:\n",
    "\n",
    "Tasa de verdaderos positivos\n",
    "Tasa de falsos positivos"
   ]
  },
  {
   "cell_type": "markdown",
   "metadata": {},
   "source": [
    "![image](https://upload.wikimedia.org/wikipedia/commons/thumb/1/13/Roc_curve.svg/1920px-Roc_curve.svg.png)"
   ]
  },
  {
   "cell_type": "markdown",
   "metadata": {
    "id": "q5n6C_GO9fPZ"
   },
   "source": [
    "\n",
    "\n",
    "para N modelos distintos, cada uno posiblemente con un nivel de umbral de aceptación de la clase positiva, se representan sus valores de True Positive Rate y False Positive Rate.\n",
    "\n",
    "TPR = De los casos seleccionados, tasa de los que eran realmente positivos  \n",
    "FPR = De los casos seleccionados, tasa de los que se han dado por positivos pero no lo eran\n"
   ]
  },
  {
   "cell_type": "code",
   "execution_count": 939,
   "metadata": {
    "id": "DPHYVvJk9fPZ"
   },
   "outputs": [],
   "source": [
    "TPR = recalls\n",
    "\n",
    "FPR = 1 - np.array(precisions)"
   ]
  },
  {
   "cell_type": "code",
   "execution_count": 940,
   "metadata": {
    "colab": {
     "base_uri": "https://localhost:8080/",
     "height": 265
    },
    "id": "4FrDdTaS9fPZ",
    "outputId": "b54c4558-9647-4461-a7e4-638a65560761"
   },
   "outputs": [
    {
     "data": {
      "image/png": "[encoded data removed]",
      "text/plain": [
       "<Figure size 432x288 with 1 Axes>"
      ]
     },
     "metadata": {
      "needs_background": "light"
     },
     "output_type": "display_data"
    }
   ],
   "source": [
    "TPR = recalls\n",
    "\n",
    "FPR = 1 - np.array(precisions)\n",
    "\n",
    "plt.plot(FPR,TPR)\n",
    "plt.show()"
   ]
  },
  {
   "cell_type": "markdown",
   "metadata": {
    "id": "wZc2lYQW32zc"
   },
   "source": [
    "\n",
    "* Las tasas de verdaderos positivos y falsos positivos son una buena medida del comportamiento de un modelo.\n",
    "\n",
    "\n",
    "* Sin embargo, dependen crucialmente del *threshold que utilicemos*.\n",
    "\n",
    "\n",
    "* La curva ROC permite mirar cómo cambian las tasas de verdadero y falsos positivos a medida que variamos los *thresholds* de clasificación.\n",
    "\n",
    "$$\n",
    "i \\hat{\\in} 0 \\iff \\hat{p}_{i0} > \\tau\n",
    "$$\n",
    "\n",
    "\n",
    "* Así, si $\\tau = 1$ la matriz de confusión es\n",
    "\n",
    "$$\n",
    "\\begin{array}{|c|c|c|}\n",
    "\\hline\n",
    "& \\bf \\hat{0} & \\bf \\hat{1} \\\\\n",
    "\\hline\n",
    "\\bf 0 & 0 & n_0 \\\\\n",
    "\\hline\n",
    "\\bf 1 & 0 & n_1 \\\\\n",
    "\\hline\n",
    "\\end{array}\n",
    "$$\n",
    "\n",
    "donde $n_i = \\#\\{\\text{$i$ en la muestra de entrenamiento}\\}$ y\n",
    "\n",
    "$$\n",
    "\\text{sensibilidad} = 0$, $1-\\text{especificidad} = 0\n",
    "$$\n",
    "\n",
    "obteniendo el punto en la esquina inferior izquierda de la curva ROC.\n",
    "\n",
    "* De la misma forma $\\tau=0$ implica que todas las observaciones se asignan a la categoría $0$ y obtenemos el punto superior derecho."
   ]
  },
  {
   "cell_type": "markdown",
   "metadata": {},
   "source": [
    "### AUC (area under the curve"
   ]
  },
  {
   "cell_type": "markdown",
   "metadata": {},
   "source": [
    "El AUC es el área bajo la curva ROC. Este puntaje nos da una buena idea de qué tan bien funciona el modelo.\n",
    "\n"
   ]
  },
  {
   "cell_type": "markdown",
   "metadata": {},
   "source": [
    "![1](https://live.staticflickr.com/65535/48049010727_ef276cb443_b.jpg)\n",
    "\n",
    "Esta es una situación ideal. Cuando dos curvas no se superponen en absoluto, el modelo tiene una medida ideal de separación. Es perfectamente capaz de distinguir entre clase positiva y clase negativa."
   ]
  },
  {
   "cell_type": "markdown",
   "metadata": {},
   "source": [
    "![2](https://live.staticflickr.com/65535/48048972478_80ec37664c_b.jpg)\n",
    "Cuando dos distribuciones se superponen, introducimos errores. Dependiendo del umbral, podemos minimizarlos o maximizarlos. Cuando AUC es 0.7, significa que hay 70% de probabilidad de que el modelo pueda distinguir entre clase positiva y clase negativa."
   ]
  },
  {
   "cell_type": "markdown",
   "metadata": {},
   "source": [
    "![3](https://live.staticflickr.com/65535/48049010402_f5ff692cb6_b.jpg)\n",
    "Esta es la peor situación. Cuando el AUC es aproximadamente 0.5, el modelo no tiene capacidad de discriminación para distinguir entre clase positiva y clase negativa."
   ]
  },
  {
   "cell_type": "code",
   "execution_count": 1009,
   "metadata": {},
   "outputs": [],
   "source": [
    "from sklearn.metrics import roc_auc_score "
   ]
  },
  {
   "cell_type": "code",
   "execution_count": 1006,
   "metadata": {},
   "outputs": [],
   "source": [
    "classes_labels = list(map(lambda x: 1 if x == \"p\" else 0, classes))\n",
    "classes_predicted_labels = list(map(lambda x: 1 if x == \"p\" else 0, class_predicted_2))"
   ]
  },
  {
   "cell_type": "code",
   "execution_count": 1008,
   "metadata": {},
   "outputs": [
    {
     "data": {
      "text/plain": [
       "0.95"
      ]
     },
     "execution_count": 1008,
     "metadata": {},
     "output_type": "execute_result"
    }
   ],
   "source": [
    "roc_auc_score(classes_labels, classes_predicted_labels)"
   ]
  },
  {
   "attachments": {},
   "cell_type": "markdown",
   "metadata": {},
   "source": [
    "## F1 Score\n",
    "\n",
    "F1 score es una media harmónica entre precision y recall\n",
    "\n",
    "![2](https://inside-machinelearning.com/wp-content/uploads/2021/09/F1-Score.png)"
   ]
  },
  {
   "cell_type": "code",
   "execution_count": 1011,
   "metadata": {},
   "outputs": [],
   "source": [
    "from sklearn.metrics import f1_score"
   ]
  },
  {
   "cell_type": "code",
   "execution_count": 1012,
   "metadata": {},
   "outputs": [
    {
     "data": {
      "text/plain": [
       "0.9500998003992016"
      ]
     },
     "execution_count": 1012,
     "metadata": {},
     "output_type": "execute_result"
    }
   ],
   "source": [
    "f1_score(classes_labels, classes_predicted_labels)"
   ]
  },
  {
   "cell_type": "markdown",
   "metadata": {
    "id": "eqp3VKuO9fPZ"
   },
   "source": [
    "\n",
    "\n",
    "# Otras distribuciones"
   ]
  },
  {
   "cell_type": "markdown",
   "metadata": {
    "id": "RBkJS2v29fPZ"
   },
   "source": [
    "\n",
    "\n",
    "## Clases desequilibradas"
   ]
  },
  {
   "cell_type": "code",
   "execution_count": 941,
   "metadata": {
    "id": "8KpSoxCt9fPZ"
   },
   "outputs": [],
   "source": [
    "total_p = 100\n",
    "total_n = 1000\n",
    "px = [np.random.normal(10,3) for _ in range(total_p)]\n",
    "nx = [np.random.normal(20,3) for _ in range(total_n)]\n",
    "x = np.concatenate([px,nx])\n",
    "classes = np.concatenate([[\"p\"]*total_p,[\"n\"]*total_n])"
   ]
  },
  {
   "cell_type": "code",
   "execution_count": 942,
   "metadata": {
    "colab": {
     "base_uri": "https://localhost:8080/",
     "height": 281
    },
    "id": "8eJ2j8am9fPZ",
    "outputId": "69c38d85-7b3c-47cf-c870-9d57dc84a601"
   },
   "outputs": [
    {
     "data": {
      "image/png": "[encoded data removed]",
      "text/plain": [
       "<Figure size 720x288 with 1 Axes>"
      ]
     },
     "metadata": {
      "needs_background": "light"
     },
     "output_type": "display_data"
    }
   ],
   "source": [
    "plt.figure(figsize=[10,4])\n",
    "plt.xlim([0,30])\n",
    "plt.title(\"Unbalanced classes\")\n",
    "plt.hist(px,bins=20,color=\"r\", alpha = .5)\n",
    "plt.hist(nx,bins=20,color=\"blue\", alpha = .5)\n",
    "for t in thresholds:\n",
    "    plt.vlines(t, 0, 130)\n",
    "\n",
    "plt.show()"
   ]
  },
  {
   "cell_type": "code",
   "execution_count": 943,
   "metadata": {
    "id": "8q2-hHRl9fPa"
   },
   "outputs": [],
   "source": [
    "predictions = [model(x,threshold=t) for t in thresholds]\n",
    "accuracies = [accuracy(classes=classes, predicted= ps, positive_class=\"p\")\n",
    "             for ps in predictions]\n",
    "recalls = [recall(classes=classes, predicted= ps, positive_class=\"p\")\n",
    "             for ps in predictions]\n",
    "precisions = [precision(classes=classes, predicted= ps, positive_class=\"p\")\n",
    "             for ps in predictions]\n",
    "    "
   ]
  },
  {
   "cell_type": "code",
   "execution_count": 944,
   "metadata": {
    "colab": {
     "base_uri": "https://localhost:8080/",
     "height": 281
    },
    "id": "J3DDAmh69fPa",
    "outputId": "67fc12b3-39d4-462c-a4dd-178020085579"
   },
   "outputs": [
    {
     "data": {
      "image/png": "[encoded data removed]",
      "text/plain": [
       "<Figure size 720x288 with 1 Axes>"
      ]
     },
     "metadata": {
      "needs_background": "light"
     },
     "output_type": "display_data"
    }
   ],
   "source": [
    "plt.figure(figsize=[10,4])\n",
    "plt.xlim([0,30])\n",
    "plt.plot(thresholds,accuracies,\"k\")\n",
    "plt.plot(thresholds,recalls,\"red\")\n",
    "plt.plot(thresholds,precisions,\"blue\")\n",
    "plt.legend([\"Accuracy\",\"Recall\",\"Precision\"])\n",
    "plt.xlabel(\"Sample\")\n",
    "plt.show()"
   ]
  },
  {
   "cell_type": "markdown",
   "metadata": {
    "id": "j-BsgxpJ9fPa"
   },
   "source": [
    "\n",
    "\n",
    "## Distribuciones muy pegadas"
   ]
  },
  {
   "cell_type": "code",
   "execution_count": 945,
   "metadata": {
    "id": "rzT1YBHe9fPa"
   },
   "outputs": [],
   "source": [
    "total_p = 1000\n",
    "total_n = 1000\n",
    "px = [np.random.normal(13,3) for _ in range(total_p)]\n",
    "nx = [np.random.normal(17,3) for _ in range(total_n)]\n",
    "x = np.concatenate([px,nx])\n",
    "classes = np.concatenate([[\"p\"]*total_p,[\"n\"]*total_n])"
   ]
  },
  {
   "cell_type": "code",
   "execution_count": 946,
   "metadata": {
    "colab": {
     "base_uri": "https://localhost:8080/",
     "height": 265
    },
    "id": "fIzonWyV9fPa",
    "outputId": "b661f5ce-1296-48bc-f7b9-769b86b7f4e6"
   },
   "outputs": [
    {
     "data": {
      "image/png": "[encoded data removed]",
      "text/plain": [
       "<Figure size 432x288 with 1 Axes>"
      ]
     },
     "metadata": {
      "needs_background": "light"
     },
     "output_type": "display_data"
    }
   ],
   "source": [
    "plt.hist(x,bins=40)\n",
    "plt.show()"
   ]
  },
  {
   "cell_type": "code",
   "execution_count": 947,
   "metadata": {
    "colab": {
     "base_uri": "https://localhost:8080/",
     "height": 265
    },
    "id": "m2NbU6QG9fPa",
    "outputId": "421a8a07-8ba2-4cc1-8f32-a477f329692d"
   },
   "outputs": [
    {
     "data": {
      "image/png": "[encoded data removed]",
      "text/plain": [
       "<Figure size 432x288 with 1 Axes>"
      ]
     },
     "metadata": {
      "needs_background": "light"
     },
     "output_type": "display_data"
    }
   ],
   "source": [
    "plt.hist(px,bins=20,color=\"r\", alpha = .5)\n",
    "plt.hist(nx,bins=20,color=\"blue\", alpha = .5)\n",
    "for t in thresholds:\n",
    "    plt.vlines(t, 0, 130)\n",
    "\n",
    "plt.show()"
   ]
  },
  {
   "cell_type": "code",
   "execution_count": null,
   "metadata": {},
   "outputs": [],
   "source": []
  },
  {
   "cell_type": "code",
   "execution_count": 948,
   "metadata": {
    "id": "P57aqZMz9fPa"
   },
   "outputs": [],
   "source": [
    "predictions = [model(x,threshold=t) for t in thresholds]\n",
    "accuracies = [accuracy(classes=classes, predicted= ps, positive_class=\"p\")\n",
    "             for ps in predictions]\n",
    "recalls = [recall(classes=classes, predicted= ps, positive_class=\"p\")\n",
    "             for ps in predictions]\n",
    "precisions = [precision(classes=classes, predicted= ps, positive_class=\"p\")\n",
    "             for ps in predictions]\n",
    "    "
   ]
  },
  {
   "cell_type": "code",
   "execution_count": 949,
   "metadata": {
    "colab": {
     "base_uri": "https://localhost:8080/",
     "height": 265
    },
    "id": "gTLfxXXr9fPa",
    "outputId": "820ebe64-d80a-46b0-c99a-c1bba90689d2"
   },
   "outputs": [
    {
     "data": {
      "image/png": "[encoded data removed]",
      "text/plain": [
       "<Figure size 432x288 with 1 Axes>"
      ]
     },
     "metadata": {
      "needs_background": "light"
     },
     "output_type": "display_data"
    }
   ],
   "source": [
    "plt.plot(thresholds,accuracies,\"k\")\n",
    "plt.plot(thresholds,recalls,\"red\")\n",
    "plt.plot(thresholds,precisions,\"blue\")\n",
    "plt.legend([\"Accuracy\",\"Recall\",\"Precision\"])\n",
    "plt.xlabel(\"Sample\")\n",
    "plt.show()"
   ]
  },
  {
   "cell_type": "markdown",
   "metadata": {
    "id": "wiwb59N632zc"
   },
   "source": [
    "# Modelos lineales de probabilidad\n",
    "\n",
    "\n",
    "* Cuando hay sólo dos categorías, $y_i \\in {0,1}$, es posible estimar por OLS el modelo.\n",
    "\n",
    "$$\n",
    "y_i = x_i' \\beta + \\epsilon_i\n",
    "$$\n",
    "\n",
    "\n",
    "* ¿Por qué se llama un **modelo lineal de probabilidad**?\n",
    "\n",
    "\n",
    "* En general, queremos modelar \n",
    "$$\n",
    "Prob(y=1|X) = F(X,\\beta)\n",
    "$$\n",
    "\n",
    "Si $F(X,\\beta) = x\\beta$, entonces $E(y|x) = x\\beta$, y tenemos el modelo lineal.\n",
    "\n",
    "\n",
    "\n",
    "* Los modelos lineales de probabilidad tienen dos problemas:\n",
    "\n",
    "    1. Nada garantiza que $\\hat{y}_i \\in [0,1]$, afectando la interpretación del modelo.\n",
    "    \n",
    "    2. Heteroscedasticidad.\n",
    "    $$\n",
    "    Var(\\epsilon_i) = x_i'\\beta(1-x_i'\\beta)\n",
    "    $$\n",
    "\n"
   ]
  },
  {
   "cell_type": "markdown",
   "metadata": {
    "id": "HaYh9NrI32zd"
   },
   "source": [
    "# Modelos Probit\n",
    "\n",
    "\n",
    "* Una alternativa natural es asumir que $F(x_i,\\beta) = \\Phi(x_i'\\beta)$, donde $\\Phi$ es la función de distribución de una variable aleatoria normal estándar.\n",
    "\n",
    "\n",
    "* Este tipo de modelos es ampliamente utilizado en econometría, así que no los cubriremos en el curso.\n",
    "\n",
    "\n",
    "* Si miraremos a profundidad los modelos logísticos o Logit."
   ]
  },
  {
   "cell_type": "markdown",
   "metadata": {
    "id": "jMcPEmhj32zd"
   },
   "source": [
    "# Modelos Logit\n",
    "\n",
    "\n",
    "* Otra alternativa es usar \n",
    "$$\n",
    "F(x_i,\\beta) = \\Lambda(x_i'\\beta) = \\frac{e^{x_i'\\beta}}{1+e^{x_i'\\beta}}\n",
    "$$\n",
    "\n",
    "\n",
    "donde $\\Lambda(x_i'\\beta)$ denota a la función acumulativa logística.\n",
    "\n",
    "\n",
    "* ¿Cuál es el valor esperado de $y$?\n",
    "\n",
    "$$\n",
    "E(y|x) = 1 \\times F(x,\\beta) + 0 \\times (1-F(x,\\beta)) = F(x,\\beta)\n",
    "$$\n",
    "\n",
    "\n",
    "* Para encontrar los efectos marginales: \n",
    "\n",
    "$$\n",
    "\\frac{\\partial E(y|x)}{\\partial x} = \\left[\\frac{d F(x,\\beta)}{d x'\\beta}\\right] \\beta = f(x,\\beta) \\beta\n",
    "$$\n",
    "\n",
    "donde $f()$ es la función de densidad.\n",
    "\n",
    "### Nota:\n",
    "##### A diferencia del modelo lineal de probabilidad donde los efectos marginales son constantes, los efectos marginales en los modelos Logit y Probit son funciones de $x$ y $\\beta$.   Generalmente se reportan *evalúandolos en las medias*.\n",
    "\n",
    "La curva se ve así\n",
    "\n",
    "![image](https://files.realpython.com/media/log-reg-1.e32deaa7cbac.png)"
   ]
  },
  {
   "cell_type": "code",
   "execution_count": null,
   "metadata": {
    "id": "Bn6H9aCQ4yIR"
   },
   "outputs": [],
   "source": []
  },
  {
   "cell_type": "markdown",
   "metadata": {
    "id": "mwKygGk64-Kr"
   },
   "source": [
    "# Apliquemos el modelo"
   ]
  },
  {
   "cell_type": "markdown",
   "metadata": {
    "id": "vub3yz-T9fPb"
   },
   "source": [
    "\n",
    "\n",
    "## Un modelo \"real\""
   ]
  },
  {
   "cell_type": "markdown",
   "metadata": {
    "id": "jiSonczH9fPb"
   },
   "source": [
    "\n",
    "\n",
    "Ahora probamos con un modelo entrenado como una regresión lineal"
   ]
  },
  {
   "cell_type": "code",
   "execution_count": 950,
   "metadata": {
    "id": "SindRhVu9fPb"
   },
   "outputs": [],
   "source": [
    "from sklearn.linear_model import LogisticRegression"
   ]
  },
  {
   "cell_type": "code",
   "execution_count": 951,
   "metadata": {
    "id": "wTeM0id79fPb"
   },
   "outputs": [],
   "source": [
    "total_p = 1000\n",
    "total_n = 1000\n",
    "px = [np.random.normal(10,3) for _ in range(total_p)]\n",
    "nx = [np.random.normal(20,3) for _ in range(total_n)]\n",
    "x = np.concatenate([px,nx])\n",
    "classes = np.concatenate([[\"p\"]*total_p,[\"n\"]*total_n])"
   ]
  },
  {
   "cell_type": "code",
   "execution_count": 952,
   "metadata": {
    "id": "quVGBr5Z9fPb"
   },
   "outputs": [],
   "source": [
    "lr = LogisticRegression()\n",
    "lr = lr.fit(x.reshape(-1,1),classes)"
   ]
  },
  {
   "cell_type": "markdown",
   "metadata": {
    "id": "NmyFoMpE9fPb"
   },
   "source": [
    "\n",
    "\n",
    "Ahora predecimos con él"
   ]
  },
  {
   "cell_type": "code",
   "execution_count": 953,
   "metadata": {
    "id": "4rZstu3J9fPb"
   },
   "outputs": [],
   "source": [
    "predicted_classes = lr.predict(x.reshape(-1,1))"
   ]
  },
  {
   "cell_type": "code",
   "execution_count": 954,
   "metadata": {
    "colab": {
     "base_uri": "https://localhost:8080/"
    },
    "id": "DSus3I-N9fPb",
    "outputId": "f7618f55-9f65-43c6-d26f-ca53c9697eef"
   },
   "outputs": [
    {
     "data": {
      "text/plain": [
       "0.9585"
      ]
     },
     "execution_count": 954,
     "metadata": {},
     "output_type": "execute_result"
    }
   ],
   "source": [
    "accuracy(classes=classes,predicted=predicted_classes,positive_class=\"p\")"
   ]
  },
  {
   "cell_type": "code",
   "execution_count": 955,
   "metadata": {
    "colab": {
     "base_uri": "https://localhost:8080/"
    },
    "id": "FEaRqCFP9fPb",
    "outputId": "b71d839e-36dd-4690-b7f2-8b1694b63331"
   },
   "outputs": [
    {
     "data": {
      "text/plain": [
       "0.963"
      ]
     },
     "execution_count": 955,
     "metadata": {},
     "output_type": "execute_result"
    }
   ],
   "source": [
    "recall(classes=classes,predicted=predicted_classes,positive_class=\"p\")"
   ]
  },
  {
   "cell_type": "code",
   "execution_count": 956,
   "metadata": {
    "colab": {
     "base_uri": "https://localhost:8080/"
    },
    "id": "qqbC3AaZ9fPc",
    "outputId": "dcd64708-c744-4cab-9517-17ca8dbd5391"
   },
   "outputs": [
    {
     "data": {
      "text/plain": [
       "0.9544103072348861"
      ]
     },
     "execution_count": 956,
     "metadata": {},
     "output_type": "execute_result"
    }
   ],
   "source": [
    "precision(classes=classes,predicted=predicted_classes,positive_class=\"p\")"
   ]
  },
  {
   "cell_type": "code",
   "execution_count": 957,
   "metadata": {},
   "outputs": [
    {
     "data": {
      "image/png": "[encoded data removed]",
      "text/plain": [
       "<Figure size 432x288 with 1 Axes>"
      ]
     },
     "metadata": {
      "needs_background": "light"
     },
     "output_type": "display_data"
    }
   ],
   "source": [
    "plt.hist(x,bins=40)\n",
    "plt.show()"
   ]
  },
  {
   "cell_type": "code",
   "execution_count": 958,
   "metadata": {},
   "outputs": [
    {
     "data": {
      "text/plain": [
       "(array([  3.,   1.,   9.,  19.,  25.,  38.,  63.,  83., 102., 120., 133.,\n",
       "        119.,  99.,  61.,  49.,  41.,  21.,   9.,   3.,   2.]),\n",
       " array([10.72459273, 11.63903806, 12.55348338, 13.46792871, 14.38237404,\n",
       "        15.29681936, 16.21126469, 17.12571001, 18.04015534, 18.95460067,\n",
       "        19.86904599, 20.78349132, 21.69793665, 22.61238197, 23.5268273 ,\n",
       "        24.44127263, 25.35571795, 26.27016328, 27.18460861, 28.09905393,\n",
       "        29.01349926]),\n",
       " <a list of 20 Patch objects>)"
      ]
     },
     "execution_count": 958,
     "metadata": {},
     "output_type": "execute_result"
    },
    {
     "data": {
      "image/png": "[encoded data removed]",
      "text/plain": [
       "<Figure size 432x288 with 1 Axes>"
      ]
     },
     "metadata": {
      "needs_background": "light"
     },
     "output_type": "display_data"
    }
   ],
   "source": [
    "plt.hist(px,bins=20,color=\"r\", alpha = .5)\n",
    "plt.hist(nx,bins=20,color=\"blue\", alpha = .5)\n"
   ]
  },
  {
   "cell_type": "markdown",
   "metadata": {
    "id": "iBrBoXfm9fPc"
   },
   "source": [
    "\n",
    "\n",
    "## Sensibilidad en los modelos"
   ]
  },
  {
   "cell_type": "markdown",
   "metadata": {
    "id": "7x4pUYC59fPc"
   },
   "source": [
    "\n",
    "\n",
    "Por defecto, la probabilidad > .5 se asigna a la primera clase. Pero podemos elegir el umbral que queramos, si interpretamos la salida como probabilidades y elegimos varios umbrales, para ver como respoden."
   ]
  },
  {
   "cell_type": "code",
   "execution_count": 959,
   "metadata": {
    "id": "e4gvuAVW9fPc"
   },
   "outputs": [],
   "source": [
    "predicted_classes_proba = lr.predict_proba(x.reshape(-1,1))\n",
    "\n",
    "n_proba, p_proba = zip(*predicted_classes_proba)"
   ]
  },
  {
   "cell_type": "code",
   "execution_count": 960,
   "metadata": {},
   "outputs": [
    {
     "data": {
      "text/plain": [
       "array([[2.56170813e-06, 9.99997438e-01],\n",
       "       [2.15637397e-02, 9.78436260e-01],\n",
       "       [4.49711790e-03, 9.95502882e-01],\n",
       "       ...,\n",
       "       [9.99541561e-01, 4.58438688e-04],\n",
       "       [2.08929966e-01, 7.91070034e-01],\n",
       "       [9.96442494e-01, 3.55750569e-03]])"
      ]
     },
     "execution_count": 960,
     "metadata": {},
     "output_type": "execute_result"
    }
   ],
   "source": [
    "predicted_classes_proba"
   ]
  },
  {
   "cell_type": "code",
   "execution_count": 961,
   "metadata": {
    "colab": {
     "base_uri": "https://localhost:8080/"
    },
    "id": "jjR-PvsA9fPc",
    "outputId": "166c4025-b3a1-426c-944d-07f6c5be81fe"
   },
   "outputs": [
    {
     "name": "stdout",
     "output_type": "stream",
     "text": [
      "['p' 'p' 'p' 'p' 'p' 'p' 'p' 'p' 'p' 'p']\n",
      "[ 3.9159124  11.6943498  10.3336488  11.97873001  7.14307533 12.65170759\n",
      "  6.6171422  10.07985722 13.11765133  1.22682414]\n",
      "(0.9999974382918689, 0.9784362603161467, 0.9955028821036926, 0.9702207622254724, 0.9998901202204894, 0.9370186977305509, 0.9999404474258322, 0.9966499142321028, 0.8963359575752285, 0.9999998882424759)\n"
     ]
    }
   ],
   "source": [
    "print(classes[0:10])\n",
    "print(x[0:10])\n",
    "print(p_proba[0:10])"
   ]
  },
  {
   "cell_type": "code",
   "execution_count": 962,
   "metadata": {
    "colab": {
     "base_uri": "https://localhost:8080/"
    },
    "id": "V1L3HfvD9fPc",
    "outputId": "00203852-4b93-4fea-ef09-0621bd0acf1a"
   },
   "outputs": [
    {
     "data": {
      "text/plain": [
       "array([1., 1., 1., ..., 1., 1., 1.])"
      ]
     },
     "execution_count": 962,
     "metadata": {},
     "output_type": "execute_result"
    }
   ],
   "source": [
    "np.array(n_proba)+np.array(p_proba)"
   ]
  },
  {
   "cell_type": "markdown",
   "metadata": {
    "id": "TSJH3LG79fPc"
   },
   "source": [
    "\n",
    "\n",
    "La probabilidad asignada para cada x serán las siguientes"
   ]
  },
  {
   "cell_type": "code",
   "execution_count": 963,
   "metadata": {
    "colab": {
     "base_uri": "https://localhost:8080/",
     "height": 265
    },
    "id": "ynf_mqyT9fPc",
    "outputId": "730c537b-2cc8-4dd5-d063-68c682698c53"
   },
   "outputs": [
    {
     "data": {
      "image/png": "[encoded data removed]",
      "text/plain": [
       "<Figure size 432x288 with 1 Axes>"
      ]
     },
     "metadata": {
      "needs_background": "light"
     },
     "output_type": "display_data"
    }
   ],
   "source": [
    "plt.scatter(x, p_proba)\n",
    "plt.show()"
   ]
  },
  {
   "cell_type": "markdown",
   "metadata": {
    "id": "EOi4aZwB9fPd"
   },
   "source": [
    "\n",
    "\n",
    "Creemos modelos del .1 al .9 de umbral de probabilidad, y comrpobemos sus evaluaciones"
   ]
  },
  {
   "cell_type": "code",
   "execution_count": 964,
   "metadata": {
    "colab": {
     "base_uri": "https://localhost:8080/"
    },
    "id": "1C4OiP3W9fPd",
    "outputId": "947aeb93-d7f4-4d7f-8091-2ab4b2d7de4b"
   },
   "outputs": [
    {
     "data": {
      "text/plain": [
       "array([0.9, 0.8, 0.7, 0.6, 0.5, 0.4, 0.3, 0.2, 0.1])"
      ]
     },
     "execution_count": 964,
     "metadata": {},
     "output_type": "execute_result"
    }
   ],
   "source": [
    "thresholds = np.arange(1,10)[::-1]/10\n",
    "thresholds"
   ]
  },
  {
   "cell_type": "code",
   "execution_count": 965,
   "metadata": {
    "colab": {
     "base_uri": "https://localhost:8080/",
     "height": 265
    },
    "id": "v5jy1O-e9fPd",
    "outputId": "aaef3be2-a965-4110-8640-8eb337bfd2a9"
   },
   "outputs": [
    {
     "data": {
      "image/png": "[encoded data removed]",
      "text/plain": [
       "<Figure size 432x288 with 1 Axes>"
      ]
     },
     "metadata": {
      "needs_background": "light"
     },
     "output_type": "display_data"
    }
   ],
   "source": [
    "plt.scatter(x, p_proba)\n",
    "plt.hlines(thresholds,0,30)\n",
    "plt.show()"
   ]
  },
  {
   "cell_type": "markdown",
   "metadata": {
    "id": "0R47PJPs9fPd"
   },
   "source": [
    "\n",
    "\n",
    "Para cada threshold, tenemos un modelo, de manera que podemos discernir que clasificación ha hecho, aplicando el filtro del umbral."
   ]
  },
  {
   "cell_type": "code",
   "execution_count": 966,
   "metadata": {
    "id": "jUKk0hO99fPd"
   },
   "outputs": [],
   "source": [
    "predictions_model0 = p_proba>thresholds[0]\n",
    "predictions_model0 = list(map(lambda x: \"p\" if x else \"n\",predictions_model0))"
   ]
  },
  {
   "cell_type": "code",
   "execution_count": 967,
   "metadata": {},
   "outputs": [
    {
     "data": {
      "text/plain": [
       "array(['p', 'p', 'p', ..., 'n', 'n', 'n'], dtype='<U1')"
      ]
     },
     "execution_count": 967,
     "metadata": {},
     "output_type": "execute_result"
    }
   ],
   "source": [
    "np.array(predictions_model0)"
   ]
  },
  {
   "cell_type": "code",
   "execution_count": 968,
   "metadata": {},
   "outputs": [
    {
     "data": {
      "text/plain": [
       "0.9906432748538012"
      ]
     },
     "execution_count": 968,
     "metadata": {},
     "output_type": "execute_result"
    }
   ],
   "source": [
    "precision(classes = classes, predicted = np.array(predictions_model0) , positive_class = \"p\")"
   ]
  },
  {
   "cell_type": "code",
   "execution_count": 969,
   "metadata": {},
   "outputs": [
    {
     "data": {
      "text/plain": [
       "0.847"
      ]
     },
     "execution_count": 969,
     "metadata": {},
     "output_type": "execute_result"
    }
   ],
   "source": [
    "recall(classes = classes, predicted = np.array(predictions_model0) , positive_class = \"p\")"
   ]
  },
  {
   "cell_type": "markdown",
   "metadata": {
    "id": "wq4gHOJi9fPd"
   },
   "source": [
    "\n",
    "\n",
    "Para todos los modelos"
   ]
  },
  {
   "cell_type": "code",
   "execution_count": 970,
   "metadata": {
    "colab": {
     "base_uri": "https://localhost:8080/"
    },
    "id": "UvbyG5Mc9fPd",
    "outputId": "b028502a-fc19-45a1-e294-72deccb4443b"
   },
   "outputs": [
    {
     "name": "stdout",
     "output_type": "stream",
     "text": [
      "[0.9 0.8 0.7 0.6 0.5 0.4 0.3 0.2 0.1]\n"
     ]
    }
   ],
   "source": [
    "print(thresholds)\n",
    "predictions = [np.array(list(map(lambda x: \"p\" if x else \"n\", p_proba > t_ ))) for t_ in thresholds ]"
   ]
  },
  {
   "cell_type": "code",
   "execution_count": 971,
   "metadata": {
    "id": "li_UMj0t9fPd"
   },
   "outputs": [],
   "source": [
    "accuracies = [accuracy(classes=classes, predicted=pred_, positive_class=\"p\") \n",
    "                for pred_ in predictions]\n",
    "recalls = [recall(classes=classes, predicted=pred_, positive_class=\"p\") \n",
    "                for pred_ in predictions]\n",
    "precisions = [precision(classes=classes, predicted=pred_, positive_class=\"p\") \n",
    "                for pred_ in predictions]"
   ]
  },
  {
   "cell_type": "code",
   "execution_count": 972,
   "metadata": {
    "colab": {
     "base_uri": "https://localhost:8080/",
     "height": 281
    },
    "id": "DzSYVTrb9fPe",
    "outputId": "7e05109a-abaf-4f1c-e48b-de4ea0e9a43f"
   },
   "outputs": [
    {
     "data": {
      "image/png": "[encoded data removed]",
      "text/plain": [
       "<Figure size 720x288 with 1 Axes>"
      ]
     },
     "metadata": {
      "needs_background": "light"
     },
     "output_type": "display_data"
    }
   ],
   "source": [
    "plt.figure(figsize=[10,4])\n",
    "plt.xlim([0,1])\n",
    "plt.ylim([0,1])\n",
    "plt.plot(thresholds,accuracies,\"k\")\n",
    "plt.plot(thresholds,recalls,\"red\")\n",
    "plt.plot(thresholds,precisions,\"blue\")\n",
    "plt.legend([\"Accuracy\",\"Recall\",\"Precision\"])\n",
    "plt.xlabel(\"Probability threshold. \")\n",
    "plt.ylim(0.5,1.05)\n",
    "plt.show()\n"
   ]
  },
  {
   "cell_type": "code",
   "execution_count": 973,
   "metadata": {},
   "outputs": [
    {
     "data": {
      "image/png": "[encoded data removed]",
      "text/plain": [
       "<Figure size 432x288 with 1 Axes>"
      ]
     },
     "metadata": {
      "needs_background": "light"
     },
     "output_type": "display_data"
    }
   ],
   "source": [
    "TPR = [0] + recalls + [1]\n",
    " \n",
    "FPR = np.append(np.array([0]), (1 - np.array(precisions)))\n",
    "FPR = np.append(FPR, np.array([1]))\n",
    "\n",
    "plt.plot(FPR,TPR)\n",
    "plt.xlim(0,1.05)\n",
    "plt.ylim(0,1)\n",
    "plt.show()"
   ]
  },
  {
   "cell_type": "markdown",
   "metadata": {
    "id": "jQzKnNwa9fPe"
   },
   "source": [
    "\n",
    "\n",
    "## Más sensibilidad"
   ]
  },
  {
   "cell_type": "code",
   "execution_count": 1014,
   "metadata": {
    "id": "PU0std519fPe"
   },
   "outputs": [],
   "source": [
    "thresholds = np.arange(0,1000,10)[::-1]/1000\n",
    "predictions = [np.array(list(map(lambda x: \"p\" if x else \"n\", p_proba > t_ ))) for t_ in thresholds ]\n",
    "\n",
    "accuracies = [accuracy(classes=classes, predicted=pred_, positive_class=\"p\") \n",
    "                for pred_ in predictions]\n",
    "recalls = [recall(classes=classes, predicted=pred_, positive_class=\"p\") \n",
    "                for pred_ in predictions]\n",
    "precisions = [precision(classes=classes, predicted=pred_, positive_class=\"p\") \n",
    "                for pred_ in predictions]"
   ]
  },
  {
   "cell_type": "code",
   "execution_count": 1015,
   "metadata": {
    "colab": {
     "base_uri": "https://localhost:8080/",
     "height": 295
    },
    "id": "iu5QMkbr9fPe",
    "outputId": "7e57731e-fb8b-4a4e-aa1f-69edba0e22e9"
   },
   "outputs": [
    {
     "data": {
      "image/png": "[encoded data removed]",
      "text/plain": [
       "<Figure size 720x288 with 1 Axes>"
      ]
     },
     "metadata": {
      "needs_background": "light"
     },
     "output_type": "display_data"
    }
   ],
   "source": [
    "plt.figure(figsize=[10,4])\n",
    "plt.xlim([-.1,1.1])\n",
    "plt.ylim([0,1.1])\n",
    "plt.plot(thresholds[::-1],accuracies,\"k\")\n",
    "plt.plot(thresholds,recalls,\"red\")\n",
    "plt.plot(thresholds,precisions,\"blue\")\n",
    "plt.legend([\"Accuracy\",\"Recall\",\"Precision\"])\n",
    "plt.xlabel(\"Probability threshold. \")\n",
    "plt.show()"
   ]
  },
  {
   "cell_type": "markdown",
   "metadata": {
    "id": "XlDeFAhN9fPe"
   },
   "source": [
    "\n",
    "\n",
    "## Distribuciones desequilibradas"
   ]
  },
  {
   "cell_type": "code",
   "execution_count": 1016,
   "metadata": {
    "id": "g38vQceQ9fPe"
   },
   "outputs": [],
   "source": [
    "total_p = 100\n",
    "total_n = 1000\n",
    "px = [np.random.normal(10,3) for _ in range(total_p)]\n",
    "nx = [np.random.normal(20,3) for _ in range(total_n)]\n",
    "x = np.concatenate([px,nx])\n",
    "classes = np.concatenate([[\"p\"]*total_p,[\"n\"]*total_n])"
   ]
  },
  {
   "cell_type": "code",
   "execution_count": 1017,
   "metadata": {},
   "outputs": [
    {
     "data": {
      "text/plain": [
       "(array([  1.,   1.,   9.,  22.,  29.,  42.,  73.,  94., 119., 146., 129.,\n",
       "        117.,  90.,  55.,  35.,  21.,   9.,   6.,   1.,   1.]),\n",
       " array([10.31644163, 11.29821518, 12.27998873, 13.26176228, 14.24353583,\n",
       "        15.22530939, 16.20708294, 17.18885649, 18.17063004, 19.15240359,\n",
       "        20.13417714, 21.11595069, 22.09772425, 23.0794978 , 24.06127135,\n",
       "        25.0430449 , 26.02481845, 27.006592  , 27.98836555, 28.97013911,\n",
       "        29.95191266]),\n",
       " <a list of 20 Patch objects>)"
      ]
     },
     "execution_count": 1017,
     "metadata": {},
     "output_type": "execute_result"
    },
    {
     "data": {
      "image/png": "[encoded data removed]",
      "text/plain": [
       "<Figure size 432x288 with 1 Axes>"
      ]
     },
     "metadata": {
      "needs_background": "light"
     },
     "output_type": "display_data"
    }
   ],
   "source": [
    "plt.hist(px,bins=20,color=\"r\", alpha = .5)\n",
    "plt.hist(nx,bins=20,color=\"blue\", alpha = .5)"
   ]
  },
  {
   "cell_type": "code",
   "execution_count": 1018,
   "metadata": {
    "id": "ZZfnCGjX9fPe"
   },
   "outputs": [],
   "source": [
    "lr = LogisticRegression()\n",
    "lr = lr.fit(x.reshape(-1,1),classes)\n",
    "\n",
    "predicted_classes_proba = lr.predict_proba(x.reshape(-1,1))\n",
    "\n",
    "n_proba, p_proba = zip(*predicted_classes_proba)"
   ]
  },
  {
   "cell_type": "code",
   "execution_count": 1019,
   "metadata": {
    "id": "m5bz0bpg9fPf"
   },
   "outputs": [],
   "source": [
    "thresholds = np.arange(0,1000,10)[::-1]/1000\n",
    "predictions = [np.array(list(map(lambda x: \"p\" if x else \"n\", p_proba > t_ ))) for t_ in thresholds ]\n",
    "\n",
    "accuracies = [accuracy(classes=classes, predicted=pred_, positive_class=\"p\") \n",
    "                for pred_ in predictions]\n",
    "recalls = [recall(classes=classes, predicted=pred_, positive_class=\"p\") \n",
    "                for pred_ in predictions]\n",
    "precisions = [precision(classes=classes, predicted=pred_, positive_class=\"p\") \n",
    "                for pred_ in predictions]"
   ]
  },
  {
   "cell_type": "code",
   "execution_count": 1020,
   "metadata": {
    "colab": {
     "base_uri": "https://localhost:8080/",
     "height": 281
    },
    "id": "svDAPal49fPf",
    "outputId": "b3c3d869-c369-44a7-9c97-a0021f4eec6c"
   },
   "outputs": [
    {
     "data": {
      "image/png": "[encoded data removed]",
      "text/plain": [
       "<Figure size 720x288 with 1 Axes>"
      ]
     },
     "metadata": {
      "needs_background": "light"
     },
     "output_type": "display_data"
    }
   ],
   "source": [
    "plt.figure(figsize=[10,4])\n",
    "plt.xlim([-.1,1.1])\n",
    "plt.ylim([0,1.1])\n",
    "plt.plot(thresholds,accuracies,\"k\")\n",
    "plt.plot(thresholds,recalls,\"red\")\n",
    "plt.plot(thresholds,precisions,\"blue\")\n",
    "plt.legend([\"Accuracy\",\"Recall\",\"Precision\"])\n",
    "plt.xlabel(\"Probability threshold. \")\n",
    "plt.show()"
   ]
  },
  {
   "cell_type": "code",
   "execution_count": 1045,
   "metadata": {},
   "outputs": [
    {
     "data": {
      "text/html": [
       "<div>\n",
       "<style scoped>\n",
       "    .dataframe tbody tr th:only-of-type {\n",
       "        vertical-align: middle;\n",
       "    }\n",
       "\n",
       "    .dataframe tbody tr th {\n",
       "        vertical-align: top;\n",
       "    }\n",
       "\n",
       "    .dataframe thead th {\n",
       "        text-align: right;\n",
       "    }\n",
       "</style>\n",
       "<table border=\"1\" class=\"dataframe\">\n",
       "  <thead>\n",
       "    <tr style=\"text-align: right;\">\n",
       "      <th></th>\n",
       "      <th>threshold</th>\n",
       "      <th>precision</th>\n",
       "      <th>recall</th>\n",
       "    </tr>\n",
       "  </thead>\n",
       "  <tbody>\n",
       "    <tr>\n",
       "      <th>0</th>\n",
       "      <td>0.99</td>\n",
       "      <td>1.000000</td>\n",
       "      <td>0.003</td>\n",
       "    </tr>\n",
       "    <tr>\n",
       "      <th>1</th>\n",
       "      <td>0.98</td>\n",
       "      <td>1.000000</td>\n",
       "      <td>0.009</td>\n",
       "    </tr>\n",
       "    <tr>\n",
       "      <th>2</th>\n",
       "      <td>0.97</td>\n",
       "      <td>0.944444</td>\n",
       "      <td>0.017</td>\n",
       "    </tr>\n",
       "    <tr>\n",
       "      <th>3</th>\n",
       "      <td>0.96</td>\n",
       "      <td>0.952381</td>\n",
       "      <td>0.040</td>\n",
       "    </tr>\n",
       "    <tr>\n",
       "      <th>4</th>\n",
       "      <td>0.95</td>\n",
       "      <td>0.969697</td>\n",
       "      <td>0.064</td>\n",
       "    </tr>\n",
       "    <tr>\n",
       "      <th>...</th>\n",
       "      <td>...</td>\n",
       "      <td>...</td>\n",
       "      <td>...</td>\n",
       "    </tr>\n",
       "    <tr>\n",
       "      <th>95</th>\n",
       "      <td>0.04</td>\n",
       "      <td>0.511259</td>\n",
       "      <td>0.999</td>\n",
       "    </tr>\n",
       "    <tr>\n",
       "      <th>96</th>\n",
       "      <td>0.03</td>\n",
       "      <td>0.507107</td>\n",
       "      <td>0.999</td>\n",
       "    </tr>\n",
       "    <tr>\n",
       "      <th>97</th>\n",
       "      <td>0.02</td>\n",
       "      <td>0.503018</td>\n",
       "      <td>1.000</td>\n",
       "    </tr>\n",
       "    <tr>\n",
       "      <th>98</th>\n",
       "      <td>0.01</td>\n",
       "      <td>0.500250</td>\n",
       "      <td>1.000</td>\n",
       "    </tr>\n",
       "    <tr>\n",
       "      <th>99</th>\n",
       "      <td>0.00</td>\n",
       "      <td>0.500000</td>\n",
       "      <td>1.000</td>\n",
       "    </tr>\n",
       "  </tbody>\n",
       "</table>\n",
       "<p>100 rows × 3 columns</p>\n",
       "</div>"
      ],
      "text/plain": [
       "    threshold  precision  recall\n",
       "0        0.99   1.000000   0.003\n",
       "1        0.98   1.000000   0.009\n",
       "2        0.97   0.944444   0.017\n",
       "3        0.96   0.952381   0.040\n",
       "4        0.95   0.969697   0.064\n",
       "..        ...        ...     ...\n",
       "95       0.04   0.511259   0.999\n",
       "96       0.03   0.507107   0.999\n",
       "97       0.02   0.503018   1.000\n",
       "98       0.01   0.500250   1.000\n",
       "99       0.00   0.500000   1.000\n",
       "\n",
       "[100 rows x 3 columns]"
      ]
     },
     "execution_count": 1045,
     "metadata": {},
     "output_type": "execute_result"
    }
   ],
   "source": [
    "pd.DataFrame({\"threshold\": thresholds, \"precision\": precisions, \"recall\": recalls})"
   ]
  },
  {
   "cell_type": "code",
   "execution_count": 1021,
   "metadata": {
    "colab": {
     "base_uri": "https://localhost:8080/",
     "height": 265
    },
    "id": "QrV-oV8a9fPf",
    "outputId": "1908c82c-8425-45ca-e2c4-c90b440b55f2"
   },
   "outputs": [
    {
     "data": {
      "image/png": "[encoded data removed]",
      "text/plain": [
       "<Figure size 432x288 with 1 Axes>"
      ]
     },
     "metadata": {
      "needs_background": "light"
     },
     "output_type": "display_data"
    }
   ],
   "source": [
    "plt.scatter(x, p_proba)\n",
    "plt.hlines(thresholds, 0, 30, alpha=1)\n",
    "plt.show()"
   ]
  },
  {
   "cell_type": "markdown",
   "metadata": {},
   "source": [
    "Calculando el ROC puede parecer como un gran modelo pero puede ser engañoso"
   ]
  },
  {
   "cell_type": "code",
   "execution_count": 1022,
   "metadata": {},
   "outputs": [
    {
     "data": {
      "image/png": "[encoded data removed]",
      "text/plain": [
       "<Figure size 432x288 with 1 Axes>"
      ]
     },
     "metadata": {
      "needs_background": "light"
     },
     "output_type": "display_data"
    }
   ],
   "source": [
    "TPR = [0] + recalls + [1]\n",
    " \n",
    "FPR = np.append(np.array([0]), (1 - np.array(precisions)))\n",
    "FPR = np.append(FPR, np.array([1]))\n",
    "\n",
    "plt.plot(FPR,TPR)\n",
    "plt.xlim(0,1.05)\n",
    "plt.ylim(0,1)\n",
    "plt.show()"
   ]
  },
  {
   "cell_type": "markdown",
   "metadata": {},
   "source": [
    "### Métricas a considerar en muestras desbalanceadas\n",
    "\n",
    "Cuando las métricas son desbalanceadas, entonces, algunas métricas pueden ser engañosas. \n",
    "Por ejemplo, tomemos el accuracy y el AUC del siguiente modelo"
   ]
  },
  {
   "cell_type": "code",
   "execution_count": 1063,
   "metadata": {},
   "outputs": [
    {
     "name": "stdout",
     "output_type": "stream",
     "text": [
      "No Skill: ROC AUC=0.500\n",
      "Logistic: ROC AUC=0.716\n",
      "No Skill: Accuracy=0.978\n",
      "Logistic: Accuracy=0.978\n"
     ]
    },
    {
     "data": {
      "image/png": "[encoded data removed]",
      "text/plain": [
       "<Figure size 432x288 with 1 Axes>"
      ]
     },
     "metadata": {
      "needs_background": "light"
     },
     "output_type": "display_data"
    }
   ],
   "source": [
    "\n",
    "from sklearn.datasets import make_classification\n",
    "from sklearn.linear_model import LogisticRegression\n",
    "from sklearn.model_selection import train_test_split\n",
    "from sklearn.metrics import roc_curve, accuracy_score, precision_recall_curve\n",
    "from sklearn.metrics import roc_auc_score\n",
    "from matplotlib import pyplot\n",
    "\n",
    "# Generemos un set desbalanceado \n",
    "X, y = make_classification(n_samples=1000, n_classes=2, weights=[0.99,0.01], random_state=1)\n",
    "\n",
    "# Separamos training y testing set\n",
    "trainX, testX, trainy, testy = train_test_split(X, y, test_size=0.5, random_state=2)\n",
    "\n",
    "# Generemos un estimador naive que asigne todo a una clase\n",
    "ns_probs = [0 for _ in range(len(testy))]\n",
    "\n",
    "# Entrenemos un modelo\n",
    "model = LogisticRegression(solver='lbfgs')\n",
    "model.fit(trainX, trainy)\n",
    "\n",
    "# Predecir probabilidad \n",
    "\n",
    "lr_probs = model.predict_proba(testX)\n",
    "## Just keep the positive value\n",
    "lr_probs = lr_probs[:, 1]\n",
    "\n",
    "lr_scores = model.predict(testX)\n",
    "\n",
    "# Calcula scores\n",
    "ns_auc = roc_auc_score(testy, ns_probs)\n",
    "lr_auc = roc_auc_score(testy, lr_probs)\n",
    "ns_acc = accuracy_score(testy, ns_probs)\n",
    "lr_acc = accuracy_score(testy, lr_scores)\n",
    "\n",
    "\n",
    "#  Sumariza scores\n",
    "print('No Skill: ROC AUC=%.3f' % (ns_auc))\n",
    "print('Logistic: ROC AUC=%.3f' % (lr_auc))\n",
    "print('No Skill: Accuracy=%.3f' % (ns_acc))\n",
    "print('Logistic: Accuracy=%.3f' % (lr_acc))\n",
    "\n",
    "# Calcula curvas \n",
    "ns_fpr, ns_tpr, _ = roc_curve(testy, ns_probs)\n",
    "lr_fpr, lr_tpr, _ = roc_curve(testy, lr_probs)\n",
    "\n",
    "pyplot.plot(ns_fpr, ns_tpr, linestyle='--', label='No Skill')\n",
    "pyplot.plot(lr_fpr, lr_tpr, marker='.', label='Logistic')\n",
    "\n",
    "pyplot.xlabel('False Positive Rate')\n",
    "pyplot.ylabel('True Positive Rate')\n",
    "\n",
    "pyplot.legend()\n",
    "\n",
    "pyplot.show()"
   ]
  },
  {
   "cell_type": "markdown",
   "metadata": {},
   "source": [
    "En realidad, para diferentes thresholds, tenderá a asignar todo a False"
   ]
  },
  {
   "cell_type": "code",
   "execution_count": 1064,
   "metadata": {},
   "outputs": [
    {
     "data": {
      "text/plain": [
       "array([False, False, False, False, False, False, False, False, False,\n",
       "       False, False, False, False, False, False, False, False, False,\n",
       "       False, False, False, False, False, False, False, False, False,\n",
       "       False, False, False, False, False, False, False, False, False,\n",
       "       False, False, False, False, False, False, False, False, False,\n",
       "       False, False, False, False, False, False, False, False, False,\n",
       "       False, False, False, False, False, False, False, False, False,\n",
       "       False, False, False, False, False, False, False, False, False,\n",
       "       False, False, False, False, False, False, False, False, False,\n",
       "       False, False, False, False, False, False, False, False, False,\n",
       "       False, False, False, False, False, False, False, False, False,\n",
       "       False, False, False, False, False, False, False, False, False,\n",
       "       False, False, False, False, False, False, False, False, False,\n",
       "       False, False,  True, False, False, False, False, False, False,\n",
       "       False, False, False, False, False, False, False, False, False,\n",
       "       False, False, False, False, False, False, False, False, False,\n",
       "       False, False, False, False, False, False, False, False, False,\n",
       "       False, False, False, False, False, False, False, False, False,\n",
       "       False, False, False, False, False, False, False, False, False,\n",
       "       False, False, False, False, False, False, False, False, False,\n",
       "       False, False, False, False, False, False, False, False, False,\n",
       "       False, False, False, False, False, False, False, False, False,\n",
       "       False, False, False, False,  True, False, False, False, False,\n",
       "       False, False, False, False, False, False, False, False, False,\n",
       "       False, False, False,  True, False, False, False, False, False,\n",
       "       False, False, False, False, False, False, False, False, False,\n",
       "       False, False, False, False, False, False, False, False, False,\n",
       "       False, False, False, False, False, False, False, False, False,\n",
       "       False, False, False, False, False, False, False, False, False,\n",
       "       False, False, False, False, False, False, False, False, False,\n",
       "       False, False, False, False, False, False, False, False, False,\n",
       "       False, False, False, False, False, False, False, False, False,\n",
       "       False, False, False, False, False, False, False, False, False,\n",
       "       False, False, False, False, False, False, False, False, False,\n",
       "       False, False, False, False, False, False, False, False, False,\n",
       "       False, False, False, False, False, False, False, False, False,\n",
       "       False, False, False, False, False, False, False, False, False,\n",
       "       False, False, False, False, False, False, False, False, False,\n",
       "       False, False, False, False, False, False, False, False, False,\n",
       "       False, False, False, False, False, False, False, False, False,\n",
       "       False, False, False, False, False, False, False, False, False,\n",
       "       False, False, False, False, False, False, False, False, False,\n",
       "       False, False, False, False, False, False, False, False, False,\n",
       "       False, False, False, False, False, False, False, False, False,\n",
       "       False, False, False, False, False, False, False, False, False,\n",
       "       False, False, False, False, False, False, False, False, False,\n",
       "       False, False, False, False, False, False, False, False, False,\n",
       "       False, False, False, False, False, False, False, False, False,\n",
       "       False, False, False, False, False, False, False, False, False,\n",
       "       False, False, False, False,  True, False, False, False, False,\n",
       "       False, False, False, False, False, False, False, False, False,\n",
       "       False, False, False, False, False, False, False, False, False,\n",
       "       False, False, False, False, False, False, False, False, False,\n",
       "       False, False, False, False, False, False, False, False, False,\n",
       "       False, False, False, False, False, False, False, False, False,\n",
       "       False, False, False, False, False])"
      ]
     },
     "execution_count": 1064,
     "metadata": {},
     "output_type": "execute_result"
    }
   ],
   "source": [
    "y_pred = (model.predict_proba(testX)[:,1] >= .2).astype(bool)\n",
    "y_pred"
   ]
  },
  {
   "cell_type": "markdown",
   "metadata": {},
   "source": [
    "A grandes rasgos, puede parecer que el modelo es bueno, pero en realidad lo es porque asigna a practicamente todo un valor de 0"
   ]
  },
  {
   "cell_type": "code",
   "execution_count": 1065,
   "metadata": {},
   "outputs": [
    {
     "name": "stdout",
     "output_type": "stream",
     "text": [
      "Logistic: f1=0.000 auc=0.054\n"
     ]
    },
    {
     "data": {
      "image/png": "[encoded data removed]",
      "text/plain": [
       "<Figure size 432x288 with 1 Axes>"
      ]
     },
     "metadata": {
      "needs_background": "light"
     },
     "output_type": "display_data"
    }
   ],
   "source": [
    "# predict class values\n",
    "yhat = model.predict(testX)\n",
    "# calculate precision and recall for each threshold\n",
    "lr_precision, lr_recall, _ = precision_recall_curve(testy, lr_probs)\n",
    "# calculate scores\n",
    "lr_f1, lr_auc = f1_score(testy, yhat), auc(lr_recall, lr_precision)\n",
    "# summarize scores\n",
    "print('Logistic: f1=%.3f auc=%.3f' % (lr_f1, lr_auc))\n",
    "# plot the precision-recall curves\n",
    "no_skill = len(testy[testy==1]) / len(testy)\n",
    "pyplot.plot([0, 1], [no_skill, no_skill], linestyle='--', label='No Skill')\n",
    "pyplot.plot(lr_recall, lr_precision, marker='.', label='Logistic')\n",
    "# axis labels\n",
    "pyplot.xlabel('Recall')\n",
    "pyplot.ylabel('Precision')\n",
    "# show the legend\n",
    "pyplot.legend()\n",
    "# show the plot\n",
    "pyplot.show()"
   ]
  },
  {
   "attachments": {},
   "cell_type": "markdown",
   "metadata": {},
   "source": [
    "Cuando las muestras son desiquilibradas, los resultados de la curva ROC pueden ser engañosos, por eso es mejor usar métricas como Precision Recall Curve y el Average precision\n",
    "\n",
    "![2](https://blog.paperspace.com/content/images/2020/09/Fig04-1.jpg)"
   ]
  },
  {
   "cell_type": "code",
   "execution_count": 1039,
   "metadata": {},
   "outputs": [
    {
     "data": {
      "text/plain": [
       "0.022"
      ]
     },
     "execution_count": 1039,
     "metadata": {},
     "output_type": "execute_result"
    }
   ],
   "source": [
    "from sklearn.metrics import average_precision_score\n",
    "\n",
    "average_precision_score(testy, yhat)"
   ]
  },
  {
   "cell_type": "markdown",
   "metadata": {
    "id": "cunoRzXW9fPf"
   },
   "source": [
    "\n",
    "\n",
    "## Distribuciones muy pegadas"
   ]
  },
  {
   "cell_type": "code",
   "execution_count": 1023,
   "metadata": {
    "id": "2qTfGSu89fPf"
   },
   "outputs": [],
   "source": [
    "total_p = 1000\n",
    "total_n = 1000\n",
    "px = [np.random.normal(13,3) for _ in range(total_p)]\n",
    "nx = [np.random.normal(17,3) for _ in range(total_n)]\n",
    "x = np.concatenate([px,nx])\n",
    "classes = np.concatenate([[\"p\"]*total_p,[\"n\"]*total_n])"
   ]
  },
  {
   "cell_type": "code",
   "execution_count": 1024,
   "metadata": {
    "id": "EvhBRz2D9fPf"
   },
   "outputs": [],
   "source": [
    "lr = LogisticRegression()\n",
    "lr = lr.fit(x.reshape(-1,1),classes)\n",
    "\n",
    "predicted_classes_proba = lr.predict_proba(x.reshape(-1,1))\n",
    "\n",
    "n_proba, p_proba = zip(*predicted_classes_proba)"
   ]
  },
  {
   "cell_type": "code",
   "execution_count": 1025,
   "metadata": {
    "colab": {
     "base_uri": "https://localhost:8080/"
    },
    "id": "jDefgDP69fPg",
    "outputId": "ef1a1cd5-fcbc-4d71-a118-fb57ac43b212"
   },
   "outputs": [],
   "source": [
    "thresholds = np.arange(0,1000,10)[::-1]/1000\n",
    "predictions = [np.array(list(map(lambda x: \"p\" if x else \"n\", p_proba > t_ ))) for t_ in thresholds ]\n",
    "\n",
    "accuracies = [accuracy(classes=classes, predicted=pred_, positive_class=\"p\") \n",
    "                for pred_ in predictions]\n",
    "recalls = [recall(classes=classes, predicted=pred_, positive_class=\"p\") \n",
    "                for pred_ in predictions]\n",
    "precisions = [precision(classes=classes, predicted=pred_, positive_class=\"p\") \n",
    "                for pred_ in predictions]"
   ]
  },
  {
   "cell_type": "code",
   "execution_count": 1026,
   "metadata": {
    "colab": {
     "base_uri": "https://localhost:8080/",
     "height": 281
    },
    "id": "kYfpts609fPg",
    "outputId": "44d06b89-9bcb-4916-9316-aaf4afb14a14"
   },
   "outputs": [
    {
     "data": {
      "image/png": "[encoded data removed]",
      "text/plain": [
       "<Figure size 720x288 with 1 Axes>"
      ]
     },
     "metadata": {
      "needs_background": "light"
     },
     "output_type": "display_data"
    }
   ],
   "source": [
    "plt.figure(figsize=[10,4])\n",
    "plt.xlim([-.1,1.1])\n",
    "plt.ylim([0,1.1])\n",
    "plt.plot(thresholds,accuracies,\"k\")\n",
    "plt.plot(thresholds,recalls,\"red\")\n",
    "plt.plot(thresholds,precisions,\"blue\")\n",
    "plt.legend([\"Accuracy\",\"Recall\",\"Precision\"])\n",
    "plt.xlabel(\"Probability threshold. \")\n",
    "plt.show()"
   ]
  }
 ],
 "metadata": {
  "colab": {
   "name": "Clase_6_Modelos_Lineales_clasificación.ipynb",
   "provenance": [],
   "toc_visible": true
  },
  "kernelspec": {
   "display_name": "Python 3",
   "language": "python",
   "name": "python3"
  },
  "language_info": {
   "codemirror_mode": {
    "name": "ipython",
    "version": 3
   },
   "file_extension": ".py",
   "mimetype": "text/x-python",
   "name": "python",
   "nbconvert_exporter": "python",
   "pygments_lexer": "ipython3",
   "version": "3.8.8"
  }
 },
 "nbformat": 4,
 "nbformat_minor": 1
}
