{
  "nbformat": 4,
  "nbformat_minor": 0,
  "metadata": {
    "kernelspec": {
      "display_name": "Python 3",
      "language": "python",
      "name": "python3"
    },
    "language_info": {
      "codemirror_mode": {
        "name": "ipython",
        "version": 3
      },
      "file_extension": ".py",
      "mimetype": "text/x-python",
      "name": "python",
      "nbconvert_exporter": "python",
      "pygments_lexer": "ipython3",
      "version": "3.7.4"
    },
    "colab": {
      "name": "2b_loops.ipynb",
      "provenance": [],
      "toc_visible": true
    }
  },
  "cells": [
    {
      "cell_type": "markdown",
      "metadata": {
        "id": "UudHoQ4i_zcb"
      },
      "source": [
        "# INTRODUCCIÓN A LA PROGRAMACIÓN CON PYTHON I\n",
        "\n",
        "## Módulo 4 - Loops"
      ]
    },
    {
      "cell_type": "markdown",
      "metadata": {
        "id": "xA0LwNoZ_zch"
      },
      "source": [
        "### Recap\n",
        "- Variables\n",
        "- Tipos de datos\n",
        "- Expresiones (evaluaciones de operaciones, ya sean funcionales o lógicas)\n",
        "- Declaraciones (funcional, asignación, control de flujo)\n",
        "- Listas"
      ]
    },
    {
      "cell_type": "markdown",
      "metadata": {
        "id": "_YQqQv-4_zci"
      },
      "source": [
        "### Bucles de secuencia (nadie dice eso, todo mundo le dice *for loops* o *sequence-based loops*)\n",
        "\n",
        "Un `for` loop va a circular a través de los valores en una lista para hacer algo. Por ejemplo:"
      ]
    },
    {
      "cell_type": "code",
      "metadata": {
        "id": "EnzdYxoN_zci",
        "colab": {
          "base_uri": "https://localhost:8080/"
        },
        "outputId": "d01b1e2b-a466-4f5f-e016-adb9d5ce8f62"
      },
      "source": [
        "for i in [1,2,3,4,5]:    # más adelante ahondaremos en esta estructura de datos que se llama \"lista\"\n",
        "    print(i)             # lo que estamos haciendo es imprimir cada uno de los números en la lista anterior"
      ],
      "execution_count": null,
      "outputs": [
        {
          "output_type": "stream",
          "text": [
            "1\n",
            "2\n",
            "3\n",
            "4\n",
            "5\n"
          ],
          "name": "stdout"
        }
      ]
    },
    {
      "cell_type": "markdown",
      "metadata": {
        "id": "R7rUKzAr_zcj"
      },
      "source": [
        "En general:\n",
        "\n",
        "```\n",
        "for <variable> in <list/sequence/iterable>:\n",
        "    <statements>\n",
        "```\n",
        "\n",
        "Las listas a recorrer para obtener valores pueden tener cualquier tipo de datos: enteros, texto e incluso otros datos más complejos. Veamos algunos ejemplos:"
      ]
    },
    {
      "cell_type": "code",
      "metadata": {
        "id": "18m9Pmn1_zck",
        "colab": {
          "base_uri": "https://localhost:8080/"
        },
        "outputId": "4c68be4a-a26a-4cc1-d794-1cf39dd517b2"
      },
      "source": [
        "# Otro ejemplo: imprimamos la calificación de cada alumna junto con su nombre\n",
        "estudiantes = [\"Jacinta\", \"María\", \"Ana Paula\"]\n",
        "califs = [97, 84, 91]\n",
        "\n",
        "for e, c in zip(estudiantes, califs):   ## Más adelante ahondaremos en zip\n",
        "    print(e, \"obtuvo:\", c)"
      ],
      "execution_count": null,
      "outputs": [
        {
          "output_type": "stream",
          "text": [
            "Jacinta obtuvo: 97\n",
            "María obtuvo: 84\n",
            "Ana Paula obtuvo: 91\n"
          ],
          "name": "stdout"
        }
      ]
    },
    {
      "cell_type": "markdown",
      "metadata": {
        "id": "dcatX9Tr_zck"
      },
      "source": [
        "Con las calificaciones anteriores, cómo sacaríamos el promedio del grupo?"
      ]
    },
    {
      "cell_type": "code",
      "metadata": {
        "id": "WpBzwPWK_zck",
        "colab": {
          "base_uri": "https://localhost:8080/"
        },
        "outputId": "43e94799-b2d2-4cc1-ef7c-a0e65ecc9f83"
      },
      "source": [
        "califs = [97, 84, 91]\n",
        "prom = 0\n",
        "count = 0\n",
        "\n",
        "for c in califs:\n",
        "    prom += c\n",
        "    count += 1\n",
        "    print(\"alumna:\", count, \"calif:\", c, \"suma:\", prom)\n",
        "\n",
        "\n",
        "print(\"Promedio:\", prom/count)"
      ],
      "execution_count": null,
      "outputs": [
        {
          "output_type": "stream",
          "text": [
            "alumna: 1 calif: 97 suma: 97\n",
            "alumna: 2 calif: 84 suma: 181\n",
            "alumna: 3 calif: 91 suma: 272\n",
            "Promedio: 90.66666666666667\n"
          ],
          "name": "stdout"
        }
      ]
    },
    {
      "cell_type": "code",
      "metadata": {
        "colab": {
          "base_uri": "https://localhost:8080/"
        },
        "id": "S2aho65IsQls",
        "outputId": "6c9697c0-c2c5-4712-d064-e1adc4cf6b7c"
      },
      "source": [
        "sum(califs) / len(califs)"
      ],
      "execution_count": null,
      "outputs": [
        {
          "output_type": "execute_result",
          "data": {
            "text/plain": [
              "90.66666666666667"
            ]
          },
          "metadata": {
            "tags": []
          },
          "execution_count": 15
        }
      ]
    },
    {
      "cell_type": "markdown",
      "metadata": {
        "id": "8pbzgMkF_zck"
      },
      "source": [
        "Paso por paso, ¿qué está pasando?\n",
        "1. Para cada calificación, estamos sumando los valores en una variable `prom`\n",
        "2. Para poder saber cuántas calificaciones hay, definimos una variable \"contadora\": `count`\n",
        "3. El loop circula a través de toda la lista, sumando los valores en `prom` y contando el número de calificaciones en  `count`. Al final dividimos la suma de calificaciones entre el número de calificaciones para obtener el promedio."
      ]
    },
    {
      "cell_type": "code",
      "metadata": {
        "id": "nkHHE9lA_zcl",
        "colab": {
          "base_uri": "https://localhost:8080/"
        },
        "outputId": "32585ad9-af88-4dea-897f-a424431ce046"
      },
      "source": [
        "## Supongamos que queremos sacar el promedio de las alumnas que sacaron 90 o más:\n",
        "califs = [97, 84, 91, 91, 85, 89, 76]\n",
        "prom = 0\n",
        "count = 0\n",
        "\n",
        "for c in califs:\n",
        "    if c >= 90:\n",
        "        prom += c\n",
        "        count += 1\n",
        "    print(\"alumna:\", count, \"calif:\", c, \"suma:\", prom)\n",
        "\n",
        "print(\"Promedio:\", prom/count)"
      ],
      "execution_count": null,
      "outputs": [
        {
          "output_type": "stream",
          "text": [
            "alumna: 1 calif: 97 suma: 97\n",
            "alumna: 1 calif: 84 suma: 97\n",
            "alumna: 2 calif: 91 suma: 188\n",
            "alumna: 3 calif: 91 suma: 279\n",
            "alumna: 3 calif: 85 suma: 279\n",
            "alumna: 3 calif: 89 suma: 279\n",
            "alumna: 3 calif: 76 suma: 279\n",
            "Promedio: 93.0\n"
          ],
          "name": "stdout"
        }
      ]
    },
    {
      "cell_type": "markdown",
      "metadata": {
        "id": "Gf3qJhhf_zcl"
      },
      "source": [
        "OMAIGAD, ¿qué fue eso? Metimos un `if` adentro de un `for`. De esta manera, podemos circular a través de toda la lista y tomar sólo aquellas calificaciones que son mayores a 90 (el valor que queremos). Noten cómo solo deberíamos sumar y contar las calificacions si cumplen esa condición.\n",
        "\n",
        "¿Pero qué hicimos mal? Este es un ejemplo donde la indentación es muy importante! No solo la suma de las calificaciones debe estar adentro del `if`, sino también la cuenta de calificaciones."
      ]
    },
    {
      "cell_type": "code",
      "metadata": {
        "id": "vSA2kPEo_zcl",
        "outputId": "8bf601f0-9602-476a-f8d0-82fc809c83c0"
      },
      "source": [
        "## Esta es la indentación correcta:\n",
        "califs = [97, 84, 91, 91, 85, 89, 76]\n",
        "prom = 0\n",
        "count = 0\n",
        "\n",
        "for c in califs:\n",
        "    if c >= 90:\n",
        "        prom += c\n",
        "        count += 1\n",
        "        print(\"alumna:\", count, \"calif:\", c, \"suma:\", prom)\n",
        "\n",
        "print(\"Promedio:\", prom/count)"
      ],
      "execution_count": null,
      "outputs": [
        {
          "output_type": "stream",
          "text": [
            "alumna: 1 calif: 97 suma: 97\n",
            "alumna: 2 calif: 91 suma: 188\n",
            "alumna: 3 calif: 91 suma: 279\n",
            "Promedio: 93.0\n"
          ],
          "name": "stdout"
        }
      ]
    },
    {
      "cell_type": "markdown",
      "metadata": {
        "id": "7Y6tD-Uh_zcl"
      },
      "source": [
        "#### Ejercicio\n",
        "Supongamos que una AFORE está considerando cobrar una comisión anual por el total de dinero invertido. ¿Cuánto podría recaudar la AFORE a distintos niveles de comisiones para los siguientes clientes?\n",
        "\n",
        "Comisiones a evaluar: `0.5%`, `0.75%`, `1.25%`"
      ]
    },
    {
      "cell_type": "code",
      "metadata": {
        "id": "2yCRvNZV_zcm"
      },
      "source": [
        "total_inv = [90.5, 129.1, 359.2, 12.2, 15.5, 4.9, 19.1, 2.5, 188.4]\n",
        "fees = [0.005, 0.0075, 0.0125]"
      ],
      "execution_count": null,
      "outputs": []
    },
    {
      "cell_type": "markdown",
      "metadata": {
        "id": "2FKeVYYe_zcm"
      },
      "source": [
        "¿Cómo haríamos este ejercicio para sólo una comisión?"
      ]
    },
    {
      "cell_type": "code",
      "metadata": {
        "id": "awBmXp8k_zcm",
        "colab": {
          "base_uri": "https://localhost:8080/"
        },
        "outputId": "32c8304f-535f-4753-c658-b86005a87354"
      },
      "source": [
        "fee = 0.005    # Empecemos con el 0.5%\n",
        "\n",
        "total_fees = 0              # Inicializamos un acumulador en cero\n",
        "for t in total_inv:\n",
        "    total_fees += fee*t       # Para cada inversión, sumamos al acumulador el valor de la comisión f*t\n",
        "print(\"Total fees at a rate of\", fee, \"are\", total_fees)\n",
        "\n",
        "fee = 0.0075   # Empecemos con el 0.5%\n",
        "\n",
        "total_fees = 0              # Inicializamos un acumulador en cero\n",
        "for t in total_inv:\n",
        "    total_fees += fee*t       # Para cada inversión, sumamos al acumulador el valor de la comisión f*t\n",
        "print(\"Total fees at a rate of\", fee, \"are\", total_fees)\n",
        "\n",
        "fee = 0.0125    # Empecemos con el 0.5%\n",
        "\n",
        "total_fees = 0              # Inicializamos un acumulador en cero\n",
        "for t in total_inv:\n",
        "    total_fees += fee*t       # Para cada inversión, sumamos al acumulador el valor de la comisión f*t\n",
        "print(\"Total fees at a rate of\", fee, \"are\", total_fees)"
      ],
      "execution_count": null,
      "outputs": [
        {
          "output_type": "stream",
          "text": [
            "Total fees at a rate of 0.005 are 4.107\n",
            "Total fees at a rate of 0.0075 are 6.160499999999999\n",
            "Total fees at a rate of 0.0125 are 10.2675\n"
          ],
          "name": "stdout"
        }
      ]
    },
    {
      "cell_type": "markdown",
      "metadata": {
        "id": "8KRw5JoE_zcm"
      },
      "source": [
        "Ahora, podemos reciclar este mismo trozo de código para obtener el mismo cálculo para las otras dos comisiones. Una línea extra de código es todo lo necesario obtener lo que queremos."
      ]
    },
    {
      "cell_type": "code",
      "metadata": {
        "id": "xLo8kPtQ_zcn",
        "colab": {
          "base_uri": "https://localhost:8080/"
        },
        "outputId": "f9414d69-a035-4ce7-fb29-b11c9c0a5149"
      },
      "source": [
        "total_inv = [90.5, 129.1, 359.2, 12.2, 15.5, 4.9, 19.1, 2.5, 188.4]\n",
        "fees = [0.005, 0.0075, 0.0125]\n",
        "for f in fees:\n",
        "    total_fees = 0\n",
        "    for t in total_inv:\n",
        "        total_fees += f*t\n",
        "    print(\"Total fees at a rate of\", f, \"are\", total_fees)"
      ],
      "execution_count": null,
      "outputs": [
        {
          "output_type": "stream",
          "text": [
            "Total fees at a rate of 0.005 are 4.107\n",
            "Total fees at a rate of 0.0075 are 6.160499999999999\n",
            "Total fees at a rate of 0.0125 are 10.2675\n"
          ],
          "name": "stdout"
        }
      ]
    },
    {
      "cell_type": "markdown",
      "metadata": {
        "id": "AL-_JZoP_zcn"
      },
      "source": [
        "Oops, ¿qué pasó? Algo mal hicimos porque estamos obteniendo 3 veces el mismo resultado. Vamos paso por paso:\n",
        "\n",
        "1. Para la primera comisión `f` en la lista `fees`:\n",
        "2. Inicializa en 0 el contador `total_fees` que acumulará el total de comisiones a cobrar a dicha tasa\n",
        "3. Luego, para cada `t` en la lista con inversiones `total_inv`:\n",
        "4. Sumar a la variable `total_fees` el valor de `fee` multiplicado por la inversión `t` <span style=\"color:red\">**!!!!!!**</span>\n",
        "\n",
        "Se nos olvidó cambiar el nombre de `fee` por la `f` que usamos en el loop. Mucho ojo con renombrar las variables cuando reciclamos código. Un error muy común, sobre todo cuando se trabaja con cuadernos jupyter, es no cambiar las variables o reutilizar los mismos nombres y esto puede tener efectos muy indeseables.\n",
        "\n",
        "Ahora sí, corrigiendo `fee` por `f`:"
      ]
    },
    {
      "cell_type": "code",
      "metadata": {
        "id": "TXZzmhxu_zcn",
        "colab": {
          "base_uri": "https://localhost:8080/"
        },
        "outputId": "7e9a5b89-2d69-462d-c37d-59ce2ba3b9dc"
      },
      "source": [
        "for f in fees:\n",
        "    total_fees = 0\n",
        "    for t in total_inv:\n",
        "        total_fees =+ f*t\n",
        "    print(\"Total fees at a rate of\", f, \"are\", total_fees)"
      ],
      "execution_count": null,
      "outputs": [
        {
          "output_type": "stream",
          "text": [
            "Total fees at a rate of 0.005 are 0.9420000000000001\n",
            "Total fees at a rate of 0.0075 are 1.413\n",
            "Total fees at a rate of 0.0125 are 2.355\n"
          ],
          "name": "stdout"
        }
      ]
    },
    {
      "cell_type": "markdown",
      "metadata": {
        "id": "mufe_2FJ_zcn"
      },
      "source": [
        "¿Qué hicimos? Un `nested loop`, o sea, un loop adentro de un loop. Esta es una forma de poder repetir una misma operación (p.ej. obtener la comisión total) para un conjunto de datos (todos los clientes). \n",
        "\n",
        "Vamos paso por paso:\n",
        "1. Para la primera comisión `f` en la lista `fees`:\n",
        "2. Inicializa el contador `total_fees` que acumulará el total de comisiones a cobrar a dicha tasa\n",
        "3. Luego, para cada `t` en la lista con inversiones `total_inv`:\n",
        "4. Sumar a la variable `total_fees` el valor de `f` multiplicado por la inversión `t`\n",
        "5. Imprime el valor total de las comisiones a cobrar `total_fees` a la tasa `f`\n",
        "6. Repetir con las comisiones subsecuentes\n",
        "\n",
        "\n",
        "Este ejercicio de regresar a nuestro código y ver paso a paso qué estábamos haciendo para encontrar el error se le conoce como **debugging**. En programación, a los errores en el código se les conoce como `bugs`, y el acto de corregir esos errores se llama `debugging`. Normalmente, el debugging no es un proceso corto, feliz, o agradable, pero es necesario para que nuestro código haga lo que queremos que haga. \n",
        "\n",
        "A medida que vamos escribiendo código, es importante probar que los scripts que hacemos efectivamente hacen lo que queremos. De lo contrario, si encontramos un error después de escribir 100 líneas de código, será mucho más difícil encontrar dónde está el error.\n",
        "\n",
        "\n",
        "#### Ejercicio \n",
        "Supongamos ahora que la AFORE quiere cobrar al menos $1 de comisión para cada cliente. Vuelve a calcular cuánto recaudaría la AFORE para los 3 niveles de comisión mencionados al principio del ejercicio."
      ]
    },
    {
      "cell_type": "code",
      "metadata": {
        "id": "M9UxWzl1_zco",
        "colab": {
          "base_uri": "https://localhost:8080/"
        },
        "outputId": "9be3acbc-39f1-4ce2-a10d-c8311a58d2ab"
      },
      "source": [
        "for f in fees:\n",
        "    total_fees = 0\n",
        "    for t in total_inv:\n",
        "        fee = f*t               # ¿por qué escribo esto aquí?\n",
        "        if fee < 1:\n",
        "            total_fees += 1\n",
        "        else:                     # ¿por qué else? ¿por qué no elif?\n",
        "            total_fees += fee\n",
        "    print(\"Total fees at a rate of\", f, \"are\", total_fees)"
      ],
      "execution_count": null,
      "outputs": [
        {
          "output_type": "stream",
          "text": [
            "Total fees at a rate of 0.005 are 9.796\n",
            "Total fees at a rate of 0.0075 are 11.107\n",
            "Total fees at a rate of 0.0125 are 14.59\n"
          ],
          "name": "stdout"
        }
      ]
    },
    {
      "cell_type": "code",
      "metadata": {
        "colab": {
          "base_uri": "https://localhost:8080/"
        },
        "id": "POTH2ytjv0Ro",
        "outputId": "82580420-5ec9-48a7-885e-702299fb4105"
      },
      "source": [
        "import numpy\n",
        "for f in fees:\n",
        "    total_fees = 0\n",
        "    for t in total_inv:\n",
        "        fee = f*t                 # ¿por qué escribo esto aquí?\n",
        "        min_value = np.max([1, fee])\n",
        "        total_fees =+ min_value\n",
        "    print(\"Total fees at a rate of\", f, \"are\", total_fees)"
      ],
      "execution_count": null,
      "outputs": [
        {
          "output_type": "stream",
          "text": [
            "Total fees at a rate of 0.005 are 1.0\n",
            "Total fees at a rate of 0.0075 are 1.413\n",
            "Total fees at a rate of 0.0125 are 2.355\n"
          ],
          "name": "stdout"
        }
      ]
    },
    {
      "cell_type": "markdown",
      "metadata": {
        "id": "YZoq3QfS_zco"
      },
      "source": [
        "Esto fue muy similar al ejercicio de las calificaciones. Si la inversión es menor a 1, le añadimos el 1 por default; de lo contrario, añadimos el valor que corresponde (que naturalmente sería mayor a 1)."
      ]
    },
    {
      "cell_type": "markdown",
      "metadata": {
        "id": "s3ABkaYQ_zco"
      },
      "source": [
        "#### Ejercicio\n",
        "Supongamos que los usuarios no están dispuestos a aceptar ninguna comisión que reduzca el 1% o más de su inversión. Si la comisión redujera en 1% o más la riqueza del usuario, dicho usuario se cambiaría de AFORE inmediatamente antes de que la AFORE pudiera empezar a cobrar por sus servicios. \n",
        "\n",
        "La AFORE sigue queriendo cobrar al menos $1 de comisión para cada cliente. Vuelve a calcular cuánto recaudaría la AFORE para los 3 niveles de comisión mencionados al principio del ejercicio.¿Cuánto podría recaudar la AFORE con esta estructura? "
      ]
    },
    {
      "cell_type": "code",
      "metadata": {
        "id": "-wKWIaKW_zco",
        "colab": {
          "base_uri": "https://localhost:8080/"
        },
        "outputId": "b9045cbb-2dfa-4600-80db-266f75b85149"
      },
      "source": [
        "for f in fees:\n",
        "    total_fees = 0\n",
        "    for t in total_inv:\n",
        "        fee = f*t\n",
        "        max_fee = 0.01 * t    # 1% del valor total de la inversión\n",
        "        \n",
        "        if fee < 1:\n",
        "            if 1 < max_fee:\n",
        "                total_fees += 1   \n",
        "            else:                 # acaso necesitamos este else aquí?\n",
        "                total_fees += 0\n",
        "        else:\n",
        "            if fee < max_fee:\n",
        "                total_fees += fee\n",
        "            else:                 # misma pregunta que arriba\n",
        "                total_fees += 0\n",
        "    print(\"Total fees at a rate of\", f, \"are\", total_fees)"
      ],
      "execution_count": null,
      "outputs": [
        {
          "output_type": "stream",
          "text": [
            "Total fees at a rate of 0.005 are 3.7960000000000003\n",
            "Total fees at a rate of 0.0075 are 5.107\n",
            "Total fees at a rate of 0.0125 are 0\n"
          ],
          "name": "stdout"
        }
      ]
    },
    {
      "cell_type": "markdown",
      "metadata": {
        "id": "Ls1kzMv1_zcp"
      },
      "source": [
        "En el ejemplo anterior, cuando el fee a cobrar es mayor al max fee, en realidad no queremos sumar nada a nuestro acumulador. En esos casos, simplemente queremos seguir al próximo valor de la inversión de los clientes. \n",
        "\n",
        "Para lograrlo tenemos algunas alternativas. La primera es quitar por completo el else, ya que nada necesita suceder en el caso complementario al `if`."
      ]
    },
    {
      "cell_type": "code",
      "metadata": {
        "id": "jkWgYb3v_zcp",
        "outputId": "c20d56c9-53ad-48dd-bf36-9e1eee545b62"
      },
      "source": [
        "for f in fees:\n",
        "    total_fees = 0\n",
        "    for t in total_inv:\n",
        "        fee = f*t\n",
        "        max_fee = 0.01 * t    # 1% del valor total de la inversión\n",
        "        \n",
        "        if fee < 1:\n",
        "            if 1 < max_fee:\n",
        "                total_fees += 1\n",
        "        else:\n",
        "            if fee < max_fee:\n",
        "                total_fees += fee\n",
        "    print(\"Total fees at a rate of\", f, \"are\", total_fees)"
      ],
      "execution_count": null,
      "outputs": [
        {
          "output_type": "stream",
          "text": [
            "Total fees at a rate of 0.005 are 3.7960000000000003\n",
            "Total fees at a rate of 0.0075 are 5.107\n",
            "Total fees at a rate of 0.0125 are 0\n"
          ],
          "name": "stdout"
        }
      ]
    },
    {
      "cell_type": "markdown",
      "metadata": {
        "id": "Ec-jdgHn_zcp"
      },
      "source": [
        "La segunda opción es usar `pass`, una función cuyo trabajo es no hacer nada. Esto puede ser útil para nosotros leer el código y darnos cuenta que ahí no hay nada que hacer. Cuando no estamos completamente seguros que hay que hacer algo, `pass` es una función útil.\n",
        "\n",
        "Sin embargo, `pass` puede ser confusa en el futuro si volvemos a la función y vemos un espacio vacío. Si se usa, debemos usar al menos un comentario que diga por qué no implementamos nada ahí. \n",
        "\n",
        "La mejor solución en este caso sería que, una vez que nos percatamos que no necesitamos un `else`, eliminar esas declaraciones que solo ocupan espacio."
      ]
    },
    {
      "cell_type": "code",
      "metadata": {
        "id": "XdY_29_k_zcq",
        "outputId": "3fbaba77-69a3-4bf1-dabe-c5cc6e648a19"
      },
      "source": [
        "for f in fees:\n",
        "    total_fees = 0\n",
        "    for t in total_inv:\n",
        "        fee = f*t\n",
        "        max_fee = 0.01 * t    # 1% del valor total de la inversión\n",
        "        \n",
        "        if fee < 1:\n",
        "            if 1 < max_fee:\n",
        "                total_fees += 1   \n",
        "            else:                 # podemos usar pass para cuando no queremos que suceda nada\n",
        "                pass              # esto nos es útil si hay comentarios diciendo por qué usamos pass\n",
        "        else:\n",
        "            if fee < max_fee:\n",
        "                total_fees += fee\n",
        "            else:                 \n",
        "                pass\n",
        "    print(\"Total fees at a rate of\", f, \"are\", total_fees)"
      ],
      "execution_count": null,
      "outputs": [
        {
          "output_type": "stream",
          "text": [
            "Total fees at a rate of 0.005 are 3.7960000000000003\n",
            "Total fees at a rate of 0.0075 are 5.107\n",
            "Total fees at a rate of 0.0125 are 0\n"
          ],
          "name": "stdout"
        }
      ]
    },
    {
      "cell_type": "markdown",
      "metadata": {
        "id": "tW6EoCm1_zcq"
      },
      "source": [
        "#### Ejercicio: función `range()`\n",
        "Es común querer hacer loops en un rango de números, para ello hay funciones útiles como range(). Supongamos que queremos calcular cuántos números divisibles entre 3 y 7 hay en los primeros 20 números naturales. ¿Cómo lo hacemos?"
      ]
    },
    {
      "cell_type": "code",
      "metadata": {
        "id": "s-wUu6gH_zcq",
        "colab": {
          "base_uri": "https://localhost:8080/"
        },
        "outputId": "5b835d88-223f-469c-c39c-c0241264c1cb"
      },
      "source": [
        "count = 0\n",
        "\n",
        "for i in range(1, 21):\n",
        "    print(i)\n",
        "    if i % 3 == 0:\n",
        "        print(i, \"divisble by\", 3)\n",
        "        count += 1\n",
        "    elif i % 7 == 0:\n",
        "        print(i, \"divisble by\", 7)\n",
        "        count += 1\n",
        "        \n",
        "print(\"Total of\", count, \"numbers divisible by 3 or 7\")"
      ],
      "execution_count": null,
      "outputs": [
        {
          "output_type": "stream",
          "text": [
            "1\n",
            "2\n",
            "3\n",
            "3 divisble by 3\n",
            "4\n",
            "5\n",
            "6\n",
            "6 divisble by 3\n",
            "7\n",
            "7 divisble by 7\n",
            "8\n",
            "9\n",
            "9 divisble by 3\n",
            "10\n",
            "11\n",
            "12\n",
            "12 divisble by 3\n",
            "13\n",
            "14\n",
            "14 divisble by 7\n",
            "15\n",
            "15 divisble by 3\n",
            "16\n",
            "17\n",
            "18\n",
            "18 divisble by 3\n",
            "19\n",
            "20\n",
            "Total of 8 numbers divisible by 3 or 7\n"
          ],
          "name": "stdout"
        }
      ]
    },
    {
      "cell_type": "markdown",
      "metadata": {
        "id": "rdqdLnqO_zcr"
      },
      "source": [
        "Una forma más sucinta de escribir lo mismo es agrupar ambas condiciones en una misma línea:"
      ]
    },
    {
      "cell_type": "code",
      "metadata": {
        "id": "2LSweRNX_zcr",
        "colab": {
          "base_uri": "https://localhost:8080/"
        },
        "outputId": "1febed4c-cdfd-4653-9d6f-fd704bf50559"
      },
      "source": [
        "count = 0\n",
        "\n",
        "for i in range(1, 21):\n",
        "    if i % 3 == 0 or i % 7 == 0:\n",
        "        count += 1\n",
        "        \n",
        "print(\"Total of\", count, \"numbers divisible by 3 or 7\")"
      ],
      "execution_count": null,
      "outputs": [
        {
          "output_type": "stream",
          "text": [
            "Total of 8 numbers divisible by 3 or 7\n"
          ],
          "name": "stdout"
        }
      ]
    },
    {
      "cell_type": "markdown",
      "metadata": {
        "id": "-c0OKzV__zcr"
      },
      "source": [
        "La función `range`, así como otras funciones en Python, inician en cero. Así que si ponemos `range(3)`, el primer valor que regresará la función es el cero. Además, la función range es NO INCLUSIVA del último valor. Esto quiere decir que si ejecutamos `range(5)`, contaremos hasta el 5, pero sin incluir el 5. Por ejemplo:"
      ]
    },
    {
      "cell_type": "code",
      "metadata": {
        "id": "4NihC5Qb_zcr",
        "colab": {
          "base_uri": "https://localhost:8080/"
        },
        "outputId": "11d8dd33-dcd1-4849-aac0-8cfeb3c8997a"
      },
      "source": [
        "for i in range(5):\n",
        "    print(i)"
      ],
      "execution_count": null,
      "outputs": [
        {
          "output_type": "stream",
          "text": [
            "0\n",
            "1\n",
            "2\n",
            "3\n",
            "4\n"
          ],
          "name": "stdout"
        }
      ]
    },
    {
      "cell_type": "markdown",
      "metadata": {
        "id": "Bs-2XCcT_zcr"
      },
      "source": [
        "Estamos efectivamente obteniendo 5 valores, pero iniciando desde el número cero. \n",
        "\n",
        "¿Cómo haríamos para obtener del 1 al 5 usando la función `range`?"
      ]
    },
    {
      "cell_type": "code",
      "metadata": {
        "id": "N8wfxcn7_zcs",
        "colab": {
          "base_uri": "https://localhost:8080/"
        },
        "outputId": "eceb46de-cbc2-42e2-8622-1bd015873f2e"
      },
      "source": [
        "for i in range(1, 5 + 1):\n",
        "    print(i)"
      ],
      "execution_count": null,
      "outputs": [
        {
          "output_type": "stream",
          "text": [
            "1\n",
            "2\n",
            "3\n",
            "4\n",
            "5\n"
          ],
          "name": "stdout"
        }
      ]
    },
    {
      "cell_type": "markdown",
      "metadata": {
        "id": "bphIVZAO_zcs"
      },
      "source": [
        "#### Ejercicio: `zip`\n",
        "\n",
        "La función `zip` nos va a ayudar a tomar dos listas y en vez de solo usar un valor, poder extraer, en orden, los i-ésimos valores de cada lista proporcionada. \n",
        "\n",
        "Con los siguientes datos, determine cuánto debe pagar de impuestos en la compra. Las tasas de impuestos son:\n",
        "- ropa, 8.25% si cuesta más de $100\n",
        "- muebles, 10.50%\n",
        "- comida, no paga impuestos"
      ]
    },
    {
      "cell_type": "code",
      "metadata": {
        "id": "iCNcxI8o_zcs"
      },
      "source": [
        "## Ejercicio 1\n",
        "items = ['ropa', 'ropa', 'ropa', 'muebles', 'comida', 'ropa', 'comida']\n",
        "precios = [12.99, 24.99, 19.99, 159.99, 35.84, 119.99, 23.98]\n",
        "marcas = [\"f\", \"s\", \"r\", \"t\", \"b\", \"g\"]"
      ],
      "execution_count": null,
      "outputs": []
    },
    {
      "cell_type": "code",
      "metadata": {
        "colab": {
          "base_uri": "https://localhost:8080/"
        },
        "id": "pPSnMKlT1EyK",
        "outputId": "21ac7b3e-5b47-47ff-ee8f-1c9cf7194a6f"
      },
      "source": [
        "list(zip(items, precios, marcas))"
      ],
      "execution_count": null,
      "outputs": [
        {
          "output_type": "execute_result",
          "data": {
            "text/plain": [
              "[('ropa', 12.99, 'f'),\n",
              " ('ropa', 24.99, 's'),\n",
              " ('ropa', 19.99, 'r'),\n",
              " ('muebles', 159.99, 't'),\n",
              " ('comida', 35.84, 'b'),\n",
              " ('ropa', 119.99, 'g')]"
            ]
          },
          "metadata": {
            "tags": []
          },
          "execution_count": 61
        }
      ]
    },
    {
      "cell_type": "code",
      "metadata": {
        "colab": {
          "base_uri": "https://localhost:8080/"
        },
        "id": "AkqHDB7p0zAQ",
        "outputId": "ea3a59fc-9e25-4cfd-f251-e4beb17a1995"
      },
      "source": [
        "list(zip(items, precios))[3][1]"
      ],
      "execution_count": null,
      "outputs": [
        {
          "output_type": "execute_result",
          "data": {
            "text/plain": [
              "159.99"
            ]
          },
          "metadata": {
            "tags": []
          },
          "execution_count": 59
        }
      ]
    },
    {
      "cell_type": "code",
      "metadata": {
        "id": "zCdT8__A_zcs",
        "colab": {
          "base_uri": "https://localhost:8080/"
        },
        "outputId": "64954178-feaa-42b6-95cf-1e96fb208c1f"
      },
      "source": [
        "impuesto = 0\n",
        "tx_ropa = 0.00825\n",
        "tx_mueb = 0.1050\n",
        "\n",
        "for item, precio in zip(items, precios):\n",
        "    if item == 'ropa' and precio > 100:\n",
        "        impuesto += precio*tx_ropa\n",
        "    elif item == 'muebles':\n",
        "        impuesto += precio*tx_mueb\n",
        "    \n",
        "print(impuesto)"
      ],
      "execution_count": null,
      "outputs": [
        {
          "output_type": "stream",
          "text": [
            "17.788867500000002\n"
          ],
          "name": "stdout"
        }
      ]
    },
    {
      "cell_type": "code",
      "metadata": {
        "colab": {
          "base_uri": "https://localhost:8080/"
        },
        "id": "DUPgTFp_x7HI",
        "outputId": "6b41b370-fa0d-44bf-e0de-ca2e015f79c6"
      },
      "source": [
        "\n",
        "for item, precio, marca in zip(items, precios, marcas):\n",
        "  print(item, precio, marca)"
      ],
      "execution_count": null,
      "outputs": [
        {
          "output_type": "stream",
          "text": [
            "ropa 12.99 f\n",
            "ropa 24.99 s\n",
            "ropa 19.99 r\n",
            "muebles 159.99 t\n",
            "comida 35.84 b\n",
            "ropa 119.99 g\n"
          ],
          "name": "stdout"
        }
      ]
    },
    {
      "cell_type": "markdown",
      "metadata": {
        "id": "rLLUHuJe_zcs"
      },
      "source": [
        "Repite el mismo ejercicio añadiendo las siguientes condiciones:\n",
        "    - ropa para 5% si cuesta $100 o menos\n",
        "    - todos los demás artículos pagan el 1% de impuesto"
      ]
    },
    {
      "cell_type": "markdown",
      "metadata": {
        "id": "CxyN8JiA_zcs"
      },
      "source": [
        "#### Ejercicio: `break`\n",
        "Supongamos que queremos identificar el primer número que sea divisible entre 3 y 7."
      ]
    },
    {
      "cell_type": "code",
      "metadata": {
        "id": "-JdYvk0W_zct",
        "colab": {
          "base_uri": "https://localhost:8080/"
        },
        "outputId": "0048e7a1-d51c-4225-9e54-c673fecbc875"
      },
      "source": [
        "n = 0\n",
        "for i in range(1, 100):\n",
        "    if i % 3 == 0 and i % 7 == 0:\n",
        "        print(i, \"divisible by 3 and 7\")\n",
        "        n += 1\n",
        "        if n == 2:\n",
        "          break"
      ],
      "execution_count": null,
      "outputs": [
        {
          "output_type": "stream",
          "text": [
            "21 divisible by 3 and 7\n",
            "42 divisible by 3 and 7\n"
          ],
          "name": "stdout"
        }
      ]
    },
    {
      "cell_type": "markdown",
      "metadata": {
        "id": "gzx2KYI1_zct"
      },
      "source": [
        "La función `break` interrumpe un loop cuando es ejecutado.  En este caso, cuando llegamos a un número que cumplió la condición que estábamos buscando, ejecutamos `break` para dejar de circular a través del resto de los valores de `range`. \n",
        "\n",
        "No sólo es una función conveniente, sino que también es eficiente. Esta operación pudo haber tardado casi 5 veces más si no hubiéramos usado `break` (nos detuvimos en el 21, en vez de tener que recorrer hasta el 99). La **eficiencia** es algo de lo que casi no nos hemos ocupado hasta ahora, pero es importante considerarla. Pronto veremos ejemplos donde nos daremos cuenta de lo importante que es pensar en la eficiencia de nuestras implementaciones."
      ]
    },
    {
      "cell_type": "markdown",
      "metadata": {
        "id": "ggJsAUG5_zct"
      },
      "source": [
        "### Bucles condicionales (así se dice en español, pero se les conoce como *while loops* o *condition-based loops*)\n",
        "\n",
        "Los `while loops` son similares a los `for loops` en el sentido de que también repetirán un bloque de código. La diferencia es que los `while` se ejecutan mientras una condición sea verdadera/se esté cumpliendo, en contraste a los `for` que se ejecutan solo para una lista de valores. \n",
        "\n",
        "En general:\n",
        "\n",
        "```\n",
        "while <boolean>:\n",
        "    <statements>\n",
        "```\n",
        "\n",
        "Retomemos el ejemplo que acabamos de revisar con `break`. Esta misma solución la podemos reescribir usando un `while loop`:"
      ]
    },
    {
      "cell_type": "code",
      "metadata": {
        "id": "S7JvkXpB_zct",
        "colab": {
          "base_uri": "https://localhost:8080/"
        },
        "outputId": "339f98e2-434e-42cc-a434-408a78554bb3"
      },
      "source": [
        "i = 1\n",
        "\n",
        "while not (i % 3 == 0 and i % 7 == 0):\n",
        "    print(i)   # while True hará que lo que está dentro del loop se ejecute\n",
        "    i += 1\n",
        "\n",
        "print(i, \"divisible by 3 and 7\")"
      ],
      "execution_count": null,
      "outputs": [
        {
          "output_type": "stream",
          "text": [
            "1 divisible by 3 and 7\n"
          ],
          "name": "stdout"
        }
      ]
    },
    {
      "cell_type": "markdown",
      "metadata": {
        "id": "_9uZ1Rur_zcu"
      },
      "source": [
        "Ese recordatorio de lógica de la primera clase nos resulta muy útil para este tipo de loops. Mientras no se cumpla una condición, en este caso que un número sea divisible entre 3 y entre 7), aumenta el valor de i (para poder evaluar el siguiente número). Una vez que llegamos al número 21:\n",
        "\n",
        "```\n",
        "while not (True)\n",
        "```\n",
        "\n",
        "se evaluará como \n",
        "\n",
        "```\n",
        "while False\n",
        "```\n",
        "\n",
        "Si recuerdan, not True -> False.\n",
        "\n",
        "Entonces, al evaluar un Falso, el `while` se detiene.\n",
        "\n",
        "\n",
        "Los `while` loops son un poco delicados, ya que podemos caer en lo que se conoce como un loop infinito. A veces escribimos cosas que creemos son correctas, pero que harán que el while nunca deje de correr. \n",
        "\n",
        "Se sugiere tener `print()` statements cuando se usen whiles o tratar de escribir lo mismo con un `for` loop. Casi siempre se puede escribir lo mismo con un `for` y un break. Casi."
      ]
    },
    {
      "cell_type": "code",
      "metadata": {
        "id": "XmazhKse_zcu"
      },
      "source": [
        "## Ejemplo\n",
        "i = 0\n",
        "while not (i % 3 == 0 and i % 7 == 0):\n",
        "  # while True hará que lo que está dentro del loop se ejecute\n",
        "    i += 1\n",
        "    print(i) "
      ],
      "execution_count": null,
      "outputs": []
    },
    {
      "cell_type": "code",
      "metadata": {
        "id": "nY_f3_fF_zcu",
        "outputId": "b607d7c0-b634-44f1-aae2-2657733adb9a"
      },
      "source": [
        "print(i, \"divisible by 3 and 7\")  # Nunca nos movimos del 0 porque se nos olvidó añadirle 1 a i"
      ],
      "execution_count": null,
      "outputs": [
        {
          "output_type": "stream",
          "text": [
            "0 divisible by 3 and 7\n"
          ],
          "name": "stdout"
        }
      ]
    },
    {
      "cell_type": "markdown",
      "metadata": {
        "id": "dtYqHrJ8VDDw"
      },
      "source": [
        "## Ejercicios"
      ]
    },
    {
      "cell_type": "markdown",
      "metadata": {
        "id": "20BlGlsorGEl"
      },
      "source": [
        "## Sortear una lista"
      ]
    },
    {
      "cell_type": "code",
      "metadata": {
        "id": "G-dQfBqT1n_G"
      },
      "source": [
        "l = [-5, -23, 5, 0, 23, -6, 23, 67]"
      ],
      "execution_count": null,
      "outputs": []
    },
    {
      "cell_type": "markdown",
      "metadata": {
        "id": "xsa6jYQ5rGEm"
      },
      "source": [
        "### Ejercicios "
      ]
    },
    {
      "cell_type": "markdown",
      "metadata": {
        "id": "JaKFY_wUrGEm"
      },
      "source": [
        "Crea una función que ordene una lista\n",
        "\n",
        "Pistas: \n",
        "1. Puedes usar dos loops\n",
        "2. Puedes crear una nueva lista\n",
        "3. Puedes usar append y remove"
      ]
    },
    {
      "cell_type": "code",
      "metadata": {
        "id": "tK18hmk_rGEn",
        "colab": {
          "base_uri": "https://localhost:8080/"
        },
        "outputId": "1d87d79c-618a-4b4c-e6ed-73184bd31a78"
      },
      "source": [
        "l = [-5, -23, 5, 0, 23, -6, 23, 67]\n",
        "\n",
        "def sort_list(data_list):\n",
        "    \n",
        "    new_list = []\n",
        "    print(data_list)\n",
        "    print(new_list)\n",
        "    while data_list:\n",
        "        print(\"#### ITERATION ####\")\n",
        "        minimum = data_list[0]  # arbitrary number in list \n",
        "        for x in data_list: \n",
        "            if x < minimum:\n",
        "                minimum = x\n",
        "        print(minimum)\n",
        "        new_list.append(minimum)\n",
        "        data_list.remove(minimum)  \n",
        "        print(new_list)\n",
        "        print(data_list)  \n",
        "\n",
        "    return new_list\n",
        "\n",
        "sort_list(l)"
      ],
      "execution_count": null,
      "outputs": [
        {
          "output_type": "stream",
          "text": [
            "[-5, -23, 5, 0, 23, -6, 23, 67]\n",
            "[]\n",
            "#### ITERATION ####\n",
            "-23\n",
            "[-23]\n",
            "[-5, 5, 0, 23, -6, 23, 67]\n",
            "#### ITERATION ####\n",
            "-6\n",
            "[-23, -6]\n",
            "[-5, 5, 0, 23, 23, 67]\n",
            "#### ITERATION ####\n",
            "-5\n",
            "[-23, -6, -5]\n",
            "[5, 0, 23, 23, 67]\n",
            "#### ITERATION ####\n",
            "0\n",
            "[-23, -6, -5, 0]\n",
            "[5, 23, 23, 67]\n",
            "#### ITERATION ####\n",
            "5\n",
            "[-23, -6, -5, 0, 5]\n",
            "[23, 23, 67]\n",
            "#### ITERATION ####\n",
            "23\n",
            "[-23, -6, -5, 0, 5, 23]\n",
            "[23, 67]\n",
            "#### ITERATION ####\n",
            "23\n",
            "[-23, -6, -5, 0, 5, 23, 23]\n",
            "[67]\n",
            "#### ITERATION ####\n",
            "67\n",
            "[-23, -6, -5, 0, 5, 23, 23, 67]\n",
            "[]\n"
          ],
          "name": "stdout"
        },
        {
          "output_type": "execute_result",
          "data": {
            "text/plain": [
              "[-23, -6, -5, 0, 5, 23, 23, 67]"
            ]
          },
          "metadata": {
            "tags": []
          },
          "execution_count": 3
        }
      ]
    },
    {
      "cell_type": "code",
      "metadata": {
        "colab": {
          "base_uri": "https://localhost:8080/"
        },
        "id": "GU4UY9ZO9gwk",
        "outputId": "d533eeb3-ee72-42f3-8764-2e1664d02523"
      },
      "source": [
        "l = [-5, -23, 5, 0, 23, -6, 23, 67]\n",
        "l"
      ],
      "execution_count": null,
      "outputs": [
        {
          "output_type": "execute_result",
          "data": {
            "text/plain": [
              "[-5, -23, 5, 0, 23, -6, 23, 67]"
            ]
          },
          "metadata": {
            "tags": []
          },
          "execution_count": 18
        }
      ]
    },
    {
      "cell_type": "code",
      "metadata": {
        "id": "lZwlm98N5bh9"
      },
      "source": [
        "l[1], l[4] = l[4], l[1]"
      ],
      "execution_count": null,
      "outputs": []
    },
    {
      "cell_type": "code",
      "metadata": {
        "colab": {
          "base_uri": "https://localhost:8080/"
        },
        "id": "trXYS09k94u6",
        "outputId": "08b339e0-1465-4b57-93fb-b70aa98dc665"
      },
      "source": [
        "l"
      ],
      "execution_count": null,
      "outputs": [
        {
          "output_type": "execute_result",
          "data": {
            "text/plain": [
              "[-5, 23, 5, 0, -23, -6, 23, 67]"
            ]
          },
          "metadata": {
            "tags": []
          },
          "execution_count": 20
        }
      ]
    },
    {
      "cell_type": "code",
      "metadata": {
        "id": "23UqmCqBrGEq",
        "colab": {
          "base_uri": "https://localhost:8080/"
        },
        "outputId": "e9df4d61-269c-4c2f-eb53-faa8fc636aca"
      },
      "source": [
        "l = [-5, -23, 5, 0, 23, -6, 23, 67]\n",
        "def sort_list2(l):\n",
        "\n",
        "    for i in range(len(l)):\n",
        "        print(\"### Iteraction \" + str(i))\n",
        "        print(l[i])\n",
        "        for j in range(i + 1, len(l)):\n",
        "            print(l[j])\n",
        "            if l[i] > l[j]:\n",
        "               print(l)\n",
        "               l[i], l[j] = l[j], l[i]\n",
        "               print(l)\n",
        "\n",
        "    return l\n",
        "\n",
        "sort_list2(l)"
      ],
      "execution_count": null,
      "outputs": [
        {
          "output_type": "stream",
          "text": [
            "### Iteraction 0\n",
            "-5\n",
            "-23\n",
            "[-5, -23, 5, 0, 23, -6, 23, 67]\n",
            "[-23, -5, 5, 0, 23, -6, 23, 67]\n",
            "5\n",
            "0\n",
            "23\n",
            "-6\n",
            "23\n",
            "67\n",
            "### Iteraction 1\n",
            "-5\n",
            "5\n",
            "0\n",
            "23\n",
            "-6\n",
            "[-23, -5, 5, 0, 23, -6, 23, 67]\n",
            "[-23, -6, 5, 0, 23, -5, 23, 67]\n",
            "23\n",
            "67\n",
            "### Iteraction 2\n",
            "5\n",
            "0\n",
            "[-23, -6, 5, 0, 23, -5, 23, 67]\n",
            "[-23, -6, 0, 5, 23, -5, 23, 67]\n",
            "23\n",
            "-5\n",
            "[-23, -6, 0, 5, 23, -5, 23, 67]\n",
            "[-23, -6, -5, 5, 23, 0, 23, 67]\n",
            "23\n",
            "67\n",
            "### Iteraction 3\n",
            "5\n",
            "23\n",
            "0\n",
            "[-23, -6, -5, 5, 23, 0, 23, 67]\n",
            "[-23, -6, -5, 0, 23, 5, 23, 67]\n",
            "23\n",
            "67\n",
            "### Iteraction 4\n",
            "23\n",
            "5\n",
            "[-23, -6, -5, 0, 23, 5, 23, 67]\n",
            "[-23, -6, -5, 0, 5, 23, 23, 67]\n",
            "23\n",
            "67\n",
            "### Iteraction 5\n",
            "23\n",
            "23\n",
            "67\n",
            "### Iteraction 6\n",
            "23\n",
            "67\n",
            "### Iteraction 7\n",
            "67\n"
          ],
          "name": "stdout"
        },
        {
          "output_type": "execute_result",
          "data": {
            "text/plain": [
              "[-23, -6, -5, 0, 5, 23, 23, 67]"
            ]
          },
          "metadata": {
            "tags": []
          },
          "execution_count": 9
        }
      ]
    },
    {
      "cell_type": "code",
      "metadata": {
        "colab": {
          "base_uri": "https://localhost:8080/"
        },
        "id": "pmCncT7Jf8to",
        "outputId": "7847e841-94de-4a0f-8010-d48bc522a178"
      },
      "source": [
        "l = [-5, -23, 5, 0, 23, -6, 23, 67] \n",
        "def bubbleSort(arr):\n",
        "    #copy the original array\n",
        "    output = arr[:]\n",
        "\n",
        "    #set up start condition for loop\n",
        "    sorted = False\n",
        "    while sorted == False:\n",
        "        print(\"### ITERACION\")\n",
        "        sorted = True\n",
        "\n",
        "        for index in range(1,len(output)):\n",
        "            print(output[index - 1], \">\", output[index])\n",
        "            \n",
        "            #if adjacent elements are out of order\n",
        "            if output[index - 1] > output[index]:\n",
        "                print(output)\n",
        "                #prepare to go through array one more time\n",
        "                sorted = False\n",
        "\n",
        "                #swap current value with the previous one\n",
        "                temp = output[index]\n",
        "                output[index] = output[index - 1]\n",
        "                output[index - 1] = temp\n",
        "                print(output)\n",
        "                \n",
        "    return output\n",
        "bubbleSort(l)"
      ],
      "execution_count": null,
      "outputs": [
        {
          "output_type": "stream",
          "text": [
            "### ITERACION\n",
            "-5 > -23\n",
            "[-5, -23, 5, 0, 23, -6, 23, 67]\n",
            "[-23, -5, 5, 0, 23, -6, 23, 67]\n",
            "-5 > 5\n",
            "5 > 0\n",
            "[-23, -5, 5, 0, 23, -6, 23, 67]\n",
            "[-23, -5, 0, 5, 23, -6, 23, 67]\n",
            "5 > 23\n",
            "23 > -6\n",
            "[-23, -5, 0, 5, 23, -6, 23, 67]\n",
            "[-23, -5, 0, 5, -6, 23, 23, 67]\n",
            "23 > 23\n",
            "23 > 67\n",
            "### ITERACION\n",
            "-23 > -5\n",
            "-5 > 0\n",
            "0 > 5\n",
            "5 > -6\n",
            "[-23, -5, 0, 5, -6, 23, 23, 67]\n",
            "[-23, -5, 0, -6, 5, 23, 23, 67]\n",
            "5 > 23\n",
            "23 > 23\n",
            "23 > 67\n",
            "### ITERACION\n",
            "-23 > -5\n",
            "-5 > 0\n",
            "0 > -6\n",
            "[-23, -5, 0, -6, 5, 23, 23, 67]\n",
            "[-23, -5, -6, 0, 5, 23, 23, 67]\n",
            "0 > 5\n",
            "5 > 23\n",
            "23 > 23\n",
            "23 > 67\n",
            "### ITERACION\n",
            "-23 > -5\n",
            "-5 > -6\n",
            "[-23, -5, -6, 0, 5, 23, 23, 67]\n",
            "[-23, -6, -5, 0, 5, 23, 23, 67]\n",
            "-5 > 0\n",
            "0 > 5\n",
            "5 > 23\n",
            "23 > 23\n",
            "23 > 67\n",
            "### ITERACION\n",
            "-23 > -6\n",
            "-6 > -5\n",
            "-5 > 0\n",
            "0 > 5\n",
            "5 > 23\n",
            "23 > 23\n",
            "23 > 67\n"
          ],
          "name": "stdout"
        },
        {
          "output_type": "execute_result",
          "data": {
            "text/plain": [
              "[-23, -6, -5, 0, 5, 23, 23, 67]"
            ]
          },
          "metadata": {
            "tags": []
          },
          "execution_count": 23
        }
      ]
    },
    {
      "cell_type": "code",
      "metadata": {
        "id": "DdCYUcMW5QU4"
      },
      "source": [
        "l = [-5, -23, 5, 0, 23, -6, 23, 67]"
      ],
      "execution_count": null,
      "outputs": []
    },
    {
      "cell_type": "code",
      "metadata": {
        "colab": {
          "base_uri": "https://localhost:8080/"
        },
        "id": "w3k6ycmZ5Q-T",
        "outputId": "5eb01f40-4149-4529-d9d3-2200b6ac52c6"
      },
      "source": [
        "l"
      ],
      "execution_count": null,
      "outputs": [
        {
          "output_type": "execute_result",
          "data": {
            "text/plain": [
              "[-5, -23, 5, 0, 23, -6, 23, 67]"
            ]
          },
          "metadata": {
            "tags": []
          },
          "execution_count": 81
        }
      ]
    },
    {
      "cell_type": "code",
      "metadata": {
        "id": "iZ4EUj-irGEt",
        "colab": {
          "base_uri": "https://localhost:8080/"
        },
        "outputId": "36efb06e-22c2-4663-d6ac-ecdd8bdd2891"
      },
      "source": [
        "import timeit\n",
        "\n",
        "def t_sort_list2():\n",
        "    sort_list2(l)\n",
        "    \n",
        "def t_sort_list():\n",
        "    sort_list(l)\n",
        "    \n",
        "def t_sorted():\n",
        "    sorted(l)\n",
        "    \n",
        "def t_sort():\n",
        "    l.sort()\n",
        "\n",
        "def t_bubbleSort():\n",
        "    bubbleSort(l)\n",
        "\n",
        "print(len(l))\n",
        "l = [-5, -23, 5, 0, 23, -6, 23, 67]\n",
        "print(timeit.timeit(t_sort_list))\n",
        "l = [-5, -23, 5, 0, 23, -6, 23, 67]\n",
        "print(len(l))\n",
        "print(timeit.timeit(t_sort_list2))\n",
        "l = [-5, -23, 5, 0, 23, -6, 23, 67]\n",
        "print(len(l))\n",
        "print(timeit.timeit(t_bubbleSort))\n",
        "l = [-5, -23, 5, 0, 23, -6, 23, 67]\n",
        "print(len(l))\n",
        "print(timeit.timeit(t_sorted))\n",
        "l = [-5, -23, 5, 0, 23, -6, 23, 67]\n",
        "print(len(l))\n",
        "l = [-5, -23, 5, 0, 23, -6, 23, 67]\n",
        "print(timeit.timeit(t_sort))\n",
        "print(len(l))\n"
      ],
      "execution_count": null,
      "outputs": [
        {
          "output_type": "stream",
          "text": [
            "0\n",
            "0.18187318800028152\n",
            "8\n",
            "4.281332655999904\n",
            "8\n",
            "4.966725254000266\n",
            "8\n",
            "0.4873692419996587\n",
            "8\n",
            "0.24215427599938266\n",
            "8\n"
          ],
          "name": "stdout"
        }
      ]
    },
    {
      "cell_type": "code",
      "metadata": {
        "id": "kDUWq7Qa4Oh0"
      },
      "source": [
        "l = [-5, -23, 5, 0, 23, -6, 23, 67]\n",
        "l_50 = l * 2\n"
      ],
      "execution_count": null,
      "outputs": []
    },
    {
      "cell_type": "code",
      "metadata": {
        "colab": {
          "base_uri": "https://localhost:8080/"
        },
        "id": "q7O72TsP4Vex",
        "outputId": "dee51a3f-a573-4d09-b8d8-ac64a3d20802"
      },
      "source": [
        "len(l_50)"
      ],
      "execution_count": null,
      "outputs": [
        {
          "output_type": "execute_result",
          "data": {
            "text/plain": [
              "0"
            ]
          },
          "metadata": {
            "tags": []
          },
          "execution_count": 77
        }
      ]
    },
    {
      "cell_type": "code",
      "metadata": {
        "colab": {
          "base_uri": "https://localhost:8080/"
        },
        "id": "SfSteYhX4Kcq",
        "outputId": "c43ad4f4-c3cf-4f14-faf0-31f9daebd3e2"
      },
      "source": [
        "import timeit\n",
        "\n",
        "def t_sort_list2():\n",
        "    sort_list2(l_50)\n",
        "    \n",
        "def t_sort_list():\n",
        "    sort_list(l_50)\n",
        "    \n",
        "def t_sorted():\n",
        "    sorted(l_50)\n",
        "    \n",
        "def t_sort():\n",
        "    l_50.sort()\n",
        "\n",
        "def t_bubbleSort():\n",
        "    bubbleSort(l_50)\n",
        "\n",
        "l = [-5, -23, 5, 0, 23, -6, 23, 67]\n",
        "l_50 = l * 2\n",
        "print(timeit.timeit(t_sort_list))\n",
        "l = [-5, -23, 5, 0, 23, -6, 23, 67]\n",
        "l_50 = l * 2\n",
        "print(timeit.timeit(t_sort_list2))\n",
        "l = [-5, -23, 5, 0, 23, -6, 23, 67]\n",
        "l_50 = l * 2\n",
        "print(timeit.timeit(t_bubbleSort))\n",
        "l = [-5, -23, 5, 0, 23, -6, 23, 67]\n",
        "l_50 = l * 2\n",
        "print(timeit.timeit(t_sorted))\n",
        "l = [-5, -23, 5, 0, 23, -6, 23, 67]\n",
        "l_50 = l * 2\n",
        "print(timeit.timeit(t_sort))"
      ],
      "execution_count": null,
      "outputs": [
        {
          "output_type": "stream",
          "text": [
            "0.18225547299971367\n",
            "11.479604395999559\n",
            "20.13502121900001\n",
            "0.8445497739994607\n",
            "0.3303707929999291\n"
          ],
          "name": "stdout"
        }
      ]
    },
    {
      "cell_type": "code",
      "metadata": {
        "id": "W9c9lGwPAEYu"
      },
      "source": [
        "l = [1, 5, 3,9]\n",
        "l_volteada = [9,3,5,1]"
      ],
      "execution_count": null,
      "outputs": []
    },
    {
      "cell_type": "code",
      "metadata": {
        "id": "AoRUIEQcAbzJ"
      },
      "source": [
        "s = \"cide2021\"\n",
        "s_volteada = \"1202edic\""
      ],
      "execution_count": null,
      "outputs": []
    },
    {
      "cell_type": "markdown",
      "metadata": {
        "id": "RSgjfxN5rGEw"
      },
      "source": [
        "### Voltear una lista y un string"
      ]
    },
    {
      "cell_type": "markdown",
      "metadata": {
        "id": "OUloxwqgrGEw"
      },
      "source": [
        "A. Crea una función que voltee un string\n",
        "\n",
        "Pistas: \n",
        "1. Puedes usar el índice para obtener el último valor\n",
        "2. Puedes usar un loop\n",
        "3. Puedes usar un while loop\n",
        "\n",
        "B. Crear una función que reverse una lista\n",
        "\n",
        "C. Cuenta cuánto tiempo te toman las funciones y compáralo con reverse"
      ]
    },
    {
      "cell_type": "code",
      "metadata": {
        "id": "oR7j7YM-rGEx"
      },
      "source": [
        "def reverse_slicing(s):\n",
        "    return s[::-1]"
      ],
      "execution_count": null,
      "outputs": []
    },
    {
      "cell_type": "code",
      "metadata": {
        "id": "QBQPpmu4rGE0"
      },
      "source": [
        "def reverse_for_loop(s):\n",
        "    s1 = ''\n",
        "    for c in s:\n",
        "        s1 = c + s1  # appending chars in reverse order\n",
        "    return s1"
      ],
      "execution_count": null,
      "outputs": []
    },
    {
      "cell_type": "code",
      "metadata": {
        "colab": {
          "base_uri": "https://localhost:8080/",
          "height": 320
        },
        "id": "Ze5_cJffGH84",
        "outputId": "654556dc-5c72-4664-a2bf-9f0e159f2707"
      },
      "source": [
        "reverse_for_loop(\"cide2021\")"
      ],
      "execution_count": null,
      "outputs": [
        {
          "output_type": "stream",
          "text": [
            "c\n",
            "c\n",
            "i\n",
            "ic\n",
            "d\n",
            "dic\n",
            "e\n",
            "edic\n",
            "2\n",
            "2edic\n",
            "0\n",
            "02edic\n",
            "2\n",
            "202edic\n",
            "1\n",
            "1202edic\n"
          ],
          "name": "stdout"
        },
        {
          "output_type": "execute_result",
          "data": {
            "application/vnd.google.colaboratory.intrinsic+json": {
              "type": "string"
            },
            "text/plain": [
              "'1202edic'"
            ]
          },
          "metadata": {
            "tags": []
          },
          "execution_count": 27
        }
      ]
    },
    {
      "cell_type": "code",
      "metadata": {
        "id": "yFcWQZiE_zcu"
      },
      "source": [
        "def reverse_while_loop(s):\n",
        "    s1 = ''\n",
        "    length = len(s) - 1\n",
        "    print(length)\n",
        "    while length >= 0:\n",
        "        print(length)\n",
        "        print(s[length])\n",
        "\n",
        "        s1 = s1 + s[length]\n",
        "        print(s1)\n",
        "        length = length - 1\n",
        "    return s1"
      ],
      "execution_count": null,
      "outputs": []
    },
    {
      "cell_type": "code",
      "metadata": {
        "colab": {
          "base_uri": "https://localhost:8080/",
          "height": 267
        },
        "id": "QIPxiSkhIASY",
        "outputId": "4ce8c3bb-82bb-4b10-c68a-659210845de9"
      },
      "source": [
        "reverse_while_loop(\"cide\")"
      ],
      "execution_count": null,
      "outputs": [
        {
          "output_type": "stream",
          "text": [
            "3\n",
            "3\n",
            "e\n",
            "e\n",
            "2\n",
            "d\n",
            "ed\n",
            "1\n",
            "i\n",
            "edi\n",
            "0\n",
            "c\n",
            "edic\n"
          ],
          "name": "stdout"
        },
        {
          "output_type": "execute_result",
          "data": {
            "application/vnd.google.colaboratory.intrinsic+json": {
              "type": "string"
            },
            "text/plain": [
              "'edic'"
            ]
          },
          "metadata": {
            "tags": []
          },
          "execution_count": 47
        }
      ]
    },
    {
      "cell_type": "code",
      "metadata": {
        "id": "cBzmBwcXG96d"
      },
      "source": [
        "def reverse_equipo6(s):\n",
        "  s2=\"\"\n",
        "  lista=[]\n",
        "  lista2=[]\n",
        "\n",
        "  for i in s:\n",
        "      lista.append(i)\n",
        "\n",
        "\n",
        "  while lista:\n",
        "      lista2.append(lista[len(lista)-1])\n",
        "      lista.pop()\n",
        "\n",
        "  for i in lista2:\n",
        "      s2=s2+i\n",
        "  \n",
        "  return s2\n"
      ],
      "execution_count": null,
      "outputs": []
    },
    {
      "cell_type": "code",
      "metadata": {
        "colab": {
          "base_uri": "https://localhost:8080/"
        },
        "id": "jGcB37SrV1pI",
        "outputId": "0c20f799-4218-4f18-e00d-892b13c38d44"
      },
      "source": [
        "import timeit\n",
        "\n",
        "s = \"carlos\"\n",
        "\n",
        "def t_reverse_slicing():\n",
        "    reverse_slicing(s)\n",
        "    \n",
        "def t_reverse_for_loop():\n",
        "    reverse_for_loop(s)\n",
        "    \n",
        "def t_reverse_while_loop():\n",
        "    reverse_while_loop(s)\n",
        "\n",
        "def t_reverse_equipo6():\n",
        "    reverse_equipo6(s)\n",
        "\n",
        "print(timeit.timeit(t_reverse_slicing))\n",
        "print(timeit.timeit(t_reverse_for_loop))\n",
        "print(timeit.timeit(t_reverse_while_loop))\n",
        "print(timeit.timeit(t_reverse_equipo6))"
      ],
      "execution_count": null,
      "outputs": [
        {
          "output_type": "stream",
          "text": [
            "0.296380438000142\n",
            "0.7953495869996914\n",
            "1.2264521819997753\n",
            "2.962875301999702\n"
          ],
          "name": "stdout"
        }
      ]
    },
    {
      "cell_type": "code",
      "metadata": {
        "id": "_ZVVaCUHV7-e"
      },
      "source": [
        "Crear una función que reverse una lista"
      ],
      "execution_count": null,
      "outputs": []
    },
    {
      "cell_type": "code",
      "metadata": {
        "id": "hk7kbu4vV8xA"
      },
      "source": [
        "def reverse_replace(A):\n",
        "    start = 0 \n",
        "    end = len(A) - 1\n",
        "    while start < end:\n",
        "        A[start], A[end] = A[end], A[start]\n",
        "        start += 1\n",
        "        end -= 1\n",
        "    return A"
      ],
      "execution_count": null,
      "outputs": []
    },
    {
      "cell_type": "code",
      "metadata": {
        "id": "8NNUXSBDJubS"
      },
      "source": [
        "def reversa_1(l):\n",
        "    for i in range(int(len(l)/2)):\n",
        "        l[i], l[len(l)-1-i] = l[len(l)-1-i], l[i]\n",
        "    return l\n"
      ],
      "execution_count": null,
      "outputs": []
    },
    {
      "cell_type": "code",
      "metadata": {
        "id": "DqA8YVmvJvFx"
      },
      "source": [
        "def voltear(l):\n",
        "    prueba_v = []\n",
        "    for x in range(1,len(l)+1):\n",
        "        i = l[-x]\n",
        "        prueba_v.append(i)\n",
        "    return prueba_v\n"
      ],
      "execution_count": null,
      "outputs": []
    },
    {
      "cell_type": "code",
      "metadata": {
        "id": "IqQ4uNx9KYji"
      },
      "source": [
        "def reversa_2(lista):\n",
        "    lista_rev = []\n",
        "    for i in range(len(lista)):\n",
        "        lista_rev.append(lista[-i-1])\n",
        "    return lista_rev\n"
      ],
      "execution_count": null,
      "outputs": []
    },
    {
      "cell_type": "code",
      "metadata": {
        "colab": {
          "base_uri": "https://localhost:8080/"
        },
        "id": "4gQolUKrV84n",
        "outputId": "d9710741-23ad-4c9a-f288-91184a8171ff"
      },
      "source": [
        "def reverse_for(alist):\n",
        "    import math\n",
        "    for i in range(math.floor(len(alist) / 2)):\n",
        "        left_value = alist[i]\n",
        "        right_value = alist[-i-1]\n",
        "        alist[i] = right_value\n",
        "        alist[-i-1] = left_value\n",
        "    \n",
        "    return alist\n",
        "\n",
        "print(reverse_for([1,2,3,4,5,6]))"
      ],
      "execution_count": null,
      "outputs": [
        {
          "output_type": "stream",
          "text": [
            "[6, 5, 4, 3, 2, 1]\n"
          ],
          "name": "stdout"
        }
      ]
    },
    {
      "cell_type": "code",
      "metadata": {
        "colab": {
          "base_uri": "https://localhost:8080/"
        },
        "id": "oauA0FQwV8-A",
        "outputId": "1f110b8d-8b0d-4581-82da-cdea400374ea"
      },
      "source": [
        "alist = [1,2,3,4,5,6,7]\n",
        "\n",
        "def reverse_indexing(alist):\n",
        "    blist = list()\n",
        "    for item in alist[::-1]:\n",
        "        blist.append(item)\n",
        "    \n",
        "    return blist #prints [7,6,5,4,3,2,1]\n",
        "\n",
        "reverse_indexing(alist)"
      ],
      "execution_count": null,
      "outputs": [
        {
          "output_type": "execute_result",
          "data": {
            "text/plain": [
              "[7, 6, 5, 4, 3, 2, 1]"
            ]
          },
          "metadata": {
            "tags": []
          },
          "execution_count": 57
        }
      ]
    },
    {
      "cell_type": "code",
      "metadata": {
        "colab": {
          "base_uri": "https://localhost:8080/"
        },
        "id": "86VZ8BqxWHBx",
        "outputId": "26ddd6ad-3a9b-49cb-8244-4ad262630148"
      },
      "source": [
        "import timeit\n",
        "\n",
        "s = [1,2,3,4,5,6,7]\n",
        "\n",
        "def t_reverse_replace():\n",
        "    reverse_replace(s)\n",
        "    \n",
        "def t_reverse_for():\n",
        "    reverse_for(s)\n",
        "    \n",
        "def t_reverse_indexing():\n",
        "    reverse_indexing(s)\n",
        "    \n",
        "def t_reverse():\n",
        "    list(reversed(s))\n",
        "\n",
        "def t_reversa1():\n",
        "    reversa_1(s)\n",
        "\n",
        "def t_voltear():\n",
        "    voltear(s)\n",
        "\n",
        "def t_reversa2():\n",
        "    reversa_2(s)\n",
        "\n",
        "print(timeit.timeit(t_reverse_for))\n",
        "print(timeit.timeit(t_reverse_indexing))\n",
        "print(timeit.timeit(t_reverse))\n",
        "# print(timeit.timeit(t_reversa1))\n",
        "print(timeit.timeit(t_reversa2))\n",
        "print(timeit.timeit(t_voltear))"
      ],
      "execution_count": null,
      "outputs": [
        {
          "output_type": "stream",
          "text": [
            "1.5662441969998326\n",
            "1.1314246460005961\n",
            "0.5818602959998316\n",
            "1.617615221000051\n",
            "1.5452655839999352\n"
          ],
          "name": "stdout"
        }
      ]
    }
  ]
}